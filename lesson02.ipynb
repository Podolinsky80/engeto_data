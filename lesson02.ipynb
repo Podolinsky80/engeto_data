{
 "cells": [
  {
   "cell_type": "markdown",
   "id": "detected-handle",
   "metadata": {},
   "source": [
    "# Python Data, 2025\n",
    "\n",
    "---"
   ]
  },
  {
   "cell_type": "markdown",
   "id": "flush-writer",
   "metadata": {},
   "source": [
    "* [Úvod k pandám](#Úvod-k-pandám),\n",
    "* [základní objekty](#Základní-datové-typy-frameworku),\n",
    "    - [series](#Series),\n",
    "    - [dataframe](#DataFrame),\n",
    "    - [index](#Index).\n",
    "* [načítání objektů](#Načítání-objektů),\n",
    "    - [načti csv](#Načti-soubor-csv),\n",
    "    - [načti html](#Načti-tabulku-html),\n",
    "    - [načti data z SQL](#Načti-výstup-dotazu-do-tabulky) # todo: nachystat demo\n",
    "* [prohlížení dat](#Prozkoumávání-dat),\n",
    "    - [selekce u sloupečků](#Selekce-u-sloupečků),\n",
    "    - [selekce u tabulek](#Selekce-u-tabulárních-hodnot),\n",
    "    - [další metody prohlížení](#Metody-pro-nahlížení).\n",
    "* [manipulace s daty](#Manipulace-se-sloupci),  # todo: druhá lekce\n",
    "    - [přejmenování sloupců](#Přejmenování-sloupců),\n",
    "    - [přidávání sloupců](#Přidávání-sloupců-do-DataFrame),\n",
    "    - [odstraňování sloupců]()."
   ]
  },
  {
   "cell_type": "markdown",
   "id": "given-arcade",
   "metadata": {},
   "source": [
    "<img src=\"https://external-content.duckduckgo.com/iu/?u=https%3A%2F%2Ftse1.mm.bing.net%2Fth%3Fid%3DOIP.BaZU6gIdwRYQHu4rBBoO-gHaIX%26pid%3DApi&f=1&ipt=1013c975daabd695fcd4ebfc2c0e0b8ba4f10c37780419d8ff56538ec7a7f9ea&ipo=images\" width=\"200\" style=\"margin-left:auto; margin-right:auto\"/>\n",
    "\n",
    "## Úvod k pandám\n",
    "\n",
    "---\n",
    "\n"
   ]
  },
  {
   "cell_type": "markdown",
   "id": "stone-lithuania",
   "metadata": {},
   "source": [
    "Jde o knihovnu, která staví na jednoduchých, přesto výkonných a intuitivních nástrojích.\n",
    "\n",
    "Tyto prostředky umožňují manipulaci, analýzu a vizualizaci strukturovaných dat s tabulkovými a časovými daty.\n",
    "\n",
    "Vezme data z různých zdrojů, načte je, zpracuje a zapíše (pozn. **zdroj v C**).\n",
    "\n",
    "\n",
    "<br>"
   ]
  },
  {
   "cell_type": "markdown",
   "id": "sonic-rough",
   "metadata": {},
   "source": [
    "### Kde pandy najdu a jak vypadají?\n",
    "\n",
    "---"
   ]
  },
  {
   "cell_type": "markdown",
   "id": "optional-trader",
   "metadata": {},
   "source": [
    "- Odkaz na **oficiální repozitář** [této knihovny](https://github.com/pandas-dev/pandas),\n",
    "- pokud budeš potřebovat více podrobností, mrkni na [oficiální dokumentaci](https://pandas.pydata.org/pandas-docs/stable/index.html),\n",
    "- pypi.org, instalace knihovny,\n",
    "- obecně vyhledávat online,\n",
    "- AI.\n",
    "\n",
    "<br>"
   ]
  },
  {
   "cell_type": "code",
   "execution_count": null,
   "id": "19922413-9c3f-4271-a4dd-99993af04dac",
   "metadata": {},
   "outputs": [],
   "source": [
    "import csv  # Built-in"
   ]
  },
  {
   "cell_type": "code",
   "execution_count": null,
   "id": "bf7ff9dc-d7de-4712-817b-2629c117de92",
   "metadata": {},
   "outputs": [],
   "source": [
    "import pandas"
   ]
  },
  {
   "cell_type": "markdown",
   "id": "heard-macedonia",
   "metadata": {},
   "source": [
    "### Proč se ti bude hodit?\n",
    "\n",
    "---"
   ]
  },
  {
   "cell_type": "markdown",
   "id": "graduate-lottery",
   "metadata": {},
   "source": [
    "**Pandas** slouží pro analýzu dat.\n",
    "\n",
    "Data jsou nejčastěji v SQL databázi, různých souborech, tabulkových procesech atd.\n",
    "\n",
    "*Pandas* si představ jako Excel, ale s více funkcemi a hlavně možností automatizovat procesy.\n",
    "\n",
    "<br>"
   ]
  },
  {
   "cell_type": "markdown",
   "id": "characteristic-cloud",
   "metadata": {},
   "source": [
    "### Jak nainstalovat knihovnu?\n",
    "\n",
    "---"
   ]
  },
  {
   "cell_type": "markdown",
   "id": "f77099e0-fbb1-49dd-9597-c08ce1898f6b",
   "metadata": {},
   "source": [
    "Instalace **poslední dostupné verze**:"
   ]
  },
  {
   "cell_type": "code",
   "execution_count": null,
   "id": "sufficient-liability",
   "metadata": {},
   "outputs": [],
   "source": [
    "!pip install pandas  # Možnost pracovat s jiným manažerem"
   ]
  },
  {
   "cell_type": "markdown",
   "id": "f766473d-3b3e-4ddb-9d4b-69327f07bced",
   "metadata": {},
   "source": [
    "<br>\n",
    "\n",
    "Instalace **konkrétní vybrané verze**:"
   ]
  },
  {
   "cell_type": "code",
   "execution_count": null,
   "id": "early-workplace",
   "metadata": {},
   "outputs": [],
   "source": [
    "!pip install pandas==1.1.1"
   ]
  },
  {
   "cell_type": "markdown",
   "id": "distinguished-carter",
   "metadata": {},
   "source": [
    "<br>\n",
    "\n",
    "### Jak knihovnu spustit?\n",
    "\n",
    "---"
   ]
  },
  {
   "cell_type": "code",
   "execution_count": null,
   "id": "coral-looking",
   "metadata": {
    "tags": []
   },
   "outputs": [],
   "source": [
    "import pandas"
   ]
  },
  {
   "cell_type": "code",
   "execution_count": null,
   "id": "c9ed36bc-17e9-4a23-9135-d681ac5495fd",
   "metadata": {
    "tags": []
   },
   "outputs": [],
   "source": [
    "pandas.__version__  # FutureWarning"
   ]
  },
  {
   "cell_type": "markdown",
   "id": "6c0d2f48-8711-4efa-a24a-f52cb845131e",
   "metadata": {},
   "source": [
    "<br>\n",
    "\n",
    "Použití **aliasu**:"
   ]
  },
  {
   "cell_type": "code",
   "execution_count": null,
   "id": "copyrighted-coordination",
   "metadata": {},
   "outputs": [],
   "source": [
    "import pandas as pd\n",
    "\n",
    "# from module_1 import read_data\n",
    "# from module_2 import read_data as rd"
   ]
  },
  {
   "cell_type": "code",
   "execution_count": null,
   "id": "sitting-choice",
   "metadata": {},
   "outputs": [],
   "source": [
    "from pandas import DataFrame"
   ]
  },
  {
   "cell_type": "markdown",
   "id": "50ab7406-603c-4765-a096-df4b06d09e8d",
   "metadata": {},
   "source": [
    "<br>\n",
    "\n",
    "### Souhrn kapitoly\n",
    "---"
   ]
  },
  {
   "cell_type": "markdown",
   "id": "b5c98d8c-7c22-4797-bb9a-c0bc3ae5ebee",
   "metadata": {},
   "source": [
    "- knihovna je tedy *švýcarský nožík* pro práci **s tabelárními daty** a **časovými řadami**,\n",
    "- jde o větší balíček, třetích stran (potřeba stáhnout & instalovat)."
   ]
  },
  {
   "cell_type": "markdown",
   "id": "e36bda6b-ff1e-4670-ab73-0fd4f91868e7",
   "metadata": {},
   "source": [
    "<img src=\"https://external-content.duckduckgo.com/iu/?u=https%3A%2F%2Ftse1.mm.bing.net%2Fth%3Fid%3DOIP.b2NCTuZRiG8yrmTCF7MogAHaHa%26pid%3DApi&f=1&ipt=f9e6a3811b3a707743134cfb19b2ee4f9c44584f5ea328582b227f14b94fcb1f&ipo=images\" width=\"200\" style=\"margin-left:auto; margin-right:auto\"/>"
   ]
  },
  {
   "cell_type": "markdown",
   "id": "d9ca33b0-9624-4ecf-acd1-1ac5510d7fbf",
   "metadata": {},
   "source": [
    "## Základní datové typy\n",
    "\n",
    "---"
   ]
  },
  {
   "cell_type": "markdown",
   "id": "surface-glass",
   "metadata": {},
   "source": [
    "Knihovna nabízí řadu užitečných nástrojů.\n",
    "\n",
    "Jde o *metody* a *funkce* nad rámec základních (zabudovaných) **datových struktur**.\n",
    "\n",
    "Hlavní **tři struktury**, na kterých knihovna stojí jsou:\n",
    "* `Index`\n",
    "* `series`,\n",
    "* `dataFrames`."
   ]
  },
  {
   "cell_type": "markdown",
   "id": "bda49559-15bb-4850-8e94-04c3feb65a8d",
   "metadata": {
    "tags": []
   },
   "source": [
    "<img src=\"https://i.imgur.com/NNRgONl.png\" width=\"1200\" style=\"margin-left:auto; margin-right:auto\"/>"
   ]
  },
  {
   "cell_type": "markdown",
   "id": "fa0c3f39-befd-4e5a-889a-b7424333d7dc",
   "metadata": {},
   "source": [
    "- **Indexes**, je označení (nebo **identifikátor**) jednotlivých řádků, které slouží k jejich jednoznačné identifikaci a usnadňuje přístup k datům,\n",
    "- **series**, je *sloupec*, **pole** hodnot s Indexem, tedy sloupeček tabulky nebo číslovaný seznam,\n",
    "- **dataframes**, jde v podstatě o označení celé tabulky."
   ]
  },
  {
   "cell_type": "markdown",
   "id": "de83dee6-e5be-4926-a083-481297153ff7",
   "metadata": {},
   "source": [
    "### Series\n",
    "\n",
    "---"
   ]
  },
  {
   "cell_type": "markdown",
   "id": "forward-brooks",
   "metadata": {},
   "source": [
    "<img src=\"https://external-content.duckduckgo.com/iu/?u=https%3A%2F%2Ftse3.mm.bing.net%2Fth%3Fid%3DOIP.Yp6ZBv9C33_pDfZkJcKbJQHaHa%26pid%3DApi&f=1&ipt=546833b7ce370c5a62bea21079371efd1fa9547765d4eae8e6c9e41f6b25a3af&ipo=images\" width=\"200\" style=\"margin-left:auto; margin-right:auto\"/>"
   ]
  },
  {
   "cell_type": "markdown",
   "id": "b04a1d7e-cbcc-4528-be04-f816128ef888",
   "metadata": {},
   "source": [
    "Jde **o jednodimenzionální pole** (popř. sloupeček, řada).\n",
    "\n",
    "Tento objekt má **indexované data** (jsi schopen data vybrat, uchopit).\n",
    "\n",
    "Opět si jej můžeš představit jako sloupeček v obyčejných *Excelovských* tabulkách.\n",
    "\n",
    "<br>"
   ]
  },
  {
   "cell_type": "markdown",
   "id": "chicken-serum",
   "metadata": {},
   "source": [
    "Na ukázku můžeš tyto sloupečky vytvořit třeba ze sekvencí:"
   ]
  },
  {
   "cell_type": "code",
   "execution_count": 1,
   "id": "controlling-perfume",
   "metadata": {
    "tags": []
   },
   "outputs": [],
   "source": [
    "import pandas as pd"
   ]
  },
  {
   "cell_type": "code",
   "execution_count": 2,
   "id": "alpha-neutral",
   "metadata": {
    "tags": []
   },
   "outputs": [],
   "source": [
    "mesta_sl = pd.Series((\"Praha\", \"Brno\", \"Ostrava\", \"Hradek Králové\"))"
   ]
  },
  {
   "cell_type": "code",
   "execution_count": 3,
   "id": "moved-stephen",
   "metadata": {
    "tags": []
   },
   "outputs": [
    {
     "data": {
      "text/plain": [
       "pandas.core.series.Series"
      ]
     },
     "execution_count": 3,
     "metadata": {},
     "output_type": "execute_result"
    }
   ],
   "source": [
    "type(mesta_sl)"
   ]
  },
  {
   "cell_type": "code",
   "execution_count": 4,
   "id": "auburn-magic",
   "metadata": {
    "tags": []
   },
   "outputs": [
    {
     "data": {
      "text/plain": [
       "0             Praha\n",
       "1              Brno\n",
       "2           Ostrava\n",
       "3    Hradek Králové\n",
       "dtype: object"
      ]
     },
     "execution_count": 4,
     "metadata": {},
     "output_type": "execute_result"
    }
   ],
   "source": [
    "mesta_sl"
   ]
  },
  {
   "cell_type": "markdown",
   "id": "guided-context",
   "metadata": {},
   "source": [
    "<br>\n",
    "\n",
    "Jak můžeš vidět v ukázce výše, *sloupec* `Series` obsahuje **jak pořadí, tak hodnoty**."
   ]
  },
  {
   "cell_type": "code",
   "execution_count": 5,
   "id": "subsequent-isolation",
   "metadata": {
    "tags": []
   },
   "outputs": [
    {
     "data": {
      "text/plain": [
       "RangeIndex(start=0, stop=4, step=1)"
      ]
     },
     "execution_count": 5,
     "metadata": {},
     "output_type": "execute_result"
    }
   ],
   "source": [
    "mesta_sl.index"
   ]
  },
  {
   "cell_type": "code",
   "execution_count": 6,
   "id": "abroad-soundtrack",
   "metadata": {
    "tags": []
   },
   "outputs": [
    {
     "data": {
      "text/plain": [
       "array(['Praha', 'Brno', 'Ostrava', 'Hradek Králové'], dtype=object)"
      ]
     },
     "execution_count": 6,
     "metadata": {},
     "output_type": "execute_result"
    }
   ],
   "source": [
    "mesta_sl.values"
   ]
  },
  {
   "cell_type": "markdown",
   "id": "presidential-radius",
   "metadata": {},
   "source": [
    "<br>\n",
    "\n",
    "Obecně vypadá jako nějaké pole, který má svůj nativní datový typ `object`."
   ]
  },
  {
   "cell_type": "markdown",
   "id": "careful-courage",
   "metadata": {},
   "source": [
    "<br>\n",
    "\n",
    "Ačkoliv je `pandas` knihovna Pythonu, datové typy nemusí vždy odpovídat základním **datovým typům Pythonu**:"
   ]
  },
  {
   "cell_type": "markdown",
   "id": "gentle-netherlands",
   "metadata": {},
   "source": [
    "| Typy `pandas`| typy `Python`| Použití |\n",
    "| :-: | :-: | :- |\n",
    "| `object` | `str` nebo směska| text nebo namíchané číselné a nečíselné hodnoty |\n",
    "| `int64` | `int`| celá čísla |\n",
    "| `float64` | `float` | desetinná čísla |\n",
    "| `bool` | `bool` | True a False |\n",
    "| `datetime64` | `-`| Hodnota data a času |\n",
    "| `timedelta` | `-` | Časové rozdíly |"
   ]
  },
  {
   "cell_type": "markdown",
   "id": "f1b803c6-85ee-4b07-a07c-b02bfb39215e",
   "metadata": {},
   "source": [
    "<br>\n",
    "\n",
    "Stejně jako pole nebo sekvence můžeš *indexovat* a *slicovat* hodnoty typu `Series`."
   ]
  },
  {
   "cell_type": "code",
   "execution_count": 7,
   "id": "6bfb3ec5-e5c3-4789-b757-62acb5e40588",
   "metadata": {
    "tags": []
   },
   "outputs": [
    {
     "data": {
      "text/plain": [
       "0             Praha\n",
       "1              Brno\n",
       "2           Ostrava\n",
       "3    Hradek Králové\n",
       "dtype: object"
      ]
     },
     "execution_count": 7,
     "metadata": {},
     "output_type": "execute_result"
    }
   ],
   "source": [
    "mesta_sl"
   ]
  },
  {
   "cell_type": "markdown",
   "id": "a3708448-e52d-446a-a2a1-35fdd925fc3d",
   "metadata": {},
   "source": [
    "#### Indexování sloupečku\n",
    "\n",
    "---"
   ]
  },
  {
   "cell_type": "code",
   "execution_count": null,
   "id": "billion-weapon",
   "metadata": {
    "tags": []
   },
   "outputs": [
    {
     "data": {
      "text/plain": [
       "'Brno'"
      ]
     },
     "execution_count": 13,
     "metadata": {},
     "output_type": "execute_result"
    }
   ],
   "source": [
    "mesta_sl[1]  "
   ]
  },
  {
   "cell_type": "markdown",
   "id": "absolute-premium",
   "metadata": {},
   "source": [
    "<br>\n",
    "\n",
    "#### Slicing sloupečku\n",
    "\n",
    "---"
   ]
  },
  {
   "cell_type": "code",
   "execution_count": 16,
   "id": "abstract-ideal",
   "metadata": {
    "tags": []
   },
   "outputs": [
    {
     "data": {
      "text/plain": [
       "0      Praha\n",
       "1       Brno\n",
       "2    Ostrava\n",
       "dtype: object"
      ]
     },
     "execution_count": 16,
     "metadata": {},
     "output_type": "execute_result"
    }
   ],
   "source": [
    "mesta_sl[0:3]"
   ]
  },
  {
   "cell_type": "markdown",
   "id": "supreme-monkey",
   "metadata": {},
   "source": [
    "Na první pohled není tolik odlišný od datového typu `list` nebo `tuple` (případně pole v `numpy`)."
   ]
  },
  {
   "cell_type": "markdown",
   "id": "functional-grocery",
   "metadata": {},
   "source": [
    "Největší rozdíl spočítá právě v **indexu/Indexu**.\n",
    "\n",
    "Ať `list`, `tuple` nebo `numpy.array` implicitně pracují **s celočíselným indexem**.\n",
    "\n",
    "<br>\n",
    "\n",
    "Objekt `Series` na druhou stranu nabízí možnost, zadávat vlastní indexové hodnoty:"
   ]
  },
  {
   "cell_type": "code",
   "execution_count": 19,
   "id": "latin-norman",
   "metadata": {
    "tags": []
   },
   "outputs": [],
   "source": [
    "mesta_sl = pd.Series([\"Praha\", \"Brno\", \"Ostrava\", \"Hradek Králové\"],\n",
    "               index=[\"1_mesto\", \"2_mesto\", \"3_mesto\", \"4_mesto\"])  # Tvoje specifické indexy"
   ]
  },
  {
   "cell_type": "code",
   "execution_count": 20,
   "id": "scheduled-begin",
   "metadata": {},
   "outputs": [
    {
     "data": {
      "text/plain": [
       "Index(['1_mesto', '2_mesto', '3_mesto', '4_mesto'], dtype='object')"
      ]
     },
     "execution_count": 20,
     "metadata": {},
     "output_type": "execute_result"
    }
   ],
   "source": [
    "mesta_sl.index"
   ]
  },
  {
   "cell_type": "code",
   "execution_count": 23,
   "id": "lesser-player",
   "metadata": {
    "tags": []
   },
   "outputs": [
    {
     "data": {
      "text/plain": [
       "1_mesto             Praha\n",
       "2_mesto              Brno\n",
       "3_mesto           Ostrava\n",
       "4_mesto    Hradek Králové\n",
       "dtype: object"
      ]
     },
     "execution_count": 23,
     "metadata": {},
     "output_type": "execute_result"
    }
   ],
   "source": [
    "mesta_sl"
   ]
  },
  {
   "cell_type": "code",
   "execution_count": 24,
   "id": "theoretical-digit",
   "metadata": {
    "tags": []
   },
   "outputs": [
    {
     "data": {
      "text/plain": [
       "'Brno'"
      ]
     },
     "execution_count": 24,
     "metadata": {},
     "output_type": "execute_result"
    }
   ],
   "source": [
    "mesta_sl[\"2_mesto\"]"
   ]
  },
  {
   "cell_type": "code",
   "execution_count": 25,
   "id": "5651478b",
   "metadata": {},
   "outputs": [
    {
     "data": {
      "text/plain": [
       "1_mesto    Praha\n",
       "2_mesto     Brno\n",
       "dtype: object"
      ]
     },
     "execution_count": 25,
     "metadata": {},
     "output_type": "execute_result"
    }
   ],
   "source": [
    "mesta_sl[\"1_mesto\":\"2_mesto\"]"
   ]
  },
  {
   "cell_type": "code",
   "execution_count": 30,
   "id": "ac29e48d",
   "metadata": {},
   "outputs": [],
   "source": [
    "mesta_sl = pd.Series([\"Praha\", \"Brno\", \"Ostrava\", \"Hradek Králové\"],\n",
    "               index=[5, 10, 15, 20])  # Tvoje specifické indexy"
   ]
  },
  {
   "cell_type": "code",
   "execution_count": 32,
   "id": "832116d3",
   "metadata": {},
   "outputs": [
    {
     "data": {
      "text/plain": [
       "5              Praha\n",
       "10              Brno\n",
       "15           Ostrava\n",
       "20    Hradek Králové\n",
       "dtype: object"
      ]
     },
     "execution_count": 32,
     "metadata": {},
     "output_type": "execute_result"
    }
   ],
   "source": [
    "mesta_sl"
   ]
  },
  {
   "cell_type": "code",
   "execution_count": 31,
   "id": "18da9968",
   "metadata": {},
   "outputs": [
    {
     "data": {
      "text/plain": [
       "'Praha'"
      ]
     },
     "execution_count": 31,
     "metadata": {},
     "output_type": "execute_result"
    }
   ],
   "source": [
    "mesta_sl[5]"
   ]
  },
  {
   "cell_type": "code",
   "execution_count": null,
   "id": "c25c71b7",
   "metadata": {},
   "outputs": [
    {
     "data": {
      "text/plain": [
       "Series([], dtype: object)"
      ]
     },
     "execution_count": 35,
     "metadata": {},
     "output_type": "execute_result"
    }
   ],
   "source": [
    "mesta_sl[5:15]"
   ]
  },
  {
   "cell_type": "markdown",
   "id": "ccb22a5e",
   "metadata": {},
   "source": [
    "### Atributy `loc`, `iloc`\n",
    "\n",
    "---\n",
    "Právě protože je *indexování* a *slicing* v rámci `Series` matoucí, existují pomocné atributy.\n",
    "\n",
    "<br>\n",
    "\n",
    "#### iloc\n",
    "\n",
    "---\n",
    "\n",
    "Naopak atribut `iloc` je proces, který funguje výlučně na **indexování v rámci Pythonu** (pořadí, začíná nulou):\n"
   ]
  },
  {
   "cell_type": "code",
   "execution_count": 52,
   "id": "2077df98",
   "metadata": {},
   "outputs": [
    {
     "data": {
      "text/plain": [
       "5              Praha\n",
       "10              Brno\n",
       "15           Ostrava\n",
       "20    Hradek Králové\n",
       "dtype: object"
      ]
     },
     "execution_count": 52,
     "metadata": {},
     "output_type": "execute_result"
    }
   ],
   "source": [
    "mesta_sl"
   ]
  },
  {
   "cell_type": "code",
   "execution_count": 40,
   "id": "1898cc93",
   "metadata": {},
   "outputs": [
    {
     "data": {
      "text/plain": [
       "'Brno'"
      ]
     },
     "execution_count": 40,
     "metadata": {},
     "output_type": "execute_result"
    }
   ],
   "source": [
    "mesta_sl.iloc[1]"
   ]
  },
  {
   "cell_type": "markdown",
   "id": "8e002cdc",
   "metadata": {},
   "source": [
    "<br>\n",
    "\n",
    "Pokud provádíš *slicing* pomocí *indexů*, implicitně **vynecháš konečný index**:"
   ]
  },
  {
   "cell_type": "code",
   "execution_count": 53,
   "id": "286f0a3e",
   "metadata": {},
   "outputs": [
    {
     "data": {
      "text/plain": [
       "10    Brno\n",
       "dtype: object"
      ]
     },
     "execution_count": 53,
     "metadata": {},
     "output_type": "execute_result"
    }
   ],
   "source": [
    "mesta_sl.iloc[1:2]"
   ]
  },
  {
   "cell_type": "markdown",
   "id": "d0dff8b1",
   "metadata": {},
   "source": [
    "#### loc\n",
    "\n",
    "---\n",
    "\n",
    "Právě tento atribut zaručí, že budeš vždy pracovat pomocí **explicitního zadání hodnoty Indexů**:"
   ]
  },
  {
   "cell_type": "code",
   "execution_count": 83,
   "id": "ba72fd34",
   "metadata": {},
   "outputs": [
    {
     "data": {
      "text/plain": [
       "'Praha'"
      ]
     },
     "execution_count": 83,
     "metadata": {},
     "output_type": "execute_result"
    }
   ],
   "source": [
    "mesta_sl.loc[5]"
   ]
  },
  {
   "cell_type": "code",
   "execution_count": 56,
   "id": "0c54d2a4",
   "metadata": {},
   "outputs": [
    {
     "data": {
      "text/plain": [
       "'Ostrava'"
      ]
     },
     "execution_count": 56,
     "metadata": {},
     "output_type": "execute_result"
    }
   ],
   "source": [
    "mesta_sl.loc[15]"
   ]
  },
  {
   "cell_type": "code",
   "execution_count": 41,
   "id": "b0561328",
   "metadata": {},
   "outputs": [
    {
     "data": {
      "text/plain": [
       "5       Praha\n",
       "10       Brno\n",
       "15    Ostrava\n",
       "dtype: object"
      ]
     },
     "execution_count": 41,
     "metadata": {},
     "output_type": "execute_result"
    }
   ],
   "source": [
    "mesta_sl.loc[5:15]"
   ]
  },
  {
   "cell_type": "markdown",
   "id": "901b64a3",
   "metadata": {},
   "source": [
    "Tento jednoduchý přístup potom vede **k častým chybám a nepochopením**."
   ]
  },
  {
   "cell_type": "markdown",
   "id": "c325cf08",
   "metadata": {},
   "source": [
    "Jde tedy o explicitní práci s Indexy knihovny `pandas`, ne indexy Pythonu:"
   ]
  },
  {
   "cell_type": "code",
   "execution_count": 86,
   "id": "0a21e4fc",
   "metadata": {},
   "outputs": [],
   "source": [
    "jmena_sl = pd.Series(\n",
    "    [\"Matous\", \"Marek\", \"Lukas\", \"Jan\"],\n",
    "    index=[1, 2, 3, 4]\n",
    ")"
   ]
  },
  {
   "cell_type": "code",
   "execution_count": 87,
   "id": "1810606c",
   "metadata": {},
   "outputs": [
    {
     "data": {
      "text/plain": [
       "1    Matous\n",
       "2     Marek\n",
       "3     Lukas\n",
       "4       Jan\n",
       "dtype: object"
      ]
     },
     "execution_count": 87,
     "metadata": {},
     "output_type": "execute_result"
    }
   ],
   "source": [
    "jmena_sl"
   ]
  },
  {
   "cell_type": "code",
   "execution_count": 59,
   "id": "2535131e",
   "metadata": {},
   "outputs": [
    {
     "data": {
      "text/plain": [
       "'Matous'"
      ]
     },
     "execution_count": 59,
     "metadata": {},
     "output_type": "execute_result"
    }
   ],
   "source": [
    "jmena_sl.loc[1]"
   ]
  },
  {
   "cell_type": "code",
   "execution_count": 60,
   "id": "ebdb8fba",
   "metadata": {},
   "outputs": [
    {
     "data": {
      "text/plain": [
       "1    Matous\n",
       "2     Marek\n",
       "3     Lukas\n",
       "dtype: object"
      ]
     },
     "execution_count": 60,
     "metadata": {},
     "output_type": "execute_result"
    }
   ],
   "source": [
    "jmena_sl.loc[:3]"
   ]
  },
  {
   "cell_type": "markdown",
   "id": "5558cc65",
   "metadata": {},
   "source": [
    "Všimni si, jak *Index* o hodnotě 3 je součástí výstupu (narozdíl od pythonovského indexu 3)."
   ]
  },
  {
   "cell_type": "markdown",
   "id": "economic-review",
   "metadata": {},
   "source": [
    "---\n",
    "\n",
    "<br>\n",
    "\n",
    "#### Pokročilé, type-specific\n",
    "---\n",
    "V případě `Series` jde o mapování **typovaných hodnot** na **typované klíče**. Právě pojem **typovaný** (~*type-specific*) je zásadní.\n",
    "\n",
    "Právě *typovaný* zkompilovaný kód od `Series` nabízí některé efektivnější metody a funkce, které obyč. `dict` v Pythonu ne."
   ]
  },
  {
   "cell_type": "code",
   "execution_count": 26,
   "id": "diagnostic-geometry",
   "metadata": {
    "tags": []
   },
   "outputs": [],
   "source": [
    "populace_evropa = {\n",
    "    'Dansko': 5_655_750,\n",
    "    'Ceska_republika': 10_513_209,\n",
    "    'Nemecko': 80_716_000,\n",
    "    'Polsko': 38_483_957,\n",
    "    'Slovensko': 5_415_949,\n",
    "    'Rakousko': 8_932_664\n",
    "}"
   ]
  },
  {
   "cell_type": "code",
   "execution_count": 27,
   "id": "exempt-alexandria",
   "metadata": {
    "tags": []
   },
   "outputs": [],
   "source": [
    "populace_evropa_sl = pd.Series(populace_evropa)"
   ]
  },
  {
   "cell_type": "code",
   "execution_count": 61,
   "id": "0a24f1b7-9d60-4c85-8008-1d81fb3d28de",
   "metadata": {
    "tags": []
   },
   "outputs": [
    {
     "data": {
      "text/plain": [
       "Dansko              5655750\n",
       "Ceska_republika    10513209\n",
       "Nemecko            80716000\n",
       "Polsko             38483957\n",
       "Slovensko           5415949\n",
       "Rakousko            8932664\n",
       "dtype: int64"
      ]
     },
     "execution_count": 61,
     "metadata": {},
     "output_type": "execute_result"
    }
   ],
   "source": [
    "populace_evropa_sl"
   ]
  },
  {
   "cell_type": "markdown",
   "id": "electronic-trunk",
   "metadata": {},
   "source": [
    "<br>\n",
    "\n",
    "Defaultně ti objekt `Series` nachystá index ze seřazených klíčů původního datového typu `dict`.\n",
    "\n",
    "Můžeš provést klasické mapování hodnoty na jméno klíče:"
   ]
  },
  {
   "cell_type": "code",
   "execution_count": 62,
   "id": "clean-psychology",
   "metadata": {
    "tags": []
   },
   "outputs": [
    {
     "data": {
      "text/plain": [
       "np.int64(10513209)"
      ]
     },
     "execution_count": 62,
     "metadata": {},
     "output_type": "execute_result"
    }
   ],
   "source": [
    "populace_evropa_sl[\"Ceska_republika\"]"
   ]
  },
  {
   "cell_type": "markdown",
   "id": "cloudy-pasta",
   "metadata": {},
   "source": [
    "K tomu, ale `Series` nabízí operace jako např. *slicing* pro pole:"
   ]
  },
  {
   "cell_type": "code",
   "execution_count": 63,
   "id": "swiss-calvin",
   "metadata": {
    "tags": []
   },
   "outputs": [
    {
     "data": {
      "text/plain": [
       "Ceska_republika    10513209\n",
       "Nemecko            80716000\n",
       "Polsko             38483957\n",
       "dtype: int64"
      ]
     },
     "execution_count": 63,
     "metadata": {},
     "output_type": "execute_result"
    }
   ],
   "source": [
    "populace_evropa_sl[\"Ceska_republika\": \"Polsko\"]"
   ]
  },
  {
   "cell_type": "markdown",
   "id": "f6db18e1-206a-41d8-8499-30443d2021f0",
   "metadata": {},
   "source": [
    "<br>\n",
    "\n",
    "**🧠 CVIČENÍ 🧠, přepočítej hodnoty ve sloupečku**"
   ]
  },
  {
   "cell_type": "code",
   "execution_count": 65,
   "id": "81b14ebb-e8b8-429d-a8e8-2e02c9eead3a",
   "metadata": {},
   "outputs": [],
   "source": [
    "from typing import Dict\n",
    "\n",
    "data: Dict[str, float] = {  # Data v milionech, převeď na jednotky\n",
    "    \"New York\": 8.4,        # 8_400_000, (adv. int64)\n",
    "    \"London\": 9.0,\n",
    "    \"Tokyo\": 13.9,\n",
    "    \"Sydney\": 5.3,\n",
    "}"
   ]
  },
  {
   "cell_type": "code",
   "execution_count": 66,
   "id": "4e5e329d-4735-46a7-8172-f99eb5cfa247",
   "metadata": {},
   "outputs": [],
   "source": [
    "# Zapiš řešení\n",
    "from pandas import Series\n",
    "\n",
    "data_sl = pd.Series(data)"
   ]
  },
  {
   "cell_type": "code",
   "execution_count": 67,
   "id": "32fdf8fa-e28e-4524-bb35-3315daf1a8c4",
   "metadata": {},
   "outputs": [
    {
     "name": "stdout",
     "output_type": "stream",
     "text": [
      "New York     8.4\n",
      "London       9.0\n",
      "Tokyo       13.9\n",
      "Sydney       5.3\n",
      "dtype: float64\n"
     ]
    }
   ],
   "source": [
    "print(data_sl)"
   ]
  },
  {
   "cell_type": "code",
   "execution_count": 68,
   "id": "a9573856-495b-495e-b107-6bf257052b03",
   "metadata": {},
   "outputs": [],
   "source": [
    "def prepocitej_ciselne_hodnoty(data_mesta: Series) -> Series:\n",
    "    return data_mesta * 1_000_000"
   ]
  },
  {
   "cell_type": "code",
   "execution_count": 69,
   "id": "6a65ceab-61eb-4ede-a559-dca8c2181107",
   "metadata": {},
   "outputs": [
    {
     "data": {
      "text/plain": [
       "New York     8400000.0\n",
       "London       9000000.0\n",
       "Tokyo       13900000.0\n",
       "Sydney       5300000.0\n",
       "dtype: float64"
      ]
     },
     "execution_count": 69,
     "metadata": {},
     "output_type": "execute_result"
    }
   ],
   "source": [
    "prepocitej_ciselne_hodnoty(data_sl)"
   ]
  },
  {
   "cell_type": "markdown",
   "id": "c4e25329-fb91-49ad-9539-2907e783fb17",
   "metadata": {},
   "source": [
    "<details>\n",
    "    <summary>▶️ Řešení</summary>\n",
    "    \n",
    "```python\n",
    "import pandas as pd\n",
    "\n",
    "data = {\n",
    "    \"New York\": 8.4,\n",
    "    \"London\": 9.0,\n",
    "    \"Tokyo\": 13.9,\n",
    "    \"Sydney\": 5.3,\n",
    "}\n",
    "\n",
    "\n",
    "mesta_sl = pd.Series(data)\n",
    "\n",
    "\n",
    "def preved_na_jednotky(series):\n",
    "    return series * 1_000_000  # astype(int) -> celé číslo\n",
    "\n",
    "\n",
    "prevedene = preved_na_jednotky(mesta_sl)\n",
    "```\n",
    "</details>"
   ]
  },
  {
   "cell_type": "markdown",
   "id": "39344faa-b5ec-4bb1-9f2e-1da2d6d5e80f",
   "metadata": {},
   "source": [
    "<img src=\"https://external-content.duckduckgo.com/iu/?u=https%3A%2F%2Ftse1.mm.bing.net%2Fth%3Fid%3DOIP._inpASbq98lGCmZFxPEq7wHaHa%26pid%3DApi&f=1&ipt=ecf1243da46e7ae6341330ae58bda2a6456c95f63a0cd79eda7d561cf3334a57&ipo=images\" width=\"200\" style=\"margin-left:auto; margin-right:auto\"/>"
   ]
  },
  {
   "cell_type": "markdown",
   "id": "sealed-moment",
   "metadata": {},
   "source": [
    "<br>\n",
    "\n",
    "### DataFrame\n",
    "\n",
    "---\n",
    "\n",
    "\n",
    "Dalším elementárním datovým typem této knihovny je `DataFrame`.\n",
    "\n",
    "Analogicky si jej můžeš představit **jako tabulku** v Excelu.\n",
    "\n",
    "Tedy objekt složený **z řádků** (Indexů) a **sloupců** (`Series`)."
   ]
  },
  {
   "cell_type": "code",
   "execution_count": 88,
   "id": "sweet-pearl",
   "metadata": {
    "tags": []
   },
   "outputs": [],
   "source": [
    "populace_evropa = {\n",
    "    'Dansko': 5_655_750,\n",
    "    'Ceska_republika': 10_513_209,\n",
    "    'Nemecko': 80_716_000,\n",
    "    'Polsko': 38_483_957,\n",
    "    'Slovensko': 5_415_949,\n",
    "    'Rakousko': 8_932_664\n",
    "}"
   ]
  },
  {
   "cell_type": "code",
   "execution_count": 89,
   "id": "imported-directory",
   "metadata": {
    "tags": []
   },
   "outputs": [],
   "source": [
    "rozloha_evropa = {\n",
    "    'Dansko': 42_916,\n",
    "    'Ceska_republika': 78_870,\n",
    "    'Nemecko': 357_168,\n",
    "    'Polsko': 312_679,\n",
    "    'Slovensko': 49_035,\n",
    "    'Rakousko': 83_878\n",
    "}"
   ]
  },
  {
   "cell_type": "markdown",
   "id": "6730c4bb-dce7-4850-9f18-08951e214f35",
   "metadata": {},
   "source": [
    "<br>\n",
    "\n",
    "Nezapomeň nahrát potřebný objekt:"
   ]
  },
  {
   "cell_type": "code",
   "execution_count": 90,
   "id": "related-counter",
   "metadata": {
    "tags": []
   },
   "outputs": [],
   "source": [
    "from pandas import DataFrame"
   ]
  },
  {
   "cell_type": "code",
   "execution_count": 91,
   "id": "regulation-thread",
   "metadata": {
    "tags": []
   },
   "outputs": [],
   "source": [
    "zeme_evropa_df = DataFrame(  # Zdůraznit \"df\"\n",
    "    {\"Populace\": populace_evropa,\n",
    "     \"Rozloha\": rozloha_evropa}\n",
    ")"
   ]
  },
  {
   "cell_type": "code",
   "execution_count": 92,
   "id": "seeing-flavor",
   "metadata": {
    "tags": []
   },
   "outputs": [
    {
     "data": {
      "text/html": [
       "<div>\n",
       "<style scoped>\n",
       "    .dataframe tbody tr th:only-of-type {\n",
       "        vertical-align: middle;\n",
       "    }\n",
       "\n",
       "    .dataframe tbody tr th {\n",
       "        vertical-align: top;\n",
       "    }\n",
       "\n",
       "    .dataframe thead th {\n",
       "        text-align: right;\n",
       "    }\n",
       "</style>\n",
       "<table border=\"1\" class=\"dataframe\">\n",
       "  <thead>\n",
       "    <tr style=\"text-align: right;\">\n",
       "      <th></th>\n",
       "      <th>Populace</th>\n",
       "      <th>Rozloha</th>\n",
       "    </tr>\n",
       "  </thead>\n",
       "  <tbody>\n",
       "    <tr>\n",
       "      <th>Dansko</th>\n",
       "      <td>5655750</td>\n",
       "      <td>42916</td>\n",
       "    </tr>\n",
       "    <tr>\n",
       "      <th>Ceska_republika</th>\n",
       "      <td>10513209</td>\n",
       "      <td>78870</td>\n",
       "    </tr>\n",
       "    <tr>\n",
       "      <th>Nemecko</th>\n",
       "      <td>80716000</td>\n",
       "      <td>357168</td>\n",
       "    </tr>\n",
       "    <tr>\n",
       "      <th>Polsko</th>\n",
       "      <td>38483957</td>\n",
       "      <td>312679</td>\n",
       "    </tr>\n",
       "    <tr>\n",
       "      <th>Slovensko</th>\n",
       "      <td>5415949</td>\n",
       "      <td>49035</td>\n",
       "    </tr>\n",
       "    <tr>\n",
       "      <th>Rakousko</th>\n",
       "      <td>8932664</td>\n",
       "      <td>83878</td>\n",
       "    </tr>\n",
       "  </tbody>\n",
       "</table>\n",
       "</div>"
      ],
      "text/plain": [
       "                 Populace  Rozloha\n",
       "Dansko            5655750    42916\n",
       "Ceska_republika  10513209    78870\n",
       "Nemecko          80716000   357168\n",
       "Polsko           38483957   312679\n",
       "Slovensko         5415949    49035\n",
       "Rakousko          8932664    83878"
      ]
     },
     "execution_count": 92,
     "metadata": {},
     "output_type": "execute_result"
    }
   ],
   "source": [
    "zeme_evropa_df"
   ]
  },
  {
   "cell_type": "code",
   "execution_count": 93,
   "id": "b9e66091-4628-44c4-bebd-e81b3cd7ab4a",
   "metadata": {
    "tags": []
   },
   "outputs": [
    {
     "data": {
      "text/plain": [
       "pandas.core.frame.DataFrame"
      ]
     },
     "execution_count": 93,
     "metadata": {},
     "output_type": "execute_result"
    }
   ],
   "source": [
    "type(zeme_evropa_df)"
   ]
  },
  {
   "cell_type": "markdown",
   "id": "reduced-prediction",
   "metadata": {},
   "source": [
    "<br>\n",
    "\n",
    "Stejně jako u `Series` má i `DataFrame` svoje *indexy*:"
   ]
  },
  {
   "cell_type": "code",
   "execution_count": 94,
   "id": "aware-feedback",
   "metadata": {
    "tags": []
   },
   "outputs": [
    {
     "data": {
      "text/plain": [
       "Index(['Dansko', 'Ceska_republika', 'Nemecko', 'Polsko', 'Slovensko',\n",
       "       'Rakousko'],\n",
       "      dtype='object')"
      ]
     },
     "execution_count": 94,
     "metadata": {},
     "output_type": "execute_result"
    }
   ],
   "source": [
    "zeme_evropa_df.index"
   ]
  },
  {
   "cell_type": "markdown",
   "id": "outer-fundamentals",
   "metadata": {},
   "source": [
    "<br>\n",
    "\n",
    "Navíc můžeš pracovat s atributem `columns`, který drží jména **jednotlivých sloupečků**:"
   ]
  },
  {
   "cell_type": "code",
   "execution_count": 95,
   "id": "hispanic-mortgage",
   "metadata": {
    "tags": []
   },
   "outputs": [
    {
     "data": {
      "text/plain": [
       "Index(['Populace', 'Rozloha'], dtype='object')"
      ]
     },
     "execution_count": 95,
     "metadata": {},
     "output_type": "execute_result"
    }
   ],
   "source": [
    "zeme_evropa_df.columns"
   ]
  },
  {
   "cell_type": "code",
   "execution_count": 96,
   "id": "c44f32bd-f3b2-42e9-b1ad-be06e69f233b",
   "metadata": {
    "tags": []
   },
   "outputs": [
    {
     "data": {
      "text/plain": [
       "array([[ 5655750,    42916],\n",
       "       [10513209,    78870],\n",
       "       [80716000,   357168],\n",
       "       [38483957,   312679],\n",
       "       [ 5415949,    49035],\n",
       "       [ 8932664,    83878]])"
      ]
     },
     "execution_count": 96,
     "metadata": {},
     "output_type": "execute_result"
    }
   ],
   "source": [
    "zeme_evropa_df.values"
   ]
  },
  {
   "cell_type": "markdown",
   "id": "moving-andrew",
   "metadata": {},
   "source": [
    "Proto si můžeš objekt `DataFrame` představit také jako Pythonovský `dict`.\n",
    "\n",
    "<br>\n",
    "\n",
    "Ovšem s tím rozdílem, že tentokrát mapuješ jméno sloupečku na `Series`:"
   ]
  },
  {
   "cell_type": "code",
   "execution_count": 97,
   "id": "single-mumbai",
   "metadata": {
    "tags": []
   },
   "outputs": [
    {
     "data": {
      "text/plain": [
       "Dansko              5655750\n",
       "Ceska_republika    10513209\n",
       "Nemecko            80716000\n",
       "Polsko             38483957\n",
       "Slovensko           5415949\n",
       "Rakousko            8932664\n",
       "Name: Populace, dtype: int64"
      ]
     },
     "execution_count": 97,
     "metadata": {},
     "output_type": "execute_result"
    }
   ],
   "source": [
    "zeme_evropa_df[\"Populace\"]"
   ]
  },
  {
   "cell_type": "code",
   "execution_count": 98,
   "id": "respiratory-formation",
   "metadata": {
    "tags": []
   },
   "outputs": [],
   "source": [
    "populace_sl = zeme_evropa_df[\"Populace\"]"
   ]
  },
  {
   "cell_type": "code",
   "execution_count": 99,
   "id": "acquired-steps",
   "metadata": {
    "tags": []
   },
   "outputs": [
    {
     "data": {
      "text/plain": [
       "pandas.core.series.Series"
      ]
     },
     "execution_count": 99,
     "metadata": {},
     "output_type": "execute_result"
    }
   ],
   "source": [
    "type(populace_sl)"
   ]
  },
  {
   "cell_type": "markdown",
   "id": "unlike-administration",
   "metadata": {},
   "source": [
    "Opatrně při vytváření nového `DataFrame`, u chybějících klíčů implictině zapisuje `Nan` hodnotu (~*not a number*):"
   ]
  },
  {
   "cell_type": "code",
   "execution_count": 100,
   "id": "wired-protection",
   "metadata": {
    "tags": []
   },
   "outputs": [],
   "source": [
    "chybejici_hodnoty_df = DataFrame(\n",
    "    [\n",
    "        {\"A\": 1, \"B\": 4},\n",
    "        {\"C\": 6, \"B\": 7}\n",
    "    ]\n",
    ")"
   ]
  },
  {
   "cell_type": "code",
   "execution_count": 101,
   "id": "organic-separate",
   "metadata": {
    "tags": []
   },
   "outputs": [
    {
     "data": {
      "text/html": [
       "<div>\n",
       "<style scoped>\n",
       "    .dataframe tbody tr th:only-of-type {\n",
       "        vertical-align: middle;\n",
       "    }\n",
       "\n",
       "    .dataframe tbody tr th {\n",
       "        vertical-align: top;\n",
       "    }\n",
       "\n",
       "    .dataframe thead th {\n",
       "        text-align: right;\n",
       "    }\n",
       "</style>\n",
       "<table border=\"1\" class=\"dataframe\">\n",
       "  <thead>\n",
       "    <tr style=\"text-align: right;\">\n",
       "      <th></th>\n",
       "      <th>A</th>\n",
       "      <th>B</th>\n",
       "      <th>C</th>\n",
       "    </tr>\n",
       "  </thead>\n",
       "  <tbody>\n",
       "    <tr>\n",
       "      <th>0</th>\n",
       "      <td>1.0</td>\n",
       "      <td>4</td>\n",
       "      <td>NaN</td>\n",
       "    </tr>\n",
       "    <tr>\n",
       "      <th>1</th>\n",
       "      <td>NaN</td>\n",
       "      <td>7</td>\n",
       "      <td>6.0</td>\n",
       "    </tr>\n",
       "  </tbody>\n",
       "</table>\n",
       "</div>"
      ],
      "text/plain": [
       "     A  B    C\n",
       "0  1.0  4  NaN\n",
       "1  NaN  7  6.0"
      ]
     },
     "execution_count": 101,
     "metadata": {},
     "output_type": "execute_result"
    }
   ],
   "source": [
    "chybejici_hodnoty_df"
   ]
  },
  {
   "cell_type": "markdown",
   "id": "activated-surface",
   "metadata": {},
   "source": [
    "Navíc si můžeš všimnout rozdílné definice **datového typu**:"
   ]
  },
  {
   "cell_type": "code",
   "execution_count": 102,
   "id": "cutting-interaction",
   "metadata": {
    "tags": []
   },
   "outputs": [
    {
     "data": {
      "text/plain": [
       "A    float64\n",
       "B      int64\n",
       "C    float64\n",
       "dtype: object"
      ]
     },
     "execution_count": 102,
     "metadata": {},
     "output_type": "execute_result"
    }
   ],
   "source": [
    "chybejici_hodnoty_df.dtypes"
   ]
  },
  {
   "cell_type": "code",
   "execution_count": 103,
   "id": "korean-blair",
   "metadata": {
    "tags": []
   },
   "outputs": [
    {
     "data": {
      "text/plain": [
       "0    1.0\n",
       "1    NaN\n",
       "Name: A, dtype: float64"
      ]
     },
     "execution_count": 103,
     "metadata": {},
     "output_type": "execute_result"
    }
   ],
   "source": [
    "chybejici_hodnoty_df[\"A\"]"
   ]
  },
  {
   "cell_type": "code",
   "execution_count": 104,
   "id": "better-renaissance",
   "metadata": {
    "tags": []
   },
   "outputs": [],
   "source": [
    "konvertovany_sl_a = chybejici_hodnoty_df[\"A\"].convert_dtypes()"
   ]
  },
  {
   "cell_type": "code",
   "execution_count": 105,
   "id": "advised-organic",
   "metadata": {
    "tags": []
   },
   "outputs": [
    {
     "data": {
      "text/plain": [
       "0       1\n",
       "1    <NA>\n",
       "Name: A, dtype: Int64"
      ]
     },
     "execution_count": 105,
     "metadata": {},
     "output_type": "execute_result"
    }
   ],
   "source": [
    "konvertovany_sl_a"
   ]
  },
  {
   "cell_type": "markdown",
   "id": "global-newcastle",
   "metadata": {},
   "source": [
    "Více si o přetypování obecně a dozvíš později."
   ]
  },
  {
   "cell_type": "markdown",
   "id": "744f661a-2bcc-4109-90cd-3591e68ca29f",
   "metadata": {},
   "source": [
    "**🧠 CVIČENÍ 🧠, přidej nový sloupeček**"
   ]
  },
  {
   "cell_type": "code",
   "execution_count": null,
   "id": "3e5f53e1-4548-40f2-975c-39d1a999f06f",
   "metadata": {},
   "outputs": [],
   "source": [
    "from typing import Dict\n",
    "\n",
    "data: Dict[str, list] = {  # Zalidnění\n",
    "    \"Město\": [\"New York\", \"London\", \"Tokyo\", \"Sydney\"],\n",
    "    \"Populace (v mio)\": [8.4, 9.0, 13.9, 5.3],\n",
    "    \"Plocha (km²)\": [783, 1572, 2194, 1687]\n",
    "}"
   ]
  },
  {
   "cell_type": "code",
   "execution_count": null,
   "id": "5a87764e-6c91-4529-bb16-bfded4bfa865",
   "metadata": {},
   "outputs": [],
   "source": [
    "# Zápis\n",
    "from pandas import DataFrame\n",
    "\n",
    "data_df = DataFrame(data)"
   ]
  },
  {
   "cell_type": "code",
   "execution_count": null,
   "id": "6ece17b7-a310-4166-aa61-5364013f6d84",
   "metadata": {},
   "outputs": [],
   "source": [
    "data_df"
   ]
  },
  {
   "cell_type": "code",
   "execution_count": null,
   "id": "d9bce17f-4ae4-432e-afda-f74f6c391984",
   "metadata": {},
   "outputs": [],
   "source": [
    "def vypocitej_zalidneni(data_df: DataFrame) -> DataFrame:\n",
    "    data_df['Zalidnění (na km²)'] = \\\n",
    "        (data_df['Populace (v mio)'] * 1_000_000) / data_df['Plocha (km²)']\n",
    "\n",
    "    return data_df"
   ]
  },
  {
   "cell_type": "code",
   "execution_count": null,
   "id": "46bbd648-7b7c-4775-922e-36d32bc5ddd2",
   "metadata": {},
   "outputs": [],
   "source": [
    "vypocitej_zalidneni(data_df)"
   ]
  },
  {
   "cell_type": "markdown",
   "id": "40fcf84f-af6e-4521-816e-8dee4b56cd23",
   "metadata": {},
   "source": [
    "<details>\n",
    "    <summary>▶️ Řešení</summary>\n",
    "    \n",
    "```python\n",
    "import pandas as pd\n",
    "\n",
    "data = {\n",
    "    \"Město\": [\"New York\", \"London\", \"Tokyo\", \"Sydney\"],\n",
    "    \"Populace (v mio)\": [8.4, 9.0, 13.9, 5.3],\n",
    "    \"Plocha (km²)\": [783, 1572, 2194, 1687],\n",
    "}\n",
    "\n",
    "mesta_df = pd.DataFrame(data)\n",
    "\n",
    "def vypocitej_hustotu_zalidneni(df):\n",
    "    \"\"\"\n",
    "    Přidejte nový sloupec 'Hustota zalidnění' (počet obyvatel na km²).\n",
    "    \"\"\"\n",
    "    df[\"Hustota zalidnění (na km²)\"] = (df[\"Populace (v mio)\"] * 1_000_000 / df[\"Plocha (km²)\"]).round().astype(int)\n",
    "    return df\n",
    "\n",
    "df = vypocitej_hustotu_zalidneni(mesta_df)\n",
    "print(df)\n",
    "```\n",
    "</details>"
   ]
  },
  {
   "cell_type": "markdown",
   "id": "a66def85-a3e8-44a5-b13a-d88c570bbb2d",
   "metadata": {},
   "source": [
    "<img src=\"https://imgs.search.brave.com/EQep67dP5UaJDlqkF2HvOQTESVA_LQSZx_SR7FE6JYM/rs:fit:500:0:0:0/g:ce/aHR0cHM6Ly9kMW5o/aW8wb3g3cGdiLmNs/b3VkZnJvbnQubmV0/L19pbWcvb19jb2xs/ZWN0aW9uX3BuZy9n/cmVlbl9kYXJrX2dy/ZXkvNTEyeDUxMi9w/bGFpbi90YWJsZV9z/ZWxlY3Rpb25fcm93/LnBuZw\" width=\"200\" style=\"margin-left:auto; margin-right:auto\"/>"
   ]
  },
  {
   "cell_type": "markdown",
   "id": "9f80b898-8c4a-471c-972d-fcda01e83c37",
   "metadata": {},
   "source": [
    "### Index\n",
    "\n",
    "---\n"
   ]
  },
  {
   "cell_type": "markdown",
   "id": "808f0ab2-7b1a-459c-ae3f-bc59e58e3df8",
   "metadata": {},
   "source": [
    "Posledním ze základních objektů frameworku `pandas` je tedy **Index** (velké \"i\").\n",
    "\n",
    "Jak `Series`, tak `DataFrame` v sobě *Index* obsahují.\n",
    "\n",
    "Pro jednoduchost, si jej můžeš představit jako označení jednotlivých řádků v tabulce."
   ]
  },
  {
   "cell_type": "code",
   "execution_count": 106,
   "id": "deluxe-dragon",
   "metadata": {
    "tags": []
   },
   "outputs": [],
   "source": [
    "from pandas import Index"
   ]
  },
  {
   "cell_type": "code",
   "execution_count": 107,
   "id": "productive-kuwait",
   "metadata": {
    "tags": []
   },
   "outputs": [],
   "source": [
    "indexy = Index([2, 3, 4, 5])"
   ]
  },
  {
   "cell_type": "code",
   "execution_count": 108,
   "id": "southwest-extent",
   "metadata": {
    "tags": []
   },
   "outputs": [
    {
     "data": {
      "text/plain": [
       "Index([2, 3, 4, 5], dtype='int64')"
      ]
     },
     "execution_count": 108,
     "metadata": {},
     "output_type": "execute_result"
    }
   ],
   "source": [
    "indexy"
   ]
  },
  {
   "cell_type": "code",
   "execution_count": 109,
   "id": "b2313437-f94e-4bf2-a4ff-edf64a38dc56",
   "metadata": {},
   "outputs": [
    {
     "data": {
      "text/plain": [
       "pandas.core.indexes.base.Index"
      ]
     },
     "execution_count": 109,
     "metadata": {},
     "output_type": "execute_result"
    }
   ],
   "source": [
    "type(indexy)"
   ]
  },
  {
   "cell_type": "code",
   "execution_count": 110,
   "id": "090c9fdd-dc78-489f-b118-1a9663bcfc65",
   "metadata": {},
   "outputs": [],
   "source": [
    "nove_indexy = Index(('radek_1', 'radek_2', 'radek_3'))"
   ]
  },
  {
   "cell_type": "code",
   "execution_count": 111,
   "id": "0a05ce11-9b9a-4061-b7de-664a7a3b2deb",
   "metadata": {},
   "outputs": [
    {
     "data": {
      "text/plain": [
       "pandas.core.indexes.base.Index"
      ]
     },
     "execution_count": 111,
     "metadata": {},
     "output_type": "execute_result"
    }
   ],
   "source": [
    "type(nove_indexy)"
   ]
  },
  {
   "cell_type": "markdown",
   "id": "driven-innocent",
   "metadata": {},
   "source": [
    "<br>\n",
    "\n",
    "#### indexování Indexů\n",
    "\n",
    "---"
   ]
  },
  {
   "cell_type": "code",
   "execution_count": 112,
   "id": "0eacbe3e-b2cf-4c10-aa83-2d65d664ac35",
   "metadata": {},
   "outputs": [
    {
     "data": {
      "text/plain": [
       "Index([2, 3, 4, 5], dtype='int64')"
      ]
     },
     "execution_count": 112,
     "metadata": {},
     "output_type": "execute_result"
    }
   ],
   "source": [
    "indexy"
   ]
  },
  {
   "cell_type": "code",
   "execution_count": 113,
   "id": "egyptian-cleveland",
   "metadata": {
    "scrolled": true
   },
   "outputs": [
    {
     "data": {
      "text/plain": [
       "np.int64(4)"
      ]
     },
     "execution_count": 113,
     "metadata": {},
     "output_type": "execute_result"
    }
   ],
   "source": [
    "indexy[2]"
   ]
  },
  {
   "cell_type": "markdown",
   "id": "excited-lawsuit",
   "metadata": {},
   "source": [
    "<br>\n",
    "\n",
    "#### Slicování indexů\n",
    "\n",
    "---"
   ]
  },
  {
   "cell_type": "code",
   "execution_count": 114,
   "id": "contemporary-sympathy",
   "metadata": {},
   "outputs": [
    {
     "data": {
      "text/plain": [
       "Index([2, 3, 4], dtype='int64')"
      ]
     },
     "execution_count": 114,
     "metadata": {},
     "output_type": "execute_result"
    }
   ],
   "source": [
    "indexy[:3]"
   ]
  },
  {
   "cell_type": "markdown",
   "id": "increased-bronze",
   "metadata": {},
   "source": [
    "<br>\n",
    "\n",
    "#### Nezměnitelný objekt\n",
    "\n",
    "---"
   ]
  },
  {
   "cell_type": "code",
   "execution_count": 115,
   "id": "147ff499-db86-4c44-aacc-bbbefd969b04",
   "metadata": {},
   "outputs": [
    {
     "data": {
      "text/plain": [
       "np.int64(4)"
      ]
     },
     "execution_count": 115,
     "metadata": {},
     "output_type": "execute_result"
    }
   ],
   "source": [
    "indexy[2]"
   ]
  },
  {
   "cell_type": "code",
   "execution_count": 117,
   "id": "atomic-update",
   "metadata": {
    "tags": []
   },
   "outputs": [
    {
     "ename": "TypeError",
     "evalue": "Index does not support mutable operations",
     "output_type": "error",
     "traceback": [
      "\u001b[31m---------------------------------------------------------------------------\u001b[39m",
      "\u001b[31mTypeError\u001b[39m                                 Traceback (most recent call last)",
      "\u001b[36mCell\u001b[39m\u001b[36m \u001b[39m\u001b[32mIn[117]\u001b[39m\u001b[32m, line 1\u001b[39m\n\u001b[32m----> \u001b[39m\u001b[32m1\u001b[39m \u001b[43mindexy\u001b[49m\u001b[43m[\u001b[49m\u001b[32;43m2\u001b[39;49m\u001b[43m]\u001b[49m = \u001b[32m3\u001b[39m  \u001b[38;5;66;03m# --> TypeError\u001b[39;00m\n",
      "\u001b[36mFile \u001b[39m\u001b[32m~/.pyenv/versions/3.12.5/lib/python3.12/site-packages/pandas/core/indexes/base.py:5371\u001b[39m, in \u001b[36mIndex.__setitem__\u001b[39m\u001b[34m(self, key, value)\u001b[39m\n\u001b[32m   5369\u001b[39m \u001b[38;5;129m@final\u001b[39m\n\u001b[32m   5370\u001b[39m \u001b[38;5;28;01mdef\u001b[39;00m\u001b[38;5;250m \u001b[39m\u001b[34m__setitem__\u001b[39m(\u001b[38;5;28mself\u001b[39m, key, value) -> \u001b[38;5;28;01mNone\u001b[39;00m:\n\u001b[32m-> \u001b[39m\u001b[32m5371\u001b[39m     \u001b[38;5;28;01mraise\u001b[39;00m \u001b[38;5;167;01mTypeError\u001b[39;00m(\u001b[33m\"\u001b[39m\u001b[33mIndex does not support mutable operations\u001b[39m\u001b[33m\"\u001b[39m)\n",
      "\u001b[31mTypeError\u001b[39m: Index does not support mutable operations"
     ]
    }
   ],
   "source": [
    "indexy[2] = 3  # --> TypeError"
   ]
  },
  {
   "cell_type": "markdown",
   "id": "impressed-caribbean",
   "metadata": {},
   "source": [
    "Tato nezměnitelnost slouží k větší bezpečnosti, protože jednotlivé indexy, může sdílet více `DataFrame`."
   ]
  },
  {
   "cell_type": "markdown",
   "id": "intense-chamber",
   "metadata": {},
   "source": [
    "<br>\n",
    "\n",
    "#### Index jako seřazený set\n",
    "\n",
    "---"
   ]
  },
  {
   "cell_type": "code",
   "execution_count": 118,
   "id": "weighted-slovakia",
   "metadata": {
    "tags": []
   },
   "outputs": [],
   "source": [
    "indexy_a = Index([1, 2, 3, 4])\n",
    "indexy_b = Index([3, 4, 5, 6])"
   ]
  },
  {
   "cell_type": "code",
   "execution_count": 119,
   "id": "diagnostic-colonial",
   "metadata": {
    "tags": []
   },
   "outputs": [
    {
     "data": {
      "text/plain": [
       "Index([3, 4], dtype='int64')"
      ]
     },
     "execution_count": 119,
     "metadata": {},
     "output_type": "execute_result"
    }
   ],
   "source": [
    "indexy_a.intersection(indexy_b)"
   ]
  },
  {
   "cell_type": "code",
   "execution_count": 120,
   "id": "binary-adrian",
   "metadata": {
    "tags": []
   },
   "outputs": [
    {
     "data": {
      "text/plain": [
       "Index([1, 2, 3, 4, 5, 6], dtype='int64')"
      ]
     },
     "execution_count": 120,
     "metadata": {},
     "output_type": "execute_result"
    }
   ],
   "source": [
    "indexy_a.union(indexy_b)"
   ]
  },
  {
   "cell_type": "markdown",
   "id": "533641fa-9ba9-4713-98a9-22f480974324",
   "metadata": {},
   "source": [
    "<br>\n",
    "\n",
    "### Souhrn k základním typům\n",
    "\n",
    "---"
   ]
  },
  {
   "cell_type": "markdown",
   "id": "fc8ce55b-f635-48af-9338-b488f0520a4f",
   "metadata": {},
   "source": [
    "- **sloupečky**, jako pole, jednorozměrné, možnost selekce indexů i hodnot a jejich rozsahů,\n",
    "- **indexy**, jako pole, nezměnitelné, možnost selekce jednoho řádků i rozsahu řádků,\n",
    "- **tabulka**, vícerozměrné pole, výběr podle sloupců."
   ]
  },
  {
   "cell_type": "markdown",
   "id": "18b04787-ac43-4222-b23e-96e0d5d0187c",
   "metadata": {},
   "source": [
    "\n",
    "<img src=\"https://imgs.search.brave.com/CoDVQW6cpYcV0qJtUejA7WQat4mLN2AOxuK2hXwgGAo/rs:fit:500:0:0:0/g:ce/aHR0cHM6Ly9jZG4w/Lmljb25maW5kZXIu/Y29tL2RhdGEvaWNv/bnMvcm91bmQtdWkt/aWNvbnMvNTEyL2Fk/ZF9ibHVlLnBuZw\" width=\"200\" style=\"margin-left:auto; margin-right:auto\"/>"
   ]
  },
  {
   "cell_type": "markdown",
   "id": "separate-black",
   "metadata": {},
   "source": [
    "<br>\n",
    "\n",
    "## Načítání objektů\n",
    "\n",
    "---"
   ]
  },
  {
   "cell_type": "markdown",
   "id": "czech-overview",
   "metadata": {},
   "source": [
    "Vytvořit nový `DataFrame` je záležitost několika málo argumentů.\n",
    "\n",
    "Není ovšem velmi časté, chystat data *z ničeho*.\n",
    "\n",
    "Většinou potřebuješ právě nahrát různé **existující externí soubory**, do `DataFrame` objektů.\n",
    "\n",
    "* `read_csv`,\n",
    "* `read_excel`,\n",
    "* `read_json`,\n",
    "* `read_html`,\n",
    "* `read_sql`,\n",
    "* `read_parquet`,\n",
    "* `read_sas`."
   ]
  },
  {
   "cell_type": "markdown",
   "id": "finite-cleveland",
   "metadata": {},
   "source": [
    "###  Načti soubor `csv`\n",
    "\n",
    "---"
   ]
  },
  {
   "cell_type": "markdown",
   "id": "beginning-campaign",
   "metadata": {},
   "source": [
    "Knihovna nabízí přímo specializovanou funkci `read_csv`.\n",
    "\n",
    "Ta dovede načíst obsah souboru do nového `DataFrame`.\n",
    "\n",
    "Pro první použití, případně pozdější rozšíření je vhodné, prozkoumat dokumentaci:"
   ]
  },
  {
   "cell_type": "code",
   "execution_count": null,
   "id": "modular-jamaica",
   "metadata": {
    "tags": []
   },
   "outputs": [
    {
     "name": "stdout",
     "output_type": "stream",
     "text": [
      "\u001b[31mSignature:\u001b[39m\n",
      "read_csv(\n",
      "    filepath_or_buffer: \u001b[33m'FilePath | ReadCsvBuffer[bytes] | ReadCsvBuffer[str]'\u001b[39m,\n",
      "    *,\n",
      "    sep: \u001b[33m'str | None | lib.NoDefault'\u001b[39m = <no_default>,\n",
      "    delimiter: \u001b[33m'str | None | lib.NoDefault'\u001b[39m = \u001b[38;5;28;01mNone\u001b[39;00m,\n",
      "    header: \u001b[33m\"int | Sequence[int] | None | Literal['infer']\"\u001b[39m = \u001b[33m'infer'\u001b[39m,\n",
      "    names: \u001b[33m'Sequence[Hashable] | None | lib.NoDefault'\u001b[39m = <no_default>,\n",
      "    index_col: \u001b[33m'IndexLabel | Literal[False] | None'\u001b[39m = \u001b[38;5;28;01mNone\u001b[39;00m,\n",
      "    usecols: \u001b[33m'UsecolsArgType'\u001b[39m = \u001b[38;5;28;01mNone\u001b[39;00m,\n",
      "    dtype: \u001b[33m'DtypeArg | None'\u001b[39m = \u001b[38;5;28;01mNone\u001b[39;00m,\n",
      "    engine: \u001b[33m'CSVEngine | None'\u001b[39m = \u001b[38;5;28;01mNone\u001b[39;00m,\n",
      "    converters: \u001b[33m'Mapping[Hashable, Callable] | None'\u001b[39m = \u001b[38;5;28;01mNone\u001b[39;00m,\n",
      "    true_values: \u001b[33m'list | None'\u001b[39m = \u001b[38;5;28;01mNone\u001b[39;00m,\n",
      "    false_values: \u001b[33m'list | None'\u001b[39m = \u001b[38;5;28;01mNone\u001b[39;00m,\n",
      "    skipinitialspace: \u001b[33m'bool'\u001b[39m = \u001b[38;5;28;01mFalse\u001b[39;00m,\n",
      "    skiprows: \u001b[33m'list[int] | int | Callable[[Hashable], bool] | None'\u001b[39m = \u001b[38;5;28;01mNone\u001b[39;00m,\n",
      "    skipfooter: \u001b[33m'int'\u001b[39m = \u001b[32m0\u001b[39m,\n",
      "    nrows: \u001b[33m'int | None'\u001b[39m = \u001b[38;5;28;01mNone\u001b[39;00m,\n",
      "    na_values: \u001b[33m'Hashable | Iterable[Hashable] | Mapping[Hashable, Iterable[Hashable]] | None'\u001b[39m = \u001b[38;5;28;01mNone\u001b[39;00m,\n",
      "    keep_default_na: \u001b[33m'bool'\u001b[39m = \u001b[38;5;28;01mTrue\u001b[39;00m,\n",
      "    na_filter: \u001b[33m'bool'\u001b[39m = \u001b[38;5;28;01mTrue\u001b[39;00m,\n",
      "    verbose: \u001b[33m'bool | lib.NoDefault'\u001b[39m = <no_default>,\n",
      "    skip_blank_lines: \u001b[33m'bool'\u001b[39m = \u001b[38;5;28;01mTrue\u001b[39;00m,\n",
      "    parse_dates: \u001b[33m'bool | Sequence[Hashable] | None'\u001b[39m = \u001b[38;5;28;01mNone\u001b[39;00m,\n",
      "    infer_datetime_format: \u001b[33m'bool | lib.NoDefault'\u001b[39m = <no_default>,\n",
      "    keep_date_col: \u001b[33m'bool | lib.NoDefault'\u001b[39m = <no_default>,\n",
      "    date_parser: \u001b[33m'Callable | lib.NoDefault'\u001b[39m = <no_default>,\n",
      "    date_format: \u001b[33m'str | dict[Hashable, str] | None'\u001b[39m = \u001b[38;5;28;01mNone\u001b[39;00m,\n",
      "    dayfirst: \u001b[33m'bool'\u001b[39m = \u001b[38;5;28;01mFalse\u001b[39;00m,\n",
      "    cache_dates: \u001b[33m'bool'\u001b[39m = \u001b[38;5;28;01mTrue\u001b[39;00m,\n",
      "    iterator: \u001b[33m'bool'\u001b[39m = \u001b[38;5;28;01mFalse\u001b[39;00m,\n",
      "    chunksize: \u001b[33m'int | None'\u001b[39m = \u001b[38;5;28;01mNone\u001b[39;00m,\n",
      "    compression: \u001b[33m'CompressionOptions'\u001b[39m = \u001b[33m'infer'\u001b[39m,\n",
      "    thousands: \u001b[33m'str | None'\u001b[39m = \u001b[38;5;28;01mNone\u001b[39;00m,\n",
      "    decimal: \u001b[33m'str'\u001b[39m = \u001b[33m'.'\u001b[39m,\n",
      "    lineterminator: \u001b[33m'str | None'\u001b[39m = \u001b[38;5;28;01mNone\u001b[39;00m,\n",
      "    quotechar: \u001b[33m'str'\u001b[39m = \u001b[33m'\"'\u001b[39m,\n",
      "    quoting: \u001b[33m'int'\u001b[39m = \u001b[32m0\u001b[39m,\n",
      "    doublequote: \u001b[33m'bool'\u001b[39m = \u001b[38;5;28;01mTrue\u001b[39;00m,\n",
      "    escapechar: \u001b[33m'str | None'\u001b[39m = \u001b[38;5;28;01mNone\u001b[39;00m,\n",
      "    comment: \u001b[33m'str | None'\u001b[39m = \u001b[38;5;28;01mNone\u001b[39;00m,\n",
      "    encoding: \u001b[33m'str | None'\u001b[39m = \u001b[38;5;28;01mNone\u001b[39;00m,\n",
      "    encoding_errors: \u001b[33m'str | None'\u001b[39m = \u001b[33m'strict'\u001b[39m,\n",
      "    dialect: \u001b[33m'str | csv.Dialect | None'\u001b[39m = \u001b[38;5;28;01mNone\u001b[39;00m,\n",
      "    on_bad_lines: \u001b[33m'str'\u001b[39m = \u001b[33m'error'\u001b[39m,\n",
      "    delim_whitespace: \u001b[33m'bool | lib.NoDefault'\u001b[39m = <no_default>,\n",
      "    low_memory: \u001b[33m'bool'\u001b[39m = \u001b[38;5;28;01mTrue\u001b[39;00m,\n",
      "    memory_map: \u001b[33m'bool'\u001b[39m = \u001b[38;5;28;01mFalse\u001b[39;00m,\n",
      "    float_precision: \u001b[33m\"Literal['high', 'legacy'] | None\"\u001b[39m = \u001b[38;5;28;01mNone\u001b[39;00m,\n",
      "    storage_options: \u001b[33m'StorageOptions | None'\u001b[39m = \u001b[38;5;28;01mNone\u001b[39;00m,\n",
      "    dtype_backend: \u001b[33m'DtypeBackend | lib.NoDefault'\u001b[39m = <no_default>,\n",
      ") -> \u001b[33m'DataFrame | TextFileReader'\u001b[39m\n",
      "\u001b[31mDocstring:\u001b[39m\n",
      "Read a comma-separated values (csv) file into DataFrame.\n",
      "\n",
      "Also supports optionally iterating or breaking of the file\n",
      "into chunks.\n",
      "\n",
      "Additional help can be found in the online docs for\n",
      "`IO Tools <https://pandas.pydata.org/pandas-docs/stable/user_guide/io.html>`_.\n",
      "\n",
      "Parameters\n",
      "----------\n",
      "filepath_or_buffer : str, path object or file-like object\n",
      "    Any valid string path is acceptable. The string could be a URL. Valid\n",
      "    URL schemes include http, ftp, s3, gs, and file. For file URLs, a host is\n",
      "    expected. A local file could be: file://localhost/path/to/table.csv.\n",
      "\n",
      "    If you want to pass in a path object, pandas accepts any ``os.PathLike``.\n",
      "\n",
      "    By file-like object, we refer to objects with a ``read()`` method, such as\n",
      "    a file handle (e.g. via builtin ``open`` function) or ``StringIO``.\n",
      "sep : str, default ','\n",
      "    Character or regex pattern to treat as the delimiter. If ``sep=None``, the\n",
      "    C engine cannot automatically detect\n",
      "    the separator, but the Python parsing engine can, meaning the latter will\n",
      "    be used and automatically detect the separator from only the first valid\n",
      "    row of the file by Python's builtin sniffer tool, ``csv.Sniffer``.\n",
      "    In addition, separators longer than 1 character and different from\n",
      "    ``'\\s+'`` will be interpreted as regular expressions and will also force\n",
      "    the use of the Python parsing engine. Note that regex delimiters are prone\n",
      "    to ignoring quoted data. Regex example: ``'\\r\\t'``.\n",
      "delimiter : str, optional\n",
      "    Alias for ``sep``.\n",
      "header : int, Sequence of int, 'infer' or None, default 'infer'\n",
      "    Row number(s) containing column labels and marking the start of the\n",
      "    data (zero-indexed). Default behavior is to infer the column names: if no ``names``\n",
      "    are passed the behavior is identical to ``header=0`` and column\n",
      "    names are inferred from the first line of the file, if column\n",
      "    names are passed explicitly to ``names`` then the behavior is identical to\n",
      "    ``header=None``. Explicitly pass ``header=0`` to be able to\n",
      "    replace existing names. The header can be a list of integers that\n",
      "    specify row locations for a :class:`~pandas.MultiIndex` on the columns\n",
      "    e.g. ``[0, 1, 3]``. Intervening rows that are not specified will be\n",
      "    skipped (e.g. 2 in this example is skipped). Note that this\n",
      "    parameter ignores commented lines and empty lines if\n",
      "    ``skip_blank_lines=True``, so ``header=0`` denotes the first line of\n",
      "    data rather than the first line of the file.\n",
      "names : Sequence of Hashable, optional\n",
      "    Sequence of column labels to apply. If the file contains a header row,\n",
      "    then you should explicitly pass ``header=0`` to override the column names.\n",
      "    Duplicates in this list are not allowed.\n",
      "index_col : Hashable, Sequence of Hashable or False, optional\n",
      "  Column(s) to use as row label(s), denoted either by column labels or column\n",
      "  indices.  If a sequence of labels or indices is given, :class:`~pandas.MultiIndex`\n",
      "  will be formed for the row labels.\n",
      "\n",
      "  Note: ``index_col=False`` can be used to force pandas to *not* use the first\n",
      "  column as the index, e.g., when you have a malformed file with delimiters at\n",
      "  the end of each line.\n",
      "usecols : Sequence of Hashable or Callable, optional\n",
      "    Subset of columns to select, denoted either by column labels or column indices.\n",
      "    If list-like, all elements must either\n",
      "    be positional (i.e. integer indices into the document columns) or strings\n",
      "    that correspond to column names provided either by the user in ``names`` or\n",
      "    inferred from the document header row(s). If ``names`` are given, the document\n",
      "    header row(s) are not taken into account. For example, a valid list-like\n",
      "    ``usecols`` parameter would be ``[0, 1, 2]`` or ``['foo', 'bar', 'baz']``.\n",
      "    Element order is ignored, so ``usecols=[0, 1]`` is the same as ``[1, 0]``.\n",
      "    To instantiate a :class:`~pandas.DataFrame` from ``data`` with element order\n",
      "    preserved use ``pd.read_csv(data, usecols=['foo', 'bar'])[['foo', 'bar']]``\n",
      "    for columns in ``['foo', 'bar']`` order or\n",
      "    ``pd.read_csv(data, usecols=['foo', 'bar'])[['bar', 'foo']]``\n",
      "    for ``['bar', 'foo']`` order.\n",
      "\n",
      "    If callable, the callable function will be evaluated against the column\n",
      "    names, returning names where the callable function evaluates to ``True``. An\n",
      "    example of a valid callable argument would be ``lambda x: x.upper() in\n",
      "    ['AAA', 'BBB', 'DDD']``. Using this parameter results in much faster\n",
      "    parsing time and lower memory usage.\n",
      "dtype : dtype or dict of {Hashable : dtype}, optional\n",
      "    Data type(s) to apply to either the whole dataset or individual columns.\n",
      "    E.g., ``{'a': np.float64, 'b': np.int32, 'c': 'Int64'}``\n",
      "    Use ``str`` or ``object`` together with suitable ``na_values`` settings\n",
      "    to preserve and not interpret ``dtype``.\n",
      "    If ``converters`` are specified, they will be applied INSTEAD\n",
      "    of ``dtype`` conversion.\n",
      "\n",
      "    .. versionadded:: 1.5.0\n",
      "\n",
      "        Support for ``defaultdict`` was added. Specify a ``defaultdict`` as input where\n",
      "        the default determines the ``dtype`` of the columns which are not explicitly\n",
      "        listed.\n",
      "engine : {'c', 'python', 'pyarrow'}, optional\n",
      "    Parser engine to use. The C and pyarrow engines are faster, while the python engine\n",
      "    is currently more feature-complete. Multithreading is currently only supported by\n",
      "    the pyarrow engine.\n",
      "\n",
      "    .. versionadded:: 1.4.0\n",
      "\n",
      "        The 'pyarrow' engine was added as an *experimental* engine, and some features\n",
      "        are unsupported, or may not work correctly, with this engine.\n",
      "converters : dict of {Hashable : Callable}, optional\n",
      "    Functions for converting values in specified columns. Keys can either\n",
      "    be column labels or column indices.\n",
      "true_values : list, optional\n",
      "    Values to consider as ``True`` in addition to case-insensitive variants of 'True'.\n",
      "false_values : list, optional\n",
      "    Values to consider as ``False`` in addition to case-insensitive variants of 'False'.\n",
      "skipinitialspace : bool, default False\n",
      "    Skip spaces after delimiter.\n",
      "skiprows : int, list of int or Callable, optional\n",
      "    Line numbers to skip (0-indexed) or number of lines to skip (``int``)\n",
      "    at the start of the file.\n",
      "\n",
      "    If callable, the callable function will be evaluated against the row\n",
      "    indices, returning ``True`` if the row should be skipped and ``False`` otherwise.\n",
      "    An example of a valid callable argument would be ``lambda x: x in [0, 2]``.\n",
      "skipfooter : int, default 0\n",
      "    Number of lines at bottom of file to skip (Unsupported with ``engine='c'``).\n",
      "nrows : int, optional\n",
      "    Number of rows of file to read. Useful for reading pieces of large files.\n",
      "na_values : Hashable, Iterable of Hashable or dict of {Hashable : Iterable}, optional\n",
      "    Additional strings to recognize as ``NA``/``NaN``. If ``dict`` passed, specific\n",
      "    per-column ``NA`` values.  By default the following values are interpreted as\n",
      "    ``NaN``: \" \", \"#N/A\", \"#N/A N/A\", \"#NA\", \"-1.#IND\", \"-1.#QNAN\", \"-NaN\", \"-nan\",\n",
      "    \"1.#IND\", \"1.#QNAN\", \"<NA>\", \"N/A\", \"NA\", \"NULL\", \"NaN\", \"None\",\n",
      "    \"n/a\", \"nan\", \"null \".\n",
      "\n",
      "keep_default_na : bool, default True\n",
      "    Whether or not to include the default ``NaN`` values when parsing the data.\n",
      "    Depending on whether ``na_values`` is passed in, the behavior is as follows:\n",
      "\n",
      "    * If ``keep_default_na`` is ``True``, and ``na_values`` are specified, ``na_values``\n",
      "      is appended to the default ``NaN`` values used for parsing.\n",
      "    * If ``keep_default_na`` is ``True``, and ``na_values`` are not specified, only\n",
      "      the default ``NaN`` values are used for parsing.\n",
      "    * If ``keep_default_na`` is ``False``, and ``na_values`` are specified, only\n",
      "      the ``NaN`` values specified ``na_values`` are used for parsing.\n",
      "    * If ``keep_default_na`` is ``False``, and ``na_values`` are not specified, no\n",
      "      strings will be parsed as ``NaN``.\n",
      "\n",
      "    Note that if ``na_filter`` is passed in as ``False``, the ``keep_default_na`` and\n",
      "    ``na_values`` parameters will be ignored.\n",
      "na_filter : bool, default True\n",
      "    Detect missing value markers (empty strings and the value of ``na_values``). In\n",
      "    data without any ``NA`` values, passing ``na_filter=False`` can improve the\n",
      "    performance of reading a large file.\n",
      "verbose : bool, default False\n",
      "    Indicate number of ``NA`` values placed in non-numeric columns.\n",
      "\n",
      "    .. deprecated:: 2.2.0\n",
      "skip_blank_lines : bool, default True\n",
      "    If ``True``, skip over blank lines rather than interpreting as ``NaN`` values.\n",
      "parse_dates : bool, list of Hashable, list of lists or dict of {Hashable : list}, default False\n",
      "    The behavior is as follows:\n",
      "\n",
      "    * ``bool``. If ``True`` -> try parsing the index. Note: Automatically set to\n",
      "      ``True`` if ``date_format`` or ``date_parser`` arguments have been passed.\n",
      "    * ``list`` of ``int`` or names. e.g. If ``[1, 2, 3]`` -> try parsing columns 1, 2, 3\n",
      "      each as a separate date column.\n",
      "    * ``list`` of ``list``. e.g.  If ``[[1, 3]]`` -> combine columns 1 and 3 and parse\n",
      "      as a single date column. Values are joined with a space before parsing.\n",
      "    * ``dict``, e.g. ``{'foo' : [1, 3]}`` -> parse columns 1, 3 as date and call\n",
      "      result 'foo'. Values are joined with a space before parsing.\n",
      "\n",
      "    If a column or index cannot be represented as an array of ``datetime``,\n",
      "    say because of an unparsable value or a mixture of timezones, the column\n",
      "    or index will be returned unaltered as an ``object`` data type. For\n",
      "    non-standard ``datetime`` parsing, use :func:`~pandas.to_datetime` after\n",
      "    :func:`~pandas.read_csv`.\n",
      "\n",
      "    Note: A fast-path exists for iso8601-formatted dates.\n",
      "infer_datetime_format : bool, default False\n",
      "    If ``True`` and ``parse_dates`` is enabled, pandas will attempt to infer the\n",
      "    format of the ``datetime`` strings in the columns, and if it can be inferred,\n",
      "    switch to a faster method of parsing them. In some cases this can increase\n",
      "    the parsing speed by 5-10x.\n",
      "\n",
      "    .. deprecated:: 2.0.0\n",
      "        A strict version of this argument is now the default, passing it has no effect.\n",
      "\n",
      "keep_date_col : bool, default False\n",
      "    If ``True`` and ``parse_dates`` specifies combining multiple columns then\n",
      "    keep the original columns.\n",
      "date_parser : Callable, optional\n",
      "    Function to use for converting a sequence of string columns to an array of\n",
      "    ``datetime`` instances. The default uses ``dateutil.parser.parser`` to do the\n",
      "    conversion. pandas will try to call ``date_parser`` in three different ways,\n",
      "    advancing to the next if an exception occurs: 1) Pass one or more arrays\n",
      "    (as defined by ``parse_dates``) as arguments; 2) concatenate (row-wise) the\n",
      "    string values from the columns defined by ``parse_dates`` into a single array\n",
      "    and pass that; and 3) call ``date_parser`` once for each row using one or\n",
      "    more strings (corresponding to the columns defined by ``parse_dates``) as\n",
      "    arguments.\n",
      "\n",
      "    .. deprecated:: 2.0.0\n",
      "       Use ``date_format`` instead, or read in as ``object`` and then apply\n",
      "       :func:`~pandas.to_datetime` as-needed.\n",
      "date_format : str or dict of column -> format, optional\n",
      "    Format to use for parsing dates when used in conjunction with ``parse_dates``.\n",
      "    The strftime to parse time, e.g. :const:`\"%d/%m/%Y\"`. See\n",
      "    `strftime documentation\n",
      "    <https://docs.python.org/3/library/datetime.html\n",
      "    #strftime-and-strptime-behavior>`_ for more information on choices, though\n",
      "    note that :const:`\"%f\"` will parse all the way up to nanoseconds.\n",
      "    You can also pass:\n",
      "\n",
      "    - \"ISO8601\", to parse any `ISO8601 <https://en.wikipedia.org/wiki/ISO_8601>`_\n",
      "        time string (not necessarily in exactly the same format);\n",
      "    - \"mixed\", to infer the format for each element individually. This is risky,\n",
      "        and you should probably use it along with `dayfirst`.\n",
      "\n",
      "    .. versionadded:: 2.0.0\n",
      "dayfirst : bool, default False\n",
      "    DD/MM format dates, international and European format.\n",
      "cache_dates : bool, default True\n",
      "    If ``True``, use a cache of unique, converted dates to apply the ``datetime``\n",
      "    conversion. May produce significant speed-up when parsing duplicate\n",
      "    date strings, especially ones with timezone offsets.\n",
      "\n",
      "iterator : bool, default False\n",
      "    Return ``TextFileReader`` object for iteration or getting chunks with\n",
      "    ``get_chunk()``.\n",
      "chunksize : int, optional\n",
      "    Number of lines to read from the file per chunk. Passing a value will cause the\n",
      "    function to return a ``TextFileReader`` object for iteration.\n",
      "    See the `IO Tools docs\n",
      "    <https://pandas.pydata.org/pandas-docs/stable/io.html#io-chunking>`_\n",
      "    for more information on ``iterator`` and ``chunksize``.\n",
      "\n",
      "compression : str or dict, default 'infer'\n",
      "    For on-the-fly decompression of on-disk data. If 'infer' and 'filepath_or_buffer' is\n",
      "    path-like, then detect compression from the following extensions: '.gz',\n",
      "    '.bz2', '.zip', '.xz', '.zst', '.tar', '.tar.gz', '.tar.xz' or '.tar.bz2'\n",
      "    (otherwise no compression).\n",
      "    If using 'zip' or 'tar', the ZIP file must contain only one data file to be read in.\n",
      "    Set to ``None`` for no decompression.\n",
      "    Can also be a dict with key ``'method'`` set\n",
      "    to one of {``'zip'``, ``'gzip'``, ``'bz2'``, ``'zstd'``, ``'xz'``, ``'tar'``} and\n",
      "    other key-value pairs are forwarded to\n",
      "    ``zipfile.ZipFile``, ``gzip.GzipFile``,\n",
      "    ``bz2.BZ2File``, ``zstandard.ZstdDecompressor``, ``lzma.LZMAFile`` or\n",
      "    ``tarfile.TarFile``, respectively.\n",
      "    As an example, the following could be passed for Zstandard decompression using a\n",
      "    custom compression dictionary:\n",
      "    ``compression={'method': 'zstd', 'dict_data': my_compression_dict}``.\n",
      "\n",
      "    .. versionadded:: 1.5.0\n",
      "        Added support for `.tar` files.\n",
      "\n",
      "    .. versionchanged:: 1.4.0 Zstandard support.\n",
      "\n",
      "thousands : str (length 1), optional\n",
      "    Character acting as the thousands separator in numerical values.\n",
      "decimal : str (length 1), default '.'\n",
      "    Character to recognize as decimal point (e.g., use ',' for European data).\n",
      "lineterminator : str (length 1), optional\n",
      "    Character used to denote a line break. Only valid with C parser.\n",
      "quotechar : str (length 1), optional\n",
      "    Character used to denote the start and end of a quoted item. Quoted\n",
      "    items can include the ``delimiter`` and it will be ignored.\n",
      "quoting : {0 or csv.QUOTE_MINIMAL, 1 or csv.QUOTE_ALL, 2 or csv.QUOTE_NONNUMERIC, 3 or csv.QUOTE_NONE}, default csv.QUOTE_MINIMAL\n",
      "    Control field quoting behavior per ``csv.QUOTE_*`` constants. Default is\n",
      "    ``csv.QUOTE_MINIMAL`` (i.e., 0) which implies that only fields containing special\n",
      "    characters are quoted (e.g., characters defined in ``quotechar``, ``delimiter``,\n",
      "    or ``lineterminator``.\n",
      "doublequote : bool, default True\n",
      "   When ``quotechar`` is specified and ``quoting`` is not ``QUOTE_NONE``, indicate\n",
      "   whether or not to interpret two consecutive ``quotechar`` elements INSIDE a\n",
      "   field as a single ``quotechar`` element.\n",
      "escapechar : str (length 1), optional\n",
      "    Character used to escape other characters.\n",
      "comment : str (length 1), optional\n",
      "    Character indicating that the remainder of line should not be parsed.\n",
      "    If found at the beginning\n",
      "    of a line, the line will be ignored altogether. This parameter must be a\n",
      "    single character. Like empty lines (as long as ``skip_blank_lines=True``),\n",
      "    fully commented lines are ignored by the parameter ``header`` but not by\n",
      "    ``skiprows``. For example, if ``comment='#'``, parsing\n",
      "    ``#empty\\na,b,c\\n1,2,3`` with ``header=0`` will result in ``'a,b,c'`` being\n",
      "    treated as the header.\n",
      "encoding : str, optional, default 'utf-8'\n",
      "    Encoding to use for UTF when reading/writing (ex. ``'utf-8'``). `List of Python\n",
      "    standard encodings\n",
      "    <https://docs.python.org/3/library/codecs.html#standard-encodings>`_ .\n",
      "\n",
      "encoding_errors : str, optional, default 'strict'\n",
      "    How encoding errors are treated. `List of possible values\n",
      "    <https://docs.python.org/3/library/codecs.html#error-handlers>`_ .\n",
      "\n",
      "    .. versionadded:: 1.3.0\n",
      "\n",
      "dialect : str or csv.Dialect, optional\n",
      "    If provided, this parameter will override values (default or not) for the\n",
      "    following parameters: ``delimiter``, ``doublequote``, ``escapechar``,\n",
      "    ``skipinitialspace``, ``quotechar``, and ``quoting``. If it is necessary to\n",
      "    override values, a ``ParserWarning`` will be issued. See ``csv.Dialect``\n",
      "    documentation for more details.\n",
      "on_bad_lines : {'error', 'warn', 'skip'} or Callable, default 'error'\n",
      "    Specifies what to do upon encountering a bad line (a line with too many fields).\n",
      "    Allowed values are :\n",
      "\n",
      "    - ``'error'``, raise an Exception when a bad line is encountered.\n",
      "    - ``'warn'``, raise a warning when a bad line is encountered and skip that line.\n",
      "    - ``'skip'``, skip bad lines without raising or warning when they are encountered.\n",
      "\n",
      "    .. versionadded:: 1.3.0\n",
      "\n",
      "    .. versionadded:: 1.4.0\n",
      "\n",
      "        - Callable, function with signature\n",
      "          ``(bad_line: list[str]) -> list[str] | None`` that will process a single\n",
      "          bad line. ``bad_line`` is a list of strings split by the ``sep``.\n",
      "          If the function returns ``None``, the bad line will be ignored.\n",
      "          If the function returns a new ``list`` of strings with more elements than\n",
      "          expected, a ``ParserWarning`` will be emitted while dropping extra elements.\n",
      "          Only supported when ``engine='python'``\n",
      "\n",
      "    .. versionchanged:: 2.2.0\n",
      "\n",
      "        - Callable, function with signature\n",
      "          as described in `pyarrow documentation\n",
      "          <https://arrow.apache.org/docs/python/generated/pyarrow.csv.ParseOptions.html\n",
      "          #pyarrow.csv.ParseOptions.invalid_row_handler>`_ when ``engine='pyarrow'``\n",
      "\n",
      "delim_whitespace : bool, default False\n",
      "    Specifies whether or not whitespace (e.g. ``' '`` or ``'\\t'``) will be\n",
      "    used as the ``sep`` delimiter. Equivalent to setting ``sep='\\s+'``. If this option\n",
      "    is set to ``True``, nothing should be passed in for the ``delimiter``\n",
      "    parameter.\n",
      "\n",
      "    .. deprecated:: 2.2.0\n",
      "        Use ``sep=\"\\s+\"`` instead.\n",
      "low_memory : bool, default True\n",
      "    Internally process the file in chunks, resulting in lower memory use\n",
      "    while parsing, but possibly mixed type inference.  To ensure no mixed\n",
      "    types either set ``False``, or specify the type with the ``dtype`` parameter.\n",
      "    Note that the entire file is read into a single :class:`~pandas.DataFrame`\n",
      "    regardless, use the ``chunksize`` or ``iterator`` parameter to return the data in\n",
      "    chunks. (Only valid with C parser).\n",
      "memory_map : bool, default False\n",
      "    If a filepath is provided for ``filepath_or_buffer``, map the file object\n",
      "    directly onto memory and access the data directly from there. Using this\n",
      "    option can improve performance because there is no longer any I/O overhead.\n",
      "float_precision : {'high', 'legacy', 'round_trip'}, optional\n",
      "    Specifies which converter the C engine should use for floating-point\n",
      "    values. The options are ``None`` or ``'high'`` for the ordinary converter,\n",
      "    ``'legacy'`` for the original lower precision pandas converter, and\n",
      "    ``'round_trip'`` for the round-trip converter.\n",
      "\n",
      "storage_options : dict, optional\n",
      "    Extra options that make sense for a particular storage connection, e.g.\n",
      "    host, port, username, password, etc. For HTTP(S) URLs the key-value pairs\n",
      "    are forwarded to ``urllib.request.Request`` as header options. For other\n",
      "    URLs (e.g. starting with \"s3://\", and \"gcs://\") the key-value pairs are\n",
      "    forwarded to ``fsspec.open``. Please see ``fsspec`` and ``urllib`` for more\n",
      "    details, and for more examples on storage options refer `here\n",
      "    <https://pandas.pydata.org/docs/user_guide/io.html?\n",
      "    highlight=storage_options#reading-writing-remote-files>`_.\n",
      "\n",
      "dtype_backend : {'numpy_nullable', 'pyarrow'}, default 'numpy_nullable'\n",
      "    Back-end data type applied to the resultant :class:`DataFrame`\n",
      "    (still experimental). Behaviour is as follows:\n",
      "\n",
      "    * ``\"numpy_nullable\"``: returns nullable-dtype-backed :class:`DataFrame`\n",
      "      (default).\n",
      "    * ``\"pyarrow\"``: returns pyarrow-backed nullable :class:`ArrowDtype`\n",
      "      DataFrame.\n",
      "\n",
      "    .. versionadded:: 2.0\n",
      "\n",
      "Returns\n",
      "-------\n",
      "DataFrame or TextFileReader\n",
      "    A comma-separated values (csv) file is returned as two-dimensional\n",
      "    data structure with labeled axes.\n",
      "\n",
      "See Also\n",
      "--------\n",
      "DataFrame.to_csv : Write DataFrame to a comma-separated values (csv) file.\n",
      "read_table : Read general delimited file into DataFrame.\n",
      "read_fwf : Read a table of fixed-width formatted lines into DataFrame.\n",
      "\n",
      "Examples\n",
      "--------\n",
      ">>> pd.read_csv('data.csv')  # doctest: +SKIP\n",
      "\u001b[31mFile:\u001b[39m      ~/.pyenv/versions/3.12.5/lib/python3.12/site-packages/pandas/io/parsers/readers.py\n",
      "\u001b[31mType:\u001b[39m      function"
     ]
    }
   ],
   "source": [
    "pd.read_csv?"
   ]
  },
  {
   "cell_type": "markdown",
   "id": "conscious-agent",
   "metadata": {},
   "source": [
    "<br>\n",
    "\n",
    "Načteš jméno souboru se specifickou příponou `csv`:"
   ]
  },
  {
   "cell_type": "code",
   "execution_count": 125,
   "id": "radio-miracle",
   "metadata": {
    "tags": []
   },
   "outputs": [],
   "source": [
    "zamestnanci_df = pd.read_csv('../onsite/customers_inp.csv')"
   ]
  },
  {
   "cell_type": "markdown",
   "id": "biblical-average",
   "metadata": {},
   "source": [
    "<br>\n",
    "\n",
    "Prozkoumej samotný soubor:"
   ]
  },
  {
   "cell_type": "code",
   "execution_count": 123,
   "id": "noble-accountability",
   "metadata": {
    "tags": []
   },
   "outputs": [
    {
     "name": "stdout",
     "output_type": "stream",
     "text": [
      "customer_id;first_name;last_name;phone;email\n",
      "11;Matous;Holinka;`+420777666555;matous@matousholinka.com\n",
      "12;Marek;Parek;`+420777434111;marek.parek@gmail.com\n",
      "13;Petr;Svetr;`+420777333111;petr@svetr.com\n",
      "14;Alice;Svobodova;`+420777200300;svobodova.a@email.cz\n",
      "15;Tereza;Novakova;`+420777608080;novakova_terka@seznam.cz\n"
     ]
    }
   ],
   "source": [
    "!cat ../onsite/customers_inp.csv"
   ]
  },
  {
   "cell_type": "markdown",
   "id": "welsh-elements",
   "metadata": {},
   "source": [
    "<br>\n",
    "\n",
    "Nyní se podívej jak vypadá nově vytvořený `DataFrame`:"
   ]
  },
  {
   "cell_type": "code",
   "execution_count": 126,
   "id": "painted-belle",
   "metadata": {
    "tags": []
   },
   "outputs": [
    {
     "data": {
      "text/plain": [
       "pandas.core.frame.DataFrame"
      ]
     },
     "execution_count": 126,
     "metadata": {},
     "output_type": "execute_result"
    }
   ],
   "source": [
    "type(zamestnanci_df)"
   ]
  },
  {
   "cell_type": "code",
   "execution_count": 127,
   "id": "436c450f-3eeb-47ce-be33-1eb48d012149",
   "metadata": {
    "tags": []
   },
   "outputs": [
    {
     "data": {
      "text/html": [
       "<div>\n",
       "<style scoped>\n",
       "    .dataframe tbody tr th:only-of-type {\n",
       "        vertical-align: middle;\n",
       "    }\n",
       "\n",
       "    .dataframe tbody tr th {\n",
       "        vertical-align: top;\n",
       "    }\n",
       "\n",
       "    .dataframe thead th {\n",
       "        text-align: right;\n",
       "    }\n",
       "</style>\n",
       "<table border=\"1\" class=\"dataframe\">\n",
       "  <thead>\n",
       "    <tr style=\"text-align: right;\">\n",
       "      <th></th>\n",
       "      <th>customer_id;first_name;last_name;phone;email</th>\n",
       "    </tr>\n",
       "  </thead>\n",
       "  <tbody>\n",
       "    <tr>\n",
       "      <th>0</th>\n",
       "      <td>11;Matous;Holinka;`+420777666555;matous@matous...</td>\n",
       "    </tr>\n",
       "    <tr>\n",
       "      <th>1</th>\n",
       "      <td>12;Marek;Parek;`+420777434111;marek.parek@gmai...</td>\n",
       "    </tr>\n",
       "    <tr>\n",
       "      <th>2</th>\n",
       "      <td>13;Petr;Svetr;`+420777333111;petr@svetr.com</td>\n",
       "    </tr>\n",
       "    <tr>\n",
       "      <th>3</th>\n",
       "      <td>14;Alice;Svobodova;`+420777200300;svobodova.a@...</td>\n",
       "    </tr>\n",
       "    <tr>\n",
       "      <th>4</th>\n",
       "      <td>15;Tereza;Novakova;`+420777608080;novakova_ter...</td>\n",
       "    </tr>\n",
       "  </tbody>\n",
       "</table>\n",
       "</div>"
      ],
      "text/plain": [
       "        customer_id;first_name;last_name;phone;email\n",
       "0  11;Matous;Holinka;`+420777666555;matous@matous...\n",
       "1  12;Marek;Parek;`+420777434111;marek.parek@gmai...\n",
       "2        13;Petr;Svetr;`+420777333111;petr@svetr.com\n",
       "3  14;Alice;Svobodova;`+420777200300;svobodova.a@...\n",
       "4  15;Tereza;Novakova;`+420777608080;novakova_ter..."
      ]
     },
     "execution_count": 127,
     "metadata": {},
     "output_type": "execute_result"
    }
   ],
   "source": [
    "zamestnanci_df"
   ]
  },
  {
   "cell_type": "markdown",
   "id": "powerful-villa",
   "metadata": {},
   "source": [
    "Je potřeba pohlídat si (není řazené podle priorit):\n",
    "* indexy,\n",
    "* záhlaví,\n",
    "* strukturu jednotlivých `Series`,\n",
    "* datové typy."
   ]
  },
  {
   "cell_type": "markdown",
   "id": "becoming-multimedia",
   "metadata": {},
   "source": [
    "<br>\n",
    "\n",
    "Pokud nesedí **defaultní oddělovač** (*sep* nebo *delimiter*):"
   ]
  },
  {
   "cell_type": "code",
   "execution_count": 135,
   "id": "breathing-navigation",
   "metadata": {
    "tags": []
   },
   "outputs": [
    {
     "name": "stdout",
     "output_type": "stream",
     "text": [
      "customer_id;first_name;last_name;phone;email\n",
      "11;Matous;Holinka;+420777666555;matous@matousholinka.com\n",
      "12;Marek;Parek;+420777434111;marek.parek@gmail.com\n",
      "13;Petr;Svetr;+420777333111;petr@svetr.com\n",
      "14;Alice;Svobodova;+420777200300;svobodova.a@email.cz\n",
      "15;Tereza;Novakova;+420777608080;novakova_terka@seznam.cz\n"
     ]
    }
   ],
   "source": [
    "!cat ../onsite/customers_inp.csv"
   ]
  },
  {
   "cell_type": "code",
   "execution_count": 136,
   "id": "regular-suicide",
   "metadata": {
    "tags": []
   },
   "outputs": [],
   "source": [
    "zamestnanci_strednik_df = pd.read_csv('../onsite/customers_inp.csv', sep=';')"
   ]
  },
  {
   "cell_type": "code",
   "execution_count": 137,
   "id": "casual-young",
   "metadata": {
    "tags": []
   },
   "outputs": [
    {
     "data": {
      "text/html": [
       "<div>\n",
       "<style scoped>\n",
       "    .dataframe tbody tr th:only-of-type {\n",
       "        vertical-align: middle;\n",
       "    }\n",
       "\n",
       "    .dataframe tbody tr th {\n",
       "        vertical-align: top;\n",
       "    }\n",
       "\n",
       "    .dataframe thead th {\n",
       "        text-align: right;\n",
       "    }\n",
       "</style>\n",
       "<table border=\"1\" class=\"dataframe\">\n",
       "  <thead>\n",
       "    <tr style=\"text-align: right;\">\n",
       "      <th></th>\n",
       "      <th>customer_id</th>\n",
       "      <th>first_name</th>\n",
       "      <th>last_name</th>\n",
       "      <th>phone</th>\n",
       "      <th>email</th>\n",
       "    </tr>\n",
       "  </thead>\n",
       "  <tbody>\n",
       "    <tr>\n",
       "      <th>0</th>\n",
       "      <td>11</td>\n",
       "      <td>Matous</td>\n",
       "      <td>Holinka</td>\n",
       "      <td>420777666555</td>\n",
       "      <td>matous@matousholinka.com</td>\n",
       "    </tr>\n",
       "    <tr>\n",
       "      <th>1</th>\n",
       "      <td>12</td>\n",
       "      <td>Marek</td>\n",
       "      <td>Parek</td>\n",
       "      <td>420777434111</td>\n",
       "      <td>marek.parek@gmail.com</td>\n",
       "    </tr>\n",
       "    <tr>\n",
       "      <th>2</th>\n",
       "      <td>13</td>\n",
       "      <td>Petr</td>\n",
       "      <td>Svetr</td>\n",
       "      <td>420777333111</td>\n",
       "      <td>petr@svetr.com</td>\n",
       "    </tr>\n",
       "    <tr>\n",
       "      <th>3</th>\n",
       "      <td>14</td>\n",
       "      <td>Alice</td>\n",
       "      <td>Svobodova</td>\n",
       "      <td>420777200300</td>\n",
       "      <td>svobodova.a@email.cz</td>\n",
       "    </tr>\n",
       "    <tr>\n",
       "      <th>4</th>\n",
       "      <td>15</td>\n",
       "      <td>Tereza</td>\n",
       "      <td>Novakova</td>\n",
       "      <td>420777608080</td>\n",
       "      <td>novakova_terka@seznam.cz</td>\n",
       "    </tr>\n",
       "  </tbody>\n",
       "</table>\n",
       "</div>"
      ],
      "text/plain": [
       "   customer_id first_name  last_name         phone                     email\n",
       "0           11     Matous    Holinka  420777666555  matous@matousholinka.com\n",
       "1           12      Marek      Parek  420777434111     marek.parek@gmail.com\n",
       "2           13       Petr      Svetr  420777333111            petr@svetr.com\n",
       "3           14      Alice  Svobodova  420777200300      svobodova.a@email.cz\n",
       "4           15     Tereza   Novakova  420777608080  novakova_terka@seznam.cz"
      ]
     },
     "execution_count": 137,
     "metadata": {},
     "output_type": "execute_result"
    }
   ],
   "source": [
    "zamestnanci_strednik_df"
   ]
  },
  {
   "cell_type": "markdown",
   "id": "suffering-permission",
   "metadata": {},
   "source": [
    "<br>\n",
    "\n",
    "Můžeš zadat jiný než *defaultní* oddělovač:"
   ]
  },
  {
   "cell_type": "code",
   "execution_count": 138,
   "id": "joined-christian",
   "metadata": {
    "tags": []
   },
   "outputs": [
    {
     "data": {
      "text/plain": [
       "0    420777666555\n",
       "1    420777434111\n",
       "2    420777333111\n",
       "3    420777200300\n",
       "4    420777608080\n",
       "Name: phone, dtype: int64"
      ]
     },
     "execution_count": 138,
     "metadata": {},
     "output_type": "execute_result"
    }
   ],
   "source": [
    "zamestnanci_strednik_df['phone']"
   ]
  },
  {
   "cell_type": "markdown",
   "id": "defensive-characteristic",
   "metadata": {},
   "source": [
    "**Nevhodné datové typy** je také možné řešit při nové inicializaci `DataFrame`:"
   ]
  },
  {
   "cell_type": "code",
   "execution_count": 139,
   "id": "knowing-interpretation",
   "metadata": {
    "tags": []
   },
   "outputs": [
    {
     "data": {
      "text/plain": [
       "customer_id     int64\n",
       "first_name     object\n",
       "last_name      object\n",
       "phone           int64\n",
       "email          object\n",
       "dtype: object"
      ]
     },
     "execution_count": 139,
     "metadata": {},
     "output_type": "execute_result"
    }
   ],
   "source": [
    "zamestnanci_strednik_df.dtypes"
   ]
  },
  {
   "cell_type": "markdown",
   "id": "computational-density",
   "metadata": {},
   "source": [
    "Pokud potřebuješ *vynutit* konverzi datového typu:"
   ]
  },
  {
   "cell_type": "code",
   "execution_count": 140,
   "id": "peripheral-aurora",
   "metadata": {
    "tags": []
   },
   "outputs": [],
   "source": [
    "zamestnanci_bez_cisel_df = pd.read_csv(\n",
    "    '../onsite/customers_inp.csv',\n",
    "    sep=\";\",\n",
    "    dtype={\n",
    "        \"customer_id\": str,\n",
    "        # \"first_name\": str,\n",
    "        # \"last_name\": str,\n",
    "        # \"phone\": str,\n",
    "        # \"email\": str\n",
    "    }\n",
    ")"
   ]
  },
  {
   "cell_type": "code",
   "execution_count": 141,
   "id": "exciting-advisory",
   "metadata": {
    "tags": []
   },
   "outputs": [
    {
     "data": {
      "text/plain": [
       "customer_id    object\n",
       "first_name     object\n",
       "last_name      object\n",
       "phone           int64\n",
       "email          object\n",
       "dtype: object"
      ]
     },
     "execution_count": 141,
     "metadata": {},
     "output_type": "execute_result"
    }
   ],
   "source": [
    "zamestnanci_bez_cisel_df.dtypes"
   ]
  },
  {
   "cell_type": "markdown",
   "id": "caroline-injury",
   "metadata": {},
   "source": [
    "<br>\n",
    "\n",
    "### Načti tabulku `html`\n",
    "\n",
    "---"
   ]
  },
  {
   "cell_type": "markdown",
   "id": "modular-cruise",
   "metadata": {},
   "source": [
    "Funkce `read_html` často zastává některé kroky *web scrapování*.\n",
    "\n",
    "Přesto je jejím učelem \"pouze\" extrahování dat v HTML `<table></table>` elementech.\n",
    "\n",
    "Ukázka [zdroj](https://simple.wikipedia.org/wiki/List_of_U.S._states)."
   ]
  },
  {
   "cell_type": "code",
   "execution_count": 145,
   "id": "b6ab5918-38a7-4348-8410-3484a12a81a0",
   "metadata": {
    "tags": []
   },
   "outputs": [
    {
     "name": "stdout",
     "output_type": "stream",
     "text": [
      "  Flag, name and postal abbreviation [1]  \\\n",
      "  Flag, name and postal abbreviation [1]   \n",
      "0                                Alabama   \n",
      "1                                 Alaska   \n",
      "2                                Arizona   \n",
      "3                               Arkansas   \n",
      "4                             California   \n",
      "5                               Colorado   \n",
      "6                            Connecticut   \n",
      "7                               Delaware   \n",
      "8                                Florida   \n",
      "9                                Georgia   \n",
      "\n",
      "                                                 Cities  \\\n",
      "  Flag, name and postal abbreviation [1].1      Capital   \n",
      "0                                       AL   Montgomery   \n",
      "1                                       AK       Juneau   \n",
      "2                                       AZ      Phoenix   \n",
      "3                                       AR  Little Rock   \n",
      "4                                       CA   Sacramento   \n",
      "5                                       CO       Denver   \n",
      "6                                       CT     Hartford   \n",
      "7                                       DE        Dover   \n",
      "8                                       FL  Tallahassee   \n",
      "9                                       GA      Atlanta   \n",
      "\n",
      "                             Established[A] Population [3] Total area[4]  \\\n",
      "  Largest (by population)[5] Established[A] Population [3]           mi2   \n",
      "0                 Huntsville   Dec 14, 1819        5024279         52420   \n",
      "1                  Anchorage    Jan 3, 1959         733391        665384   \n",
      "2                    Phoenix   Feb 14, 1912        7151502        113990   \n",
      "3                Little Rock   Jun 15, 1836        3011524         53179   \n",
      "4                Los Angeles    Sep 9, 1850       39538223        163695   \n",
      "5                     Denver    Aug 1, 1876        5773714        104094   \n",
      "6                 Bridgeport    Jan 9, 1788        3605944          5543   \n",
      "7                 Wilmington    Dec 7, 1787         989948          2489   \n",
      "8               Jacksonville    Mar 3, 1845       21538187         65758   \n",
      "9                    Atlanta    Jan 2, 1788       10711908         59425   \n",
      "\n",
      "           Land area[4]          Water area[4]         Number of Reps.  \n",
      "       km2          mi2      km2           mi2     km2 Number of Reps.  \n",
      "0   135767        50645   131171          1775    4597               7  \n",
      "1  1723337       570641  1477953         94743  245384               1  \n",
      "2   295234       113594   294207           396    1026               9  \n",
      "3   137732        52035   134771          1143    2961               4  \n",
      "4   423967       155779   403466          7916   20501              52  \n",
      "5   269601       103642   268431           452    1170               8  \n",
      "6    14357         4842    12542           701    1816               5  \n",
      "7     6446         1949     5047           540    1399               1  \n",
      "8   170312        53625   138887         12133   31424              28  \n",
      "9   153910        57513   148959          1912    4951              14  \n"
     ]
    }
   ],
   "source": [
    "%run ../../shared/onsite/demo_read_html.py"
   ]
  },
  {
   "cell_type": "markdown",
   "id": "c5f92eac-275b-4322-88e1-e51b75ffcd00",
   "metadata": {},
   "source": [
    "<br>\n",
    "\n",
    "**🧠 CVIČENÍ 🧠, načti vlastní CSV soubor**."
   ]
  },
  {
   "cell_type": "code",
   "execution_count": null,
   "id": "f66400e3-fa70-4e1d-a85d-19e2898428ab",
   "metadata": {},
   "outputs": [],
   "source": [
    "# Zápis\n",
    "cesta_k_souboru: str = '../onsite/games.csv'"
   ]
  },
  {
   "cell_type": "code",
   "execution_count": null,
   "id": "483cc08d-e30e-443a-81a9-156b99dd92df",
   "metadata": {},
   "outputs": [],
   "source": [
    "from pandas import read_csv"
   ]
  },
  {
   "cell_type": "code",
   "execution_count": null,
   "id": "885e6fb8-dd91-482d-a8a1-0c7679d06312",
   "metadata": {},
   "outputs": [],
   "source": [
    "from pathlib import Path\n",
    "\n",
    "if not Path(cesta_k_souboru).exists():\n",
    "    print('Chybi soubor pro zpracovani')\n",
    "\n",
    "hry_df = read_csv(cesta_k_souboru)"
   ]
  },
  {
   "cell_type": "code",
   "execution_count": null,
   "id": "bb150e22-06a7-46b0-908d-926cb03bd41e",
   "metadata": {},
   "outputs": [],
   "source": [
    "hry_df.head(2)"
   ]
  },
  {
   "cell_type": "markdown",
   "id": "b084021f-0211-47a7-9a84-9d8aa55e3d7b",
   "metadata": {},
   "source": [
    "<details>\n",
    "    <summary>▶️ Řešení</summary>\n",
    "    \n",
    "```python\n",
    "import pandas as pd\n",
    "\n",
    "muj_csv_soubor = 'toto/je/relativni/cesta.csv'\n",
    "\n",
    "testovaci_data = pd.read_csv(muj_csv_soubor)\n",
    "```\n",
    "</details>"
   ]
  },
  {
   "cell_type": "markdown",
   "id": "3a60a706-ba3b-45d2-929d-a0a35083fba8",
   "metadata": {},
   "source": [
    "<br>\n",
    "\n",
    "### Souhrn kapitoly\n",
    "\n",
    "---\n",
    "\n",
    "Typický postup, pro práci s pandami, je identifikovat a správně načíst datový zdroj."
   ]
  },
  {
   "cell_type": "markdown",
   "id": "0ec86de5-e896-4c34-9e25-907c72a02bde",
   "metadata": {},
   "source": [
    "\n",
    "<img src=\"https://external-content.duckduckgo.com/iu/?u=https%3A%2F%2Ftse3.mm.bing.net%2Fth%3Fid%3DOIP.ACSOiM-U0Q1dA-4JLXwShAHaHx%26pid%3DApi&f=1&ipt=6d4afed7c3560452103fe53af2bd94638c28007aa3141700570a84c7fab7263a&ipo=images\" width=\"200\" style=\"margin-left:auto; margin-right:auto\"/>\n",
    "\n"
   ]
  },
  {
   "cell_type": "markdown",
   "id": "hundred-martin",
   "metadata": {},
   "source": [
    "<br>\n",
    "\n",
    "## Prozkoumávání dat\n",
    "\n",
    "---"
   ]
  },
  {
   "cell_type": "markdown",
   "id": "proved-freeware",
   "metadata": {},
   "source": [
    "Jakmile máš data správně načtená a přetypovaná, můžeš s nimi začít pracovat.\n",
    "\n",
    "Než se do toho vrhneš, není špatné, umět je prohlížet.\n",
    "\n",
    "<br>"
   ]
  },
  {
   "cell_type": "markdown",
   "id": "internal-basis",
   "metadata": {},
   "source": [
    "### Selekce u sloupečků\n",
    "\n",
    "---"
   ]
  },
  {
   "cell_type": "markdown",
   "id": "treated-cameroon",
   "metadata": {},
   "source": [
    "Kvůli jasnosti a přehlednosti je obecně výhodnější a doporučováné, pracovat s atributy `loc` a `iloc`."
   ]
  },
  {
   "cell_type": "code",
   "execution_count": 146,
   "id": "68e1a32b-466a-4ba2-b9dc-98c6c51a7f51",
   "metadata": {
    "tags": []
   },
   "outputs": [
    {
     "data": {
      "text/plain": [
       "1    Matous\n",
       "2     Marek\n",
       "dtype: object"
      ]
     },
     "execution_count": 146,
     "metadata": {},
     "output_type": "execute_result"
    }
   ],
   "source": [
    "jmena_sl.loc[:2]"
   ]
  },
  {
   "cell_type": "markdown",
   "id": "nuclear-astronomy",
   "metadata": {},
   "source": [
    "<br>\n",
    "\n",
    "### Selekce u tabelárních hodnot\n",
    "\n",
    "---\n",
    "\n",
    "Jelikož je `DataFrame` složený ze sloupečků, můžeš aplikovat některé postupy z uplynulé teorie.\n",
    "\n",
    "* **slovníkový klíč**,\n",
    "* **atributový přístup**,\n",
    "* **slovníkový náhled**,\n",
    "* `loc`, `iloc`, `ix`, `T`."
   ]
  },
  {
   "cell_type": "code",
   "execution_count": 147,
   "id": "executed-tucson",
   "metadata": {
    "tags": []
   },
   "outputs": [],
   "source": [
    "from pandas import DataFrame"
   ]
  },
  {
   "cell_type": "code",
   "execution_count": 148,
   "id": "authorized-utility",
   "metadata": {
    "tags": []
   },
   "outputs": [],
   "source": [
    "populace_evropa = {\n",
    "    'Dansko': 5_655_750,\n",
    "    'Ceska_republika': 10_513_209,\n",
    "    'Nemecko': 80_716_000,\n",
    "    'Polsko': 38_483_957,\n",
    "    'Slovensko': 5_415_949,\n",
    "    'Rakousko': 8_932_664\n",
    "}"
   ]
  },
  {
   "cell_type": "code",
   "execution_count": 149,
   "id": "proprietary-flower",
   "metadata": {
    "tags": []
   },
   "outputs": [],
   "source": [
    "rozloha_evropa = {\n",
    "    'Dansko': 42_916,\n",
    "    'Ceska_republika': 78_870,\n",
    "    'Nemecko': 357_168,\n",
    "    'Polsko': 312_679,\n",
    "    'Slovensko': 49_035,\n",
    "    'Rakousko': 83_878\n",
    "}"
   ]
  },
  {
   "cell_type": "code",
   "execution_count": 150,
   "id": "bizarre-region",
   "metadata": {
    "tags": []
   },
   "outputs": [],
   "source": [
    "zeme_evropa_df = DataFrame({\"populace\": populace_evropa, \"rozloha\": rozloha_evropa})"
   ]
  },
  {
   "cell_type": "code",
   "execution_count": 151,
   "id": "perceived-testament",
   "metadata": {
    "tags": []
   },
   "outputs": [
    {
     "data": {
      "text/html": [
       "<div>\n",
       "<style scoped>\n",
       "    .dataframe tbody tr th:only-of-type {\n",
       "        vertical-align: middle;\n",
       "    }\n",
       "\n",
       "    .dataframe tbody tr th {\n",
       "        vertical-align: top;\n",
       "    }\n",
       "\n",
       "    .dataframe thead th {\n",
       "        text-align: right;\n",
       "    }\n",
       "</style>\n",
       "<table border=\"1\" class=\"dataframe\">\n",
       "  <thead>\n",
       "    <tr style=\"text-align: right;\">\n",
       "      <th></th>\n",
       "      <th>populace</th>\n",
       "      <th>rozloha</th>\n",
       "    </tr>\n",
       "  </thead>\n",
       "  <tbody>\n",
       "    <tr>\n",
       "      <th>Dansko</th>\n",
       "      <td>5655750</td>\n",
       "      <td>42916</td>\n",
       "    </tr>\n",
       "    <tr>\n",
       "      <th>Ceska_republika</th>\n",
       "      <td>10513209</td>\n",
       "      <td>78870</td>\n",
       "    </tr>\n",
       "    <tr>\n",
       "      <th>Nemecko</th>\n",
       "      <td>80716000</td>\n",
       "      <td>357168</td>\n",
       "    </tr>\n",
       "    <tr>\n",
       "      <th>Polsko</th>\n",
       "      <td>38483957</td>\n",
       "      <td>312679</td>\n",
       "    </tr>\n",
       "    <tr>\n",
       "      <th>Slovensko</th>\n",
       "      <td>5415949</td>\n",
       "      <td>49035</td>\n",
       "    </tr>\n",
       "    <tr>\n",
       "      <th>Rakousko</th>\n",
       "      <td>8932664</td>\n",
       "      <td>83878</td>\n",
       "    </tr>\n",
       "  </tbody>\n",
       "</table>\n",
       "</div>"
      ],
      "text/plain": [
       "                 populace  rozloha\n",
       "Dansko            5655750    42916\n",
       "Ceska_republika  10513209    78870\n",
       "Nemecko          80716000   357168\n",
       "Polsko           38483957   312679\n",
       "Slovensko         5415949    49035\n",
       "Rakousko          8932664    83878"
      ]
     },
     "execution_count": 151,
     "metadata": {},
     "output_type": "execute_result"
    }
   ],
   "source": [
    "zeme_evropa_df"
   ]
  },
  {
   "cell_type": "markdown",
   "id": "usual-celtic",
   "metadata": {},
   "source": [
    "<br>\n",
    "\n",
    "#### Přístup pomocí klíčů\n",
    "\n",
    "---"
   ]
  },
  {
   "cell_type": "code",
   "execution_count": 152,
   "id": "dried-seller",
   "metadata": {
    "tags": []
   },
   "outputs": [
    {
     "data": {
      "text/plain": [
       "Dansko              5655750\n",
       "Ceska_republika    10513209\n",
       "Nemecko            80716000\n",
       "Polsko             38483957\n",
       "Slovensko           5415949\n",
       "Rakousko            8932664\n",
       "Name: populace, dtype: int64"
      ]
     },
     "execution_count": 152,
     "metadata": {},
     "output_type": "execute_result"
    }
   ],
   "source": [
    "zeme_evropa_df[\"populace\"]"
   ]
  },
  {
   "cell_type": "code",
   "execution_count": 153,
   "id": "quick-maine",
   "metadata": {
    "tags": []
   },
   "outputs": [
    {
     "data": {
      "text/plain": [
       "Dansko              42916\n",
       "Ceska_republika     78870\n",
       "Nemecko            357168\n",
       "Polsko             312679\n",
       "Slovensko           49035\n",
       "Rakousko            83878\n",
       "Name: rozloha, dtype: int64"
      ]
     },
     "execution_count": 153,
     "metadata": {},
     "output_type": "execute_result"
    }
   ],
   "source": [
    "zeme_evropa_df[\"rozloha\"]"
   ]
  },
  {
   "cell_type": "markdown",
   "id": "applicable-baltimore",
   "metadata": {},
   "source": [
    "<br>\n",
    "\n",
    "#### Přístup pomocí atributů\n",
    "\n",
    "---"
   ]
  },
  {
   "cell_type": "code",
   "execution_count": 154,
   "id": "traditional-supplement",
   "metadata": {
    "tags": []
   },
   "outputs": [],
   "source": [
    "# bool(zeme_evropa_df[\"rozloha\"] is zeme_evropa_df.rozloha)"
   ]
  },
  {
   "cell_type": "code",
   "execution_count": 155,
   "id": "helpful-roulette",
   "metadata": {
    "tags": []
   },
   "outputs": [
    {
     "data": {
      "text/plain": [
       "Dansko              5655750\n",
       "Ceska_republika    10513209\n",
       "Nemecko            80716000\n",
       "Polsko             38483957\n",
       "Slovensko           5415949\n",
       "Rakousko            8932664\n",
       "Name: populace, dtype: int64"
      ]
     },
     "execution_count": 155,
     "metadata": {},
     "output_type": "execute_result"
    }
   ],
   "source": [
    "zeme_evropa_df.populace"
   ]
  },
  {
   "cell_type": "code",
   "execution_count": 156,
   "id": "focused-mining",
   "metadata": {
    "tags": []
   },
   "outputs": [
    {
     "data": {
      "text/plain": [
       "Dansko              42916\n",
       "Ceska_republika     78870\n",
       "Nemecko            357168\n",
       "Polsko             312679\n",
       "Slovensko           49035\n",
       "Rakousko            83878\n",
       "Name: rozloha, dtype: int64"
      ]
     },
     "execution_count": 156,
     "metadata": {},
     "output_type": "execute_result"
    }
   ],
   "source": [
    "zeme_evropa_df.rozloha"
   ]
  },
  {
   "cell_type": "code",
   "execution_count": 157,
   "id": "bound-atlanta",
   "metadata": {
    "tags": []
   },
   "outputs": [
    {
     "data": {
      "text/plain": [
       "Dansko             False\n",
       "Ceska_republika    False\n",
       "Nemecko             True\n",
       "Polsko              True\n",
       "Slovensko          False\n",
       "Rakousko           False\n",
       "Name: rozloha, dtype: bool"
      ]
     },
     "execution_count": 157,
     "metadata": {},
     "output_type": "execute_result"
    }
   ],
   "source": [
    "zeme_evropa_df.rozloha > 100_000"
   ]
  },
  {
   "cell_type": "code",
   "execution_count": 158,
   "id": "4edaec24-3a98-41fa-9e5a-c0e45fbc41f7",
   "metadata": {
    "tags": []
   },
   "outputs": [
    {
     "data": {
      "text/html": [
       "<div>\n",
       "<style scoped>\n",
       "    .dataframe tbody tr th:only-of-type {\n",
       "        vertical-align: middle;\n",
       "    }\n",
       "\n",
       "    .dataframe tbody tr th {\n",
       "        vertical-align: top;\n",
       "    }\n",
       "\n",
       "    .dataframe thead th {\n",
       "        text-align: right;\n",
       "    }\n",
       "</style>\n",
       "<table border=\"1\" class=\"dataframe\">\n",
       "  <thead>\n",
       "    <tr style=\"text-align: right;\">\n",
       "      <th></th>\n",
       "      <th>populace</th>\n",
       "      <th>rozloha</th>\n",
       "    </tr>\n",
       "  </thead>\n",
       "  <tbody>\n",
       "    <tr>\n",
       "      <th>Nemecko</th>\n",
       "      <td>80716000</td>\n",
       "      <td>357168</td>\n",
       "    </tr>\n",
       "    <tr>\n",
       "      <th>Polsko</th>\n",
       "      <td>38483957</td>\n",
       "      <td>312679</td>\n",
       "    </tr>\n",
       "  </tbody>\n",
       "</table>\n",
       "</div>"
      ],
      "text/plain": [
       "         populace  rozloha\n",
       "Nemecko  80716000   357168\n",
       "Polsko   38483957   312679"
      ]
     },
     "execution_count": 158,
     "metadata": {},
     "output_type": "execute_result"
    }
   ],
   "source": [
    "zeme_evropa_df[zeme_evropa_df.rozloha > 100_000]"
   ]
  },
  {
   "cell_type": "code",
   "execution_count": 159,
   "id": "510c2557-73f7-4ec8-bf89-2fc3060b662a",
   "metadata": {
    "tags": []
   },
   "outputs": [
    {
     "data": {
      "text/html": [
       "<div>\n",
       "<style scoped>\n",
       "    .dataframe tbody tr th:only-of-type {\n",
       "        vertical-align: middle;\n",
       "    }\n",
       "\n",
       "    .dataframe tbody tr th {\n",
       "        vertical-align: top;\n",
       "    }\n",
       "\n",
       "    .dataframe thead th {\n",
       "        text-align: right;\n",
       "    }\n",
       "</style>\n",
       "<table border=\"1\" class=\"dataframe\">\n",
       "  <thead>\n",
       "    <tr style=\"text-align: right;\">\n",
       "      <th></th>\n",
       "      <th>populace</th>\n",
       "      <th>rozloha</th>\n",
       "    </tr>\n",
       "  </thead>\n",
       "  <tbody>\n",
       "    <tr>\n",
       "      <th>Nemecko</th>\n",
       "      <td>80716000</td>\n",
       "      <td>357168</td>\n",
       "    </tr>\n",
       "    <tr>\n",
       "      <th>Polsko</th>\n",
       "      <td>38483957</td>\n",
       "      <td>312679</td>\n",
       "    </tr>\n",
       "  </tbody>\n",
       "</table>\n",
       "</div>"
      ],
      "text/plain": [
       "         populace  rozloha\n",
       "Nemecko  80716000   357168\n",
       "Polsko   38483957   312679"
      ]
     },
     "execution_count": 159,
     "metadata": {},
     "output_type": "execute_result"
    }
   ],
   "source": [
    "zeme_evropa_df[zeme_evropa_df[\"rozloha\"] > 100_000]"
   ]
  },
  {
   "cell_type": "markdown",
   "id": "dress-paradise",
   "metadata": {},
   "source": [
    "Opatrně, atributový přístup nelze aplikovat, pokud je jméno sloupečku shodné s některým **z rezerovaných výrazů**."
   ]
  },
  {
   "cell_type": "markdown",
   "id": "nasty-detector",
   "metadata": {},
   "source": [
    "<br>\n",
    "\n",
    "#### Slovníkový náhled\n",
    "\n",
    "---"
   ]
  },
  {
   "cell_type": "code",
   "execution_count": 160,
   "id": "4c56ad9b-9f62-43ac-9c25-52dd76b40143",
   "metadata": {},
   "outputs": [
    {
     "data": {
      "text/plain": [
       "Index(['Dansko', 'Ceska_republika', 'Nemecko', 'Polsko', 'Slovensko',\n",
       "       'Rakousko'],\n",
       "      dtype='object')"
      ]
     },
     "execution_count": 160,
     "metadata": {},
     "output_type": "execute_result"
    }
   ],
   "source": [
    "zeme_evropa_df.index"
   ]
  },
  {
   "cell_type": "code",
   "execution_count": 161,
   "id": "2bc7db31-2bfe-4085-9f96-545a18072508",
   "metadata": {},
   "outputs": [
    {
     "data": {
      "text/plain": [
       "Index(['populace', 'rozloha'], dtype='object')"
      ]
     },
     "execution_count": 161,
     "metadata": {},
     "output_type": "execute_result"
    }
   ],
   "source": [
    "zeme_evropa_df.columns"
   ]
  },
  {
   "cell_type": "code",
   "execution_count": 162,
   "id": "scenic-assessment",
   "metadata": {
    "tags": []
   },
   "outputs": [
    {
     "data": {
      "text/plain": [
       "array([[ 5655750,    42916],\n",
       "       [10513209,    78870],\n",
       "       [80716000,   357168],\n",
       "       [38483957,   312679],\n",
       "       [ 5415949,    49035],\n",
       "       [ 8932664,    83878]])"
      ]
     },
     "execution_count": 162,
     "metadata": {},
     "output_type": "execute_result"
    }
   ],
   "source": [
    "zeme_evropa_df.values"
   ]
  },
  {
   "cell_type": "markdown",
   "id": "behavioral-dress",
   "metadata": {},
   "source": [
    "<br>\n",
    "\n",
    "#### loc\n",
    "\n",
    "---\n",
    "\n",
    "Stejná pravidla jako pro `Series`, nicméne tentokrát můžeš vybírat buď jednotlivé Indexy, nebo pole Indexů:"
   ]
  },
  {
   "cell_type": "code",
   "execution_count": 163,
   "id": "9ccbfde1-7834-4a99-ad1a-ce32b3183411",
   "metadata": {
    "tags": []
   },
   "outputs": [
    {
     "data": {
      "text/html": [
       "<div>\n",
       "<style scoped>\n",
       "    .dataframe tbody tr th:only-of-type {\n",
       "        vertical-align: middle;\n",
       "    }\n",
       "\n",
       "    .dataframe tbody tr th {\n",
       "        vertical-align: top;\n",
       "    }\n",
       "\n",
       "    .dataframe thead th {\n",
       "        text-align: right;\n",
       "    }\n",
       "</style>\n",
       "<table border=\"1\" class=\"dataframe\">\n",
       "  <thead>\n",
       "    <tr style=\"text-align: right;\">\n",
       "      <th></th>\n",
       "      <th>populace</th>\n",
       "      <th>rozloha</th>\n",
       "    </tr>\n",
       "  </thead>\n",
       "  <tbody>\n",
       "    <tr>\n",
       "      <th>Dansko</th>\n",
       "      <td>5655750</td>\n",
       "      <td>42916</td>\n",
       "    </tr>\n",
       "    <tr>\n",
       "      <th>Ceska_republika</th>\n",
       "      <td>10513209</td>\n",
       "      <td>78870</td>\n",
       "    </tr>\n",
       "    <tr>\n",
       "      <th>Nemecko</th>\n",
       "      <td>80716000</td>\n",
       "      <td>357168</td>\n",
       "    </tr>\n",
       "    <tr>\n",
       "      <th>Polsko</th>\n",
       "      <td>38483957</td>\n",
       "      <td>312679</td>\n",
       "    </tr>\n",
       "    <tr>\n",
       "      <th>Slovensko</th>\n",
       "      <td>5415949</td>\n",
       "      <td>49035</td>\n",
       "    </tr>\n",
       "    <tr>\n",
       "      <th>Rakousko</th>\n",
       "      <td>8932664</td>\n",
       "      <td>83878</td>\n",
       "    </tr>\n",
       "  </tbody>\n",
       "</table>\n",
       "</div>"
      ],
      "text/plain": [
       "                 populace  rozloha\n",
       "Dansko            5655750    42916\n",
       "Ceska_republika  10513209    78870\n",
       "Nemecko          80716000   357168\n",
       "Polsko           38483957   312679\n",
       "Slovensko         5415949    49035\n",
       "Rakousko          8932664    83878"
      ]
     },
     "execution_count": 163,
     "metadata": {},
     "output_type": "execute_result"
    }
   ],
   "source": [
    "zeme_evropa_df"
   ]
  },
  {
   "cell_type": "code",
   "execution_count": 164,
   "id": "interested-circus",
   "metadata": {
    "tags": []
   },
   "outputs": [
    {
     "data": {
      "text/plain": [
       "populace    80716000\n",
       "rozloha       357168\n",
       "Name: Nemecko, dtype: int64"
      ]
     },
     "execution_count": 164,
     "metadata": {},
     "output_type": "execute_result"
    }
   ],
   "source": [
    "zeme_evropa_df.loc[\"Nemecko\"]"
   ]
  },
  {
   "cell_type": "code",
   "execution_count": 165,
   "id": "animal-battery",
   "metadata": {
    "tags": []
   },
   "outputs": [
    {
     "data": {
      "text/html": [
       "<div>\n",
       "<style scoped>\n",
       "    .dataframe tbody tr th:only-of-type {\n",
       "        vertical-align: middle;\n",
       "    }\n",
       "\n",
       "    .dataframe tbody tr th {\n",
       "        vertical-align: top;\n",
       "    }\n",
       "\n",
       "    .dataframe thead th {\n",
       "        text-align: right;\n",
       "    }\n",
       "</style>\n",
       "<table border=\"1\" class=\"dataframe\">\n",
       "  <thead>\n",
       "    <tr style=\"text-align: right;\">\n",
       "      <th></th>\n",
       "      <th>populace</th>\n",
       "      <th>rozloha</th>\n",
       "    </tr>\n",
       "  </thead>\n",
       "  <tbody>\n",
       "    <tr>\n",
       "      <th>Dansko</th>\n",
       "      <td>5655750</td>\n",
       "      <td>42916</td>\n",
       "    </tr>\n",
       "    <tr>\n",
       "      <th>Ceska_republika</th>\n",
       "      <td>10513209</td>\n",
       "      <td>78870</td>\n",
       "    </tr>\n",
       "    <tr>\n",
       "      <th>Nemecko</th>\n",
       "      <td>80716000</td>\n",
       "      <td>357168</td>\n",
       "    </tr>\n",
       "  </tbody>\n",
       "</table>\n",
       "</div>"
      ],
      "text/plain": [
       "                 populace  rozloha\n",
       "Dansko            5655750    42916\n",
       "Ceska_republika  10513209    78870\n",
       "Nemecko          80716000   357168"
      ]
     },
     "execution_count": 165,
     "metadata": {},
     "output_type": "execute_result"
    }
   ],
   "source": [
    "zeme_evropa_df.loc[:\"Nemecko\"]"
   ]
  },
  {
   "cell_type": "markdown",
   "id": "valid-spine",
   "metadata": {},
   "source": [
    "<br>\n",
    "\n",
    "Dále můžeš vybírat kombinaci Indexů a sloupce nebo rozsah sloupců:"
   ]
  },
  {
   "cell_type": "code",
   "execution_count": 166,
   "id": "unique-paris",
   "metadata": {
    "tags": []
   },
   "outputs": [
    {
     "data": {
      "text/plain": [
       "np.int64(80716000)"
      ]
     },
     "execution_count": 166,
     "metadata": {},
     "output_type": "execute_result"
    }
   ],
   "source": [
    "zeme_evropa_df.loc[\"Nemecko\", \"populace\"]"
   ]
  },
  {
   "cell_type": "code",
   "execution_count": 167,
   "id": "legislative-shock",
   "metadata": {
    "tags": []
   },
   "outputs": [
    {
     "data": {
      "text/plain": [
       "Dansko              5655750\n",
       "Ceska_republika    10513209\n",
       "Nemecko            80716000\n",
       "Name: populace, dtype: int64"
      ]
     },
     "execution_count": 167,
     "metadata": {},
     "output_type": "execute_result"
    }
   ],
   "source": [
    "zeme_evropa_df.loc[:\"Nemecko\", \"populace\"]"
   ]
  },
  {
   "cell_type": "code",
   "execution_count": 168,
   "id": "seeing-shell",
   "metadata": {
    "tags": []
   },
   "outputs": [
    {
     "data": {
      "text/html": [
       "<div>\n",
       "<style scoped>\n",
       "    .dataframe tbody tr th:only-of-type {\n",
       "        vertical-align: middle;\n",
       "    }\n",
       "\n",
       "    .dataframe tbody tr th {\n",
       "        vertical-align: top;\n",
       "    }\n",
       "\n",
       "    .dataframe thead th {\n",
       "        text-align: right;\n",
       "    }\n",
       "</style>\n",
       "<table border=\"1\" class=\"dataframe\">\n",
       "  <thead>\n",
       "    <tr style=\"text-align: right;\">\n",
       "      <th></th>\n",
       "      <th>populace</th>\n",
       "      <th>rozloha</th>\n",
       "    </tr>\n",
       "  </thead>\n",
       "  <tbody>\n",
       "    <tr>\n",
       "      <th>Ceska_republika</th>\n",
       "      <td>10513209</td>\n",
       "      <td>78870</td>\n",
       "    </tr>\n",
       "    <tr>\n",
       "      <th>Nemecko</th>\n",
       "      <td>80716000</td>\n",
       "      <td>357168</td>\n",
       "    </tr>\n",
       "  </tbody>\n",
       "</table>\n",
       "</div>"
      ],
      "text/plain": [
       "                 populace  rozloha\n",
       "Ceska_republika  10513209    78870\n",
       "Nemecko          80716000   357168"
      ]
     },
     "execution_count": 168,
     "metadata": {},
     "output_type": "execute_result"
    }
   ],
   "source": [
    "zeme_evropa_df.loc[\"Ceska_republika\":\"Nemecko\", :\"rozloha\"]"
   ]
  },
  {
   "cell_type": "markdown",
   "id": "hidden-cleveland",
   "metadata": {},
   "source": [
    "<br>\n",
    "\n",
    "#### iloc\n",
    "\n",
    "---"
   ]
  },
  {
   "cell_type": "code",
   "execution_count": 169,
   "id": "welsh-transsexual",
   "metadata": {
    "tags": []
   },
   "outputs": [
    {
     "data": {
      "text/plain": [
       "Dansko              42916\n",
       "Ceska_republika     78870\n",
       "Nemecko            357168\n",
       "Name: rozloha, dtype: int64"
      ]
     },
     "execution_count": 169,
     "metadata": {},
     "output_type": "execute_result"
    }
   ],
   "source": [
    "zeme_evropa_df.iloc[:3, 1]"
   ]
  },
  {
   "cell_type": "markdown",
   "id": "9c8091c1-4e48-4dfa-9b8b-e78c0b5254e0",
   "metadata": {},
   "source": [
    "<br>\n",
    "\n",
    "#### Transformace\n",
    "\n",
    "---"
   ]
  },
  {
   "cell_type": "code",
   "execution_count": 170,
   "id": "29bba267-0d1e-4226-9f88-d235a41863ed",
   "metadata": {},
   "outputs": [
    {
     "data": {
      "text/html": [
       "<div>\n",
       "<style scoped>\n",
       "    .dataframe tbody tr th:only-of-type {\n",
       "        vertical-align: middle;\n",
       "    }\n",
       "\n",
       "    .dataframe tbody tr th {\n",
       "        vertical-align: top;\n",
       "    }\n",
       "\n",
       "    .dataframe thead th {\n",
       "        text-align: right;\n",
       "    }\n",
       "</style>\n",
       "<table border=\"1\" class=\"dataframe\">\n",
       "  <thead>\n",
       "    <tr style=\"text-align: right;\">\n",
       "      <th></th>\n",
       "      <th>Dansko</th>\n",
       "      <th>Ceska_republika</th>\n",
       "      <th>Nemecko</th>\n",
       "      <th>Polsko</th>\n",
       "      <th>Slovensko</th>\n",
       "      <th>Rakousko</th>\n",
       "    </tr>\n",
       "  </thead>\n",
       "  <tbody>\n",
       "    <tr>\n",
       "      <th>populace</th>\n",
       "      <td>5655750</td>\n",
       "      <td>10513209</td>\n",
       "      <td>80716000</td>\n",
       "      <td>38483957</td>\n",
       "      <td>5415949</td>\n",
       "      <td>8932664</td>\n",
       "    </tr>\n",
       "    <tr>\n",
       "      <th>rozloha</th>\n",
       "      <td>42916</td>\n",
       "      <td>78870</td>\n",
       "      <td>357168</td>\n",
       "      <td>312679</td>\n",
       "      <td>49035</td>\n",
       "      <td>83878</td>\n",
       "    </tr>\n",
       "  </tbody>\n",
       "</table>\n",
       "</div>"
      ],
      "text/plain": [
       "           Dansko  Ceska_republika   Nemecko    Polsko  Slovensko  Rakousko\n",
       "populace  5655750         10513209  80716000  38483957    5415949   8932664\n",
       "rozloha     42916            78870    357168    312679      49035     83878"
      ]
     },
     "execution_count": 170,
     "metadata": {},
     "output_type": "execute_result"
    }
   ],
   "source": [
    "zeme_evropa_df.T"
   ]
  },
  {
   "cell_type": "markdown",
   "id": "aerial-spirit",
   "metadata": {},
   "source": [
    "#### ix\n",
    "\n",
    "---\n",
    "\n",
    "Jde o atribut-hybrid, který kombinuje mixování stylů z `loc` a `iloc`.\n",
    "\n",
    "Tento *legacy atribut* již neexistuje."
   ]
  },
  {
   "cell_type": "code",
   "execution_count": 171,
   "id": "1a9d686c-9904-45c2-ba0a-68a73cdb8769",
   "metadata": {
    "tags": []
   },
   "outputs": [
    {
     "ename": "AttributeError",
     "evalue": "'DataFrame' object has no attribute 'ix'",
     "output_type": "error",
     "traceback": [
      "\u001b[31m---------------------------------------------------------------------------\u001b[39m",
      "\u001b[31mAttributeError\u001b[39m                            Traceback (most recent call last)",
      "\u001b[32m/tmp/ipykernel_63782/956002629.py\u001b[39m in \u001b[36m?\u001b[39m\u001b[34m()\u001b[39m\n\u001b[32m----> \u001b[39m\u001b[32m1\u001b[39m zeme_evropa_df.ix[:\u001b[33m\"Nemecko\"\u001b[39m, :\u001b[32m2\u001b[39m]  \u001b[38;5;66;03m# iloc + loc --> dnes AttributeError\u001b[39;00m\n",
      "\u001b[32m~/.pyenv/versions/3.12.5/lib/python3.12/site-packages/pandas/core/generic.py\u001b[39m in \u001b[36m?\u001b[39m\u001b[34m(self, name)\u001b[39m\n\u001b[32m   6295\u001b[39m             \u001b[38;5;28;01mand\u001b[39;00m name \u001b[38;5;28;01mnot\u001b[39;00m \u001b[38;5;28;01min\u001b[39;00m self._accessors\n\u001b[32m   6296\u001b[39m             \u001b[38;5;28;01mand\u001b[39;00m self._info_axis._can_hold_identifiers_and_holds_name(name)\n\u001b[32m   6297\u001b[39m         ):\n\u001b[32m   6298\u001b[39m             \u001b[38;5;28;01mreturn\u001b[39;00m self[name]\n\u001b[32m-> \u001b[39m\u001b[32m6299\u001b[39m         \u001b[38;5;28;01mreturn\u001b[39;00m object.__getattribute__(self, name)\n",
      "\u001b[31mAttributeError\u001b[39m: 'DataFrame' object has no attribute 'ix'"
     ]
    }
   ],
   "source": [
    "zeme_evropa_df.ix[:\"Nemecko\", :2]  # iloc + loc --> dnes AttributeError"
   ]
  },
  {
   "cell_type": "markdown",
   "id": "1d342fdd-9219-4ba9-b291-a07bf970228c",
   "metadata": {},
   "source": [
    "<img src=\"https://imgs.search.brave.com/lQb3xLIlg9zkzNeOExyC9yipGtQiF1BrVKrC4BwqbF8/rs:fit:500:0:0:0/g:ce/aHR0cHM6Ly90NC5m/dGNkbi5uZXQvanBn/LzA1LzU0LzExLzY3/LzM2MF9GXzU1NDEx/Njc4Nl9DZGhSbWha/YWlaRjdvUVhVajYz/d2RTSzVjOGo5SXNL/bS5qcGc\" width=\"250\" style=\"margin-left:auto; margin-right:auto\"/>"
   ]
  },
  {
   "cell_type": "markdown",
   "id": "5548325b-6eb3-49c3-8f77-d020915bc735",
   "metadata": {
    "tags": []
   },
   "source": [
    "<br>\n",
    "\n",
    "### Metody pro průzkumu dat a nahlížení\n",
    "\n",
    "---\n",
    "\n",
    "Následující metody ti ulehčí nahlížení a prozkoumávání dat.\n",
    "\n",
    "Jsou to metody:\n",
    "* `info()`,\n",
    "* `describe()`,\n",
    "* `head()`,\n",
    "* `tail()`,"
   ]
  },
  {
   "cell_type": "code",
   "execution_count": 172,
   "id": "7c2ea6e7-dca3-47ff-a87e-dfbc3b417235",
   "metadata": {
    "tags": []
   },
   "outputs": [],
   "source": [
    "from pandas import DataFrame"
   ]
  },
  {
   "cell_type": "code",
   "execution_count": 173,
   "id": "66667b45-1c7a-4367-8c31-dd2854dec593",
   "metadata": {
    "tags": []
   },
   "outputs": [],
   "source": [
    "populace_evropa = {\n",
    "    'Dansko': 5_655_750,\n",
    "    'Ceska_republika': 10_513_209,\n",
    "    'Nemecko': 80_716_000,\n",
    "    'Polsko': 38_483_957,\n",
    "    'Slovensko': 5_415_949,\n",
    "    'Rakousko': 8_932_664\n",
    "}"
   ]
  },
  {
   "cell_type": "code",
   "execution_count": 174,
   "id": "b981005e-7357-4909-8867-e5c583cc00ef",
   "metadata": {
    "tags": []
   },
   "outputs": [],
   "source": [
    "rozloha_evropa = {\n",
    "    'Dansko': 42_916,\n",
    "    'Ceska_republika': 78_870,\n",
    "    'Nemecko': 357_168,\n",
    "    'Polsko': 312_679,\n",
    "    'Slovensko': 49_035,\n",
    "    'Rakousko': 83_878\n",
    "}"
   ]
  },
  {
   "cell_type": "code",
   "execution_count": 175,
   "id": "7d6b99c1-da7e-421e-9be4-d64b1846bd6e",
   "metadata": {
    "tags": []
   },
   "outputs": [],
   "source": [
    "zeme_evropa_df = DataFrame({\"populace\": populace_evropa, \"rozloha\": rozloha_evropa})"
   ]
  },
  {
   "cell_type": "markdown",
   "id": "f7833116-dace-4fd4-bade-092aa627d051",
   "metadata": {
    "tags": []
   },
   "source": [
    "<br>\n",
    "\n",
    "#### Metoda `info()`\n",
    "\n",
    "---\n",
    "\n",
    "Jde o obecnou informaci o DataFrame:"
   ]
  },
  {
   "cell_type": "code",
   "execution_count": 176,
   "id": "3e064153-ca04-410e-a079-58be4329e499",
   "metadata": {
    "tags": []
   },
   "outputs": [
    {
     "name": "stdout",
     "output_type": "stream",
     "text": [
      "<class 'pandas.core.frame.DataFrame'>\n",
      "Index: 6 entries, Dansko to Rakousko\n",
      "Data columns (total 2 columns):\n",
      " #   Column    Non-Null Count  Dtype\n",
      "---  ------    --------------  -----\n",
      " 0   populace  6 non-null      int64\n",
      " 1   rozloha   6 non-null      int64\n",
      "dtypes: int64(2)\n",
      "memory usage: 144.0+ bytes\n"
     ]
    }
   ],
   "source": [
    "zeme_evropa_df.info()"
   ]
  },
  {
   "cell_type": "markdown",
   "id": "edd791a7-f355-4e1d-a830-5f5e72bfec8b",
   "metadata": {},
   "source": [
    "Z výstupu potom přečteš:\n",
    "* počet indexů,\n",
    "* počet sloupců,\n",
    "* počet neprázdných, nenulových hodnot,\n",
    "* datové typy pro sloupce."
   ]
  },
  {
   "cell_type": "markdown",
   "id": "5629c921-6ba8-47e8-973e-b73d1419cc37",
   "metadata": {
    "tags": []
   },
   "source": [
    "<br>\n",
    "\n",
    "#### Metoda `describe()`\n",
    "\n",
    "---\n",
    "\n",
    "Tato metoda ti nepodává základní informaci o DataFrame, ale spíše **pracuje s číselnými sloupci**.\n",
    "\n",
    "\n",
    "Poskytuje základní **statistické přehledy** jako:\n",
    "* průměr,\n",
    "* medián,\n",
    "* minimální & maximální hodnota,\n",
    "* rozptyl."
   ]
  },
  {
   "cell_type": "code",
   "execution_count": 177,
   "id": "24e47b9a-3207-46c2-a4fb-f3d92db3931f",
   "metadata": {
    "tags": []
   },
   "outputs": [
    {
     "data": {
      "text/plain": [
       "count    6.000000e+00\n",
       "mean     2.495292e+07\n",
       "std      3.003943e+07\n",
       "min      5.415949e+06\n",
       "25%      6.474978e+06\n",
       "50%      9.722936e+06\n",
       "75%      3.149127e+07\n",
       "max      8.071600e+07\n",
       "Name: populace, dtype: float64"
      ]
     },
     "execution_count": 177,
     "metadata": {},
     "output_type": "execute_result"
    }
   ],
   "source": [
    "zeme_evropa_df['populace'].describe()"
   ]
  },
  {
   "cell_type": "markdown",
   "id": "b3b08bae-9e35-4dc0-bcea-93d0b2de2c77",
   "metadata": {
    "tags": []
   },
   "source": [
    "<br>\n",
    "\n",
    "#### Metody `head()` a `tail()`\n",
    "\n",
    "---\n",
    "\n",
    "Obě metody pracují jako náhledové metody. K lepšímu pohledu na konkrétní řádky.\n",
    "\n",
    "1. `head`, prozkoumá **prvních pět řádků** (defaultně),\n",
    "2. `tail`, prozkoumá **posledních pět řádků** (defaultně),"
   ]
  },
  {
   "cell_type": "code",
   "execution_count": 178,
   "id": "5a52b8e1-5ed8-4804-bfee-8fd012cb458f",
   "metadata": {
    "tags": []
   },
   "outputs": [
    {
     "data": {
      "text/html": [
       "<div>\n",
       "<style scoped>\n",
       "    .dataframe tbody tr th:only-of-type {\n",
       "        vertical-align: middle;\n",
       "    }\n",
       "\n",
       "    .dataframe tbody tr th {\n",
       "        vertical-align: top;\n",
       "    }\n",
       "\n",
       "    .dataframe thead th {\n",
       "        text-align: right;\n",
       "    }\n",
       "</style>\n",
       "<table border=\"1\" class=\"dataframe\">\n",
       "  <thead>\n",
       "    <tr style=\"text-align: right;\">\n",
       "      <th></th>\n",
       "      <th>populace</th>\n",
       "      <th>rozloha</th>\n",
       "    </tr>\n",
       "  </thead>\n",
       "  <tbody>\n",
       "    <tr>\n",
       "      <th>Dansko</th>\n",
       "      <td>5655750</td>\n",
       "      <td>42916</td>\n",
       "    </tr>\n",
       "    <tr>\n",
       "      <th>Ceska_republika</th>\n",
       "      <td>10513209</td>\n",
       "      <td>78870</td>\n",
       "    </tr>\n",
       "    <tr>\n",
       "      <th>Nemecko</th>\n",
       "      <td>80716000</td>\n",
       "      <td>357168</td>\n",
       "    </tr>\n",
       "  </tbody>\n",
       "</table>\n",
       "</div>"
      ],
      "text/plain": [
       "                 populace  rozloha\n",
       "Dansko            5655750    42916\n",
       "Ceska_republika  10513209    78870\n",
       "Nemecko          80716000   357168"
      ]
     },
     "execution_count": 178,
     "metadata": {},
     "output_type": "execute_result"
    }
   ],
   "source": [
    "zeme_evropa_df.head(3)  # truncate, "
   ]
  },
  {
   "cell_type": "code",
   "execution_count": 179,
   "id": "59ea6c9c-3d21-418e-baa0-5389af144df1",
   "metadata": {
    "tags": []
   },
   "outputs": [
    {
     "data": {
      "text/html": [
       "<div>\n",
       "<style scoped>\n",
       "    .dataframe tbody tr th:only-of-type {\n",
       "        vertical-align: middle;\n",
       "    }\n",
       "\n",
       "    .dataframe tbody tr th {\n",
       "        vertical-align: top;\n",
       "    }\n",
       "\n",
       "    .dataframe thead th {\n",
       "        text-align: right;\n",
       "    }\n",
       "</style>\n",
       "<table border=\"1\" class=\"dataframe\">\n",
       "  <thead>\n",
       "    <tr style=\"text-align: right;\">\n",
       "      <th></th>\n",
       "      <th>populace</th>\n",
       "      <th>rozloha</th>\n",
       "    </tr>\n",
       "  </thead>\n",
       "  <tbody>\n",
       "    <tr>\n",
       "      <th>Nemecko</th>\n",
       "      <td>80716000</td>\n",
       "      <td>357168</td>\n",
       "    </tr>\n",
       "    <tr>\n",
       "      <th>Polsko</th>\n",
       "      <td>38483957</td>\n",
       "      <td>312679</td>\n",
       "    </tr>\n",
       "    <tr>\n",
       "      <th>Slovensko</th>\n",
       "      <td>5415949</td>\n",
       "      <td>49035</td>\n",
       "    </tr>\n",
       "    <tr>\n",
       "      <th>Rakousko</th>\n",
       "      <td>8932664</td>\n",
       "      <td>83878</td>\n",
       "    </tr>\n",
       "  </tbody>\n",
       "</table>\n",
       "</div>"
      ],
      "text/plain": [
       "           populace  rozloha\n",
       "Nemecko    80716000   357168\n",
       "Polsko     38483957   312679\n",
       "Slovensko   5415949    49035\n",
       "Rakousko    8932664    83878"
      ]
     },
     "execution_count": 179,
     "metadata": {},
     "output_type": "execute_result"
    }
   ],
   "source": [
    "zeme_evropa_df.tail(4)"
   ]
  },
  {
   "cell_type": "code",
   "execution_count": 180,
   "id": "de409c03-845a-4433-bbe1-4afaed1575d5",
   "metadata": {},
   "outputs": [],
   "source": [
    "pokusny_index_df = read_csv('../onsite/customers_inp.csv', sep=';', index_col='customer_id')"
   ]
  },
  {
   "cell_type": "code",
   "execution_count": 181,
   "id": "2a358606-846c-450a-8528-9b8982ba187b",
   "metadata": {},
   "outputs": [
    {
     "data": {
      "text/html": [
       "<div>\n",
       "<style scoped>\n",
       "    .dataframe tbody tr th:only-of-type {\n",
       "        vertical-align: middle;\n",
       "    }\n",
       "\n",
       "    .dataframe tbody tr th {\n",
       "        vertical-align: top;\n",
       "    }\n",
       "\n",
       "    .dataframe thead th {\n",
       "        text-align: right;\n",
       "    }\n",
       "</style>\n",
       "<table border=\"1\" class=\"dataframe\">\n",
       "  <thead>\n",
       "    <tr style=\"text-align: right;\">\n",
       "      <th></th>\n",
       "      <th>first_name</th>\n",
       "      <th>last_name</th>\n",
       "      <th>phone</th>\n",
       "      <th>email</th>\n",
       "    </tr>\n",
       "    <tr>\n",
       "      <th>customer_id</th>\n",
       "      <th></th>\n",
       "      <th></th>\n",
       "      <th></th>\n",
       "      <th></th>\n",
       "    </tr>\n",
       "  </thead>\n",
       "  <tbody>\n",
       "    <tr>\n",
       "      <th>11</th>\n",
       "      <td>Matous</td>\n",
       "      <td>Holinka</td>\n",
       "      <td>420777666555</td>\n",
       "      <td>matous@matousholinka.com</td>\n",
       "    </tr>\n",
       "    <tr>\n",
       "      <th>12</th>\n",
       "      <td>Marek</td>\n",
       "      <td>Parek</td>\n",
       "      <td>420777434111</td>\n",
       "      <td>marek.parek@gmail.com</td>\n",
       "    </tr>\n",
       "    <tr>\n",
       "      <th>13</th>\n",
       "      <td>Petr</td>\n",
       "      <td>Svetr</td>\n",
       "      <td>420777333111</td>\n",
       "      <td>petr@svetr.com</td>\n",
       "    </tr>\n",
       "    <tr>\n",
       "      <th>14</th>\n",
       "      <td>Alice</td>\n",
       "      <td>Svobodova</td>\n",
       "      <td>420777200300</td>\n",
       "      <td>svobodova.a@email.cz</td>\n",
       "    </tr>\n",
       "    <tr>\n",
       "      <th>15</th>\n",
       "      <td>Tereza</td>\n",
       "      <td>Novakova</td>\n",
       "      <td>420777608080</td>\n",
       "      <td>novakova_terka@seznam.cz</td>\n",
       "    </tr>\n",
       "  </tbody>\n",
       "</table>\n",
       "</div>"
      ],
      "text/plain": [
       "            first_name  last_name         phone                     email\n",
       "customer_id                                                              \n",
       "11              Matous    Holinka  420777666555  matous@matousholinka.com\n",
       "12               Marek      Parek  420777434111     marek.parek@gmail.com\n",
       "13                Petr      Svetr  420777333111            petr@svetr.com\n",
       "14               Alice  Svobodova  420777200300      svobodova.a@email.cz\n",
       "15              Tereza   Novakova  420777608080  novakova_terka@seznam.cz"
      ]
     },
     "execution_count": 181,
     "metadata": {},
     "output_type": "execute_result"
    }
   ],
   "source": [
    "pokusny_index_df"
   ]
  },
  {
   "cell_type": "markdown",
   "id": "aware-respondent",
   "metadata": {},
   "source": [
    "<br>\n",
    "\n",
    "**🧠 CVIČENÍ 🧠, diktát s pandama.**"
   ]
  },
  {
   "cell_type": "markdown",
   "id": "40a104db-ed85-4aca-9fa2-b973c8de0d64",
   "metadata": {},
   "source": [
    "**Nahraj zadaný soubor do proměnné `hry_df`**"
   ]
  },
  {
   "cell_type": "code",
   "execution_count": null,
   "id": "0d5b1134-6b8f-458c-b714-91e17ba09268",
   "metadata": {
    "tags": []
   },
   "outputs": [],
   "source": []
  },
  {
   "cell_type": "markdown",
   "id": "b60cbac0-d0af-434c-ade2-9e8ad5b7b63a",
   "metadata": {
    "tags": []
   },
   "source": [
    "<details>\n",
    "    <summary>▶️ Řešení</summary>\n",
    "    \n",
    "```python\n",
    "hry_df = read_csv(\"../onsite/lesson02/games.csv\")\n",
    "```\n",
    "</details>"
   ]
  },
  {
   "cell_type": "markdown",
   "id": "3eb3ce39-d550-40cb-9dc6-e45c0bc62b2b",
   "metadata": {},
   "source": [
    "<br>\n",
    "\n",
    "**Vytvoř proměnnou `jen_souhrn`, která obsahuje pouze sloupec `Summary`**"
   ]
  },
  {
   "cell_type": "code",
   "execution_count": null,
   "id": "d0e56441-9159-46df-adff-dfa64381d8f6",
   "metadata": {
    "tags": []
   },
   "outputs": [],
   "source": []
  },
  {
   "cell_type": "code",
   "execution_count": null,
   "id": "77312360-f525-44cd-bdcb-9c150e728418",
   "metadata": {},
   "outputs": [],
   "source": [
    "jen_souhrn"
   ]
  },
  {
   "cell_type": "markdown",
   "id": "04c8c949-f1a9-44f0-9307-8f0167b4dbe5",
   "metadata": {},
   "source": [
    "<details>\n",
    "    <summary>▶️ Řešení</summary>\n",
    "    \n",
    "    ```\n",
    "    souhrn = hry_df.Summary\n",
    "    ```\n",
    "</details>"
   ]
  },
  {
   "cell_type": "markdown",
   "id": "b70f1e19-22d7-44a7-95ac-720d40c35394",
   "metadata": {},
   "source": [
    "<br>\n",
    "\n",
    "**Vytvoř proměnnou `prvni_souhrn`, která obsahuje pouze první řádek ze sloupce `Summary`**"
   ]
  },
  {
   "cell_type": "code",
   "execution_count": null,
   "id": "1fe33b4e-8dfa-47ed-bc57-a0be03d9a5d9",
   "metadata": {
    "tags": []
   },
   "outputs": [],
   "source": []
  },
  {
   "cell_type": "markdown",
   "id": "dfd72d8a-6458-4abc-8789-f5fd4b8e0990",
   "metadata": {},
   "source": [
    "<details>\n",
    "    <summary>▶️ Řešení</summary>\n",
    "    \n",
    "    ```\n",
    "    prvni_radek = hry_df.Summary.iloc[0]\n",
    "    ```\n",
    "</details>"
   ]
  },
  {
   "cell_type": "markdown",
   "id": "473b8d7c-b1f3-4320-9f15-4f49df310f0b",
   "metadata": {},
   "source": [
    "<br>\n",
    "\n",
    "**Vytvoř proměnnou `prvni_radek_tab`, která obsahuje celý první záznam z tabulky, z `hry_df`**"
   ]
  },
  {
   "cell_type": "code",
   "execution_count": null,
   "id": "dbfa6e26-692f-49ca-81be-ddbf93f5834e",
   "metadata": {},
   "outputs": [],
   "source": []
  },
  {
   "cell_type": "markdown",
   "id": "c0941964-3f56-475c-afbb-b3ab2e15d6e2",
   "metadata": {},
   "source": [
    "<details>\n",
    "    <summary>▶️ Řešení</summary>\n",
    "    \n",
    "    ```\n",
    "    prvni_radek_tab = hry_df.iloc[0]\n",
    "    ```\n",
    "</details>"
   ]
  },
  {
   "cell_type": "markdown",
   "id": "1bbe62a1-0d7d-4cdf-845d-3822deabdb4c",
   "metadata": {},
   "source": [
    "<br>\n",
    "\n",
    "**Vytvoř proměnnou `prvnich_deset_souhrnu`, kam načti prvních deset řádků z vybraného sloupečku `Summary`**"
   ]
  },
  {
   "cell_type": "code",
   "execution_count": null,
   "id": "bc5deddb-c7de-4b5d-9b64-8b4b0e267daa",
   "metadata": {
    "tags": []
   },
   "outputs": [],
   "source": []
  },
  {
   "cell_type": "markdown",
   "id": "781e2ebd-4eec-476d-b156-7d51fc3462d9",
   "metadata": {},
   "source": [
    "<details>\n",
    "    <summary>▶️ Řešení</summary>\n",
    "    \n",
    "    ```\n",
    "    prvni_souhrny = hry_df.Summary.iloc[:10]\n",
    "    ```\n",
    "</details>"
   ]
  },
  {
   "cell_type": "markdown",
   "id": "2b66641a-9a02-434c-ae8d-984319b2c625",
   "metadata": {},
   "source": [
    "<br>\n",
    "\n",
    "**Vytvoř proměnnou `vzorek_indexu`, kam načti záznamy z indexů **2, 4, 5, 6, 7** a **9** z celé tabulky**"
   ]
  },
  {
   "cell_type": "code",
   "execution_count": null,
   "id": "2533cb3b-a207-40a3-8806-0b42716c4fd1",
   "metadata": {
    "tags": []
   },
   "outputs": [],
   "source": []
  },
  {
   "cell_type": "markdown",
   "id": "1c4f88ef-4c30-46e6-801e-77c2889ad41a",
   "metadata": {},
   "source": [
    "<details>\n",
    "    <summary>▶️ Řešení</summary>\n",
    "    \n",
    "    ```\n",
    "    vzorek_indexu = hry_df.loc[[2, 4, 5, 6, 7, 9]]\n",
    "    ```\n",
    "</details>"
   ]
  },
  {
   "cell_type": "markdown",
   "id": "11140ddc-dbe5-4185-bd4c-3f1dbcb4d8c5",
   "metadata": {},
   "source": [
    "<br>\n",
    "\n",
    "**Vytvoř proměnnou `hodnoceni`, načti záznamy z indexů **1, 5, 10, 100, 1000** z celé tabulky a vyber pouze sloupečky `Title`, `Rating`, `Release Date`, `Number of Reviews`**"
   ]
  },
  {
   "cell_type": "markdown",
   "id": "96a30e8f-c296-4d67-b9e7-28f999da868a",
   "metadata": {},
   "source": [
    "<details>\n",
    "    <summary>▶️ Řešení</summary>\n",
    "    \n",
    "    ```\n",
    "    hodnoceni = hry_df.loc[[1, 5, 10, 100, 1000], [\"Title\", \"Rating\", \"Release Date\", \"Number of Reviews\"]]\n",
    "    ```\n",
    "</details>"
   ]
  },
  {
   "cell_type": "markdown",
   "id": "f44ba851-3999-4441-9c2d-3f2b28f77a3a",
   "metadata": {},
   "source": [
    "<br>\n",
    "\n",
    "**Vytvoř proměnnou `prvnich_sto`, která obsahuje pouze sloupečky `Title`a `Rating`. Dále potřebuješ uložit pouze **prvních 100 indexů****"
   ]
  },
  {
   "cell_type": "markdown",
   "id": "1a9c0070-e3a0-46ef-9101-f9a6d355f19b",
   "metadata": {},
   "source": [
    "<details>\n",
    "    <summary>▶️ Řešení</summary>\n",
    "    \n",
    "    ```\n",
    "    prvnich_sto = hry_df.loc[:99, [\"Title\", \"Rating\"]]\n",
    "    ```\n",
    "</details>"
   ]
  },
  {
   "cell_type": "markdown",
   "id": "dc4daab5-d2e5-4f0e-aa2b-406f33ad7c06",
   "metadata": {},
   "source": [
    "<br>\n",
    "\n",
    "**Vytvoř proměnnou `vyber`, která obsahuje dva sloupečky `Title` a `Rating`, kde ve sloupečku `rating` chceš získat pouze takové tituly, které mají hodnocení větší nebo rovnou `4.6`**"
   ]
  },
  {
   "cell_type": "code",
   "execution_count": null,
   "id": "3f876d10-c901-48ad-b8d7-4d7ef27ca5a2",
   "metadata": {},
   "outputs": [],
   "source": [
    "vyber"
   ]
  },
  {
   "cell_type": "markdown",
   "id": "3eb548f2-1993-4b50-b093-b4e19475d79c",
   "metadata": {},
   "source": [
    "<details>\n",
    "    <summary>▶️ Řešení</summary>\n",
    "    \n",
    "    ```\n",
    "    vyber_her = hry_df[hry_df[\"Rating\"] >= 4.6]\n",
    "    ```\n",
    "\n",
    "</details>"
   ]
  },
  {
   "cell_type": "markdown",
   "id": "31171fb1-a8ca-4ad9-9ff1-a2bf246213e4",
   "metadata": {
    "tags": []
   },
   "source": [
    "<br>\n",
    "\n",
    "## Manipulace se sloupci\n",
    "\n",
    "---\n",
    "\n",
    "\n",
    "<img src=\"https://external-content.duckduckgo.com/iu/?u=https%3A%2F%2Ftse4.mm.bing.net%2Fth%3Fid%3DOIP.tzaGc-M5pl0DP6pGu-H6WgHaHa%26pid%3DApi&f=1&ipt=39909793c49bf980b8dbceaabe312870e1446f58fba1e6b430630cfbddd2b9c4&ipo=images\" width=\"200\" style=\"margin-left:auto; margin-right:auto\"/>\n",
    "\n"
   ]
  },
  {
   "cell_type": "markdown",
   "id": "eab48226-0b5f-4943-9ab0-73c3cf80573c",
   "metadata": {},
   "source": [
    "Jakmile se dovedeš zorientovat v datových strukturách knihovny `pandas`, můžeš začít upravovat jejich obsah:\n",
    "1. **Přejmenovat** sloupce,\n",
    "2. **vytvořit** nové sloupce,\n",
    "3. **odstranit** existující sloupce."
   ]
  },
  {
   "cell_type": "markdown",
   "id": "8daf5c76-cce6-4c8f-abd0-394b14c81623",
   "metadata": {},
   "source": [
    "### Přejmenování sloupců\n",
    "\n",
    "---\n",
    "\n",
    "Pokud budeš někdy zápasit se špatně pojmenovaným sloupcem nebo sloupci, přejmenuj je pomocí metody `rename`."
   ]
  },
  {
   "cell_type": "code",
   "execution_count": 211,
   "id": "60654bc7-aea3-4a01-9a0a-f76831a3a337",
   "metadata": {
    "tags": []
   },
   "outputs": [],
   "source": [
    "uzivatele: dict[str, list] = {\n",
    "    'jmeno': ['Matouš', 'Marek', 'Lukáš', 'Jan'],\n",
    "    'age': [23, 25, 27, 29],\n",
    "    'vaha': [65, 70, 75, 80],\n",
    "    'vyska': [160, 170, 180, 190]\n",
    "}"
   ]
  },
  {
   "cell_type": "code",
   "execution_count": 212,
   "id": "80b5a3d5-5926-4292-9440-4d493f39d981",
   "metadata": {
    "tags": []
   },
   "outputs": [],
   "source": [
    "uzivatele_df = pd.DataFrame(uzivatele)"
   ]
  },
  {
   "cell_type": "code",
   "execution_count": 213,
   "id": "c239a13d-e294-4776-9a8d-0102be711aa1",
   "metadata": {
    "tags": []
   },
   "outputs": [
    {
     "data": {
      "text/html": [
       "<div>\n",
       "<style scoped>\n",
       "    .dataframe tbody tr th:only-of-type {\n",
       "        vertical-align: middle;\n",
       "    }\n",
       "\n",
       "    .dataframe tbody tr th {\n",
       "        vertical-align: top;\n",
       "    }\n",
       "\n",
       "    .dataframe thead th {\n",
       "        text-align: right;\n",
       "    }\n",
       "</style>\n",
       "<table border=\"1\" class=\"dataframe\">\n",
       "  <thead>\n",
       "    <tr style=\"text-align: right;\">\n",
       "      <th></th>\n",
       "      <th>jmeno</th>\n",
       "      <th>age</th>\n",
       "      <th>vaha</th>\n",
       "      <th>vyska</th>\n",
       "    </tr>\n",
       "  </thead>\n",
       "  <tbody>\n",
       "    <tr>\n",
       "      <th>0</th>\n",
       "      <td>Matouš</td>\n",
       "      <td>23</td>\n",
       "      <td>65</td>\n",
       "      <td>160</td>\n",
       "    </tr>\n",
       "    <tr>\n",
       "      <th>1</th>\n",
       "      <td>Marek</td>\n",
       "      <td>25</td>\n",
       "      <td>70</td>\n",
       "      <td>170</td>\n",
       "    </tr>\n",
       "    <tr>\n",
       "      <th>2</th>\n",
       "      <td>Lukáš</td>\n",
       "      <td>27</td>\n",
       "      <td>75</td>\n",
       "      <td>180</td>\n",
       "    </tr>\n",
       "    <tr>\n",
       "      <th>3</th>\n",
       "      <td>Jan</td>\n",
       "      <td>29</td>\n",
       "      <td>80</td>\n",
       "      <td>190</td>\n",
       "    </tr>\n",
       "  </tbody>\n",
       "</table>\n",
       "</div>"
      ],
      "text/plain": [
       "    jmeno  age  vaha  vyska\n",
       "0  Matouš   23    65    160\n",
       "1   Marek   25    70    170\n",
       "2   Lukáš   27    75    180\n",
       "3     Jan   29    80    190"
      ]
     },
     "execution_count": 213,
     "metadata": {},
     "output_type": "execute_result"
    }
   ],
   "source": [
    "uzivatele_df"
   ]
  },
  {
   "cell_type": "markdown",
   "id": "0858c536-8462-4c03-84b4-da83aab57297",
   "metadata": {},
   "source": [
    "V ukázce výš tě omezuje **jazyková nekonzistence** mezi sloupečky.\n",
    "\n",
    "Pomocí metody `rename` a argumentu `columns`, můžeš pomocí `dict` anotace vybrat, co a čím přejmenovat:"
   ]
  },
  {
   "cell_type": "code",
   "execution_count": 214,
   "id": "144a12fa-fbdd-4ad9-bd3f-42c6783e6434",
   "metadata": {
    "tags": []
   },
   "outputs": [
    {
     "data": {
      "text/html": [
       "<div>\n",
       "<style scoped>\n",
       "    .dataframe tbody tr th:only-of-type {\n",
       "        vertical-align: middle;\n",
       "    }\n",
       "\n",
       "    .dataframe tbody tr th {\n",
       "        vertical-align: top;\n",
       "    }\n",
       "\n",
       "    .dataframe thead th {\n",
       "        text-align: right;\n",
       "    }\n",
       "</style>\n",
       "<table border=\"1\" class=\"dataframe\">\n",
       "  <thead>\n",
       "    <tr style=\"text-align: right;\">\n",
       "      <th></th>\n",
       "      <th>jmeno</th>\n",
       "      <th>vek</th>\n",
       "      <th>vaha</th>\n",
       "      <th>vyska</th>\n",
       "    </tr>\n",
       "  </thead>\n",
       "  <tbody>\n",
       "    <tr>\n",
       "      <th>0</th>\n",
       "      <td>Matouš</td>\n",
       "      <td>23</td>\n",
       "      <td>65</td>\n",
       "      <td>160</td>\n",
       "    </tr>\n",
       "    <tr>\n",
       "      <th>1</th>\n",
       "      <td>Marek</td>\n",
       "      <td>25</td>\n",
       "      <td>70</td>\n",
       "      <td>170</td>\n",
       "    </tr>\n",
       "    <tr>\n",
       "      <th>2</th>\n",
       "      <td>Lukáš</td>\n",
       "      <td>27</td>\n",
       "      <td>75</td>\n",
       "      <td>180</td>\n",
       "    </tr>\n",
       "    <tr>\n",
       "      <th>3</th>\n",
       "      <td>Jan</td>\n",
       "      <td>29</td>\n",
       "      <td>80</td>\n",
       "      <td>190</td>\n",
       "    </tr>\n",
       "  </tbody>\n",
       "</table>\n",
       "</div>"
      ],
      "text/plain": [
       "    jmeno  vek  vaha  vyska\n",
       "0  Matouš   23    65    160\n",
       "1   Marek   25    70    170\n",
       "2   Lukáš   27    75    180\n",
       "3     Jan   29    80    190"
      ]
     },
     "execution_count": 214,
     "metadata": {},
     "output_type": "execute_result"
    }
   ],
   "source": [
    "uzivatele_df.rename(columns={\"age\": \"vek\"})"
   ]
  },
  {
   "cell_type": "markdown",
   "id": "ab69e7b7-b138-447d-8b72-924f2d017489",
   "metadata": {},
   "source": [
    "Při další kontrole zjistíš, že **nové jméno sloupečku zmizelo**:"
   ]
  },
  {
   "cell_type": "code",
   "execution_count": 215,
   "id": "dc081311-3f99-4aad-823b-7a852258f2e4",
   "metadata": {
    "tags": []
   },
   "outputs": [
    {
     "data": {
      "text/html": [
       "<div>\n",
       "<style scoped>\n",
       "    .dataframe tbody tr th:only-of-type {\n",
       "        vertical-align: middle;\n",
       "    }\n",
       "\n",
       "    .dataframe tbody tr th {\n",
       "        vertical-align: top;\n",
       "    }\n",
       "\n",
       "    .dataframe thead th {\n",
       "        text-align: right;\n",
       "    }\n",
       "</style>\n",
       "<table border=\"1\" class=\"dataframe\">\n",
       "  <thead>\n",
       "    <tr style=\"text-align: right;\">\n",
       "      <th></th>\n",
       "      <th>jmeno</th>\n",
       "      <th>age</th>\n",
       "      <th>vaha</th>\n",
       "      <th>vyska</th>\n",
       "    </tr>\n",
       "  </thead>\n",
       "  <tbody>\n",
       "    <tr>\n",
       "      <th>0</th>\n",
       "      <td>Matouš</td>\n",
       "      <td>23</td>\n",
       "      <td>65</td>\n",
       "      <td>160</td>\n",
       "    </tr>\n",
       "    <tr>\n",
       "      <th>1</th>\n",
       "      <td>Marek</td>\n",
       "      <td>25</td>\n",
       "      <td>70</td>\n",
       "      <td>170</td>\n",
       "    </tr>\n",
       "    <tr>\n",
       "      <th>2</th>\n",
       "      <td>Lukáš</td>\n",
       "      <td>27</td>\n",
       "      <td>75</td>\n",
       "      <td>180</td>\n",
       "    </tr>\n",
       "    <tr>\n",
       "      <th>3</th>\n",
       "      <td>Jan</td>\n",
       "      <td>29</td>\n",
       "      <td>80</td>\n",
       "      <td>190</td>\n",
       "    </tr>\n",
       "  </tbody>\n",
       "</table>\n",
       "</div>"
      ],
      "text/plain": [
       "    jmeno  age  vaha  vyska\n",
       "0  Matouš   23    65    160\n",
       "1   Marek   25    70    170\n",
       "2   Lukáš   27    75    180\n",
       "3     Jan   29    80    190"
      ]
     },
     "execution_count": 215,
     "metadata": {},
     "output_type": "execute_result"
    }
   ],
   "source": [
    "uzivatele_df"
   ]
  },
  {
   "cell_type": "markdown",
   "id": "0f3063d1-b97d-433e-b1bc-52db4efd8973",
   "metadata": {},
   "source": [
    "<br>\n",
    "\n",
    "Celou situaci můžeš řešit dvěma způsoby:\n",
    "1. Volitelný argument `inplace`,\n",
    "2. kopie původního `DataFrame` objektu."
   ]
  },
  {
   "cell_type": "code",
   "execution_count": null,
   "id": "70b1031a-2126-4751-8988-e515d1364939",
   "metadata": {
    "tags": []
   },
   "outputs": [],
   "source": [
    "prejmenovany_sloupec_df = uzivatele_df.rename(\n",
    "    columns={\"age\": \"vek\"})"
   ]
  },
  {
   "cell_type": "code",
   "execution_count": 217,
   "id": "9c51ad7b-e2e1-4ac2-8dc8-c399a2877918",
   "metadata": {
    "tags": []
   },
   "outputs": [
    {
     "data": {
      "text/html": [
       "<div>\n",
       "<style scoped>\n",
       "    .dataframe tbody tr th:only-of-type {\n",
       "        vertical-align: middle;\n",
       "    }\n",
       "\n",
       "    .dataframe tbody tr th {\n",
       "        vertical-align: top;\n",
       "    }\n",
       "\n",
       "    .dataframe thead th {\n",
       "        text-align: right;\n",
       "    }\n",
       "</style>\n",
       "<table border=\"1\" class=\"dataframe\">\n",
       "  <thead>\n",
       "    <tr style=\"text-align: right;\">\n",
       "      <th></th>\n",
       "      <th>jmeno</th>\n",
       "      <th>vek</th>\n",
       "      <th>vaha</th>\n",
       "      <th>vyska</th>\n",
       "    </tr>\n",
       "  </thead>\n",
       "  <tbody>\n",
       "    <tr>\n",
       "      <th>0</th>\n",
       "      <td>Matouš</td>\n",
       "      <td>23</td>\n",
       "      <td>65</td>\n",
       "      <td>160</td>\n",
       "    </tr>\n",
       "    <tr>\n",
       "      <th>1</th>\n",
       "      <td>Marek</td>\n",
       "      <td>25</td>\n",
       "      <td>70</td>\n",
       "      <td>170</td>\n",
       "    </tr>\n",
       "    <tr>\n",
       "      <th>2</th>\n",
       "      <td>Lukáš</td>\n",
       "      <td>27</td>\n",
       "      <td>75</td>\n",
       "      <td>180</td>\n",
       "    </tr>\n",
       "    <tr>\n",
       "      <th>3</th>\n",
       "      <td>Jan</td>\n",
       "      <td>29</td>\n",
       "      <td>80</td>\n",
       "      <td>190</td>\n",
       "    </tr>\n",
       "  </tbody>\n",
       "</table>\n",
       "</div>"
      ],
      "text/plain": [
       "    jmeno  vek  vaha  vyska\n",
       "0  Matouš   23    65    160\n",
       "1   Marek   25    70    170\n",
       "2   Lukáš   27    75    180\n",
       "3     Jan   29    80    190"
      ]
     },
     "execution_count": 217,
     "metadata": {},
     "output_type": "execute_result"
    }
   ],
   "source": [
    "prejmenovany_sloupec_df"
   ]
  },
  {
   "cell_type": "code",
   "execution_count": 218,
   "id": "451162db-61a1-455b-b89a-2fe78a92b300",
   "metadata": {},
   "outputs": [
    {
     "data": {
      "text/html": [
       "<div>\n",
       "<style scoped>\n",
       "    .dataframe tbody tr th:only-of-type {\n",
       "        vertical-align: middle;\n",
       "    }\n",
       "\n",
       "    .dataframe tbody tr th {\n",
       "        vertical-align: top;\n",
       "    }\n",
       "\n",
       "    .dataframe thead th {\n",
       "        text-align: right;\n",
       "    }\n",
       "</style>\n",
       "<table border=\"1\" class=\"dataframe\">\n",
       "  <thead>\n",
       "    <tr style=\"text-align: right;\">\n",
       "      <th></th>\n",
       "      <th>jmeno</th>\n",
       "      <th>age</th>\n",
       "      <th>vaha</th>\n",
       "      <th>vyska</th>\n",
       "    </tr>\n",
       "  </thead>\n",
       "  <tbody>\n",
       "    <tr>\n",
       "      <th>0</th>\n",
       "      <td>Matouš</td>\n",
       "      <td>23</td>\n",
       "      <td>65</td>\n",
       "      <td>160</td>\n",
       "    </tr>\n",
       "    <tr>\n",
       "      <th>1</th>\n",
       "      <td>Marek</td>\n",
       "      <td>25</td>\n",
       "      <td>70</td>\n",
       "      <td>170</td>\n",
       "    </tr>\n",
       "    <tr>\n",
       "      <th>2</th>\n",
       "      <td>Lukáš</td>\n",
       "      <td>27</td>\n",
       "      <td>75</td>\n",
       "      <td>180</td>\n",
       "    </tr>\n",
       "    <tr>\n",
       "      <th>3</th>\n",
       "      <td>Jan</td>\n",
       "      <td>29</td>\n",
       "      <td>80</td>\n",
       "      <td>190</td>\n",
       "    </tr>\n",
       "  </tbody>\n",
       "</table>\n",
       "</div>"
      ],
      "text/plain": [
       "    jmeno  age  vaha  vyska\n",
       "0  Matouš   23    65    160\n",
       "1   Marek   25    70    170\n",
       "2   Lukáš   27    75    180\n",
       "3     Jan   29    80    190"
      ]
     },
     "execution_count": 218,
     "metadata": {},
     "output_type": "execute_result"
    }
   ],
   "source": [
    "uzivatele_df"
   ]
  },
  {
   "cell_type": "code",
   "execution_count": 219,
   "id": "b678b2f0-7eef-47a1-9639-65d0d1d83e28",
   "metadata": {
    "tags": []
   },
   "outputs": [],
   "source": [
    "uzivatele_df.rename(columns={\"age\": \"vek\"}, inplace=True)  # Za cenu rizika!"
   ]
  },
  {
   "cell_type": "code",
   "execution_count": 220,
   "id": "2f26c9c3-7173-414d-aad0-d00e5ab76d0d",
   "metadata": {
    "tags": []
   },
   "outputs": [
    {
     "data": {
      "text/html": [
       "<div>\n",
       "<style scoped>\n",
       "    .dataframe tbody tr th:only-of-type {\n",
       "        vertical-align: middle;\n",
       "    }\n",
       "\n",
       "    .dataframe tbody tr th {\n",
       "        vertical-align: top;\n",
       "    }\n",
       "\n",
       "    .dataframe thead th {\n",
       "        text-align: right;\n",
       "    }\n",
       "</style>\n",
       "<table border=\"1\" class=\"dataframe\">\n",
       "  <thead>\n",
       "    <tr style=\"text-align: right;\">\n",
       "      <th></th>\n",
       "      <th>jmeno</th>\n",
       "      <th>vek</th>\n",
       "      <th>vaha</th>\n",
       "      <th>vyska</th>\n",
       "    </tr>\n",
       "  </thead>\n",
       "  <tbody>\n",
       "    <tr>\n",
       "      <th>0</th>\n",
       "      <td>Matouš</td>\n",
       "      <td>23</td>\n",
       "      <td>65</td>\n",
       "      <td>160</td>\n",
       "    </tr>\n",
       "    <tr>\n",
       "      <th>1</th>\n",
       "      <td>Marek</td>\n",
       "      <td>25</td>\n",
       "      <td>70</td>\n",
       "      <td>170</td>\n",
       "    </tr>\n",
       "    <tr>\n",
       "      <th>2</th>\n",
       "      <td>Lukáš</td>\n",
       "      <td>27</td>\n",
       "      <td>75</td>\n",
       "      <td>180</td>\n",
       "    </tr>\n",
       "    <tr>\n",
       "      <th>3</th>\n",
       "      <td>Jan</td>\n",
       "      <td>29</td>\n",
       "      <td>80</td>\n",
       "      <td>190</td>\n",
       "    </tr>\n",
       "  </tbody>\n",
       "</table>\n",
       "</div>"
      ],
      "text/plain": [
       "    jmeno  vek  vaha  vyska\n",
       "0  Matouš   23    65    160\n",
       "1   Marek   25    70    170\n",
       "2   Lukáš   27    75    180\n",
       "3     Jan   29    80    190"
      ]
     },
     "execution_count": 220,
     "metadata": {},
     "output_type": "execute_result"
    }
   ],
   "source": [
    "uzivatele_df"
   ]
  },
  {
   "cell_type": "markdown",
   "id": "a7185f41-60bc-45d8-a2fd-bcfcb5d9cbcc",
   "metadata": {},
   "source": [
    "Opatrně na práci s argumentem `inplace`.\n",
    "\n",
    "Jeho použití vždy důkladně zvaž, ať neztratíš zdrojová data."
   ]
  },
  {
   "cell_type": "markdown",
   "id": "3003f44f-1d2e-424e-9feb-0b6112f8267c",
   "metadata": {},
   "source": [
    "<br>\n",
    "\n",
    "Přejmenovat můžeš i **více sloupců** současně:"
   ]
  },
  {
   "cell_type": "code",
   "execution_count": 221,
   "id": "4d15297b-cd24-4257-8ce2-43ffa17805e2",
   "metadata": {
    "tags": []
   },
   "outputs": [],
   "source": [
    "nova_jmena_sloupcu = {  # CZ > EN\n",
    "    \"jmeno\": \"first_name\",\n",
    "    \"vek\": \"age\",\n",
    "    \"vaha\": \"weight\",\n",
    "    \"vyska\": \"height\"\n",
    "}"
   ]
  },
  {
   "cell_type": "code",
   "execution_count": 222,
   "id": "9b40261e-aa99-47da-ae5a-4a21597b5364",
   "metadata": {
    "tags": []
   },
   "outputs": [],
   "source": [
    "uzivatele_df.rename(columns=nova_jmena_sloupcu, inplace=True)"
   ]
  },
  {
   "cell_type": "code",
   "execution_count": 223,
   "id": "ccb0e3a7-b42f-42dd-b698-9099d51d834c",
   "metadata": {
    "tags": []
   },
   "outputs": [
    {
     "data": {
      "text/html": [
       "<div>\n",
       "<style scoped>\n",
       "    .dataframe tbody tr th:only-of-type {\n",
       "        vertical-align: middle;\n",
       "    }\n",
       "\n",
       "    .dataframe tbody tr th {\n",
       "        vertical-align: top;\n",
       "    }\n",
       "\n",
       "    .dataframe thead th {\n",
       "        text-align: right;\n",
       "    }\n",
       "</style>\n",
       "<table border=\"1\" class=\"dataframe\">\n",
       "  <thead>\n",
       "    <tr style=\"text-align: right;\">\n",
       "      <th></th>\n",
       "      <th>first_name</th>\n",
       "      <th>age</th>\n",
       "      <th>weight</th>\n",
       "      <th>height</th>\n",
       "    </tr>\n",
       "  </thead>\n",
       "  <tbody>\n",
       "    <tr>\n",
       "      <th>0</th>\n",
       "      <td>Matouš</td>\n",
       "      <td>23</td>\n",
       "      <td>65</td>\n",
       "      <td>160</td>\n",
       "    </tr>\n",
       "    <tr>\n",
       "      <th>1</th>\n",
       "      <td>Marek</td>\n",
       "      <td>25</td>\n",
       "      <td>70</td>\n",
       "      <td>170</td>\n",
       "    </tr>\n",
       "    <tr>\n",
       "      <th>2</th>\n",
       "      <td>Lukáš</td>\n",
       "      <td>27</td>\n",
       "      <td>75</td>\n",
       "      <td>180</td>\n",
       "    </tr>\n",
       "    <tr>\n",
       "      <th>3</th>\n",
       "      <td>Jan</td>\n",
       "      <td>29</td>\n",
       "      <td>80</td>\n",
       "      <td>190</td>\n",
       "    </tr>\n",
       "  </tbody>\n",
       "</table>\n",
       "</div>"
      ],
      "text/plain": [
       "  first_name  age  weight  height\n",
       "0     Matouš   23      65     160\n",
       "1      Marek   25      70     170\n",
       "2      Lukáš   27      75     180\n",
       "3        Jan   29      80     190"
      ]
     },
     "execution_count": 223,
     "metadata": {},
     "output_type": "execute_result"
    }
   ],
   "source": [
    "uzivatele_df"
   ]
  },
  {
   "cell_type": "markdown",
   "id": "c322673a-8a60-4803-866c-a871733e661c",
   "metadata": {},
   "source": [
    "### Přidávání sloupců do DataFrame\n",
    "\n",
    "---\n",
    "\n",
    "Potřebuješ doplnit další sloupec. Nebo upravit data v jednom sloupci a výsledek zapsat do dalšího.\n",
    "\n",
    "Nejčastěji můžeš pracovat **na přidávání nových sloupců** těmito třemi způsoby:\n",
    "1. **Slovníková anotace** pomocí klíče a hodnoty,\n",
    "2. výsledek pomocí operace **mezi dvěma sloupci**,\n",
    "3. pomocí metody `apply`."
   ]
  },
  {
   "cell_type": "markdown",
   "id": "1ade37c1-ad33-42e1-b498-04c1a8669bef",
   "metadata": {},
   "source": [
    "#### Jako klíč a hodnota\n",
    "\n",
    "Takový způsob použiješ, pokud máš nachystané hodnoty pro nový sloupec:"
   ]
  },
  {
   "cell_type": "code",
   "execution_count": 224,
   "id": "06e7e4d6-74bf-4569-8f98-15b9111a5313",
   "metadata": {
    "tags": []
   },
   "outputs": [
    {
     "data": {
      "text/html": [
       "<div>\n",
       "<style scoped>\n",
       "    .dataframe tbody tr th:only-of-type {\n",
       "        vertical-align: middle;\n",
       "    }\n",
       "\n",
       "    .dataframe tbody tr th {\n",
       "        vertical-align: top;\n",
       "    }\n",
       "\n",
       "    .dataframe thead th {\n",
       "        text-align: right;\n",
       "    }\n",
       "</style>\n",
       "<table border=\"1\" class=\"dataframe\">\n",
       "  <thead>\n",
       "    <tr style=\"text-align: right;\">\n",
       "      <th></th>\n",
       "      <th>first_name</th>\n",
       "      <th>age</th>\n",
       "      <th>weight</th>\n",
       "      <th>height</th>\n",
       "    </tr>\n",
       "  </thead>\n",
       "  <tbody>\n",
       "    <tr>\n",
       "      <th>0</th>\n",
       "      <td>Matouš</td>\n",
       "      <td>23</td>\n",
       "      <td>65</td>\n",
       "      <td>160</td>\n",
       "    </tr>\n",
       "    <tr>\n",
       "      <th>1</th>\n",
       "      <td>Marek</td>\n",
       "      <td>25</td>\n",
       "      <td>70</td>\n",
       "      <td>170</td>\n",
       "    </tr>\n",
       "    <tr>\n",
       "      <th>2</th>\n",
       "      <td>Lukáš</td>\n",
       "      <td>27</td>\n",
       "      <td>75</td>\n",
       "      <td>180</td>\n",
       "    </tr>\n",
       "    <tr>\n",
       "      <th>3</th>\n",
       "      <td>Jan</td>\n",
       "      <td>29</td>\n",
       "      <td>80</td>\n",
       "      <td>190</td>\n",
       "    </tr>\n",
       "  </tbody>\n",
       "</table>\n",
       "</div>"
      ],
      "text/plain": [
       "  first_name  age  weight  height\n",
       "0     Matouš   23      65     160\n",
       "1      Marek   25      70     170\n",
       "2      Lukáš   27      75     180\n",
       "3        Jan   29      80     190"
      ]
     },
     "execution_count": 224,
     "metadata": {},
     "output_type": "execute_result"
    }
   ],
   "source": [
    "uzivatele_df"
   ]
  },
  {
   "cell_type": "code",
   "execution_count": 225,
   "id": "c635c050-89c7-4018-a847-411aed8648f2",
   "metadata": {
    "tags": []
   },
   "outputs": [],
   "source": [
    "uzivatele_df['surname'] = (\"Holinka\", \"Párek\", \"Holinka\", \"Novák\")"
   ]
  },
  {
   "cell_type": "code",
   "execution_count": 226,
   "id": "b843b019-4775-472d-98fd-e4c472ac6c05",
   "metadata": {
    "tags": []
   },
   "outputs": [
    {
     "data": {
      "text/html": [
       "<div>\n",
       "<style scoped>\n",
       "    .dataframe tbody tr th:only-of-type {\n",
       "        vertical-align: middle;\n",
       "    }\n",
       "\n",
       "    .dataframe tbody tr th {\n",
       "        vertical-align: top;\n",
       "    }\n",
       "\n",
       "    .dataframe thead th {\n",
       "        text-align: right;\n",
       "    }\n",
       "</style>\n",
       "<table border=\"1\" class=\"dataframe\">\n",
       "  <thead>\n",
       "    <tr style=\"text-align: right;\">\n",
       "      <th></th>\n",
       "      <th>first_name</th>\n",
       "      <th>age</th>\n",
       "      <th>weight</th>\n",
       "      <th>height</th>\n",
       "      <th>surname</th>\n",
       "    </tr>\n",
       "  </thead>\n",
       "  <tbody>\n",
       "    <tr>\n",
       "      <th>0</th>\n",
       "      <td>Matouš</td>\n",
       "      <td>23</td>\n",
       "      <td>65</td>\n",
       "      <td>160</td>\n",
       "      <td>Holinka</td>\n",
       "    </tr>\n",
       "    <tr>\n",
       "      <th>1</th>\n",
       "      <td>Marek</td>\n",
       "      <td>25</td>\n",
       "      <td>70</td>\n",
       "      <td>170</td>\n",
       "      <td>Párek</td>\n",
       "    </tr>\n",
       "    <tr>\n",
       "      <th>2</th>\n",
       "      <td>Lukáš</td>\n",
       "      <td>27</td>\n",
       "      <td>75</td>\n",
       "      <td>180</td>\n",
       "      <td>Holinka</td>\n",
       "    </tr>\n",
       "    <tr>\n",
       "      <th>3</th>\n",
       "      <td>Jan</td>\n",
       "      <td>29</td>\n",
       "      <td>80</td>\n",
       "      <td>190</td>\n",
       "      <td>Novák</td>\n",
       "    </tr>\n",
       "  </tbody>\n",
       "</table>\n",
       "</div>"
      ],
      "text/plain": [
       "  first_name  age  weight  height  surname\n",
       "0     Matouš   23      65     160  Holinka\n",
       "1      Marek   25      70     170    Párek\n",
       "2      Lukáš   27      75     180  Holinka\n",
       "3        Jan   29      80     190    Novák"
      ]
     },
     "execution_count": 226,
     "metadata": {},
     "output_type": "execute_result"
    }
   ],
   "source": [
    "uzivatele_df"
   ]
  },
  {
   "cell_type": "markdown",
   "id": "ace1432c",
   "metadata": {},
   "source": [
    "<br>\n",
    "\n",
    "#### Kombinace existujících sloupců\n",
    "\n",
    "---\n",
    "\n",
    "Tento způsob lze použít, pokud chceš vytvořit nový sloupec pomocí operací mezi existujícími sloupci:"
   ]
  },
  {
   "cell_type": "code",
   "execution_count": 227,
   "id": "3d054819-097c-45ef-a653-c3312e7e668b",
   "metadata": {
    "tags": []
   },
   "outputs": [],
   "source": [
    "uzivatele_df[\"bmi\"] = uzivatele_df[\"weight\"] / (uzivatele_df[\"height\"] / 100) ** 2"
   ]
  },
  {
   "cell_type": "code",
   "execution_count": 228,
   "id": "1a17878d",
   "metadata": {},
   "outputs": [
    {
     "data": {
      "text/html": [
       "<div>\n",
       "<style scoped>\n",
       "    .dataframe tbody tr th:only-of-type {\n",
       "        vertical-align: middle;\n",
       "    }\n",
       "\n",
       "    .dataframe tbody tr th {\n",
       "        vertical-align: top;\n",
       "    }\n",
       "\n",
       "    .dataframe thead th {\n",
       "        text-align: right;\n",
       "    }\n",
       "</style>\n",
       "<table border=\"1\" class=\"dataframe\">\n",
       "  <thead>\n",
       "    <tr style=\"text-align: right;\">\n",
       "      <th></th>\n",
       "      <th>first_name</th>\n",
       "      <th>age</th>\n",
       "      <th>weight</th>\n",
       "      <th>height</th>\n",
       "      <th>surname</th>\n",
       "      <th>bmi</th>\n",
       "    </tr>\n",
       "  </thead>\n",
       "  <tbody>\n",
       "    <tr>\n",
       "      <th>0</th>\n",
       "      <td>Matouš</td>\n",
       "      <td>23</td>\n",
       "      <td>65</td>\n",
       "      <td>160</td>\n",
       "      <td>Holinka</td>\n",
       "      <td>25.390625</td>\n",
       "    </tr>\n",
       "    <tr>\n",
       "      <th>1</th>\n",
       "      <td>Marek</td>\n",
       "      <td>25</td>\n",
       "      <td>70</td>\n",
       "      <td>170</td>\n",
       "      <td>Párek</td>\n",
       "      <td>24.221453</td>\n",
       "    </tr>\n",
       "    <tr>\n",
       "      <th>2</th>\n",
       "      <td>Lukáš</td>\n",
       "      <td>27</td>\n",
       "      <td>75</td>\n",
       "      <td>180</td>\n",
       "      <td>Holinka</td>\n",
       "      <td>23.148148</td>\n",
       "    </tr>\n",
       "    <tr>\n",
       "      <th>3</th>\n",
       "      <td>Jan</td>\n",
       "      <td>29</td>\n",
       "      <td>80</td>\n",
       "      <td>190</td>\n",
       "      <td>Novák</td>\n",
       "      <td>22.160665</td>\n",
       "    </tr>\n",
       "  </tbody>\n",
       "</table>\n",
       "</div>"
      ],
      "text/plain": [
       "  first_name  age  weight  height  surname        bmi\n",
       "0     Matouš   23      65     160  Holinka  25.390625\n",
       "1      Marek   25      70     170    Párek  24.221453\n",
       "2      Lukáš   27      75     180  Holinka  23.148148\n",
       "3        Jan   29      80     190    Novák  22.160665"
      ]
     },
     "execution_count": 228,
     "metadata": {},
     "output_type": "execute_result"
    }
   ],
   "source": [
    "uzivatele_df"
   ]
  },
  {
   "cell_type": "code",
   "execution_count": 229,
   "id": "b67e312f",
   "metadata": {},
   "outputs": [],
   "source": [
    "uzivatele_df = uzivatele_df.assign(city=\"Praha\")"
   ]
  },
  {
   "cell_type": "code",
   "execution_count": 230,
   "id": "c6b131b5",
   "metadata": {},
   "outputs": [
    {
     "data": {
      "text/html": [
       "<div>\n",
       "<style scoped>\n",
       "    .dataframe tbody tr th:only-of-type {\n",
       "        vertical-align: middle;\n",
       "    }\n",
       "\n",
       "    .dataframe tbody tr th {\n",
       "        vertical-align: top;\n",
       "    }\n",
       "\n",
       "    .dataframe thead th {\n",
       "        text-align: right;\n",
       "    }\n",
       "</style>\n",
       "<table border=\"1\" class=\"dataframe\">\n",
       "  <thead>\n",
       "    <tr style=\"text-align: right;\">\n",
       "      <th></th>\n",
       "      <th>first_name</th>\n",
       "      <th>age</th>\n",
       "      <th>weight</th>\n",
       "      <th>height</th>\n",
       "      <th>surname</th>\n",
       "      <th>bmi</th>\n",
       "      <th>city</th>\n",
       "    </tr>\n",
       "  </thead>\n",
       "  <tbody>\n",
       "    <tr>\n",
       "      <th>0</th>\n",
       "      <td>Matouš</td>\n",
       "      <td>23</td>\n",
       "      <td>65</td>\n",
       "      <td>160</td>\n",
       "      <td>Holinka</td>\n",
       "      <td>25.390625</td>\n",
       "      <td>Praha</td>\n",
       "    </tr>\n",
       "    <tr>\n",
       "      <th>1</th>\n",
       "      <td>Marek</td>\n",
       "      <td>25</td>\n",
       "      <td>70</td>\n",
       "      <td>170</td>\n",
       "      <td>Párek</td>\n",
       "      <td>24.221453</td>\n",
       "      <td>Praha</td>\n",
       "    </tr>\n",
       "    <tr>\n",
       "      <th>2</th>\n",
       "      <td>Lukáš</td>\n",
       "      <td>27</td>\n",
       "      <td>75</td>\n",
       "      <td>180</td>\n",
       "      <td>Holinka</td>\n",
       "      <td>23.148148</td>\n",
       "      <td>Praha</td>\n",
       "    </tr>\n",
       "    <tr>\n",
       "      <th>3</th>\n",
       "      <td>Jan</td>\n",
       "      <td>29</td>\n",
       "      <td>80</td>\n",
       "      <td>190</td>\n",
       "      <td>Novák</td>\n",
       "      <td>22.160665</td>\n",
       "      <td>Praha</td>\n",
       "    </tr>\n",
       "  </tbody>\n",
       "</table>\n",
       "</div>"
      ],
      "text/plain": [
       "  first_name  age  weight  height  surname        bmi   city\n",
       "0     Matouš   23      65     160  Holinka  25.390625  Praha\n",
       "1      Marek   25      70     170    Párek  24.221453  Praha\n",
       "2      Lukáš   27      75     180  Holinka  23.148148  Praha\n",
       "3        Jan   29      80     190    Novák  22.160665  Praha"
      ]
     },
     "execution_count": 230,
     "metadata": {},
     "output_type": "execute_result"
    }
   ],
   "source": [
    "uzivatele_df"
   ]
  },
  {
   "cell_type": "code",
   "execution_count": 231,
   "id": "714850a8",
   "metadata": {},
   "outputs": [
    {
     "data": {
      "text/html": [
       "<div>\n",
       "<style scoped>\n",
       "    .dataframe tbody tr th:only-of-type {\n",
       "        vertical-align: middle;\n",
       "    }\n",
       "\n",
       "    .dataframe tbody tr th {\n",
       "        vertical-align: top;\n",
       "    }\n",
       "\n",
       "    .dataframe thead th {\n",
       "        text-align: right;\n",
       "    }\n",
       "</style>\n",
       "<table border=\"1\" class=\"dataframe\">\n",
       "  <thead>\n",
       "    <tr style=\"text-align: right;\">\n",
       "      <th></th>\n",
       "      <th>first_name</th>\n",
       "      <th>age</th>\n",
       "      <th>weight</th>\n",
       "      <th>height</th>\n",
       "      <th>surname</th>\n",
       "      <th>bmi</th>\n",
       "      <th>city</th>\n",
       "      <th>vek_za_5_let</th>\n",
       "      <th>mlady</th>\n",
       "    </tr>\n",
       "  </thead>\n",
       "  <tbody>\n",
       "    <tr>\n",
       "      <th>0</th>\n",
       "      <td>Matouš</td>\n",
       "      <td>23</td>\n",
       "      <td>65</td>\n",
       "      <td>160</td>\n",
       "      <td>Holinka</td>\n",
       "      <td>25.390625</td>\n",
       "      <td>Praha</td>\n",
       "      <td>28</td>\n",
       "      <td>True</td>\n",
       "    </tr>\n",
       "    <tr>\n",
       "      <th>1</th>\n",
       "      <td>Marek</td>\n",
       "      <td>25</td>\n",
       "      <td>70</td>\n",
       "      <td>170</td>\n",
       "      <td>Párek</td>\n",
       "      <td>24.221453</td>\n",
       "      <td>Praha</td>\n",
       "      <td>30</td>\n",
       "      <td>True</td>\n",
       "    </tr>\n",
       "    <tr>\n",
       "      <th>2</th>\n",
       "      <td>Lukáš</td>\n",
       "      <td>27</td>\n",
       "      <td>75</td>\n",
       "      <td>180</td>\n",
       "      <td>Holinka</td>\n",
       "      <td>23.148148</td>\n",
       "      <td>Praha</td>\n",
       "      <td>32</td>\n",
       "      <td>True</td>\n",
       "    </tr>\n",
       "    <tr>\n",
       "      <th>3</th>\n",
       "      <td>Jan</td>\n",
       "      <td>29</td>\n",
       "      <td>80</td>\n",
       "      <td>190</td>\n",
       "      <td>Novák</td>\n",
       "      <td>22.160665</td>\n",
       "      <td>Praha</td>\n",
       "      <td>34</td>\n",
       "      <td>False</td>\n",
       "    </tr>\n",
       "  </tbody>\n",
       "</table>\n",
       "</div>"
      ],
      "text/plain": [
       "  first_name  age  weight  height  surname        bmi   city  vek_za_5_let  \\\n",
       "0     Matouš   23      65     160  Holinka  25.390625  Praha            28   \n",
       "1      Marek   25      70     170    Párek  24.221453  Praha            30   \n",
       "2      Lukáš   27      75     180  Holinka  23.148148  Praha            32   \n",
       "3        Jan   29      80     190    Novák  22.160665  Praha            34   \n",
       "\n",
       "   mlady  \n",
       "0   True  \n",
       "1   True  \n",
       "2   True  \n",
       "3  False  "
      ]
     },
     "execution_count": 231,
     "metadata": {},
     "output_type": "execute_result"
    }
   ],
   "source": [
    "uzivatele_df.assign(\n",
    "    vek_za_5_let=uzivatele_df[\"age\"] + 5,\n",
    "    mlady=uzivatele_df[\"age\"] < 28\n",
    ")"
   ]
  },
  {
   "cell_type": "code",
   "execution_count": 232,
   "id": "01a06e0d-fb42-4ab1-9f12-d99c240325c9",
   "metadata": {
    "tags": []
   },
   "outputs": [
    {
     "data": {
      "text/html": [
       "<div>\n",
       "<style scoped>\n",
       "    .dataframe tbody tr th:only-of-type {\n",
       "        vertical-align: middle;\n",
       "    }\n",
       "\n",
       "    .dataframe tbody tr th {\n",
       "        vertical-align: top;\n",
       "    }\n",
       "\n",
       "    .dataframe thead th {\n",
       "        text-align: right;\n",
       "    }\n",
       "</style>\n",
       "<table border=\"1\" class=\"dataframe\">\n",
       "  <thead>\n",
       "    <tr style=\"text-align: right;\">\n",
       "      <th></th>\n",
       "      <th>first_name</th>\n",
       "      <th>age</th>\n",
       "      <th>weight</th>\n",
       "      <th>height</th>\n",
       "      <th>surname</th>\n",
       "      <th>bmi</th>\n",
       "      <th>city</th>\n",
       "    </tr>\n",
       "  </thead>\n",
       "  <tbody>\n",
       "    <tr>\n",
       "      <th>0</th>\n",
       "      <td>Matouš</td>\n",
       "      <td>23</td>\n",
       "      <td>65</td>\n",
       "      <td>160</td>\n",
       "      <td>Holinka</td>\n",
       "      <td>25.390625</td>\n",
       "      <td>Praha</td>\n",
       "    </tr>\n",
       "    <tr>\n",
       "      <th>1</th>\n",
       "      <td>Marek</td>\n",
       "      <td>25</td>\n",
       "      <td>70</td>\n",
       "      <td>170</td>\n",
       "      <td>Párek</td>\n",
       "      <td>24.221453</td>\n",
       "      <td>Praha</td>\n",
       "    </tr>\n",
       "    <tr>\n",
       "      <th>2</th>\n",
       "      <td>Lukáš</td>\n",
       "      <td>27</td>\n",
       "      <td>75</td>\n",
       "      <td>180</td>\n",
       "      <td>Holinka</td>\n",
       "      <td>23.148148</td>\n",
       "      <td>Praha</td>\n",
       "    </tr>\n",
       "    <tr>\n",
       "      <th>3</th>\n",
       "      <td>Jan</td>\n",
       "      <td>29</td>\n",
       "      <td>80</td>\n",
       "      <td>190</td>\n",
       "      <td>Novák</td>\n",
       "      <td>22.160665</td>\n",
       "      <td>Praha</td>\n",
       "    </tr>\n",
       "  </tbody>\n",
       "</table>\n",
       "</div>"
      ],
      "text/plain": [
       "  first_name  age  weight  height  surname        bmi   city\n",
       "0     Matouš   23      65     160  Holinka  25.390625  Praha\n",
       "1      Marek   25      70     170    Párek  24.221453  Praha\n",
       "2      Lukáš   27      75     180  Holinka  23.148148  Praha\n",
       "3        Jan   29      80     190    Novák  22.160665  Praha"
      ]
     },
     "execution_count": 232,
     "metadata": {},
     "output_type": "execute_result"
    }
   ],
   "source": [
    "uzivatele_df"
   ]
  },
  {
   "cell_type": "markdown",
   "id": "87ba33e5-ef4a-482e-ae16-c35c58dbcdc3",
   "metadata": {},
   "source": [
    "#### Metoda `apply`\n",
    "\n",
    "---\n",
    "\n",
    "Pokud potřebuješ aplikovat uživ. funkci **pro stávající sloupec**, využiješ metodu `apply`:"
   ]
  },
  {
   "cell_type": "code",
   "execution_count": 233,
   "id": "c1073848-da98-42df-a33c-7109764fdcb1",
   "metadata": {
    "tags": []
   },
   "outputs": [
    {
     "data": {
      "text/html": [
       "<div>\n",
       "<style scoped>\n",
       "    .dataframe tbody tr th:only-of-type {\n",
       "        vertical-align: middle;\n",
       "    }\n",
       "\n",
       "    .dataframe tbody tr th {\n",
       "        vertical-align: top;\n",
       "    }\n",
       "\n",
       "    .dataframe thead th {\n",
       "        text-align: right;\n",
       "    }\n",
       "</style>\n",
       "<table border=\"1\" class=\"dataframe\">\n",
       "  <thead>\n",
       "    <tr style=\"text-align: right;\">\n",
       "      <th></th>\n",
       "      <th>first_name</th>\n",
       "      <th>age</th>\n",
       "      <th>weight</th>\n",
       "      <th>height</th>\n",
       "      <th>surname</th>\n",
       "      <th>bmi</th>\n",
       "      <th>city</th>\n",
       "    </tr>\n",
       "  </thead>\n",
       "  <tbody>\n",
       "    <tr>\n",
       "      <th>0</th>\n",
       "      <td>Matouš</td>\n",
       "      <td>23</td>\n",
       "      <td>65</td>\n",
       "      <td>160</td>\n",
       "      <td>Holinka</td>\n",
       "      <td>25.390625</td>\n",
       "      <td>Praha</td>\n",
       "    </tr>\n",
       "    <tr>\n",
       "      <th>1</th>\n",
       "      <td>Marek</td>\n",
       "      <td>25</td>\n",
       "      <td>70</td>\n",
       "      <td>170</td>\n",
       "      <td>Párek</td>\n",
       "      <td>24.221453</td>\n",
       "      <td>Praha</td>\n",
       "    </tr>\n",
       "    <tr>\n",
       "      <th>2</th>\n",
       "      <td>Lukáš</td>\n",
       "      <td>27</td>\n",
       "      <td>75</td>\n",
       "      <td>180</td>\n",
       "      <td>Holinka</td>\n",
       "      <td>23.148148</td>\n",
       "      <td>Praha</td>\n",
       "    </tr>\n",
       "    <tr>\n",
       "      <th>3</th>\n",
       "      <td>Jan</td>\n",
       "      <td>29</td>\n",
       "      <td>80</td>\n",
       "      <td>190</td>\n",
       "      <td>Novák</td>\n",
       "      <td>22.160665</td>\n",
       "      <td>Praha</td>\n",
       "    </tr>\n",
       "  </tbody>\n",
       "</table>\n",
       "</div>"
      ],
      "text/plain": [
       "  first_name  age  weight  height  surname        bmi   city\n",
       "0     Matouš   23      65     160  Holinka  25.390625  Praha\n",
       "1      Marek   25      70     170    Párek  24.221453  Praha\n",
       "2      Lukáš   27      75     180  Holinka  23.148148  Praha\n",
       "3        Jan   29      80     190    Novák  22.160665  Praha"
      ]
     },
     "execution_count": 233,
     "metadata": {},
     "output_type": "execute_result"
    }
   ],
   "source": [
    "uzivatele_df"
   ]
  },
  {
   "cell_type": "code",
   "execution_count": 234,
   "id": "83253a18-3363-4667-85ba-5de73d11cc18",
   "metadata": {
    "tags": []
   },
   "outputs": [],
   "source": [
    "def vytvor_email(prijmeni: str, domena: str = \"gmail.com\") -> str:\n",
    "    \"\"\"\n",
    "    Vrať zformátovaný string, který tvoří emailovou adresu.\n",
    "    \"\"\"\n",
    "    return f\"{prijmeni.lower()}@{domena}\""
   ]
  },
  {
   "cell_type": "code",
   "execution_count": 235,
   "id": "b5a4647f-242e-4dfc-a4e2-a06cf9505cfe",
   "metadata": {},
   "outputs": [
    {
     "data": {
      "text/plain": [
       "'holinka@gmail.com'"
      ]
     },
     "execution_count": 235,
     "metadata": {},
     "output_type": "execute_result"
    }
   ],
   "source": [
    "vytvor_email(prijmeni='holinka')"
   ]
  },
  {
   "cell_type": "code",
   "execution_count": 237,
   "id": "34e3dddb-9386-4007-b9e2-bfa220d28dca",
   "metadata": {
    "tags": []
   },
   "outputs": [],
   "source": [
    "uzivatele_df['email'] = uzivatele_df['surname'].apply(vytvor_email)"
   ]
  },
  {
   "cell_type": "code",
   "execution_count": 238,
   "id": "ae2f6dbf-776c-4ddf-9eba-1f369e71a318",
   "metadata": {
    "tags": []
   },
   "outputs": [
    {
     "data": {
      "text/html": [
       "<div>\n",
       "<style scoped>\n",
       "    .dataframe tbody tr th:only-of-type {\n",
       "        vertical-align: middle;\n",
       "    }\n",
       "\n",
       "    .dataframe tbody tr th {\n",
       "        vertical-align: top;\n",
       "    }\n",
       "\n",
       "    .dataframe thead th {\n",
       "        text-align: right;\n",
       "    }\n",
       "</style>\n",
       "<table border=\"1\" class=\"dataframe\">\n",
       "  <thead>\n",
       "    <tr style=\"text-align: right;\">\n",
       "      <th></th>\n",
       "      <th>first_name</th>\n",
       "      <th>age</th>\n",
       "      <th>weight</th>\n",
       "      <th>height</th>\n",
       "      <th>surname</th>\n",
       "      <th>bmi</th>\n",
       "      <th>city</th>\n",
       "      <th>email</th>\n",
       "    </tr>\n",
       "  </thead>\n",
       "  <tbody>\n",
       "    <tr>\n",
       "      <th>0</th>\n",
       "      <td>Matouš</td>\n",
       "      <td>23</td>\n",
       "      <td>65</td>\n",
       "      <td>160</td>\n",
       "      <td>Holinka</td>\n",
       "      <td>25.390625</td>\n",
       "      <td>Praha</td>\n",
       "      <td>holinka@gmail.com</td>\n",
       "    </tr>\n",
       "    <tr>\n",
       "      <th>1</th>\n",
       "      <td>Marek</td>\n",
       "      <td>25</td>\n",
       "      <td>70</td>\n",
       "      <td>170</td>\n",
       "      <td>Párek</td>\n",
       "      <td>24.221453</td>\n",
       "      <td>Praha</td>\n",
       "      <td>párek@gmail.com</td>\n",
       "    </tr>\n",
       "    <tr>\n",
       "      <th>2</th>\n",
       "      <td>Lukáš</td>\n",
       "      <td>27</td>\n",
       "      <td>75</td>\n",
       "      <td>180</td>\n",
       "      <td>Holinka</td>\n",
       "      <td>23.148148</td>\n",
       "      <td>Praha</td>\n",
       "      <td>holinka@gmail.com</td>\n",
       "    </tr>\n",
       "    <tr>\n",
       "      <th>3</th>\n",
       "      <td>Jan</td>\n",
       "      <td>29</td>\n",
       "      <td>80</td>\n",
       "      <td>190</td>\n",
       "      <td>Novák</td>\n",
       "      <td>22.160665</td>\n",
       "      <td>Praha</td>\n",
       "      <td>novák@gmail.com</td>\n",
       "    </tr>\n",
       "  </tbody>\n",
       "</table>\n",
       "</div>"
      ],
      "text/plain": [
       "  first_name  age  weight  height  surname        bmi   city  \\\n",
       "0     Matouš   23      65     160  Holinka  25.390625  Praha   \n",
       "1      Marek   25      70     170    Párek  24.221453  Praha   \n",
       "2      Lukáš   27      75     180  Holinka  23.148148  Praha   \n",
       "3        Jan   29      80     190    Novák  22.160665  Praha   \n",
       "\n",
       "               email  \n",
       "0  holinka@gmail.com  \n",
       "1    párek@gmail.com  \n",
       "2  holinka@gmail.com  \n",
       "3    novák@gmail.com  "
      ]
     },
     "execution_count": 238,
     "metadata": {},
     "output_type": "execute_result"
    }
   ],
   "source": [
    "uzivatele_df"
   ]
  },
  {
   "cell_type": "markdown",
   "id": "4f8549c3-1e49-4448-8335-d090fa6ef60b",
   "metadata": {},
   "source": [
    "<br>\n",
    "\n",
    "Pokud budeš potřebovat pracovat **s více sloupečky**:"
   ]
  },
  {
   "cell_type": "code",
   "execution_count": 247,
   "id": "e90c7e9f-045f-4eb8-8e6b-1ebd2377ffa6",
   "metadata": {
    "tags": []
   },
   "outputs": [],
   "source": [
    "from pandas import Series\n",
    "\n",
    "def vytvor_novy_email(radek: Series, domena: str = \"gmail.com\") -> str:\n",
    "    \"\"\"\n",
    "    Vrať zformátovaný string, který tvoří emailovou adresu.\n",
    "    \"\"\"\n",
    "    return f\"{radek['first_name'].lower()}.{radek['surname'].lower()}@{domena}\""
   ]
  },
  {
   "cell_type": "code",
   "execution_count": 248,
   "id": "cd155080-68b4-4f96-911a-84149ca399e1",
   "metadata": {},
   "outputs": [
    {
     "data": {
      "text/html": [
       "<div>\n",
       "<style scoped>\n",
       "    .dataframe tbody tr th:only-of-type {\n",
       "        vertical-align: middle;\n",
       "    }\n",
       "\n",
       "    .dataframe tbody tr th {\n",
       "        vertical-align: top;\n",
       "    }\n",
       "\n",
       "    .dataframe thead th {\n",
       "        text-align: right;\n",
       "    }\n",
       "</style>\n",
       "<table border=\"1\" class=\"dataframe\">\n",
       "  <thead>\n",
       "    <tr style=\"text-align: right;\">\n",
       "      <th></th>\n",
       "      <th>first_name</th>\n",
       "      <th>surname</th>\n",
       "    </tr>\n",
       "  </thead>\n",
       "  <tbody>\n",
       "    <tr>\n",
       "      <th>0</th>\n",
       "      <td>Matous</td>\n",
       "      <td>Test</td>\n",
       "    </tr>\n",
       "  </tbody>\n",
       "</table>\n",
       "</div>"
      ],
      "text/plain": [
       "  first_name surname\n",
       "0     Matous    Test"
      ]
     },
     "execution_count": 248,
     "metadata": {},
     "output_type": "execute_result"
    }
   ],
   "source": [
    "jeden_uzivatel = pd.DataFrame({'first_name': ['Matous'], 'surname': ['Test']})\n",
    "jeden_uzivatel"
   ]
  },
  {
   "cell_type": "code",
   "execution_count": 249,
   "id": "cc7cbd61-2d5a-4606-9acc-9e0d44390748",
   "metadata": {},
   "outputs": [
    {
     "data": {
      "text/plain": [
       "first_name    Matous\n",
       "surname         Test\n",
       "Name: 0, dtype: object"
      ]
     },
     "execution_count": 249,
     "metadata": {},
     "output_type": "execute_result"
    }
   ],
   "source": [
    "jeden_uzivatel.iloc[0]"
   ]
  },
  {
   "cell_type": "code",
   "execution_count": 250,
   "id": "5f16feae-96e3-4add-81cc-1135e02af4b6",
   "metadata": {},
   "outputs": [
    {
     "data": {
      "text/plain": [
       "'matous.test@gmail.com'"
      ]
     },
     "execution_count": 250,
     "metadata": {},
     "output_type": "execute_result"
    }
   ],
   "source": [
    "vytvor_novy_email(radek=jeden_uzivatel.iloc[0])"
   ]
  },
  {
   "cell_type": "code",
   "execution_count": 251,
   "id": "ff2555b3-d8f0-482e-9ef9-13913f8d1679",
   "metadata": {},
   "outputs": [
    {
     "data": {
      "text/html": [
       "<div>\n",
       "<style scoped>\n",
       "    .dataframe tbody tr th:only-of-type {\n",
       "        vertical-align: middle;\n",
       "    }\n",
       "\n",
       "    .dataframe tbody tr th {\n",
       "        vertical-align: top;\n",
       "    }\n",
       "\n",
       "    .dataframe thead th {\n",
       "        text-align: right;\n",
       "    }\n",
       "</style>\n",
       "<table border=\"1\" class=\"dataframe\">\n",
       "  <thead>\n",
       "    <tr style=\"text-align: right;\">\n",
       "      <th></th>\n",
       "      <th>first_name</th>\n",
       "      <th>age</th>\n",
       "      <th>weight</th>\n",
       "      <th>height</th>\n",
       "      <th>surname</th>\n",
       "      <th>bmi</th>\n",
       "      <th>city</th>\n",
       "      <th>email</th>\n",
       "    </tr>\n",
       "  </thead>\n",
       "  <tbody>\n",
       "    <tr>\n",
       "      <th>0</th>\n",
       "      <td>Matouš</td>\n",
       "      <td>23</td>\n",
       "      <td>65</td>\n",
       "      <td>160</td>\n",
       "      <td>Holinka</td>\n",
       "      <td>25.390625</td>\n",
       "      <td>Praha</td>\n",
       "      <td>holinka@gmail.com</td>\n",
       "    </tr>\n",
       "    <tr>\n",
       "      <th>1</th>\n",
       "      <td>Marek</td>\n",
       "      <td>25</td>\n",
       "      <td>70</td>\n",
       "      <td>170</td>\n",
       "      <td>Párek</td>\n",
       "      <td>24.221453</td>\n",
       "      <td>Praha</td>\n",
       "      <td>párek@gmail.com</td>\n",
       "    </tr>\n",
       "    <tr>\n",
       "      <th>2</th>\n",
       "      <td>Lukáš</td>\n",
       "      <td>27</td>\n",
       "      <td>75</td>\n",
       "      <td>180</td>\n",
       "      <td>Holinka</td>\n",
       "      <td>23.148148</td>\n",
       "      <td>Praha</td>\n",
       "      <td>holinka@gmail.com</td>\n",
       "    </tr>\n",
       "    <tr>\n",
       "      <th>3</th>\n",
       "      <td>Jan</td>\n",
       "      <td>29</td>\n",
       "      <td>80</td>\n",
       "      <td>190</td>\n",
       "      <td>Novák</td>\n",
       "      <td>22.160665</td>\n",
       "      <td>Praha</td>\n",
       "      <td>novák@gmail.com</td>\n",
       "    </tr>\n",
       "  </tbody>\n",
       "</table>\n",
       "</div>"
      ],
      "text/plain": [
       "  first_name  age  weight  height  surname        bmi   city  \\\n",
       "0     Matouš   23      65     160  Holinka  25.390625  Praha   \n",
       "1      Marek   25      70     170    Párek  24.221453  Praha   \n",
       "2      Lukáš   27      75     180  Holinka  23.148148  Praha   \n",
       "3        Jan   29      80     190    Novák  22.160665  Praha   \n",
       "\n",
       "               email  \n",
       "0  holinka@gmail.com  \n",
       "1    párek@gmail.com  \n",
       "2  holinka@gmail.com  \n",
       "3    novák@gmail.com  "
      ]
     },
     "execution_count": 251,
     "metadata": {},
     "output_type": "execute_result"
    }
   ],
   "source": [
    "uzivatele_df"
   ]
  },
  {
   "cell_type": "code",
   "execution_count": 252,
   "id": "c17c4bac-9aef-4169-919e-134b825a8652",
   "metadata": {
    "tags": []
   },
   "outputs": [],
   "source": [
    "uzivatele_df['dalsi_email'] = uzivatele_df.apply(vytvor_novy_email, axis=1)"
   ]
  },
  {
   "cell_type": "code",
   "execution_count": null,
   "id": "c8e7eb59-01de-4d95-b235-5dc1ad64800a",
   "metadata": {
    "tags": []
   },
   "outputs": [
    {
     "data": {
      "text/html": [
       "<div>\n",
       "<style scoped>\n",
       "    .dataframe tbody tr th:only-of-type {\n",
       "        vertical-align: middle;\n",
       "    }\n",
       "\n",
       "    .dataframe tbody tr th {\n",
       "        vertical-align: top;\n",
       "    }\n",
       "\n",
       "    .dataframe thead th {\n",
       "        text-align: right;\n",
       "    }\n",
       "</style>\n",
       "<table border=\"1\" class=\"dataframe\">\n",
       "  <thead>\n",
       "    <tr style=\"text-align: right;\">\n",
       "      <th></th>\n",
       "      <th>jmeno</th>\n",
       "      <th>vek</th>\n",
       "      <th>vaha</th>\n",
       "      <th>vyska</th>\n",
       "      <th>prijmeni</th>\n",
       "      <th>novy_email</th>\n",
       "      <th>dalsi_email</th>\n",
       "    </tr>\n",
       "  </thead>\n",
       "  <tbody>\n",
       "    <tr>\n",
       "      <th>0</th>\n",
       "      <td>Matouš</td>\n",
       "      <td>23</td>\n",
       "      <td>65</td>\n",
       "      <td>160</td>\n",
       "      <td>Holinka</td>\n",
       "      <td>Matouš.Holinka@gmail.com</td>\n",
       "      <td>matouš.holinka@gmail.com</td>\n",
       "    </tr>\n",
       "    <tr>\n",
       "      <th>1</th>\n",
       "      <td>Marek</td>\n",
       "      <td>25</td>\n",
       "      <td>70</td>\n",
       "      <td>170</td>\n",
       "      <td>Párek</td>\n",
       "      <td>Marek.Párek@gmail.com</td>\n",
       "      <td>marek.párek@gmail.com</td>\n",
       "    </tr>\n",
       "    <tr>\n",
       "      <th>2</th>\n",
       "      <td>Lukáš</td>\n",
       "      <td>27</td>\n",
       "      <td>75</td>\n",
       "      <td>180</td>\n",
       "      <td>Holinka</td>\n",
       "      <td>Lukáš.Holinka@gmail.com</td>\n",
       "      <td>lukáš.holinka@gmail.com</td>\n",
       "    </tr>\n",
       "    <tr>\n",
       "      <th>3</th>\n",
       "      <td>Jan</td>\n",
       "      <td>29</td>\n",
       "      <td>80</td>\n",
       "      <td>190</td>\n",
       "      <td>Novák</td>\n",
       "      <td>Jan.Novák@gmail.com</td>\n",
       "      <td>jan.novák@gmail.com</td>\n",
       "    </tr>\n",
       "  </tbody>\n",
       "</table>\n",
       "</div>"
      ],
      "text/plain": [
       "    jmeno  vek  vaha  vyska prijmeni                novy_email  \\\n",
       "0  Matouš   23    65    160  Holinka  Matouš.Holinka@gmail.com   \n",
       "1   Marek   25    70    170    Párek     Marek.Párek@gmail.com   \n",
       "2   Lukáš   27    75    180  Holinka   Lukáš.Holinka@gmail.com   \n",
       "3     Jan   29    80    190    Novák       Jan.Novák@gmail.com   \n",
       "\n",
       "                dalsi_email  \n",
       "0  matouš.holinka@gmail.com  \n",
       "1     marek.párek@gmail.com  \n",
       "2   lukáš.holinka@gmail.com  \n",
       "3       jan.novák@gmail.com  "
      ]
     },
     "execution_count": 17,
     "metadata": {},
     "output_type": "execute_result"
    }
   ],
   "source": [
    "uzivatele_df"
   ]
  },
  {
   "cell_type": "markdown",
   "id": "b8f1611d-7d7c-4b56-9235-34484b027aad",
   "metadata": {},
   "source": [
    "<br>\n",
    "\n",
    "Nepovinný argument `axis` v ohlášení říká, že chce aplikovat metodu **na řádkové hodnoty**."
   ]
  },
  {
   "cell_type": "code",
   "execution_count": 255,
   "id": "d5a4b70b-787b-49db-afb7-1081ec3beea2",
   "metadata": {
    "tags": []
   },
   "outputs": [
    {
     "name": "stdout",
     "output_type": "stream",
     "text": [
      "\u001b[31mSignature:\u001b[39m\n",
      "uzivatele_df.apply(\n",
      "    func: \u001b[33m'AggFuncType'\u001b[39m,\n",
      "    axis: \u001b[33m'Axis'\u001b[39m = \u001b[32m0\u001b[39m,\n",
      "    raw: \u001b[33m'bool'\u001b[39m = \u001b[38;5;28;01mFalse\u001b[39;00m,\n",
      "    result_type: \u001b[33m\"Literal['expand', 'reduce', 'broadcast'] | None\"\u001b[39m = \u001b[38;5;28;01mNone\u001b[39;00m,\n",
      "    args=(),\n",
      "    by_row: \u001b[33m\"Literal[False, 'compat']\"\u001b[39m = \u001b[33m'compat'\u001b[39m,\n",
      "    engine: \u001b[33m\"Literal['python', 'numba']\"\u001b[39m = \u001b[33m'python'\u001b[39m,\n",
      "    engine_kwargs: \u001b[33m'dict[str, bool] | None'\u001b[39m = \u001b[38;5;28;01mNone\u001b[39;00m,\n",
      "    **kwargs,\n",
      ")\n",
      "\u001b[31mDocstring:\u001b[39m\n",
      "Apply a function along an axis of the DataFrame.\n",
      "\n",
      "Objects passed to the function are Series objects whose index is\n",
      "either the DataFrame's index (``axis=0``) or the DataFrame's columns\n",
      "(``axis=1``). By default (``result_type=None``), the final return type\n",
      "is inferred from the return type of the applied function. Otherwise,\n",
      "it depends on the `result_type` argument.\n",
      "\n",
      "Parameters\n",
      "----------\n",
      "func : function\n",
      "    Function to apply to each column or row.\n",
      "axis : {0 or 'index', 1 or 'columns'}, default 0\n",
      "    Axis along which the function is applied:\n",
      "\n",
      "    * 0 or 'index': apply function to each column.\n",
      "    * 1 or 'columns': apply function to each row.\n",
      "\n",
      "raw : bool, default False\n",
      "    Determines if row or column is passed as a Series or ndarray object:\n",
      "\n",
      "    * ``False`` : passes each row or column as a Series to the\n",
      "      function.\n",
      "    * ``True`` : the passed function will receive ndarray objects\n",
      "      instead.\n",
      "      If you are just applying a NumPy reduction function this will\n",
      "      achieve much better performance.\n",
      "\n",
      "result_type : {'expand', 'reduce', 'broadcast', None}, default None\n",
      "    These only act when ``axis=1`` (columns):\n",
      "\n",
      "    * 'expand' : list-like results will be turned into columns.\n",
      "    * 'reduce' : returns a Series if possible rather than expanding\n",
      "      list-like results. This is the opposite of 'expand'.\n",
      "    * 'broadcast' : results will be broadcast to the original shape\n",
      "      of the DataFrame, the original index and columns will be\n",
      "      retained.\n",
      "\n",
      "    The default behaviour (None) depends on the return value of the\n",
      "    applied function: list-like results will be returned as a Series\n",
      "    of those. However if the apply function returns a Series these\n",
      "    are expanded to columns.\n",
      "args : tuple\n",
      "    Positional arguments to pass to `func` in addition to the\n",
      "    array/series.\n",
      "by_row : False or \"compat\", default \"compat\"\n",
      "    Only has an effect when ``func`` is a listlike or dictlike of funcs\n",
      "    and the func isn't a string.\n",
      "    If \"compat\", will if possible first translate the func into pandas\n",
      "    methods (e.g. ``Series().apply(np.sum)`` will be translated to\n",
      "    ``Series().sum()``). If that doesn't work, will try call to apply again with\n",
      "    ``by_row=True`` and if that fails, will call apply again with\n",
      "    ``by_row=False`` (backward compatible).\n",
      "    If False, the funcs will be passed the whole Series at once.\n",
      "\n",
      "    .. versionadded:: 2.1.0\n",
      "\n",
      "engine : {'python', 'numba'}, default 'python'\n",
      "    Choose between the python (default) engine or the numba engine in apply.\n",
      "\n",
      "    The numba engine will attempt to JIT compile the passed function,\n",
      "    which may result in speedups for large DataFrames.\n",
      "    It also supports the following engine_kwargs :\n",
      "\n",
      "    - nopython (compile the function in nopython mode)\n",
      "    - nogil (release the GIL inside the JIT compiled function)\n",
      "    - parallel (try to apply the function in parallel over the DataFrame)\n",
      "\n",
      "      Note: Due to limitations within numba/how pandas interfaces with numba,\n",
      "      you should only use this if raw=True\n",
      "\n",
      "    Note: The numba compiler only supports a subset of\n",
      "    valid Python/numpy operations.\n",
      "\n",
      "    Please read more about the `supported python features\n",
      "    <https://numba.pydata.org/numba-doc/dev/reference/pysupported.html>`_\n",
      "    and `supported numpy features\n",
      "    <https://numba.pydata.org/numba-doc/dev/reference/numpysupported.html>`_\n",
      "    in numba to learn what you can or cannot use in the passed function.\n",
      "\n",
      "    .. versionadded:: 2.2.0\n",
      "\n",
      "engine_kwargs : dict\n",
      "    Pass keyword arguments to the engine.\n",
      "    This is currently only used by the numba engine,\n",
      "    see the documentation for the engine argument for more information.\n",
      "**kwargs\n",
      "    Additional keyword arguments to pass as keywords arguments to\n",
      "    `func`.\n",
      "\n",
      "Returns\n",
      "-------\n",
      "Series or DataFrame\n",
      "    Result of applying ``func`` along the given axis of the\n",
      "    DataFrame.\n",
      "\n",
      "See Also\n",
      "--------\n",
      "DataFrame.map: For elementwise operations.\n",
      "DataFrame.aggregate: Only perform aggregating type operations.\n",
      "DataFrame.transform: Only perform transforming type operations.\n",
      "\n",
      "Notes\n",
      "-----\n",
      "Functions that mutate the passed object can produce unexpected\n",
      "behavior or errors and are not supported. See :ref:`gotchas.udf-mutation`\n",
      "for more details.\n",
      "\n",
      "Examples\n",
      "--------\n",
      ">>> df = pd.DataFrame([[4, 9]] * 3, columns=['A', 'B'])\n",
      ">>> df\n",
      "   A  B\n",
      "0  4  9\n",
      "1  4  9\n",
      "2  4  9\n",
      "\n",
      "Using a numpy universal function (in this case the same as\n",
      "``np.sqrt(df)``):\n",
      "\n",
      ">>> df.apply(np.sqrt)\n",
      "     A    B\n",
      "0  2.0  3.0\n",
      "1  2.0  3.0\n",
      "2  2.0  3.0\n",
      "\n",
      "Using a reducing function on either axis\n",
      "\n",
      ">>> df.apply(np.sum, axis=0)\n",
      "A    12\n",
      "B    27\n",
      "dtype: int64\n",
      "\n",
      ">>> df.apply(np.sum, axis=1)\n",
      "0    13\n",
      "1    13\n",
      "2    13\n",
      "dtype: int64\n",
      "\n",
      "Returning a list-like will result in a Series\n",
      "\n",
      ">>> df.apply(lambda x: [1, 2], axis=1)\n",
      "0    [1, 2]\n",
      "1    [1, 2]\n",
      "2    [1, 2]\n",
      "dtype: object\n",
      "\n",
      "Passing ``result_type='expand'`` will expand list-like results\n",
      "to columns of a Dataframe\n",
      "\n",
      ">>> df.apply(lambda x: [1, 2], axis=1, result_type='expand')\n",
      "   0  1\n",
      "0  1  2\n",
      "1  1  2\n",
      "2  1  2\n",
      "\n",
      "Returning a Series inside the function is similar to passing\n",
      "``result_type='expand'``. The resulting column names\n",
      "will be the Series index.\n",
      "\n",
      ">>> df.apply(lambda x: pd.Series([1, 2], index=['foo', 'bar']), axis=1)\n",
      "   foo  bar\n",
      "0    1    2\n",
      "1    1    2\n",
      "2    1    2\n",
      "\n",
      "Passing ``result_type='broadcast'`` will ensure the same shape\n",
      "result, whether list-like or scalar is returned by the function,\n",
      "and broadcast it along the axis. The resulting column names will\n",
      "be the originals.\n",
      "\n",
      ">>> df.apply(lambda x: [1, 2], axis=1, result_type='broadcast')\n",
      "   A  B\n",
      "0  1  2\n",
      "1  1  2\n",
      "2  1  2\n",
      "\u001b[31mFile:\u001b[39m      ~/.pyenv/versions/3.12.5/lib/python3.12/site-packages/pandas/core/frame.py\n",
      "\u001b[31mType:\u001b[39m      method"
     ]
    }
   ],
   "source": [
    "uzivatele_df.apply?"
   ]
  },
  {
   "cell_type": "code",
   "execution_count": 256,
   "id": "1f402591-90f6-4035-8376-fe9b92a81541",
   "metadata": {
    "tags": []
   },
   "outputs": [
    {
     "data": {
      "text/html": [
       "<div>\n",
       "<style scoped>\n",
       "    .dataframe tbody tr th:only-of-type {\n",
       "        vertical-align: middle;\n",
       "    }\n",
       "\n",
       "    .dataframe tbody tr th {\n",
       "        vertical-align: top;\n",
       "    }\n",
       "\n",
       "    .dataframe thead th {\n",
       "        text-align: right;\n",
       "    }\n",
       "</style>\n",
       "<table border=\"1\" class=\"dataframe\">\n",
       "  <thead>\n",
       "    <tr style=\"text-align: right;\">\n",
       "      <th></th>\n",
       "      <th>first_name</th>\n",
       "      <th>age</th>\n",
       "      <th>weight</th>\n",
       "      <th>height</th>\n",
       "      <th>surname</th>\n",
       "      <th>bmi</th>\n",
       "      <th>city</th>\n",
       "      <th>email</th>\n",
       "      <th>dalsi_email</th>\n",
       "    </tr>\n",
       "  </thead>\n",
       "  <tbody>\n",
       "    <tr>\n",
       "      <th>0</th>\n",
       "      <td>Matouš</td>\n",
       "      <td>23</td>\n",
       "      <td>65</td>\n",
       "      <td>160</td>\n",
       "      <td>Holinka</td>\n",
       "      <td>25.390625</td>\n",
       "      <td>Praha</td>\n",
       "      <td>holinka@gmail.com</td>\n",
       "      <td>matouš.holinka@gmail.com</td>\n",
       "    </tr>\n",
       "    <tr>\n",
       "      <th>1</th>\n",
       "      <td>Marek</td>\n",
       "      <td>25</td>\n",
       "      <td>70</td>\n",
       "      <td>170</td>\n",
       "      <td>Párek</td>\n",
       "      <td>24.221453</td>\n",
       "      <td>Praha</td>\n",
       "      <td>párek@gmail.com</td>\n",
       "      <td>marek.párek@gmail.com</td>\n",
       "    </tr>\n",
       "    <tr>\n",
       "      <th>2</th>\n",
       "      <td>Lukáš</td>\n",
       "      <td>27</td>\n",
       "      <td>75</td>\n",
       "      <td>180</td>\n",
       "      <td>Holinka</td>\n",
       "      <td>23.148148</td>\n",
       "      <td>Praha</td>\n",
       "      <td>holinka@gmail.com</td>\n",
       "      <td>lukáš.holinka@gmail.com</td>\n",
       "    </tr>\n",
       "    <tr>\n",
       "      <th>3</th>\n",
       "      <td>Jan</td>\n",
       "      <td>29</td>\n",
       "      <td>80</td>\n",
       "      <td>190</td>\n",
       "      <td>Novák</td>\n",
       "      <td>22.160665</td>\n",
       "      <td>Praha</td>\n",
       "      <td>novák@gmail.com</td>\n",
       "      <td>jan.novák@gmail.com</td>\n",
       "    </tr>\n",
       "  </tbody>\n",
       "</table>\n",
       "</div>"
      ],
      "text/plain": [
       "  first_name  age  weight  height  surname        bmi   city  \\\n",
       "0     Matouš   23      65     160  Holinka  25.390625  Praha   \n",
       "1      Marek   25      70     170    Párek  24.221453  Praha   \n",
       "2      Lukáš   27      75     180  Holinka  23.148148  Praha   \n",
       "3        Jan   29      80     190    Novák  22.160665  Praha   \n",
       "\n",
       "               email               dalsi_email  \n",
       "0  holinka@gmail.com  matouš.holinka@gmail.com  \n",
       "1    párek@gmail.com     marek.párek@gmail.com  \n",
       "2  holinka@gmail.com   lukáš.holinka@gmail.com  \n",
       "3    novák@gmail.com       jan.novák@gmail.com  "
      ]
     },
     "execution_count": 256,
     "metadata": {},
     "output_type": "execute_result"
    }
   ],
   "source": [
    "uzivatele_df.head()"
   ]
  },
  {
   "cell_type": "markdown",
   "id": "bb250d1f-8f03-4215-ad23-f62e3a2ac7fc",
   "metadata": {},
   "source": [
    "Tento způsob lze použít, pokud chceš vytvořit **nový sloupec** pomocí nějaké funkce na jednotlivé řádky nebo sloupce `DataFrame`."
   ]
  },
  {
   "cell_type": "markdown",
   "id": "e6d2071a-8e16-49a9-9ea3-b60f1de75a82",
   "metadata": {},
   "source": [
    "<br>\n",
    "\n",
    "### Odstraňování sloupečků\n",
    "\n",
    "---"
   ]
  },
  {
   "cell_type": "markdown",
   "id": "e85f77d5-80ea-4193-9301-6990358086b8",
   "metadata": {},
   "source": [
    "K odstranění sloupců z `DataFrame` objektu můžeš použít několik metod:\n",
    "1. pythonovskou funkci `del`,\n",
    "2. metodu `drop`,\n",
    "3. metodu `pop`."
   ]
  },
  {
   "cell_type": "code",
   "execution_count": 257,
   "id": "b8027fa4-8d5a-41f2-83ff-125bdde0a04d",
   "metadata": {
    "tags": []
   },
   "outputs": [
    {
     "data": {
      "text/html": [
       "<div>\n",
       "<style scoped>\n",
       "    .dataframe tbody tr th:only-of-type {\n",
       "        vertical-align: middle;\n",
       "    }\n",
       "\n",
       "    .dataframe tbody tr th {\n",
       "        vertical-align: top;\n",
       "    }\n",
       "\n",
       "    .dataframe thead th {\n",
       "        text-align: right;\n",
       "    }\n",
       "</style>\n",
       "<table border=\"1\" class=\"dataframe\">\n",
       "  <thead>\n",
       "    <tr style=\"text-align: right;\">\n",
       "      <th></th>\n",
       "      <th>first_name</th>\n",
       "      <th>age</th>\n",
       "      <th>weight</th>\n",
       "      <th>height</th>\n",
       "      <th>surname</th>\n",
       "      <th>bmi</th>\n",
       "      <th>city</th>\n",
       "      <th>email</th>\n",
       "      <th>dalsi_email</th>\n",
       "    </tr>\n",
       "  </thead>\n",
       "  <tbody>\n",
       "    <tr>\n",
       "      <th>0</th>\n",
       "      <td>Matouš</td>\n",
       "      <td>23</td>\n",
       "      <td>65</td>\n",
       "      <td>160</td>\n",
       "      <td>Holinka</td>\n",
       "      <td>25.390625</td>\n",
       "      <td>Praha</td>\n",
       "      <td>holinka@gmail.com</td>\n",
       "      <td>matouš.holinka@gmail.com</td>\n",
       "    </tr>\n",
       "    <tr>\n",
       "      <th>1</th>\n",
       "      <td>Marek</td>\n",
       "      <td>25</td>\n",
       "      <td>70</td>\n",
       "      <td>170</td>\n",
       "      <td>Párek</td>\n",
       "      <td>24.221453</td>\n",
       "      <td>Praha</td>\n",
       "      <td>párek@gmail.com</td>\n",
       "      <td>marek.párek@gmail.com</td>\n",
       "    </tr>\n",
       "    <tr>\n",
       "      <th>2</th>\n",
       "      <td>Lukáš</td>\n",
       "      <td>27</td>\n",
       "      <td>75</td>\n",
       "      <td>180</td>\n",
       "      <td>Holinka</td>\n",
       "      <td>23.148148</td>\n",
       "      <td>Praha</td>\n",
       "      <td>holinka@gmail.com</td>\n",
       "      <td>lukáš.holinka@gmail.com</td>\n",
       "    </tr>\n",
       "    <tr>\n",
       "      <th>3</th>\n",
       "      <td>Jan</td>\n",
       "      <td>29</td>\n",
       "      <td>80</td>\n",
       "      <td>190</td>\n",
       "      <td>Novák</td>\n",
       "      <td>22.160665</td>\n",
       "      <td>Praha</td>\n",
       "      <td>novák@gmail.com</td>\n",
       "      <td>jan.novák@gmail.com</td>\n",
       "    </tr>\n",
       "  </tbody>\n",
       "</table>\n",
       "</div>"
      ],
      "text/plain": [
       "  first_name  age  weight  height  surname        bmi   city  \\\n",
       "0     Matouš   23      65     160  Holinka  25.390625  Praha   \n",
       "1      Marek   25      70     170    Párek  24.221453  Praha   \n",
       "2      Lukáš   27      75     180  Holinka  23.148148  Praha   \n",
       "3        Jan   29      80     190    Novák  22.160665  Praha   \n",
       "\n",
       "               email               dalsi_email  \n",
       "0  holinka@gmail.com  matouš.holinka@gmail.com  \n",
       "1    párek@gmail.com     marek.párek@gmail.com  \n",
       "2  holinka@gmail.com   lukáš.holinka@gmail.com  \n",
       "3    novák@gmail.com       jan.novák@gmail.com  "
      ]
     },
     "execution_count": 257,
     "metadata": {},
     "output_type": "execute_result"
    }
   ],
   "source": [
    "uzivatele_df"
   ]
  },
  {
   "cell_type": "code",
   "execution_count": 259,
   "id": "cced5222-de73-48a9-b91a-a4e6e323bddb",
   "metadata": {
    "tags": []
   },
   "outputs": [
    {
     "data": {
      "text/plain": [
       "True"
      ]
     },
     "execution_count": 259,
     "metadata": {},
     "output_type": "execute_result"
    }
   ],
   "source": [
    "'dalsi_email' in uzivatele_df.columns"
   ]
  },
  {
   "cell_type": "code",
   "execution_count": 261,
   "id": "4f833d08-4c92-4273-bf40-adcae1edd044",
   "metadata": {},
   "outputs": [
    {
     "name": "stdout",
     "output_type": "stream",
     "text": [
      "\u001b[31mSignature:\u001b[39m\n",
      "uzivatele_df.drop(\n",
      "    labels: \u001b[33m'IndexLabel | None'\u001b[39m = \u001b[38;5;28;01mNone\u001b[39;00m,\n",
      "    *,\n",
      "    axis: \u001b[33m'Axis'\u001b[39m = \u001b[32m0\u001b[39m,\n",
      "    index: \u001b[33m'IndexLabel | None'\u001b[39m = \u001b[38;5;28;01mNone\u001b[39;00m,\n",
      "    columns: \u001b[33m'IndexLabel | None'\u001b[39m = \u001b[38;5;28;01mNone\u001b[39;00m,\n",
      "    level: \u001b[33m'Level | None'\u001b[39m = \u001b[38;5;28;01mNone\u001b[39;00m,\n",
      "    inplace: \u001b[33m'bool'\u001b[39m = \u001b[38;5;28;01mFalse\u001b[39;00m,\n",
      "    errors: \u001b[33m'IgnoreRaise'\u001b[39m = \u001b[33m'raise'\u001b[39m,\n",
      ") -> \u001b[33m'DataFrame | None'\u001b[39m\n",
      "\u001b[31mDocstring:\u001b[39m\n",
      "Drop specified labels from rows or columns.\n",
      "\n",
      "Remove rows or columns by specifying label names and corresponding\n",
      "axis, or by directly specifying index or column names. When using a\n",
      "multi-index, labels on different levels can be removed by specifying\n",
      "the level. See the :ref:`user guide <advanced.shown_levels>`\n",
      "for more information about the now unused levels.\n",
      "\n",
      "Parameters\n",
      "----------\n",
      "labels : single label or list-like\n",
      "    Index or column labels to drop. A tuple will be used as a single\n",
      "    label and not treated as a list-like.\n",
      "axis : {0 or 'index', 1 or 'columns'}, default 0\n",
      "    Whether to drop labels from the index (0 or 'index') or\n",
      "    columns (1 or 'columns').\n",
      "index : single label or list-like\n",
      "    Alternative to specifying axis (``labels, axis=0``\n",
      "    is equivalent to ``index=labels``).\n",
      "columns : single label or list-like\n",
      "    Alternative to specifying axis (``labels, axis=1``\n",
      "    is equivalent to ``columns=labels``).\n",
      "level : int or level name, optional\n",
      "    For MultiIndex, level from which the labels will be removed.\n",
      "inplace : bool, default False\n",
      "    If False, return a copy. Otherwise, do operation\n",
      "    in place and return None.\n",
      "errors : {'ignore', 'raise'}, default 'raise'\n",
      "    If 'ignore', suppress error and only existing labels are\n",
      "    dropped.\n",
      "\n",
      "Returns\n",
      "-------\n",
      "DataFrame or None\n",
      "    Returns DataFrame or None DataFrame with the specified\n",
      "    index or column labels removed or None if inplace=True.\n",
      "\n",
      "Raises\n",
      "------\n",
      "KeyError\n",
      "    If any of the labels is not found in the selected axis.\n",
      "\n",
      "See Also\n",
      "--------\n",
      "DataFrame.loc : Label-location based indexer for selection by label.\n",
      "DataFrame.dropna : Return DataFrame with labels on given axis omitted\n",
      "    where (all or any) data are missing.\n",
      "DataFrame.drop_duplicates : Return DataFrame with duplicate rows\n",
      "    removed, optionally only considering certain columns.\n",
      "Series.drop : Return Series with specified index labels removed.\n",
      "\n",
      "Examples\n",
      "--------\n",
      ">>> df = pd.DataFrame(np.arange(12).reshape(3, 4),\n",
      "...                   columns=['A', 'B', 'C', 'D'])\n",
      ">>> df\n",
      "   A  B   C   D\n",
      "0  0  1   2   3\n",
      "1  4  5   6   7\n",
      "2  8  9  10  11\n",
      "\n",
      "Drop columns\n",
      "\n",
      ">>> df.drop(['B', 'C'], axis=1)\n",
      "   A   D\n",
      "0  0   3\n",
      "1  4   7\n",
      "2  8  11\n",
      "\n",
      ">>> df.drop(columns=['B', 'C'])\n",
      "   A   D\n",
      "0  0   3\n",
      "1  4   7\n",
      "2  8  11\n",
      "\n",
      "Drop a row by index\n",
      "\n",
      ">>> df.drop([0, 1])\n",
      "   A  B   C   D\n",
      "2  8  9  10  11\n",
      "\n",
      "Drop columns and/or rows of MultiIndex DataFrame\n",
      "\n",
      ">>> midx = pd.MultiIndex(levels=[['llama', 'cow', 'falcon'],\n",
      "...                              ['speed', 'weight', 'length']],\n",
      "...                      codes=[[0, 0, 0, 1, 1, 1, 2, 2, 2],\n",
      "...                             [0, 1, 2, 0, 1, 2, 0, 1, 2]])\n",
      ">>> df = pd.DataFrame(index=midx, columns=['big', 'small'],\n",
      "...                   data=[[45, 30], [200, 100], [1.5, 1], [30, 20],\n",
      "...                         [250, 150], [1.5, 0.8], [320, 250],\n",
      "...                         [1, 0.8], [0.3, 0.2]])\n",
      ">>> df\n",
      "                big     small\n",
      "llama   speed   45.0    30.0\n",
      "        weight  200.0   100.0\n",
      "        length  1.5     1.0\n",
      "cow     speed   30.0    20.0\n",
      "        weight  250.0   150.0\n",
      "        length  1.5     0.8\n",
      "falcon  speed   320.0   250.0\n",
      "        weight  1.0     0.8\n",
      "        length  0.3     0.2\n",
      "\n",
      "Drop a specific index combination from the MultiIndex\n",
      "DataFrame, i.e., drop the combination ``'falcon'`` and\n",
      "``'weight'``, which deletes only the corresponding row\n",
      "\n",
      ">>> df.drop(index=('falcon', 'weight'))\n",
      "                big     small\n",
      "llama   speed   45.0    30.0\n",
      "        weight  200.0   100.0\n",
      "        length  1.5     1.0\n",
      "cow     speed   30.0    20.0\n",
      "        weight  250.0   150.0\n",
      "        length  1.5     0.8\n",
      "falcon  speed   320.0   250.0\n",
      "        length  0.3     0.2\n",
      "\n",
      ">>> df.drop(index='cow', columns='small')\n",
      "                big\n",
      "llama   speed   45.0\n",
      "        weight  200.0\n",
      "        length  1.5\n",
      "falcon  speed   320.0\n",
      "        weight  1.0\n",
      "        length  0.3\n",
      "\n",
      ">>> df.drop(index='length', level=1)\n",
      "                big     small\n",
      "llama   speed   45.0    30.0\n",
      "        weight  200.0   100.0\n",
      "cow     speed   30.0    20.0\n",
      "        weight  250.0   150.0\n",
      "falcon  speed   320.0   250.0\n",
      "        weight  1.0     0.8\n",
      "\u001b[31mFile:\u001b[39m      ~/.pyenv/versions/3.12.5/lib/python3.12/site-packages/pandas/core/frame.py\n",
      "\u001b[31mType:\u001b[39m      method"
     ]
    }
   ],
   "source": [
    "uzivatele_df.drop?"
   ]
  },
  {
   "cell_type": "code",
   "execution_count": 266,
   "id": "b4da207f",
   "metadata": {},
   "outputs": [
    {
     "ename": "KeyError",
     "evalue": "\"['dalsi_email'] not found in axis\"",
     "output_type": "error",
     "traceback": [
      "\u001b[31m---------------------------------------------------------------------------\u001b[39m",
      "\u001b[31mKeyError\u001b[39m                                  Traceback (most recent call last)",
      "\u001b[36mCell\u001b[39m\u001b[36m \u001b[39m\u001b[32mIn[266]\u001b[39m\u001b[32m, line 1\u001b[39m\n\u001b[32m----> \u001b[39m\u001b[32m1\u001b[39m \u001b[43muzivatele_df\u001b[49m\u001b[43m.\u001b[49m\u001b[43mdrop\u001b[49m\u001b[43m(\u001b[49m\u001b[33;43m'\u001b[39;49m\u001b[33;43mdalsi_email\u001b[39;49m\u001b[33;43m'\u001b[39;49m\u001b[43m)\u001b[49m\n",
      "\u001b[36mFile \u001b[39m\u001b[32m~/.pyenv/versions/3.12.5/lib/python3.12/site-packages/pandas/core/frame.py:5581\u001b[39m, in \u001b[36mDataFrame.drop\u001b[39m\u001b[34m(self, labels, axis, index, columns, level, inplace, errors)\u001b[39m\n\u001b[32m   5433\u001b[39m \u001b[38;5;28;01mdef\u001b[39;00m\u001b[38;5;250m \u001b[39m\u001b[34mdrop\u001b[39m(\n\u001b[32m   5434\u001b[39m     \u001b[38;5;28mself\u001b[39m,\n\u001b[32m   5435\u001b[39m     labels: IndexLabel | \u001b[38;5;28;01mNone\u001b[39;00m = \u001b[38;5;28;01mNone\u001b[39;00m,\n\u001b[32m   (...)\u001b[39m\u001b[32m   5442\u001b[39m     errors: IgnoreRaise = \u001b[33m\"\u001b[39m\u001b[33mraise\u001b[39m\u001b[33m\"\u001b[39m,\n\u001b[32m   5443\u001b[39m ) -> DataFrame | \u001b[38;5;28;01mNone\u001b[39;00m:\n\u001b[32m   5444\u001b[39m \u001b[38;5;250m    \u001b[39m\u001b[33;03m\"\"\"\u001b[39;00m\n\u001b[32m   5445\u001b[39m \u001b[33;03m    Drop specified labels from rows or columns.\u001b[39;00m\n\u001b[32m   5446\u001b[39m \n\u001b[32m   (...)\u001b[39m\u001b[32m   5579\u001b[39m \u001b[33;03m            weight  1.0     0.8\u001b[39;00m\n\u001b[32m   5580\u001b[39m \u001b[33;03m    \"\"\"\u001b[39;00m\n\u001b[32m-> \u001b[39m\u001b[32m5581\u001b[39m     \u001b[38;5;28;01mreturn\u001b[39;00m \u001b[38;5;28;43msuper\u001b[39;49m\u001b[43m(\u001b[49m\u001b[43m)\u001b[49m\u001b[43m.\u001b[49m\u001b[43mdrop\u001b[49m\u001b[43m(\u001b[49m\n\u001b[32m   5582\u001b[39m \u001b[43m        \u001b[49m\u001b[43mlabels\u001b[49m\u001b[43m=\u001b[49m\u001b[43mlabels\u001b[49m\u001b[43m,\u001b[49m\n\u001b[32m   5583\u001b[39m \u001b[43m        \u001b[49m\u001b[43maxis\u001b[49m\u001b[43m=\u001b[49m\u001b[43maxis\u001b[49m\u001b[43m,\u001b[49m\n\u001b[32m   5584\u001b[39m \u001b[43m        \u001b[49m\u001b[43mindex\u001b[49m\u001b[43m=\u001b[49m\u001b[43mindex\u001b[49m\u001b[43m,\u001b[49m\n\u001b[32m   5585\u001b[39m \u001b[43m        \u001b[49m\u001b[43mcolumns\u001b[49m\u001b[43m=\u001b[49m\u001b[43mcolumns\u001b[49m\u001b[43m,\u001b[49m\n\u001b[32m   5586\u001b[39m \u001b[43m        \u001b[49m\u001b[43mlevel\u001b[49m\u001b[43m=\u001b[49m\u001b[43mlevel\u001b[49m\u001b[43m,\u001b[49m\n\u001b[32m   5587\u001b[39m \u001b[43m        \u001b[49m\u001b[43minplace\u001b[49m\u001b[43m=\u001b[49m\u001b[43minplace\u001b[49m\u001b[43m,\u001b[49m\n\u001b[32m   5588\u001b[39m \u001b[43m        \u001b[49m\u001b[43merrors\u001b[49m\u001b[43m=\u001b[49m\u001b[43merrors\u001b[49m\u001b[43m,\u001b[49m\n\u001b[32m   5589\u001b[39m \u001b[43m    \u001b[49m\u001b[43m)\u001b[49m\n",
      "\u001b[36mFile \u001b[39m\u001b[32m~/.pyenv/versions/3.12.5/lib/python3.12/site-packages/pandas/core/generic.py:4788\u001b[39m, in \u001b[36mNDFrame.drop\u001b[39m\u001b[34m(self, labels, axis, index, columns, level, inplace, errors)\u001b[39m\n\u001b[32m   4786\u001b[39m \u001b[38;5;28;01mfor\u001b[39;00m axis, labels \u001b[38;5;129;01min\u001b[39;00m axes.items():\n\u001b[32m   4787\u001b[39m     \u001b[38;5;28;01mif\u001b[39;00m labels \u001b[38;5;129;01mis\u001b[39;00m \u001b[38;5;129;01mnot\u001b[39;00m \u001b[38;5;28;01mNone\u001b[39;00m:\n\u001b[32m-> \u001b[39m\u001b[32m4788\u001b[39m         obj = \u001b[43mobj\u001b[49m\u001b[43m.\u001b[49m\u001b[43m_drop_axis\u001b[49m\u001b[43m(\u001b[49m\u001b[43mlabels\u001b[49m\u001b[43m,\u001b[49m\u001b[43m \u001b[49m\u001b[43maxis\u001b[49m\u001b[43m,\u001b[49m\u001b[43m \u001b[49m\u001b[43mlevel\u001b[49m\u001b[43m=\u001b[49m\u001b[43mlevel\u001b[49m\u001b[43m,\u001b[49m\u001b[43m \u001b[49m\u001b[43merrors\u001b[49m\u001b[43m=\u001b[49m\u001b[43merrors\u001b[49m\u001b[43m)\u001b[49m\n\u001b[32m   4790\u001b[39m \u001b[38;5;28;01mif\u001b[39;00m inplace:\n\u001b[32m   4791\u001b[39m     \u001b[38;5;28mself\u001b[39m._update_inplace(obj)\n",
      "\u001b[36mFile \u001b[39m\u001b[32m~/.pyenv/versions/3.12.5/lib/python3.12/site-packages/pandas/core/generic.py:4830\u001b[39m, in \u001b[36mNDFrame._drop_axis\u001b[39m\u001b[34m(self, labels, axis, level, errors, only_slice)\u001b[39m\n\u001b[32m   4828\u001b[39m         new_axis = axis.drop(labels, level=level, errors=errors)\n\u001b[32m   4829\u001b[39m     \u001b[38;5;28;01melse\u001b[39;00m:\n\u001b[32m-> \u001b[39m\u001b[32m4830\u001b[39m         new_axis = \u001b[43maxis\u001b[49m\u001b[43m.\u001b[49m\u001b[43mdrop\u001b[49m\u001b[43m(\u001b[49m\u001b[43mlabels\u001b[49m\u001b[43m,\u001b[49m\u001b[43m \u001b[49m\u001b[43merrors\u001b[49m\u001b[43m=\u001b[49m\u001b[43merrors\u001b[49m\u001b[43m)\u001b[49m\n\u001b[32m   4831\u001b[39m     indexer = axis.get_indexer(new_axis)\n\u001b[32m   4833\u001b[39m \u001b[38;5;66;03m# Case for non-unique axis\u001b[39;00m\n\u001b[32m   4834\u001b[39m \u001b[38;5;28;01melse\u001b[39;00m:\n",
      "\u001b[36mFile \u001b[39m\u001b[32m~/.pyenv/versions/3.12.5/lib/python3.12/site-packages/pandas/core/indexes/base.py:7070\u001b[39m, in \u001b[36mIndex.drop\u001b[39m\u001b[34m(self, labels, errors)\u001b[39m\n\u001b[32m   7068\u001b[39m \u001b[38;5;28;01mif\u001b[39;00m mask.any():\n\u001b[32m   7069\u001b[39m     \u001b[38;5;28;01mif\u001b[39;00m errors != \u001b[33m\"\u001b[39m\u001b[33mignore\u001b[39m\u001b[33m\"\u001b[39m:\n\u001b[32m-> \u001b[39m\u001b[32m7070\u001b[39m         \u001b[38;5;28;01mraise\u001b[39;00m \u001b[38;5;167;01mKeyError\u001b[39;00m(\u001b[33mf\u001b[39m\u001b[33m\"\u001b[39m\u001b[38;5;132;01m{\u001b[39;00mlabels[mask].tolist()\u001b[38;5;132;01m}\u001b[39;00m\u001b[33m not found in axis\u001b[39m\u001b[33m\"\u001b[39m)\n\u001b[32m   7071\u001b[39m     indexer = indexer[~mask]\n\u001b[32m   7072\u001b[39m \u001b[38;5;28;01mreturn\u001b[39;00m \u001b[38;5;28mself\u001b[39m.delete(indexer)\n",
      "\u001b[31mKeyError\u001b[39m: \"['dalsi_email'] not found in axis\""
     ]
    }
   ],
   "source": [
    "uzivatele_df.drop('dalsi_email')"
   ]
  },
  {
   "cell_type": "code",
   "execution_count": 263,
   "id": "e6da236a",
   "metadata": {},
   "outputs": [
    {
     "data": {
      "text/plain": [
       "RangeIndex(start=0, stop=4, step=1)"
      ]
     },
     "execution_count": 263,
     "metadata": {},
     "output_type": "execute_result"
    }
   ],
   "source": [
    "uzivatele_df.index"
   ]
  },
  {
   "cell_type": "code",
   "execution_count": 265,
   "id": "92e8e4c8",
   "metadata": {},
   "outputs": [
    {
     "data": {
      "text/html": [
       "<div>\n",
       "<style scoped>\n",
       "    .dataframe tbody tr th:only-of-type {\n",
       "        vertical-align: middle;\n",
       "    }\n",
       "\n",
       "    .dataframe tbody tr th {\n",
       "        vertical-align: top;\n",
       "    }\n",
       "\n",
       "    .dataframe thead th {\n",
       "        text-align: right;\n",
       "    }\n",
       "</style>\n",
       "<table border=\"1\" class=\"dataframe\">\n",
       "  <thead>\n",
       "    <tr style=\"text-align: right;\">\n",
       "      <th></th>\n",
       "      <th>first_name</th>\n",
       "      <th>age</th>\n",
       "      <th>weight</th>\n",
       "      <th>height</th>\n",
       "      <th>surname</th>\n",
       "      <th>bmi</th>\n",
       "      <th>city</th>\n",
       "      <th>email</th>\n",
       "    </tr>\n",
       "  </thead>\n",
       "  <tbody>\n",
       "    <tr>\n",
       "      <th>0</th>\n",
       "      <td>Matouš</td>\n",
       "      <td>23</td>\n",
       "      <td>65</td>\n",
       "      <td>160</td>\n",
       "      <td>Holinka</td>\n",
       "      <td>25.390625</td>\n",
       "      <td>Praha</td>\n",
       "      <td>holinka@gmail.com</td>\n",
       "    </tr>\n",
       "    <tr>\n",
       "      <th>1</th>\n",
       "      <td>Marek</td>\n",
       "      <td>25</td>\n",
       "      <td>70</td>\n",
       "      <td>170</td>\n",
       "      <td>Párek</td>\n",
       "      <td>24.221453</td>\n",
       "      <td>Praha</td>\n",
       "      <td>párek@gmail.com</td>\n",
       "    </tr>\n",
       "    <tr>\n",
       "      <th>2</th>\n",
       "      <td>Lukáš</td>\n",
       "      <td>27</td>\n",
       "      <td>75</td>\n",
       "      <td>180</td>\n",
       "      <td>Holinka</td>\n",
       "      <td>23.148148</td>\n",
       "      <td>Praha</td>\n",
       "      <td>holinka@gmail.com</td>\n",
       "    </tr>\n",
       "    <tr>\n",
       "      <th>3</th>\n",
       "      <td>Jan</td>\n",
       "      <td>29</td>\n",
       "      <td>80</td>\n",
       "      <td>190</td>\n",
       "      <td>Novák</td>\n",
       "      <td>22.160665</td>\n",
       "      <td>Praha</td>\n",
       "      <td>novák@gmail.com</td>\n",
       "    </tr>\n",
       "  </tbody>\n",
       "</table>\n",
       "</div>"
      ],
      "text/plain": [
       "  first_name  age  weight  height  surname        bmi   city  \\\n",
       "0     Matouš   23      65     160  Holinka  25.390625  Praha   \n",
       "1      Marek   25      70     170    Párek  24.221453  Praha   \n",
       "2      Lukáš   27      75     180  Holinka  23.148148  Praha   \n",
       "3        Jan   29      80     190    Novák  22.160665  Praha   \n",
       "\n",
       "               email  \n",
       "0  holinka@gmail.com  \n",
       "1    párek@gmail.com  \n",
       "2  holinka@gmail.com  \n",
       "3    novák@gmail.com  "
      ]
     },
     "execution_count": 265,
     "metadata": {},
     "output_type": "execute_result"
    }
   ],
   "source": [
    "uzivatele_df.drop('dalsi_email', axis=1)"
   ]
  },
  {
   "cell_type": "code",
   "execution_count": 267,
   "id": "3c67fa3e-7791-4fc1-9aac-36d5a05444ca",
   "metadata": {
    "tags": []
   },
   "outputs": [],
   "source": [
    "uzivatele_df = uzivatele_df.drop('dalsi_email', axis=1)"
   ]
  },
  {
   "cell_type": "code",
   "execution_count": 268,
   "id": "084ec97c-d70c-4fbb-95db-8face9e2cd99",
   "metadata": {
    "tags": []
   },
   "outputs": [
    {
     "data": {
      "text/html": [
       "<div>\n",
       "<style scoped>\n",
       "    .dataframe tbody tr th:only-of-type {\n",
       "        vertical-align: middle;\n",
       "    }\n",
       "\n",
       "    .dataframe tbody tr th {\n",
       "        vertical-align: top;\n",
       "    }\n",
       "\n",
       "    .dataframe thead th {\n",
       "        text-align: right;\n",
       "    }\n",
       "</style>\n",
       "<table border=\"1\" class=\"dataframe\">\n",
       "  <thead>\n",
       "    <tr style=\"text-align: right;\">\n",
       "      <th></th>\n",
       "      <th>first_name</th>\n",
       "      <th>age</th>\n",
       "      <th>weight</th>\n",
       "      <th>height</th>\n",
       "      <th>surname</th>\n",
       "      <th>bmi</th>\n",
       "      <th>city</th>\n",
       "      <th>email</th>\n",
       "    </tr>\n",
       "  </thead>\n",
       "  <tbody>\n",
       "    <tr>\n",
       "      <th>0</th>\n",
       "      <td>Matouš</td>\n",
       "      <td>23</td>\n",
       "      <td>65</td>\n",
       "      <td>160</td>\n",
       "      <td>Holinka</td>\n",
       "      <td>25.390625</td>\n",
       "      <td>Praha</td>\n",
       "      <td>holinka@gmail.com</td>\n",
       "    </tr>\n",
       "    <tr>\n",
       "      <th>1</th>\n",
       "      <td>Marek</td>\n",
       "      <td>25</td>\n",
       "      <td>70</td>\n",
       "      <td>170</td>\n",
       "      <td>Párek</td>\n",
       "      <td>24.221453</td>\n",
       "      <td>Praha</td>\n",
       "      <td>párek@gmail.com</td>\n",
       "    </tr>\n",
       "    <tr>\n",
       "      <th>2</th>\n",
       "      <td>Lukáš</td>\n",
       "      <td>27</td>\n",
       "      <td>75</td>\n",
       "      <td>180</td>\n",
       "      <td>Holinka</td>\n",
       "      <td>23.148148</td>\n",
       "      <td>Praha</td>\n",
       "      <td>holinka@gmail.com</td>\n",
       "    </tr>\n",
       "    <tr>\n",
       "      <th>3</th>\n",
       "      <td>Jan</td>\n",
       "      <td>29</td>\n",
       "      <td>80</td>\n",
       "      <td>190</td>\n",
       "      <td>Novák</td>\n",
       "      <td>22.160665</td>\n",
       "      <td>Praha</td>\n",
       "      <td>novák@gmail.com</td>\n",
       "    </tr>\n",
       "  </tbody>\n",
       "</table>\n",
       "</div>"
      ],
      "text/plain": [
       "  first_name  age  weight  height  surname        bmi   city  \\\n",
       "0     Matouš   23      65     160  Holinka  25.390625  Praha   \n",
       "1      Marek   25      70     170    Párek  24.221453  Praha   \n",
       "2      Lukáš   27      75     180  Holinka  23.148148  Praha   \n",
       "3        Jan   29      80     190    Novák  22.160665  Praha   \n",
       "\n",
       "               email  \n",
       "0  holinka@gmail.com  \n",
       "1    párek@gmail.com  \n",
       "2  holinka@gmail.com  \n",
       "3    novák@gmail.com  "
      ]
     },
     "execution_count": 268,
     "metadata": {},
     "output_type": "execute_result"
    }
   ],
   "source": [
    "uzivatele_df"
   ]
  },
  {
   "cell_type": "markdown",
   "id": "80acd8f3-2130-4c2a-8778-0b8a9568bdce",
   "metadata": {},
   "source": [
    "<br>\n",
    "\n",
    "**🧠 CVIČENÍ 🧠, zpracuj zadané body v úloze.**"
   ]
  },
  {
   "cell_type": "markdown",
   "id": "f8dcf831-5fb0-4258-b6e9-86dfedc79f19",
   "metadata": {},
   "source": [
    "Máš DataFrame `zamestnanci` s informacemi o zaměstnancích tvé firmy.\n",
    "\n",
    "Potřebuješ následující:\n",
    "1. **přidat sloupec** s názvem `plat_na_hodinu`, který bude vypočítán jako průměr platu zaměstnanců dělený počtem odpracovaných hodin.\n",
    "2. Sloupec `plat_na_hodinu` zaokrouhli **na celé číslo**,\n",
    "3. **přejmenuj sloupec** `jmeno` na `cele_jmeno`,\n",
    "4. **vytvoř funkci** `preved_datum`, která změní formát data ve sloupci `datum_narozeni` z `YYYY-MM-DD` na `DD/MM/YYYY`,\n",
    "5. **odstraň sloupec** `id`."
   ]
  },
  {
   "cell_type": "code",
   "execution_count": 28,
   "id": "9a1ca32c-86a7-4649-8083-55e87dd14d7f",
   "metadata": {
    "tags": []
   },
   "outputs": [],
   "source": [
    "from datetime import datetime\n",
    "\n",
    "import pandas as pd"
   ]
  },
  {
   "cell_type": "code",
   "execution_count": 30,
   "id": "c546ac73-6335-478e-b38c-34e63dfdcca6",
   "metadata": {},
   "outputs": [],
   "source": [
    "zamestnanci_df = pd.DataFrame({'id': [1, 2, 3, 4],\n",
    "                            'jmeno': ['Jan Novák', 'Petr Soukup', 'Marie Horáková', 'Jana Svobodová'],\n",
    "                            'datum_narozeni': ['1990-05-15', '1985-12-10', '1992-07-25', '1988-03-20'],\n",
    "                            'plat': [40_000, 45_000, 35_000, 50_000],\n",
    "                            'odprac_hodiny': [160, 180, 150, 200]}\n",
    "            )"
   ]
  },
  {
   "cell_type": "code",
   "execution_count": 31,
   "id": "f6e12370-2dde-4b6f-8089-ec2ea29ce790",
   "metadata": {},
   "outputs": [
    {
     "data": {
      "text/html": [
       "<div>\n",
       "<style scoped>\n",
       "    .dataframe tbody tr th:only-of-type {\n",
       "        vertical-align: middle;\n",
       "    }\n",
       "\n",
       "    .dataframe tbody tr th {\n",
       "        vertical-align: top;\n",
       "    }\n",
       "\n",
       "    .dataframe thead th {\n",
       "        text-align: right;\n",
       "    }\n",
       "</style>\n",
       "<table border=\"1\" class=\"dataframe\">\n",
       "  <thead>\n",
       "    <tr style=\"text-align: right;\">\n",
       "      <th></th>\n",
       "      <th>id</th>\n",
       "      <th>jmeno</th>\n",
       "      <th>datum_narozeni</th>\n",
       "      <th>plat</th>\n",
       "      <th>odprac_hodiny</th>\n",
       "    </tr>\n",
       "  </thead>\n",
       "  <tbody>\n",
       "    <tr>\n",
       "      <th>0</th>\n",
       "      <td>1</td>\n",
       "      <td>Jan Novák</td>\n",
       "      <td>1990-05-15</td>\n",
       "      <td>40000</td>\n",
       "      <td>160</td>\n",
       "    </tr>\n",
       "    <tr>\n",
       "      <th>1</th>\n",
       "      <td>2</td>\n",
       "      <td>Petr Soukup</td>\n",
       "      <td>1985-12-10</td>\n",
       "      <td>45000</td>\n",
       "      <td>180</td>\n",
       "    </tr>\n",
       "    <tr>\n",
       "      <th>2</th>\n",
       "      <td>3</td>\n",
       "      <td>Marie Horáková</td>\n",
       "      <td>1992-07-25</td>\n",
       "      <td>35000</td>\n",
       "      <td>150</td>\n",
       "    </tr>\n",
       "    <tr>\n",
       "      <th>3</th>\n",
       "      <td>4</td>\n",
       "      <td>Jana Svobodová</td>\n",
       "      <td>1988-03-20</td>\n",
       "      <td>50000</td>\n",
       "      <td>200</td>\n",
       "    </tr>\n",
       "  </tbody>\n",
       "</table>\n",
       "</div>"
      ],
      "text/plain": [
       "   id           jmeno datum_narozeni   plat  odprac_hodiny\n",
       "0   1       Jan Novák     1990-05-15  40000            160\n",
       "1   2     Petr Soukup     1985-12-10  45000            180\n",
       "2   3  Marie Horáková     1992-07-25  35000            150\n",
       "3   4  Jana Svobodová     1988-03-20  50000            200"
      ]
     },
     "execution_count": 31,
     "metadata": {},
     "output_type": "execute_result"
    }
   ],
   "source": [
    "zamestnanci_df"
   ]
  },
  {
   "cell_type": "code",
   "execution_count": 35,
   "id": "8898feed-2bd1-4186-8c63-e35f94480380",
   "metadata": {},
   "outputs": [],
   "source": [
    "zamestnanci_df['plat_na_hodinu'] = round(zamestnanci_df['plat'] / zamestnanci_df['odprac_hodiny'], 0)"
   ]
  },
  {
   "cell_type": "code",
   "execution_count": 36,
   "id": "1e71cf10-f63d-46bb-ba7d-1b9b4e2f1b1b",
   "metadata": {},
   "outputs": [
    {
     "data": {
      "text/html": [
       "<div>\n",
       "<style scoped>\n",
       "    .dataframe tbody tr th:only-of-type {\n",
       "        vertical-align: middle;\n",
       "    }\n",
       "\n",
       "    .dataframe tbody tr th {\n",
       "        vertical-align: top;\n",
       "    }\n",
       "\n",
       "    .dataframe thead th {\n",
       "        text-align: right;\n",
       "    }\n",
       "</style>\n",
       "<table border=\"1\" class=\"dataframe\">\n",
       "  <thead>\n",
       "    <tr style=\"text-align: right;\">\n",
       "      <th></th>\n",
       "      <th>id</th>\n",
       "      <th>jmeno</th>\n",
       "      <th>datum_narozeni</th>\n",
       "      <th>plat</th>\n",
       "      <th>odprac_hodiny</th>\n",
       "      <th>plat_na_hodinu</th>\n",
       "    </tr>\n",
       "  </thead>\n",
       "  <tbody>\n",
       "    <tr>\n",
       "      <th>0</th>\n",
       "      <td>1</td>\n",
       "      <td>Jan Novák</td>\n",
       "      <td>1990-05-15</td>\n",
       "      <td>40000</td>\n",
       "      <td>160</td>\n",
       "      <td>250.0</td>\n",
       "    </tr>\n",
       "    <tr>\n",
       "      <th>1</th>\n",
       "      <td>2</td>\n",
       "      <td>Petr Soukup</td>\n",
       "      <td>1985-12-10</td>\n",
       "      <td>45000</td>\n",
       "      <td>180</td>\n",
       "      <td>250.0</td>\n",
       "    </tr>\n",
       "    <tr>\n",
       "      <th>2</th>\n",
       "      <td>3</td>\n",
       "      <td>Marie Horáková</td>\n",
       "      <td>1992-07-25</td>\n",
       "      <td>35000</td>\n",
       "      <td>150</td>\n",
       "      <td>233.0</td>\n",
       "    </tr>\n",
       "    <tr>\n",
       "      <th>3</th>\n",
       "      <td>4</td>\n",
       "      <td>Jana Svobodová</td>\n",
       "      <td>1988-03-20</td>\n",
       "      <td>50000</td>\n",
       "      <td>200</td>\n",
       "      <td>250.0</td>\n",
       "    </tr>\n",
       "  </tbody>\n",
       "</table>\n",
       "</div>"
      ],
      "text/plain": [
       "   id           jmeno datum_narozeni   plat  odprac_hodiny  plat_na_hodinu\n",
       "0   1       Jan Novák     1990-05-15  40000            160           250.0\n",
       "1   2     Petr Soukup     1985-12-10  45000            180           250.0\n",
       "2   3  Marie Horáková     1992-07-25  35000            150           233.0\n",
       "3   4  Jana Svobodová     1988-03-20  50000            200           250.0"
      ]
     },
     "execution_count": 36,
     "metadata": {},
     "output_type": "execute_result"
    }
   ],
   "source": [
    "zamestnanci_df"
   ]
  },
  {
   "cell_type": "code",
   "execution_count": 37,
   "id": "cbf3b30c-84bd-464d-b9a8-901ba3e8d60d",
   "metadata": {},
   "outputs": [],
   "source": [
    "novy_zamestnanci_df = zamestnanci_df.rename(columns={'jmeno': 'cele_jmeno'})"
   ]
  },
  {
   "cell_type": "code",
   "execution_count": 38,
   "id": "2371a5b9-17d1-4e44-948e-78c0c9451f9b",
   "metadata": {},
   "outputs": [
    {
     "data": {
      "text/html": [
       "<div>\n",
       "<style scoped>\n",
       "    .dataframe tbody tr th:only-of-type {\n",
       "        vertical-align: middle;\n",
       "    }\n",
       "\n",
       "    .dataframe tbody tr th {\n",
       "        vertical-align: top;\n",
       "    }\n",
       "\n",
       "    .dataframe thead th {\n",
       "        text-align: right;\n",
       "    }\n",
       "</style>\n",
       "<table border=\"1\" class=\"dataframe\">\n",
       "  <thead>\n",
       "    <tr style=\"text-align: right;\">\n",
       "      <th></th>\n",
       "      <th>id</th>\n",
       "      <th>cele_jmeno</th>\n",
       "      <th>datum_narozeni</th>\n",
       "      <th>plat</th>\n",
       "      <th>odprac_hodiny</th>\n",
       "      <th>plat_na_hodinu</th>\n",
       "    </tr>\n",
       "  </thead>\n",
       "  <tbody>\n",
       "    <tr>\n",
       "      <th>0</th>\n",
       "      <td>1</td>\n",
       "      <td>Jan Novák</td>\n",
       "      <td>1990-05-15</td>\n",
       "      <td>40000</td>\n",
       "      <td>160</td>\n",
       "      <td>250.0</td>\n",
       "    </tr>\n",
       "    <tr>\n",
       "      <th>1</th>\n",
       "      <td>2</td>\n",
       "      <td>Petr Soukup</td>\n",
       "      <td>1985-12-10</td>\n",
       "      <td>45000</td>\n",
       "      <td>180</td>\n",
       "      <td>250.0</td>\n",
       "    </tr>\n",
       "    <tr>\n",
       "      <th>2</th>\n",
       "      <td>3</td>\n",
       "      <td>Marie Horáková</td>\n",
       "      <td>1992-07-25</td>\n",
       "      <td>35000</td>\n",
       "      <td>150</td>\n",
       "      <td>233.0</td>\n",
       "    </tr>\n",
       "    <tr>\n",
       "      <th>3</th>\n",
       "      <td>4</td>\n",
       "      <td>Jana Svobodová</td>\n",
       "      <td>1988-03-20</td>\n",
       "      <td>50000</td>\n",
       "      <td>200</td>\n",
       "      <td>250.0</td>\n",
       "    </tr>\n",
       "  </tbody>\n",
       "</table>\n",
       "</div>"
      ],
      "text/plain": [
       "   id      cele_jmeno datum_narozeni   plat  odprac_hodiny  plat_na_hodinu\n",
       "0   1       Jan Novák     1990-05-15  40000            160           250.0\n",
       "1   2     Petr Soukup     1985-12-10  45000            180           250.0\n",
       "2   3  Marie Horáková     1992-07-25  35000            150           233.0\n",
       "3   4  Jana Svobodová     1988-03-20  50000            200           250.0"
      ]
     },
     "execution_count": 38,
     "metadata": {},
     "output_type": "execute_result"
    }
   ],
   "source": [
    "novy_zamestnanci_df"
   ]
  },
  {
   "cell_type": "code",
   "execution_count": 40,
   "id": "782d98e1-c412-4aad-94d8-16d17b77aef8",
   "metadata": {},
   "outputs": [],
   "source": [
    "# novy_zamestnanci_df.drop?"
   ]
  },
  {
   "cell_type": "code",
   "execution_count": 41,
   "id": "56e02ada-4eee-4e1d-8d5d-63a42330cbac",
   "metadata": {},
   "outputs": [
    {
     "data": {
      "text/html": [
       "<div>\n",
       "<style scoped>\n",
       "    .dataframe tbody tr th:only-of-type {\n",
       "        vertical-align: middle;\n",
       "    }\n",
       "\n",
       "    .dataframe tbody tr th {\n",
       "        vertical-align: top;\n",
       "    }\n",
       "\n",
       "    .dataframe thead th {\n",
       "        text-align: right;\n",
       "    }\n",
       "</style>\n",
       "<table border=\"1\" class=\"dataframe\">\n",
       "  <thead>\n",
       "    <tr style=\"text-align: right;\">\n",
       "      <th></th>\n",
       "      <th>cele_jmeno</th>\n",
       "      <th>datum_narozeni</th>\n",
       "      <th>plat</th>\n",
       "      <th>odprac_hodiny</th>\n",
       "      <th>plat_na_hodinu</th>\n",
       "    </tr>\n",
       "  </thead>\n",
       "  <tbody>\n",
       "    <tr>\n",
       "      <th>0</th>\n",
       "      <td>Jan Novák</td>\n",
       "      <td>1990-05-15</td>\n",
       "      <td>40000</td>\n",
       "      <td>160</td>\n",
       "      <td>250.0</td>\n",
       "    </tr>\n",
       "    <tr>\n",
       "      <th>1</th>\n",
       "      <td>Petr Soukup</td>\n",
       "      <td>1985-12-10</td>\n",
       "      <td>45000</td>\n",
       "      <td>180</td>\n",
       "      <td>250.0</td>\n",
       "    </tr>\n",
       "    <tr>\n",
       "      <th>2</th>\n",
       "      <td>Marie Horáková</td>\n",
       "      <td>1992-07-25</td>\n",
       "      <td>35000</td>\n",
       "      <td>150</td>\n",
       "      <td>233.0</td>\n",
       "    </tr>\n",
       "    <tr>\n",
       "      <th>3</th>\n",
       "      <td>Jana Svobodová</td>\n",
       "      <td>1988-03-20</td>\n",
       "      <td>50000</td>\n",
       "      <td>200</td>\n",
       "      <td>250.0</td>\n",
       "    </tr>\n",
       "  </tbody>\n",
       "</table>\n",
       "</div>"
      ],
      "text/plain": [
       "       cele_jmeno datum_narozeni   plat  odprac_hodiny  plat_na_hodinu\n",
       "0       Jan Novák     1990-05-15  40000            160           250.0\n",
       "1     Petr Soukup     1985-12-10  45000            180           250.0\n",
       "2  Marie Horáková     1992-07-25  35000            150           233.0\n",
       "3  Jana Svobodová     1988-03-20  50000            200           250.0"
      ]
     },
     "execution_count": 41,
     "metadata": {},
     "output_type": "execute_result"
    }
   ],
   "source": [
    "novy_zamestnanci_df.drop('id', axis=1)"
   ]
  },
  {
   "cell_type": "markdown",
   "id": "bc92497c-77ce-4131-93d9-fd7877aa096a",
   "metadata": {},
   "source": [
    "<details>\n",
    "    <summary>▶️ Řešení</summary>\n",
    "    \n",
    "    ```python\n",
    "    zamestnanci['plat_na_hodinu'] = round(zamestnanci['plat'] / zamestnanci['odprac_hodiny'])\n",
    "\n",
    "    zamestnanci = zamestnanci.rename(columns={'jmeno': 'cele_jmeno'})\n",
    "\n",
    "\n",
    "    def preved_datum(datum_narozeni, vstupni_format='%Y-%m-%d', vystupni_format='%d/%m/%Y'):\n",
    "        dt = datetime.strptime(datum_narozeni, vstupni_format)\n",
    "        prevedene_datum = dt.strftime(vystupni_format)\n",
    "        return prevedene_datum\n",
    "\n",
    "\n",
    "    # zamestnanci['datum_narozeni'] = pd.to_datetime(zamestnanci['datum_narozeni']).dt.strftime('%d/%m/%Y')  #  I. řešení\n",
    "    # zamestnanci['datum_narozeni'] = zamestnanci['datum_narozeni'].apply(preved_datum)                      # II. řešení\n",
    "\n",
    "    zamestnanci = zamestnanci.drop(columns=['id'])\n",
    "    ```\n",
    "</details>"
   ]
  },
  {
   "cell_type": "markdown",
   "id": "993152eb-8f02-4cb2-959c-589baeec7eb3",
   "metadata": {},
   "source": [
    "---"
   ]
  }
 ],
 "metadata": {
  "kernelspec": {
   "display_name": "Python 3",
   "language": "python",
   "name": "python3"
  },
  "language_info": {
   "codemirror_mode": {
    "name": "ipython",
    "version": 3
   },
   "file_extension": ".py",
   "mimetype": "text/x-python",
   "name": "python",
   "nbconvert_exporter": "python",
   "pygments_lexer": "ipython3",
   "version": "3.12.5"
  }
 },
 "nbformat": 4,
 "nbformat_minor": 5
}
