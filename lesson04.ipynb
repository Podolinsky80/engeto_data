{
 "cells": [
  {
   "cell_type": "markdown",
   "id": "756f8ef3-70f3-48fb-bdf6-28c5dd0d8dc9",
   "metadata": {},
   "source": [
    "# Python Data, 2024\n",
    "\n",
    "---"
   ]
  },
  {
   "cell_type": "markdown",
   "id": "c2d5b109-15eb-48c2-9a79-18747a196385",
   "metadata": {},
   "source": [
    "* [Časové řady](#Časové-řady),\n",
    "    - [úvodní motivace](#Úvod),\n",
    "    - [základní objekty](#Základní-objekty),\n",
    "    - [indexování časovými údaji](#Indexování-s-časem),\n",
    "    - [funkce to_datetime](#Funkce-TO_DATETIME),\n",
    "    - [funkce date_range](#Funkce-DATE_RANGE),\n",
    "    - [resampling](#Resampling),\n",
    "    - [zpřesňování](#Zpřesňování),\n",
    "* [Skutečné hodnoty](#Skutečné-datové-sety),\n",
    "    - [chybějící údaje](#Kolik-mi-chybí-údajů),\n",
    "    - [encoding](#Encoding),\n",
    "    - [nekonzistentní data](#Nekonzistentní-data)."
   ]
  },
  {
   "cell_type": "markdown",
   "id": "de2c4d75-bdf5-4cb0-9e2c-fbd0140b2d4d",
   "metadata": {},
   "source": [
    "\n",
    "<img src=\"https://external-content.duckduckgo.com/iu/?u=https%3A%2F%2Ftse1.mm.bing.net%2Fth%3Fid%3DOIP.odqbr-09dxxBQjF7x7NyBAHaII%26pid%3DApi&f=1&ipt=5b4a03c1dd38b52108237102ebb350595a5d6ea6a50572f5897ca89fbf5b5445&ipo=images\" width=\"160\" style=\"margin-left:auto; margin-right:auto\"/>"
   ]
  },
  {
   "cell_type": "markdown",
   "id": "e2071f0f-a5df-49fb-beac-e546a89375b4",
   "metadata": {},
   "source": [
    "<br>\n",
    "\n",
    "## Časové řady\n",
    "\n",
    "---"
   ]
  },
  {
   "cell_type": "markdown",
   "id": "b3595f36-95de-40b4-99b4-ca29f2b6e458",
   "metadata": {
    "tags": []
   },
   "source": [
    "Část *frameworku* byla vyvinuta za účelem **finančního modelování**.\n",
    "\n",
    "Proto je více než dobře vybavena sadou nástrojů, které umí pracovat **s daty, časem a časovými objekty**.\n",
    "\n",
    "<br>\n",
    "\n",
    "Uplatnění:\n",
    "* **Analýza a predikce**: Časové řady umožňují analyzovat vývoj hodnot v čase a předpovídat budoucí trendy nebo sezónní změny. To je klíčové v oblastech jako finance, ekonomika, prodej, počasí a mnoho dalších.\n",
    "\n",
    "* **Efektivní manipulace s časem**: Pandas poskytuje nástroje pro efektivní práci s časovými řadami, což zjednodušuje úkoly, jako je agregace, interpolace nebo časové posuny. Díky integrovaným funkcím můžete snadno pracovat s daty různých časových frekvencí a konvertovat mezi nimi.\n",
    "\n",
    "* **Časově závislé analýzy**: Časové řady umožňují provádět časově závislé analýzy, jako je detekce změn v trendech, identifikace sezónních vlivů nebo identifikace časových závislostí mezi proměnnými.\n",
    "\n",
    "* **Flexibilní indexace**: Pandas podporuje flexibilní indexaci časových řad, což usnadňuje filtrování, řazení a výběr dat na základě časových značek nebo rozsahů.\n",
    "\n",
    "* **Kompatibilita s dalšími knihovnami**: Pandas je kompatibilní s mnoha dalšími knihovnami pro analýzu časových řad, jako je statsmodels nebo scikit-learn. To usnadňuje integraci a rozšíření vašich analýz s pokročilejšími metodami a algoritmy.\n",
    "    \n",
    "<br>\n",
    "\n",
    "Jde například o údaje typu:\n",
    "* *timestampy*, údaj odkazující na konkrétní **časový okamžik** (např. `26. července 2024 v 14:36 hod.`),\n",
    "* *časové intervaly*, tedy období odkazují na délku času **mezi konkrétním začátkem a koncem** (např. intervaly ze dne na den),\n",
    "* *time delta* objekty, tedy přesné délky času (např. 22,22 sekundy)."
   ]
  },
  {
   "cell_type": "markdown",
   "id": "a52a8b5b-fbd0-4a5c-9f86-49bb6d1b60c5",
   "metadata": {},
   "source": [
    "#### Data a čas v Pythonu\n",
    "\n",
    "---"
   ]
  },
  {
   "cell_type": "markdown",
   "id": "5d7cd4e8-d884-4401-98a1-fbba2fad013d",
   "metadata": {},
   "source": [
    "Standardní výbavou Pythonu jsou knihovny `datetime`:"
   ]
  },
  {
   "cell_type": "code",
   "execution_count": 1,
   "id": "3b240281-3df6-46bd-a811-6390e3d3964d",
   "metadata": {
    "tags": []
   },
   "outputs": [],
   "source": [
    "from datetime import datetime"
   ]
  },
  {
   "cell_type": "code",
   "execution_count": 2,
   "id": "2344fee1-dcd9-437c-bc03-8b34379bbe90",
   "metadata": {
    "tags": []
   },
   "outputs": [
    {
     "data": {
      "text/plain": [
       "datetime.datetime(2023, 4, 5, 0, 0)"
      ]
     },
     "execution_count": 2,
     "metadata": {},
     "output_type": "execute_result"
    }
   ],
   "source": [
    "datetime(year=2023, month=4, day=5)"
   ]
  },
  {
   "cell_type": "markdown",
   "id": "5108d4c2-2a5b-4759-8c92-e5b8bd6c03c2",
   "metadata": {},
   "source": [
    "<br>\n",
    "\n",
    "Nebo knihovna `dateutil` pro parsování datových typů z různých stringových zadání:"
   ]
  },
  {
   "cell_type": "code",
   "execution_count": 3,
   "id": "02d4ff59-eeba-4d38-b735-c78ecafbe8ec",
   "metadata": {
    "tags": []
   },
   "outputs": [],
   "source": [
    "from dateutil import parser"
   ]
  },
  {
   "cell_type": "code",
   "execution_count": 4,
   "id": "73fcc24c-baeb-48c2-a2ba-fb310b38c065",
   "metadata": {
    "tags": []
   },
   "outputs": [],
   "source": [
    "date = parser.parse(\"26th of november, 2024\")"
   ]
  },
  {
   "cell_type": "code",
   "execution_count": 6,
   "id": "625cd29b-cf0e-475b-b183-669d57ae0f57",
   "metadata": {
    "tags": []
   },
   "outputs": [
    {
     "data": {
      "text/plain": [
       "datetime.datetime(2024, 11, 26, 0, 0)"
      ]
     },
     "execution_count": 6,
     "metadata": {},
     "output_type": "execute_result"
    }
   ],
   "source": [
    "date"
   ]
  },
  {
   "cell_type": "markdown",
   "id": "9caebdca-7830-4297-ac61-1dce4db4ba73",
   "metadata": {},
   "source": [
    "Kde pomocí metody `strftime` můžeš vypsat den:"
   ]
  },
  {
   "cell_type": "code",
   "execution_count": 7,
   "id": "4d5db24c-520c-4d79-8fe0-522232ab1262",
   "metadata": {
    "tags": []
   },
   "outputs": [
    {
     "data": {
      "text/plain": [
       "'Tuesday'"
      ]
     },
     "execution_count": 7,
     "metadata": {},
     "output_type": "execute_result"
    }
   ],
   "source": [
    "date.strftime(\"%A\")"
   ]
  },
  {
   "cell_type": "markdown",
   "id": "6913d54d-0bd9-417f-9e51-203e2f8305d3",
   "metadata": {},
   "source": [
    "#### Data a čas v numpy\n",
    "\n",
    "---"
   ]
  },
  {
   "cell_type": "markdown",
   "id": "72efded6-f45e-4a48-b948-d1122041cecb",
   "metadata": {},
   "source": [
    "Některé nedostatky uvnitř knihoven `datetime` a `dateutil` vedli ke vzniku sady nástrojů.\n",
    "\n",
    "Tyto doplňky vznikly pod hlavičkou knihovny `numpy`."
   ]
  },
  {
   "cell_type": "code",
   "execution_count": 10,
   "id": "98f3c865-5c60-4ebe-8c45-e2ed325e9239",
   "metadata": {
    "tags": []
   },
   "outputs": [],
   "source": [
    "import numpy as np\n",
    "from numpy import array, arange"
   ]
  },
  {
   "cell_type": "code",
   "execution_count": 11,
   "id": "4fdfd068-5b28-4a81-a75b-8311f0ba4f6e",
   "metadata": {
    "tags": []
   },
   "outputs": [],
   "source": [
    "date = array('2023-04-05', dtype=np.datetime64)"
   ]
  },
  {
   "cell_type": "code",
   "execution_count": 12,
   "id": "4a409a4f-9566-4558-9b77-c592dd2a891c",
   "metadata": {
    "tags": []
   },
   "outputs": [
    {
     "data": {
      "text/plain": [
       "array('2023-04-05', dtype='datetime64[D]')"
      ]
     },
     "execution_count": 12,
     "metadata": {},
     "output_type": "execute_result"
    }
   ],
   "source": [
    "date"
   ]
  },
  {
   "cell_type": "markdown",
   "id": "ed2303ad-852c-4a45-8cff-60f7871b33a4",
   "metadata": {},
   "source": [
    "<br>\n",
    "\n",
    "Pokud potřebuješ pole následujících 7 dní:"
   ]
  },
  {
   "cell_type": "code",
   "execution_count": 13,
   "id": "3ab7f441-fef1-4186-b4dc-006e20501b45",
   "metadata": {
    "tags": []
   },
   "outputs": [
    {
     "data": {
      "text/plain": [
       "array(['2023-04-05', '2023-04-06', '2023-04-07', '2023-04-08',\n",
       "       '2023-04-09', '2023-04-10', '2023-04-11'], dtype='datetime64[D]')"
      ]
     },
     "execution_count": 13,
     "metadata": {},
     "output_type": "execute_result"
    }
   ],
   "source": [
    "date + arange(7)"
   ]
  },
  {
   "cell_type": "markdown",
   "id": "952ebd4a-a97a-4cb8-b99d-1a1eb20d60c5",
   "metadata": {
    "tags": []
   },
   "source": [
    "<br>\n",
    "\n",
    "Vzhledem k jednotnému datovu typu v poli pro **numpy** `datetime64` může tento typ operace\n",
    "provádět mnohem rychleji, než přímo v Pythonu `datetime` objekty, zejména když objekty nabývají na velikosti."
   ]
  },
  {
   "cell_type": "markdown",
   "id": "9be40e46-3b9a-4345-8b88-41c10a5165ad",
   "metadata": {},
   "source": [
    "#### Data a čas v pandách\n",
    "\n",
    "---"
   ]
  },
  {
   "cell_type": "markdown",
   "id": "8f8b25fc-3bc7-40f3-b98b-9b5a62c79b9a",
   "metadata": {
    "tags": []
   },
   "source": [
    "Jde o kombinace objektů z obou předchozích podkapitol.\n",
    "\n",
    "Ty dávají dohromady to nejlepší prostředky pro zacházení s časem."
   ]
  },
  {
   "cell_type": "code",
   "execution_count": 65,
   "id": "776d307a-f40f-47b8-941a-dd4eb1e01466",
   "metadata": {
    "tags": []
   },
   "outputs": [],
   "source": [
    "import pandas as pd"
   ]
  },
  {
   "cell_type": "code",
   "execution_count": null,
   "id": "bed879ce-2ea9-4af1-a9ef-1d4f745574af",
   "metadata": {
    "tags": []
   },
   "outputs": [],
   "source": [
    "date = pd.to_datetime(\"5th of April, 2023\")"
   ]
  },
  {
   "cell_type": "code",
   "execution_count": 16,
   "id": "ea56dd6b-f555-4ba8-9653-ec2659c06c43",
   "metadata": {
    "tags": []
   },
   "outputs": [
    {
     "data": {
      "text/plain": [
       "Timestamp('2023-04-05 00:00:00')"
      ]
     },
     "execution_count": 16,
     "metadata": {},
     "output_type": "execute_result"
    }
   ],
   "source": [
    "date"
   ]
  },
  {
   "cell_type": "code",
   "execution_count": 17,
   "id": "605a43a5-4d3a-4f1a-9966-c9d4db291585",
   "metadata": {
    "tags": []
   },
   "outputs": [
    {
     "data": {
      "text/plain": [
       "'Wednesday'"
      ]
     },
     "execution_count": 17,
     "metadata": {},
     "output_type": "execute_result"
    }
   ],
   "source": [
    "date.strftime(\"%A\")"
   ]
  },
  {
   "cell_type": "markdown",
   "id": "79b82ac9-c61a-4942-a06c-7062612bb9f6",
   "metadata": {},
   "source": [
    "<br>\n",
    "\n",
    "## Časové řady\n",
    "\n",
    "---"
   ]
  },
  {
   "cell_type": "markdown",
   "id": "0df62dfd-4e3f-4080-aa38-4b3a07b8ccba",
   "metadata": {},
   "source": [
    "V podstatě jde o hlavní nástroj, který tato knihovna dovede nabídnout.\n",
    "\n",
    "#### Indexování časem\n",
    "---\n",
    "`DatetimeIndex` obsahuje časové značky (*timestamp*), které jsou uloženy ve formátu `datetime64` s nanosekundovou přesností.\n",
    "\n",
    "Tento objekt umožňuje efektivní práci s časovými řadami a poskytuje mnoho funkcí pro manipulaci s daty a časy.\n",
    "\n",
    "Výhody práce s `DatetimeIndex` objektem:\n",
    "* Časové zóny,\n",
    "* frekvence,\n",
    "* časově závislé selekce,\n",
    "* atributy časových značek,\n",
    "* operace s časem."
   ]
  },
  {
   "cell_type": "code",
   "execution_count": 19,
   "id": "38aedb84-124f-47b6-9b82-d19fdb42bb0b",
   "metadata": {
    "tags": []
   },
   "outputs": [],
   "source": [
    "datumy = [\"2023-04-05\", \"2022-04-05\", \"2021-04-05\", \"2020-04-05\"]"
   ]
  },
  {
   "cell_type": "code",
   "execution_count": null,
   "id": "722b7f22-213c-4e55-bad5-d465f9c1659f",
   "metadata": {
    "tags": []
   },
   "outputs": [],
   "source": [
    "indexy = pd.DatetimeIndex(datumy)"
   ]
  },
  {
   "cell_type": "code",
   "execution_count": null,
   "id": "a06a59ae-1537-4031-ad6e-0a685f2a7dfc",
   "metadata": {
    "tags": []
   },
   "outputs": [],
   "source": [
    "hodnoty = [pd.to_datetime(den).strftime(\"%A\") for den in datumy]"
   ]
  },
  {
   "cell_type": "code",
   "execution_count": 22,
   "id": "09606946-4e16-4edc-86cc-1ea715c36a77",
   "metadata": {},
   "outputs": [
    {
     "data": {
      "text/plain": [
       "['Wednesday', 'Tuesday', 'Monday', 'Sunday']"
      ]
     },
     "execution_count": 22,
     "metadata": {},
     "output_type": "execute_result"
    }
   ],
   "source": [
    "hodnoty"
   ]
  },
  {
   "cell_type": "code",
   "execution_count": null,
   "id": "0744f686-f4d4-4d2e-963b-187e8f844dd1",
   "metadata": {
    "tags": []
   },
   "outputs": [],
   "source": [
    "hodnoty_sl = pd.Series(hodnoty, index=indexy)"
   ]
  },
  {
   "cell_type": "code",
   "execution_count": 28,
   "id": "9ebdad6a-26e6-409e-9979-aac959aa0dc3",
   "metadata": {
    "tags": []
   },
   "outputs": [
    {
     "data": {
      "text/plain": [
       "2023-04-05    Wednesday\n",
       "2022-04-05      Tuesday\n",
       "2021-04-05       Monday\n",
       "2020-04-05       Sunday\n",
       "dtype: object"
      ]
     },
     "execution_count": 28,
     "metadata": {},
     "output_type": "execute_result"
    }
   ],
   "source": [
    "hodnoty_sl"
   ]
  },
  {
   "cell_type": "code",
   "execution_count": 25,
   "id": "b88395d8-b472-457f-9065-064542f4142c",
   "metadata": {
    "tags": []
   },
   "outputs": [
    {
     "data": {
      "text/plain": [
       "pandas.core.indexes.datetimes.DatetimeIndex"
      ]
     },
     "execution_count": 25,
     "metadata": {},
     "output_type": "execute_result"
    }
   ],
   "source": [
    "type(indexy)"
   ]
  },
  {
   "cell_type": "code",
   "execution_count": 29,
   "id": "cddde627-eaf9-477d-892d-08b5eaa80860",
   "metadata": {},
   "outputs": [],
   "source": [
    "# hodnoty_sl['2023-04-05':'2021-04-05']   -> KeyError"
   ]
  },
  {
   "cell_type": "code",
   "execution_count": 32,
   "id": "b6c75ab2",
   "metadata": {},
   "outputs": [
    {
     "data": {
      "text/plain": [
       "2021-04-05       Monday\n",
       "2022-04-05      Tuesday\n",
       "2023-04-05    Wednesday\n",
       "dtype: object"
      ]
     },
     "execution_count": 32,
     "metadata": {},
     "output_type": "execute_result"
    }
   ],
   "source": [
    "hodnoty_sl.sort_index()['2021-04-05':'2023-04-05']"
   ]
  },
  {
   "cell_type": "markdown",
   "id": "0d47edb2-6dc2-4602-9f41-34f6a2937209",
   "metadata": {},
   "source": [
    "<br>\n",
    "\n",
    "## Základní objekty\n",
    "\n",
    "---\n",
    "\n",
    "Mezi základní objekty pro práci s časem patří:\n",
    "* `Timestamp` typ (související struktura Indexu `DatetimeIndex`,\n",
    "* `Period` typ (.. `PeriodIndex`),\n",
    "* `Timedelta` typ (.. `TimedeltaIndex`)."
   ]
  },
  {
   "cell_type": "markdown",
   "id": "09bdc79b-0511-4fcb-9c46-f7afd077e19f",
   "metadata": {},
   "source": [
    "#### Timestamp & DatetimeIndex\n",
    "\n",
    "---\n",
    "\n",
    "Nejčastější datové typy, které lze vyvolat přímo, ovšem běžnější je pracovat s funkcí `to_datetime`.\n",
    "\n",
    "Funkce `to_datetime` umí parsovat různé stringové formáty."
   ]
  },
  {
   "cell_type": "markdown",
   "id": "2160acb2-fcbd-4faf-a798-b9dba03fbb59",
   "metadata": {},
   "source": [
    "<br>\n",
    "\n",
    "### Práce s jedním datumem\n",
    "\n",
    "---"
   ]
  },
  {
   "cell_type": "code",
   "execution_count": null,
   "id": "008d3a6b-be76-4b9b-a32f-21c3e3d10c33",
   "metadata": {
    "tags": []
   },
   "outputs": [],
   "source": [
    "datum = pd.to_datetime(\"05/04/2023\")  # MM/DD/RRRR"
   ]
  },
  {
   "cell_type": "markdown",
   "id": "2cd8cbca-c056-45e7-ab87-fff10ba5cd4b",
   "metadata": {},
   "source": [
    "<br>\n",
    "\n",
    "Opatrně na specifický formát datumu:"
   ]
  },
  {
   "cell_type": "code",
   "execution_count": 43,
   "id": "5e1f49ba-3d71-4612-a1cb-c4b23ce3b7c7",
   "metadata": {
    "tags": []
   },
   "outputs": [
    {
     "data": {
      "text/plain": [
       "Timestamp('2023-05-04 00:00:00')"
      ]
     },
     "execution_count": 43,
     "metadata": {},
     "output_type": "execute_result"
    }
   ],
   "source": [
    "datum                              # MM/DD/RRRR"
   ]
  },
  {
   "cell_type": "code",
   "execution_count": 44,
   "id": "b81815a1-b7d7-4b04-b966-23e22dd117e6",
   "metadata": {
    "tags": []
   },
   "outputs": [
    {
     "data": {
      "text/plain": [
       "pandas._libs.tslibs.timestamps.Timestamp"
      ]
     },
     "execution_count": 44,
     "metadata": {},
     "output_type": "execute_result"
    }
   ],
   "source": [
    "type(datum)"
   ]
  },
  {
   "cell_type": "code",
   "execution_count": null,
   "id": "68bd7190-ad60-495e-a6bb-2c17cae7027a",
   "metadata": {},
   "outputs": [
    {
     "data": {
      "text/plain": [
       "'May'"
      ]
     },
     "execution_count": 45,
     "metadata": {},
     "output_type": "execute_result"
    }
   ],
   "source": [
    "datum.month_name()  #  --> May"
   ]
  },
  {
   "cell_type": "code",
   "execution_count": null,
   "id": "4f827f9d",
   "metadata": {},
   "outputs": [],
   "source": [
    "datum = pd.to_datetime(\"05/04/2023\", dayfirst=True)  # DD/MM/RRRR"
   ]
  },
  {
   "cell_type": "code",
   "execution_count": null,
   "id": "a5de56b6",
   "metadata": {},
   "outputs": [
    {
     "data": {
      "text/plain": [
       "'April'"
      ]
     },
     "execution_count": 47,
     "metadata": {},
     "output_type": "execute_result"
    }
   ],
   "source": [
    "datum.month_name()  #  --> April"
   ]
  },
  {
   "cell_type": "markdown",
   "id": "c55dcbab-9d51-4d4c-8f91-4b87a676957f",
   "metadata": {},
   "source": [
    "Pokud do funkce `to_datetime` vložíš jedinou hodnotu, vrací objekty typu `Timestamp`."
   ]
  },
  {
   "cell_type": "markdown",
   "id": "f63fd9d1-3b3a-4000-91c7-4f7a071ea4fc",
   "metadata": {},
   "source": [
    "<br>\n",
    "\n",
    "### Specifický formát\n",
    "\n",
    "---"
   ]
  },
  {
   "cell_type": "markdown",
   "id": "79f3503c-a33d-4dbe-92a5-5ff91195ac73",
   "metadata": {},
   "source": [
    "Pokud se *parser* ztratí nebo tvoje zadání neodpovídá jeho vyhotovení:"
   ]
  },
  {
   "cell_type": "code",
   "execution_count": null,
   "id": "e4299858-4a39-4a0d-a09a-3bb95e048a1c",
   "metadata": {
    "tags": []
   },
   "outputs": [
    {
     "data": {
      "text/plain": [
       "Timestamp('2010-11-12 00:00:00')"
      ]
     },
     "execution_count": 48,
     "metadata": {},
     "output_type": "execute_result"
    }
   ],
   "source": [
    "pd.to_datetime(\"12-11-2010 00:00\", format=\"%d-%m-%Y %H:%M\")"
   ]
  },
  {
   "cell_type": "code",
   "execution_count": null,
   "id": "3d9fe2f0-f19b-4867-b7fb-e7523e9351fa",
   "metadata": {},
   "outputs": [],
   "source": [
    "naformatovany_datum = pd.to_datetime(\"05/04/2023\", format='%d/%m/%Y')"
   ]
  },
  {
   "cell_type": "code",
   "execution_count": 50,
   "id": "b75584f5-5918-4f98-8fe7-9e01c566c99b",
   "metadata": {},
   "outputs": [
    {
     "data": {
      "text/plain": [
       "'April'"
      ]
     },
     "execution_count": 50,
     "metadata": {},
     "output_type": "execute_result"
    }
   ],
   "source": [
    "naformatovany_datum.month_name()"
   ]
  },
  {
   "cell_type": "markdown",
   "id": "2803e915-a129-4904-843c-fc63e3d9640b",
   "metadata": {},
   "source": [
    "<br>\n",
    "\n",
    "### Práce s několika datumy\n",
    "\n",
    "---"
   ]
  },
  {
   "cell_type": "code",
   "execution_count": null,
   "id": "092c1163-b0e7-4277-bd57-bad7bdab5b06",
   "metadata": {
    "tags": []
   },
   "outputs": [],
   "source": [
    "datumy = pd.to_datetime([\n",
    "    datetime(2023, 4, 5), \"5th of April 2023\", \"2023-Apr-5\", \"05-04-2023\", \"20230405\"\n",
    "])"
   ]
  },
  {
   "cell_type": "code",
   "execution_count": 52,
   "id": "200907f1-a8b7-46c0-ba70-9ed9fe0bb20d",
   "metadata": {
    "tags": []
   },
   "outputs": [
    {
     "data": {
      "text/plain": [
       "DatetimeIndex(['2023-04-05', '2023-04-05', '2023-04-05', '2023-05-04',\n",
       "               '2023-04-05'],\n",
       "              dtype='datetime64[ns]', freq=None)"
      ]
     },
     "execution_count": 52,
     "metadata": {},
     "output_type": "execute_result"
    }
   ],
   "source": [
    "datumy"
   ]
  },
  {
   "cell_type": "code",
   "execution_count": 53,
   "id": "90b0e847-8e29-41bc-84cf-107653bb0b8d",
   "metadata": {
    "tags": []
   },
   "outputs": [
    {
     "data": {
      "text/plain": [
       "pandas.core.indexes.datetimes.DatetimeIndex"
      ]
     },
     "execution_count": 53,
     "metadata": {},
     "output_type": "execute_result"
    }
   ],
   "source": [
    "type(datumy)"
   ]
  },
  {
   "cell_type": "markdown",
   "id": "ef15bae3-af4b-460a-8071-456968156253",
   "metadata": {},
   "source": [
    "Zatímco pole hodnot s datumy, které funkce `to_datetime` zpracuje vrací objekt typu `DatetimeIndex`."
   ]
  },
  {
   "cell_type": "markdown",
   "id": "d186ec09-995a-442d-9292-2713d6e0c802",
   "metadata": {},
   "source": [
    "<br>\n",
    "\n",
    "Objekt `DatetimeIndex` potom můžeš konvertovat na `PeriodIndex` pomocí *metody* `to_period`:"
   ]
  },
  {
   "cell_type": "code",
   "execution_count": 58,
   "id": "43589164-8c53-466e-82d2-cc1d351f48b5",
   "metadata": {
    "tags": []
   },
   "outputs": [
    {
     "name": "stdout",
     "output_type": "stream",
     "text": [
      "\u001b[31mSignature:\u001b[39m datumy.to_period(*args, **kwargs)\n",
      "\u001b[31mDocstring:\u001b[39m\n",
      "Cast to PeriodArray/PeriodIndex at a particular frequency.\n",
      "\n",
      "Converts DatetimeArray/Index to PeriodArray/PeriodIndex.\n",
      "\n",
      "Parameters\n",
      "----------\n",
      "freq : str or Period, optional\n",
      "    One of pandas' :ref:`period aliases <timeseries.period_aliases>`\n",
      "    or an Period object. Will be inferred by default.\n",
      "\n",
      "Returns\n",
      "-------\n",
      "PeriodArray/PeriodIndex\n",
      "\n",
      "Raises\n",
      "------\n",
      "ValueError\n",
      "    When converting a DatetimeArray/Index with non-regular values,\n",
      "    so that a frequency cannot be inferred.\n",
      "\n",
      "See Also\n",
      "--------\n",
      "PeriodIndex: Immutable ndarray holding ordinal values.\n",
      "DatetimeIndex.to_pydatetime: Return DatetimeIndex as object.\n",
      "\n",
      "Examples\n",
      "--------\n",
      ">>> df = pd.DataFrame({\"y\": [1, 2, 3]},\n",
      "...                   index=pd.to_datetime([\"2000-03-31 00:00:00\",\n",
      "...                                         \"2000-05-31 00:00:00\",\n",
      "...                                         \"2000-08-31 00:00:00\"]))\n",
      ">>> df.index.to_period(\"M\")\n",
      "PeriodIndex(['2000-03', '2000-05', '2000-08'],\n",
      "            dtype='period[M]')\n",
      "\n",
      "Infer the daily frequency\n",
      "\n",
      ">>> idx = pd.date_range(\"2017-01-01\", periods=2)\n",
      ">>> idx.to_period()\n",
      "PeriodIndex(['2017-01-01', '2017-01-02'],\n",
      "            dtype='period[D]')\n",
      "\u001b[31mFile:\u001b[39m      ~/.pyenv/versions/3.12.5/lib/python3.12/site-packages/pandas/core/indexes/extension.py\n",
      "\u001b[31mType:\u001b[39m      method"
     ]
    }
   ],
   "source": [
    "datumy.to_period?"
   ]
  },
  {
   "cell_type": "code",
   "execution_count": 64,
   "id": "8999e7c0",
   "metadata": {},
   "outputs": [
    {
     "data": {
      "text/plain": [
       "PeriodIndex(['2023-04-05 00:00', '2023-04-05 00:00', '2023-04-05 00:00',\n",
       "             '2023-05-04 00:00', '2023-04-05 00:00'],\n",
       "            dtype='period[h]')"
      ]
     },
     "execution_count": 64,
     "metadata": {},
     "output_type": "execute_result"
    }
   ],
   "source": [
    "datumy.to_period(freq=\"h\")"
   ]
  },
  {
   "cell_type": "markdown",
   "id": "15acd474-a6c0-440b-876c-1b1da8f14310",
   "metadata": {},
   "source": [
    "<br>\n",
    "\n",
    "Tato metoda je užitečná, pokud chcete převést časové řady **na určité časové období**.\n",
    "\n",
    "Když budeš třeba potřebovat převést hodnoty **z denních dat na měsíční data**."
   ]
  },
  {
   "cell_type": "markdown",
   "id": "c9c7e3a8-060b-4282-902a-c5046ae17974",
   "metadata": {},
   "source": [
    "<br>\n",
    "\n",
    "### Denní data\n",
    "\n",
    "---"
   ]
  },
  {
   "cell_type": "code",
   "execution_count": 67,
   "id": "a326192e-cd40-4bb8-8ec5-90bae9d5ccb0",
   "metadata": {
    "tags": []
   },
   "outputs": [
    {
     "data": {
      "text/plain": [
       "PeriodIndex(['2023-04-05', '2023-04-05', '2023-04-05', '2023-05-04',\n",
       "             '2023-04-05'],\n",
       "            dtype='period[D]')"
      ]
     },
     "execution_count": 67,
     "metadata": {},
     "output_type": "execute_result"
    }
   ],
   "source": [
    "datumy.to_period(\"D\")"
   ]
  },
  {
   "cell_type": "markdown",
   "id": "2f0d268d-0809-498b-b7d6-64c739d8f814",
   "metadata": {},
   "source": [
    "<br>\n",
    "\n",
    "### Měsíční data\n",
    "\n",
    "---"
   ]
  },
  {
   "cell_type": "code",
   "execution_count": 69,
   "id": "6c1898cd-7068-4bef-b699-85c165cdfb6a",
   "metadata": {
    "tags": []
   },
   "outputs": [
    {
     "data": {
      "text/plain": [
       "PeriodIndex(['2023-04', '2023-04', '2023-04', '2023-05', '2023-04'], dtype='period[M]')"
      ]
     },
     "execution_count": 69,
     "metadata": {},
     "output_type": "execute_result"
    }
   ],
   "source": [
    "datumy.to_period(freq=\"M\")"
   ]
  },
  {
   "cell_type": "code",
   "execution_count": 82,
   "id": "d83626f1-2cac-4f86-9b5a-aeed533ff783",
   "metadata": {
    "tags": []
   },
   "outputs": [],
   "source": [
    "data = {'date': pd.date_range(start='2022-01-01', periods=10, freq='ME'),\n",
    "        'sales': [100, 102, 105, 107, 110, 112, 115, 117, 120, 122]}"
   ]
  },
  {
   "cell_type": "code",
   "execution_count": 83,
   "id": "06435f66-582f-4822-8be0-97ed1ddc7bba",
   "metadata": {
    "tags": []
   },
   "outputs": [],
   "source": [
    "data_df = pd.DataFrame(data)"
   ]
  },
  {
   "cell_type": "code",
   "execution_count": 84,
   "id": "3facb1a6-0aa4-45ea-bb2e-4ca3974cfc74",
   "metadata": {},
   "outputs": [
    {
     "data": {
      "text/html": [
       "<div>\n",
       "<style scoped>\n",
       "    .dataframe tbody tr th:only-of-type {\n",
       "        vertical-align: middle;\n",
       "    }\n",
       "\n",
       "    .dataframe tbody tr th {\n",
       "        vertical-align: top;\n",
       "    }\n",
       "\n",
       "    .dataframe thead th {\n",
       "        text-align: right;\n",
       "    }\n",
       "</style>\n",
       "<table border=\"1\" class=\"dataframe\">\n",
       "  <thead>\n",
       "    <tr style=\"text-align: right;\">\n",
       "      <th></th>\n",
       "      <th>date</th>\n",
       "      <th>sales</th>\n",
       "    </tr>\n",
       "  </thead>\n",
       "  <tbody>\n",
       "    <tr>\n",
       "      <th>0</th>\n",
       "      <td>2022-01-31</td>\n",
       "      <td>100</td>\n",
       "    </tr>\n",
       "    <tr>\n",
       "      <th>1</th>\n",
       "      <td>2022-02-28</td>\n",
       "      <td>102</td>\n",
       "    </tr>\n",
       "    <tr>\n",
       "      <th>2</th>\n",
       "      <td>2022-03-31</td>\n",
       "      <td>105</td>\n",
       "    </tr>\n",
       "    <tr>\n",
       "      <th>3</th>\n",
       "      <td>2022-04-30</td>\n",
       "      <td>107</td>\n",
       "    </tr>\n",
       "    <tr>\n",
       "      <th>4</th>\n",
       "      <td>2022-05-31</td>\n",
       "      <td>110</td>\n",
       "    </tr>\n",
       "    <tr>\n",
       "      <th>5</th>\n",
       "      <td>2022-06-30</td>\n",
       "      <td>112</td>\n",
       "    </tr>\n",
       "    <tr>\n",
       "      <th>6</th>\n",
       "      <td>2022-07-31</td>\n",
       "      <td>115</td>\n",
       "    </tr>\n",
       "    <tr>\n",
       "      <th>7</th>\n",
       "      <td>2022-08-31</td>\n",
       "      <td>117</td>\n",
       "    </tr>\n",
       "    <tr>\n",
       "      <th>8</th>\n",
       "      <td>2022-09-30</td>\n",
       "      <td>120</td>\n",
       "    </tr>\n",
       "    <tr>\n",
       "      <th>9</th>\n",
       "      <td>2022-10-31</td>\n",
       "      <td>122</td>\n",
       "    </tr>\n",
       "  </tbody>\n",
       "</table>\n",
       "</div>"
      ],
      "text/plain": [
       "        date  sales\n",
       "0 2022-01-31    100\n",
       "1 2022-02-28    102\n",
       "2 2022-03-31    105\n",
       "3 2022-04-30    107\n",
       "4 2022-05-31    110\n",
       "5 2022-06-30    112\n",
       "6 2022-07-31    115\n",
       "7 2022-08-31    117\n",
       "8 2022-09-30    120\n",
       "9 2022-10-31    122"
      ]
     },
     "execution_count": 84,
     "metadata": {},
     "output_type": "execute_result"
    }
   ],
   "source": [
    "data_df"
   ]
  },
  {
   "cell_type": "code",
   "execution_count": 85,
   "id": "16f27394-4a76-4ac1-b497-f6be0658f934",
   "metadata": {
    "tags": []
   },
   "outputs": [],
   "source": [
    "data_df.set_index('date', inplace=True)"
   ]
  },
  {
   "cell_type": "code",
   "execution_count": 86,
   "id": "1dc3a9dc-8dc9-450a-a75b-2ba46a13001d",
   "metadata": {},
   "outputs": [
    {
     "data": {
      "text/html": [
       "<div>\n",
       "<style scoped>\n",
       "    .dataframe tbody tr th:only-of-type {\n",
       "        vertical-align: middle;\n",
       "    }\n",
       "\n",
       "    .dataframe tbody tr th {\n",
       "        vertical-align: top;\n",
       "    }\n",
       "\n",
       "    .dataframe thead th {\n",
       "        text-align: right;\n",
       "    }\n",
       "</style>\n",
       "<table border=\"1\" class=\"dataframe\">\n",
       "  <thead>\n",
       "    <tr style=\"text-align: right;\">\n",
       "      <th></th>\n",
       "      <th>sales</th>\n",
       "    </tr>\n",
       "    <tr>\n",
       "      <th>date</th>\n",
       "      <th></th>\n",
       "    </tr>\n",
       "  </thead>\n",
       "  <tbody>\n",
       "    <tr>\n",
       "      <th>2022-01-31</th>\n",
       "      <td>100</td>\n",
       "    </tr>\n",
       "    <tr>\n",
       "      <th>2022-02-28</th>\n",
       "      <td>102</td>\n",
       "    </tr>\n",
       "    <tr>\n",
       "      <th>2022-03-31</th>\n",
       "      <td>105</td>\n",
       "    </tr>\n",
       "    <tr>\n",
       "      <th>2022-04-30</th>\n",
       "      <td>107</td>\n",
       "    </tr>\n",
       "    <tr>\n",
       "      <th>2022-05-31</th>\n",
       "      <td>110</td>\n",
       "    </tr>\n",
       "    <tr>\n",
       "      <th>2022-06-30</th>\n",
       "      <td>112</td>\n",
       "    </tr>\n",
       "    <tr>\n",
       "      <th>2022-07-31</th>\n",
       "      <td>115</td>\n",
       "    </tr>\n",
       "    <tr>\n",
       "      <th>2022-08-31</th>\n",
       "      <td>117</td>\n",
       "    </tr>\n",
       "    <tr>\n",
       "      <th>2022-09-30</th>\n",
       "      <td>120</td>\n",
       "    </tr>\n",
       "    <tr>\n",
       "      <th>2022-10-31</th>\n",
       "      <td>122</td>\n",
       "    </tr>\n",
       "  </tbody>\n",
       "</table>\n",
       "</div>"
      ],
      "text/plain": [
       "            sales\n",
       "date             \n",
       "2022-01-31    100\n",
       "2022-02-28    102\n",
       "2022-03-31    105\n",
       "2022-04-30    107\n",
       "2022-05-31    110\n",
       "2022-06-30    112\n",
       "2022-07-31    115\n",
       "2022-08-31    117\n",
       "2022-09-30    120\n",
       "2022-10-31    122"
      ]
     },
     "execution_count": 86,
     "metadata": {},
     "output_type": "execute_result"
    }
   ],
   "source": [
    "data_df"
   ]
  },
  {
   "cell_type": "code",
   "execution_count": 87,
   "id": "47d9a370-6a79-472a-a610-217e7dd35410",
   "metadata": {
    "tags": []
   },
   "outputs": [],
   "source": [
    "period_df = data_df.to_period(freq='M')"
   ]
  },
  {
   "cell_type": "code",
   "execution_count": 88,
   "id": "dc37e1d7-d0fa-42d3-bf53-630c2ffcfae1",
   "metadata": {},
   "outputs": [
    {
     "data": {
      "text/html": [
       "<div>\n",
       "<style scoped>\n",
       "    .dataframe tbody tr th:only-of-type {\n",
       "        vertical-align: middle;\n",
       "    }\n",
       "\n",
       "    .dataframe tbody tr th {\n",
       "        vertical-align: top;\n",
       "    }\n",
       "\n",
       "    .dataframe thead th {\n",
       "        text-align: right;\n",
       "    }\n",
       "</style>\n",
       "<table border=\"1\" class=\"dataframe\">\n",
       "  <thead>\n",
       "    <tr style=\"text-align: right;\">\n",
       "      <th></th>\n",
       "      <th>sales</th>\n",
       "    </tr>\n",
       "    <tr>\n",
       "      <th>date</th>\n",
       "      <th></th>\n",
       "    </tr>\n",
       "  </thead>\n",
       "  <tbody>\n",
       "    <tr>\n",
       "      <th>2022-01</th>\n",
       "      <td>100</td>\n",
       "    </tr>\n",
       "    <tr>\n",
       "      <th>2022-02</th>\n",
       "      <td>102</td>\n",
       "    </tr>\n",
       "    <tr>\n",
       "      <th>2022-03</th>\n",
       "      <td>105</td>\n",
       "    </tr>\n",
       "    <tr>\n",
       "      <th>2022-04</th>\n",
       "      <td>107</td>\n",
       "    </tr>\n",
       "    <tr>\n",
       "      <th>2022-05</th>\n",
       "      <td>110</td>\n",
       "    </tr>\n",
       "    <tr>\n",
       "      <th>2022-06</th>\n",
       "      <td>112</td>\n",
       "    </tr>\n",
       "    <tr>\n",
       "      <th>2022-07</th>\n",
       "      <td>115</td>\n",
       "    </tr>\n",
       "    <tr>\n",
       "      <th>2022-08</th>\n",
       "      <td>117</td>\n",
       "    </tr>\n",
       "    <tr>\n",
       "      <th>2022-09</th>\n",
       "      <td>120</td>\n",
       "    </tr>\n",
       "    <tr>\n",
       "      <th>2022-10</th>\n",
       "      <td>122</td>\n",
       "    </tr>\n",
       "  </tbody>\n",
       "</table>\n",
       "</div>"
      ],
      "text/plain": [
       "         sales\n",
       "date          \n",
       "2022-01    100\n",
       "2022-02    102\n",
       "2022-03    105\n",
       "2022-04    107\n",
       "2022-05    110\n",
       "2022-06    112\n",
       "2022-07    115\n",
       "2022-08    117\n",
       "2022-09    120\n",
       "2022-10    122"
      ]
     },
     "execution_count": 88,
     "metadata": {},
     "output_type": "execute_result"
    }
   ],
   "source": [
    "period_df"
   ]
  },
  {
   "cell_type": "markdown",
   "id": "3c9889c5-1045-4c39-b73b-8a1614b01329",
   "metadata": {},
   "source": [
    "<br>\n",
    "\n",
    "### TimedeltaIndex\n",
    "\n",
    "---\n",
    "\n",
    "Jde o rozdíl v jednotkách času.\n",
    "\n",
    "Nejčastěji se s tímto objektem setkáš, pokud potřebuješ získat **rozdíl mezi dvěma datumy**."
   ]
  },
  {
   "cell_type": "code",
   "execution_count": 93,
   "id": "baa82ce3-62ff-44d0-8b2e-71751d8a7c64",
   "metadata": {
    "tags": []
   },
   "outputs": [],
   "source": [
    "specialni_datumy = pd.to_datetime([\n",
    "    datetime(2022, 4, 5), \"5th of April 2021\", \"2020-Apr-5\", \"05-04-2019\", \"20180405\"]\n",
    ")"
   ]
  },
  {
   "cell_type": "code",
   "execution_count": 94,
   "id": "c8ce31ff-510d-49de-9098-8efba84b3e8d",
   "metadata": {},
   "outputs": [
    {
     "data": {
      "text/plain": [
       "DatetimeIndex(['2022-04-05', '2021-04-05', '2020-04-05', '2019-05-04',\n",
       "               '2018-04-05'],\n",
       "              dtype='datetime64[ns]', freq=None)"
      ]
     },
     "execution_count": 94,
     "metadata": {},
     "output_type": "execute_result"
    }
   ],
   "source": [
    "specialni_datumy"
   ]
  },
  {
   "cell_type": "code",
   "execution_count": 95,
   "id": "fa67979c-560d-4c06-a4b5-97dffa5f66f0",
   "metadata": {
    "tags": []
   },
   "outputs": [
    {
     "data": {
      "text/plain": [
       "TimedeltaIndex(['365 days', '730 days', '1095 days', '1461 days', '1826 days'], dtype='timedelta64[ns]', freq=None)"
      ]
     },
     "execution_count": 95,
     "metadata": {},
     "output_type": "execute_result"
    }
   ],
   "source": [
    "datumy - specialni_datumy"
   ]
  },
  {
   "cell_type": "markdown",
   "id": "d06fc380-1a8d-4861-beda-568075bda222",
   "metadata": {},
   "source": [
    "<br>\n",
    "\n",
    "Rozdíl mezi datumy můžeš počítat i pro jednotlivé `Timestamp` hodnoty:"
   ]
  },
  {
   "cell_type": "code",
   "execution_count": 96,
   "id": "999679f7-dbcc-45a5-bc6e-daa379d87310",
   "metadata": {},
   "outputs": [
    {
     "data": {
      "text/plain": [
       "Timestamp('2023-04-05 00:00:00')"
      ]
     },
     "execution_count": 96,
     "metadata": {},
     "output_type": "execute_result"
    }
   ],
   "source": [
    "datumy[0]"
   ]
  },
  {
   "cell_type": "code",
   "execution_count": 97,
   "id": "effc3dfd-e0df-45ab-8fa7-0254631a62a7",
   "metadata": {},
   "outputs": [
    {
     "data": {
      "text/plain": [
       "Timestamp('2022-04-05 00:00:00')"
      ]
     },
     "execution_count": 97,
     "metadata": {},
     "output_type": "execute_result"
    }
   ],
   "source": [
    "specialni_datumy[0]"
   ]
  },
  {
   "cell_type": "code",
   "execution_count": 98,
   "id": "aec46dd7-0aed-41f1-bd42-0244f276612f",
   "metadata": {},
   "outputs": [
    {
     "data": {
      "text/plain": [
       "Timedelta('365 days 00:00:00')"
      ]
     },
     "execution_count": 98,
     "metadata": {},
     "output_type": "execute_result"
    }
   ],
   "source": [
    "datumy[0] - specialni_datumy[0]"
   ]
  },
  {
   "cell_type": "markdown",
   "id": "a20b2222-9b34-4dfb-895c-edd48b1d4dc7",
   "metadata": {},
   "source": [
    "<br>\n",
    "\n",
    "**🧠 CVIČENÍ 🧠, procvič si funkci `to_datetime`**"
   ]
  },
  {
   "cell_type": "code",
   "execution_count": 99,
   "id": "d1ebccfe-8d1e-4e02-8255-228da5d88d4d",
   "metadata": {
    "tags": []
   },
   "outputs": [],
   "source": [
    "data = {  # Převeď datumy na formát RRRR-MM-DD\n",
    "    \"Name\": [\"Event A\", \"Event B\", \"Event C\"],\n",
    "    \"Date\": [\"21-11-2024\", \"05-12-2024\", \"15-01-2025\"],\n",
    "}"
   ]
  },
  {
   "cell_type": "code",
   "execution_count": 100,
   "id": "a99523cc-f685-4762-b64c-fb4d789955b0",
   "metadata": {},
   "outputs": [],
   "source": [
    "nova_data_df = pd.DataFrame(data)"
   ]
  },
  {
   "cell_type": "code",
   "execution_count": 102,
   "id": "a8e526d3",
   "metadata": {},
   "outputs": [
    {
     "data": {
      "text/html": [
       "<div>\n",
       "<style scoped>\n",
       "    .dataframe tbody tr th:only-of-type {\n",
       "        vertical-align: middle;\n",
       "    }\n",
       "\n",
       "    .dataframe tbody tr th {\n",
       "        vertical-align: top;\n",
       "    }\n",
       "\n",
       "    .dataframe thead th {\n",
       "        text-align: right;\n",
       "    }\n",
       "</style>\n",
       "<table border=\"1\" class=\"dataframe\">\n",
       "  <thead>\n",
       "    <tr style=\"text-align: right;\">\n",
       "      <th></th>\n",
       "      <th>Name</th>\n",
       "      <th>Date</th>\n",
       "    </tr>\n",
       "  </thead>\n",
       "  <tbody>\n",
       "    <tr>\n",
       "      <th>0</th>\n",
       "      <td>Event A</td>\n",
       "      <td>21-11-2024</td>\n",
       "    </tr>\n",
       "    <tr>\n",
       "      <th>1</th>\n",
       "      <td>Event B</td>\n",
       "      <td>05-12-2024</td>\n",
       "    </tr>\n",
       "    <tr>\n",
       "      <th>2</th>\n",
       "      <td>Event C</td>\n",
       "      <td>15-01-2025</td>\n",
       "    </tr>\n",
       "  </tbody>\n",
       "</table>\n",
       "</div>"
      ],
      "text/plain": [
       "      Name        Date\n",
       "0  Event A  21-11-2024\n",
       "1  Event B  05-12-2024\n",
       "2  Event C  15-01-2025"
      ]
     },
     "execution_count": 102,
     "metadata": {},
     "output_type": "execute_result"
    }
   ],
   "source": [
    "nova_data_df"
   ]
  },
  {
   "cell_type": "code",
   "execution_count": 105,
   "id": "12d4b1a3-945b-4157-91ac-6b33ae987000",
   "metadata": {},
   "outputs": [],
   "source": [
    "nova_data_df['New Date'] = pd.to_datetime(nova_data_df['Date'], dayfirst=True)  # \"format\" chybí"
   ]
  },
  {
   "cell_type": "code",
   "execution_count": 106,
   "id": "fb217f15",
   "metadata": {},
   "outputs": [
    {
     "data": {
      "text/html": [
       "<div>\n",
       "<style scoped>\n",
       "    .dataframe tbody tr th:only-of-type {\n",
       "        vertical-align: middle;\n",
       "    }\n",
       "\n",
       "    .dataframe tbody tr th {\n",
       "        vertical-align: top;\n",
       "    }\n",
       "\n",
       "    .dataframe thead th {\n",
       "        text-align: right;\n",
       "    }\n",
       "</style>\n",
       "<table border=\"1\" class=\"dataframe\">\n",
       "  <thead>\n",
       "    <tr style=\"text-align: right;\">\n",
       "      <th></th>\n",
       "      <th>Name</th>\n",
       "      <th>Date</th>\n",
       "      <th>New Date</th>\n",
       "    </tr>\n",
       "  </thead>\n",
       "  <tbody>\n",
       "    <tr>\n",
       "      <th>0</th>\n",
       "      <td>Event A</td>\n",
       "      <td>21-11-2024</td>\n",
       "      <td>2024-11-21</td>\n",
       "    </tr>\n",
       "    <tr>\n",
       "      <th>1</th>\n",
       "      <td>Event B</td>\n",
       "      <td>05-12-2024</td>\n",
       "      <td>2024-12-05</td>\n",
       "    </tr>\n",
       "    <tr>\n",
       "      <th>2</th>\n",
       "      <td>Event C</td>\n",
       "      <td>15-01-2025</td>\n",
       "      <td>2025-01-15</td>\n",
       "    </tr>\n",
       "  </tbody>\n",
       "</table>\n",
       "</div>"
      ],
      "text/plain": [
       "      Name        Date   New Date\n",
       "0  Event A  21-11-2024 2024-11-21\n",
       "1  Event B  05-12-2024 2024-12-05\n",
       "2  Event C  15-01-2025 2025-01-15"
      ]
     },
     "execution_count": 106,
     "metadata": {},
     "output_type": "execute_result"
    }
   ],
   "source": [
    "nova_data_df"
   ]
  },
  {
   "cell_type": "code",
   "execution_count": 107,
   "id": "123af4a5-08be-45e6-ba25-d54d909dc24d",
   "metadata": {},
   "outputs": [],
   "source": [
    "nova_data_df['New Date'] = pd.to_datetime(nova_data_df['Date'], format='%d-%m-%Y')"
   ]
  },
  {
   "cell_type": "code",
   "execution_count": 108,
   "id": "4a7b6051-0d1f-4652-aa59-0ab3ae5526b7",
   "metadata": {},
   "outputs": [
    {
     "data": {
      "text/html": [
       "<div>\n",
       "<style scoped>\n",
       "    .dataframe tbody tr th:only-of-type {\n",
       "        vertical-align: middle;\n",
       "    }\n",
       "\n",
       "    .dataframe tbody tr th {\n",
       "        vertical-align: top;\n",
       "    }\n",
       "\n",
       "    .dataframe thead th {\n",
       "        text-align: right;\n",
       "    }\n",
       "</style>\n",
       "<table border=\"1\" class=\"dataframe\">\n",
       "  <thead>\n",
       "    <tr style=\"text-align: right;\">\n",
       "      <th></th>\n",
       "      <th>Name</th>\n",
       "      <th>Date</th>\n",
       "      <th>New Date</th>\n",
       "    </tr>\n",
       "  </thead>\n",
       "  <tbody>\n",
       "    <tr>\n",
       "      <th>0</th>\n",
       "      <td>Event A</td>\n",
       "      <td>21-11-2024</td>\n",
       "      <td>2024-11-21</td>\n",
       "    </tr>\n",
       "    <tr>\n",
       "      <th>1</th>\n",
       "      <td>Event B</td>\n",
       "      <td>05-12-2024</td>\n",
       "      <td>2024-12-05</td>\n",
       "    </tr>\n",
       "    <tr>\n",
       "      <th>2</th>\n",
       "      <td>Event C</td>\n",
       "      <td>15-01-2025</td>\n",
       "      <td>2025-01-15</td>\n",
       "    </tr>\n",
       "  </tbody>\n",
       "</table>\n",
       "</div>"
      ],
      "text/plain": [
       "      Name        Date   New Date\n",
       "0  Event A  21-11-2024 2024-11-21\n",
       "1  Event B  05-12-2024 2024-12-05\n",
       "2  Event C  15-01-2025 2025-01-15"
      ]
     },
     "execution_count": 108,
     "metadata": {},
     "output_type": "execute_result"
    }
   ],
   "source": [
    "nova_data_df"
   ]
  },
  {
   "cell_type": "markdown",
   "id": "ff739f8f-73f7-4c8c-ab5b-a799d2fc754e",
   "metadata": {},
   "source": [
    "<details>\n",
    "    <summary>▶️ Řešení</summary>\n",
    "    \n",
    "```python\n",
    "import pandas as pd\n",
    "\n",
    "data = {\n",
    "    \"Name\": [\"Event A\", \"Event B\", \"Event C\"],\n",
    "    \"Date\": [\"21-11-2024\", \"05-12-2024\", \"15-01-2025\"],\n",
    "}\n",
    "\n",
    "\n",
    "df = pd.DataFrame(data)\n",
    "\n",
    "\n",
    "def convert_dates(df):\n",
    "    df[\"Date\"] = pd.to_datetime(df[\"Date\"], format=\"%d-%m-%Y\")\n",
    "    return df\n",
    "\n",
    "converted_df = convert_dates(df)\n",
    "print(converted_df)\n",
    "print(converted_df.dtypes)\n",
    "```\n",
    "</details>"
   ]
  },
  {
   "cell_type": "markdown",
   "id": "bf107bb3-6e1e-4626-bed3-fec822e4485f",
   "metadata": {},
   "source": [
    "<br>\n",
    "\n",
    "## Funkce `date_range`\n",
    "\n",
    "---\n",
    "\n",
    "Aby bylo zadání řady (sekvence) dat pohodlnější, vyzkoušej funkci `date_range`.\n",
    "\n",
    "Obdobně potom pracují související funkce:\n",
    "* `date_range`, timestampy,\n",
    "* `period_range`, periody,\n",
    "* `timedelta_range`, pro delty."
   ]
  },
  {
   "cell_type": "markdown",
   "id": "002a848e-841d-491c-91a3-749c296728d2",
   "metadata": {},
   "source": [
    "<br>\n",
    "\n",
    "### Počet period\n",
    "\n",
    "---"
   ]
  },
  {
   "cell_type": "code",
   "execution_count": 109,
   "id": "021c142d-e37b-41ff-b9c5-d344743cd7f8",
   "metadata": {
    "tags": []
   },
   "outputs": [],
   "source": [
    "datumy_ind = pd.date_range(\"01-01-1992\", periods=8)"
   ]
  },
  {
   "cell_type": "code",
   "execution_count": 110,
   "id": "f37f1ae5-a8b5-490e-a1c4-917629d5352c",
   "metadata": {
    "tags": []
   },
   "outputs": [
    {
     "data": {
      "text/plain": [
       "DatetimeIndex(['1992-01-01', '1992-01-02', '1992-01-03', '1992-01-04',\n",
       "               '1992-01-05', '1992-01-06', '1992-01-07', '1992-01-08'],\n",
       "              dtype='datetime64[ns]', freq='D')"
      ]
     },
     "execution_count": 110,
     "metadata": {},
     "output_type": "execute_result"
    }
   ],
   "source": [
    "datumy_ind"
   ]
  },
  {
   "cell_type": "markdown",
   "id": "bb5f2e6f-7548-41e5-abe3-9283c1af8a45",
   "metadata": {},
   "source": [
    "<br>\n",
    "\n",
    "## Frekvence\n",
    "\n",
    "---"
   ]
  },
  {
   "cell_type": "code",
   "execution_count": 113,
   "id": "024cd46c-f335-40e2-8e92-7fb51721c5ba",
   "metadata": {
    "tags": []
   },
   "outputs": [],
   "source": [
    "datumy_mesicne_ind = pd.date_range(\"01-01-1992\", periods=12, freq=\"ME\")"
   ]
  },
  {
   "cell_type": "code",
   "execution_count": 114,
   "id": "225b725b-18e7-4aab-80e5-cc0d32cba1fb",
   "metadata": {
    "tags": []
   },
   "outputs": [
    {
     "data": {
      "text/plain": [
       "DatetimeIndex(['1992-01-31', '1992-02-29', '1992-03-31', '1992-04-30',\n",
       "               '1992-05-31', '1992-06-30', '1992-07-31', '1992-08-31',\n",
       "               '1992-09-30', '1992-10-31', '1992-11-30', '1992-12-31'],\n",
       "              dtype='datetime64[ns]', freq='ME')"
      ]
     },
     "execution_count": 114,
     "metadata": {},
     "output_type": "execute_result"
    }
   ],
   "source": [
    "datumy_mesicne_ind"
   ]
  },
  {
   "cell_type": "markdown",
   "id": "21db1805-6d1c-4a56-9dbd-48f5e1410244",
   "metadata": {},
   "source": [
    "<br>\n",
    "\n",
    "### Hodinové periody\n",
    "\n",
    "---"
   ]
  },
  {
   "cell_type": "code",
   "execution_count": 115,
   "id": "f2068e00-565e-4b55-bac2-aab644b74ab4",
   "metadata": {
    "tags": []
   },
   "outputs": [],
   "source": [
    "from pandas import timedelta_range"
   ]
  },
  {
   "cell_type": "code",
   "execution_count": 119,
   "id": "ce92855a-c1e5-4e34-97b6-e0ff77ccfb72",
   "metadata": {
    "tags": []
   },
   "outputs": [],
   "source": [
    "hodinove_ind = timedelta_range(0, periods=12, freq='h')"
   ]
  },
  {
   "cell_type": "code",
   "execution_count": 120,
   "id": "f23351fd-67c8-41ee-bebe-051991c6ecca",
   "metadata": {
    "tags": []
   },
   "outputs": [
    {
     "data": {
      "text/plain": [
       "TimedeltaIndex(['0 days 00:00:00', '0 days 01:00:00', '0 days 02:00:00',\n",
       "                '0 days 03:00:00', '0 days 04:00:00', '0 days 05:00:00',\n",
       "                '0 days 06:00:00', '0 days 07:00:00', '0 days 08:00:00',\n",
       "                '0 days 09:00:00', '0 days 10:00:00', '0 days 11:00:00'],\n",
       "               dtype='timedelta64[ns]', freq='h')"
      ]
     },
     "execution_count": 120,
     "metadata": {},
     "output_type": "execute_result"
    }
   ],
   "source": [
    "hodinove_ind"
   ]
  },
  {
   "cell_type": "code",
   "execution_count": 121,
   "id": "886f7b7d-fc15-4101-a32a-451cd50b3cb5",
   "metadata": {},
   "outputs": [],
   "source": [
    "# timedelta_range?"
   ]
  },
  {
   "cell_type": "markdown",
   "id": "3dd5da5f-fa84-4c5b-a5ce-b23bdaccf9cb",
   "metadata": {},
   "source": [
    "<br>\n",
    "\n",
    "### Tabulka frekvencí\n",
    "\n",
    "---\n",
    "\n",
    "Časovou paletou frekvencí, kterou framework `pandas` nabízí je tato tabulka:\n",
    "\n",
    "| String | Popisek |\n",
    "| :-: | :- |\n",
    "| `D` | kalendářní den |\n",
    "| `W` | týden |\n",
    "| `ME` | konec měsíce |\n",
    "| `QE` | konec čtvrtletí |\n",
    "| `YE` | konec roku |\n",
    "| `h` | hodiny |\n",
    "| `min` | minuty |\n",
    "| `s` | vteřiny |\n",
    "| `B` | pracovní den |\n",
    "| `BME` | konec pracovního měsíce |\n",
    "| `BQE` | konec pracovního čtvrtletí |"
   ]
  },
  {
   "cell_type": "markdown",
   "id": "e9205848-bae1-47a2-811d-d0fe7b237fc7",
   "metadata": {},
   "source": [
    "#### Netradiční frekvence\n",
    "\n",
    "---"
   ]
  },
  {
   "cell_type": "code",
   "execution_count": 124,
   "id": "a1c287c7-8354-4caf-aa54-3ed945441c54",
   "metadata": {
    "tags": []
   },
   "outputs": [
    {
     "data": {
      "text/plain": [
       "TimedeltaIndex(['0 days 01:00:00', '0 days 02:15:00', '0 days 03:30:00',\n",
       "                '0 days 04:45:00', '0 days 06:00:00'],\n",
       "               dtype='timedelta64[ns]', freq='75min')"
      ]
     },
     "execution_count": 124,
     "metadata": {},
     "output_type": "execute_result"
    }
   ],
   "source": [
    "pd.timedelta_range(start='1h', periods=5, freq=\"1h15min\")"
   ]
  },
  {
   "cell_type": "markdown",
   "id": "48ad794f-a330-4662-8d38-08ba85bf23e2",
   "metadata": {},
   "source": [
    "<br>\n",
    "\n",
    "### Resampling\n",
    "\n",
    "---"
   ]
  },
  {
   "cell_type": "markdown",
   "id": "3f0efbcb-7c1a-4b85-961c-3b292f7552f2",
   "metadata": {},
   "source": [
    "*Resampling* nebo také *převzorkování* je proces, který upravuje frekvenci časové řady.\n",
    "\n",
    "*Resampling* se obvykle používá **pro snížení frekvence** (z hodinových dat na denní data).\n",
    "\n",
    "*Resampling* zahrnuje **agregaci dat**.\n",
    "\n",
    "V `pandas` se k tomu používá metoda `resample`, která má jako parametr novou frekvenci, na kterou chcete data převést:"
   ]
  },
  {
   "cell_type": "code",
   "execution_count": 125,
   "id": "c983c2ae-4ac5-42f7-86e2-14c3554d12bf",
   "metadata": {
    "tags": []
   },
   "outputs": [],
   "source": [
    "import pandas as pd\n",
    "import numpy as np\n",
    "# from pandas import DataFrame, date_range"
   ]
  },
  {
   "cell_type": "code",
   "execution_count": 126,
   "id": "33f29abf-34aa-46ba-b2eb-20ba521ec82e",
   "metadata": {
    "tags": []
   },
   "outputs": [],
   "source": [
    "data = {\n",
    "    'date': pd.date_range(start='2022-01-01', periods=60, freq='D'),\n",
    "    'sales': np.random.randint(10, 100, size=60)\n",
    "}"
   ]
  },
  {
   "cell_type": "code",
   "execution_count": 127,
   "id": "4315a997-c6f4-41b7-b973-73bcbb408915",
   "metadata": {
    "tags": []
   },
   "outputs": [],
   "source": [
    "data_df = pd.DataFrame(data)"
   ]
  },
  {
   "cell_type": "code",
   "execution_count": 128,
   "id": "180ba486-3bf8-47bb-a1ab-ceeb63b94ced",
   "metadata": {},
   "outputs": [
    {
     "data": {
      "text/html": [
       "<div>\n",
       "<style scoped>\n",
       "    .dataframe tbody tr th:only-of-type {\n",
       "        vertical-align: middle;\n",
       "    }\n",
       "\n",
       "    .dataframe tbody tr th {\n",
       "        vertical-align: top;\n",
       "    }\n",
       "\n",
       "    .dataframe thead th {\n",
       "        text-align: right;\n",
       "    }\n",
       "</style>\n",
       "<table border=\"1\" class=\"dataframe\">\n",
       "  <thead>\n",
       "    <tr style=\"text-align: right;\">\n",
       "      <th></th>\n",
       "      <th>date</th>\n",
       "      <th>sales</th>\n",
       "    </tr>\n",
       "  </thead>\n",
       "  <tbody>\n",
       "    <tr>\n",
       "      <th>0</th>\n",
       "      <td>2022-01-01</td>\n",
       "      <td>66</td>\n",
       "    </tr>\n",
       "    <tr>\n",
       "      <th>1</th>\n",
       "      <td>2022-01-02</td>\n",
       "      <td>75</td>\n",
       "    </tr>\n",
       "    <tr>\n",
       "      <th>2</th>\n",
       "      <td>2022-01-03</td>\n",
       "      <td>14</td>\n",
       "    </tr>\n",
       "    <tr>\n",
       "      <th>3</th>\n",
       "      <td>2022-01-04</td>\n",
       "      <td>71</td>\n",
       "    </tr>\n",
       "    <tr>\n",
       "      <th>4</th>\n",
       "      <td>2022-01-05</td>\n",
       "      <td>50</td>\n",
       "    </tr>\n",
       "  </tbody>\n",
       "</table>\n",
       "</div>"
      ],
      "text/plain": [
       "        date  sales\n",
       "0 2022-01-01     66\n",
       "1 2022-01-02     75\n",
       "2 2022-01-03     14\n",
       "3 2022-01-04     71\n",
       "4 2022-01-05     50"
      ]
     },
     "execution_count": 128,
     "metadata": {},
     "output_type": "execute_result"
    }
   ],
   "source": [
    "data_df.head()"
   ]
  },
  {
   "cell_type": "markdown",
   "id": "34619d9e-abc4-461f-a44b-8ff47ce10c93",
   "metadata": {},
   "source": [
    "Dostupné sloupce:"
   ]
  },
  {
   "cell_type": "code",
   "execution_count": 129,
   "id": "ff563fcf-5f84-4e8a-beb9-b8140f7b58a7",
   "metadata": {},
   "outputs": [
    {
     "data": {
      "text/plain": [
       "Index(['date', 'sales'], dtype='object')"
      ]
     },
     "execution_count": 129,
     "metadata": {},
     "output_type": "execute_result"
    }
   ],
   "source": [
    "data_df.columns"
   ]
  },
  {
   "cell_type": "markdown",
   "id": "15a1d88e-fee8-4cb5-9aba-530edf322d78",
   "metadata": {},
   "source": [
    "Dostupné indexy:"
   ]
  },
  {
   "cell_type": "code",
   "execution_count": 130,
   "id": "7ab4b361-e6a1-4a78-9408-9ea64bed2055",
   "metadata": {},
   "outputs": [
    {
     "data": {
      "text/plain": [
       "RangeIndex(start=0, stop=60, step=1)"
      ]
     },
     "execution_count": 130,
     "metadata": {},
     "output_type": "execute_result"
    }
   ],
   "source": [
    "data_df.index"
   ]
  },
  {
   "cell_type": "code",
   "execution_count": 131,
   "id": "72fa4502-5b23-489f-93df-c77408b143b3",
   "metadata": {
    "tags": []
   },
   "outputs": [],
   "source": [
    "data_df.set_index('date', inplace=True)"
   ]
  },
  {
   "cell_type": "code",
   "execution_count": 132,
   "id": "ac650f5c-6bc4-45e5-aab9-15bfe78d55e2",
   "metadata": {},
   "outputs": [
    {
     "data": {
      "text/html": [
       "<div>\n",
       "<style scoped>\n",
       "    .dataframe tbody tr th:only-of-type {\n",
       "        vertical-align: middle;\n",
       "    }\n",
       "\n",
       "    .dataframe tbody tr th {\n",
       "        vertical-align: top;\n",
       "    }\n",
       "\n",
       "    .dataframe thead th {\n",
       "        text-align: right;\n",
       "    }\n",
       "</style>\n",
       "<table border=\"1\" class=\"dataframe\">\n",
       "  <thead>\n",
       "    <tr style=\"text-align: right;\">\n",
       "      <th></th>\n",
       "      <th>sales</th>\n",
       "    </tr>\n",
       "    <tr>\n",
       "      <th>date</th>\n",
       "      <th></th>\n",
       "    </tr>\n",
       "  </thead>\n",
       "  <tbody>\n",
       "    <tr>\n",
       "      <th>2022-01-01</th>\n",
       "      <td>66</td>\n",
       "    </tr>\n",
       "    <tr>\n",
       "      <th>2022-01-02</th>\n",
       "      <td>75</td>\n",
       "    </tr>\n",
       "    <tr>\n",
       "      <th>2022-01-03</th>\n",
       "      <td>14</td>\n",
       "    </tr>\n",
       "    <tr>\n",
       "      <th>2022-01-04</th>\n",
       "      <td>71</td>\n",
       "    </tr>\n",
       "    <tr>\n",
       "      <th>2022-01-05</th>\n",
       "      <td>50</td>\n",
       "    </tr>\n",
       "  </tbody>\n",
       "</table>\n",
       "</div>"
      ],
      "text/plain": [
       "            sales\n",
       "date             \n",
       "2022-01-01     66\n",
       "2022-01-02     75\n",
       "2022-01-03     14\n",
       "2022-01-04     71\n",
       "2022-01-05     50"
      ]
     },
     "execution_count": 132,
     "metadata": {},
     "output_type": "execute_result"
    }
   ],
   "source": [
    "data_df.head()"
   ]
  },
  {
   "cell_type": "markdown",
   "id": "1da4dfbd-f8d4-42dc-a534-cc05bf287fc4",
   "metadata": {},
   "source": [
    "<br>\n",
    "\n",
    "Pomocí metody `resample` současně hodnoty agregujeme a snížíme frekvenci:"
   ]
  },
  {
   "cell_type": "code",
   "execution_count": 134,
   "id": "bedb19b0-6c2a-4817-977c-79faa15ef983",
   "metadata": {
    "tags": []
   },
   "outputs": [],
   "source": [
    "mesicni_data = data_df.resample('ME').sum()"
   ]
  },
  {
   "cell_type": "code",
   "execution_count": 135,
   "id": "9c1daaf6-3185-45e7-80f4-6af62150efc7",
   "metadata": {
    "tags": []
   },
   "outputs": [
    {
     "data": {
      "text/html": [
       "<div>\n",
       "<style scoped>\n",
       "    .dataframe tbody tr th:only-of-type {\n",
       "        vertical-align: middle;\n",
       "    }\n",
       "\n",
       "    .dataframe tbody tr th {\n",
       "        vertical-align: top;\n",
       "    }\n",
       "\n",
       "    .dataframe thead th {\n",
       "        text-align: right;\n",
       "    }\n",
       "</style>\n",
       "<table border=\"1\" class=\"dataframe\">\n",
       "  <thead>\n",
       "    <tr style=\"text-align: right;\">\n",
       "      <th></th>\n",
       "      <th>sales</th>\n",
       "    </tr>\n",
       "    <tr>\n",
       "      <th>date</th>\n",
       "      <th></th>\n",
       "    </tr>\n",
       "  </thead>\n",
       "  <tbody>\n",
       "    <tr>\n",
       "      <th>2022-01-31</th>\n",
       "      <td>1609</td>\n",
       "    </tr>\n",
       "    <tr>\n",
       "      <th>2022-02-28</th>\n",
       "      <td>1339</td>\n",
       "    </tr>\n",
       "    <tr>\n",
       "      <th>2022-03-31</th>\n",
       "      <td>82</td>\n",
       "    </tr>\n",
       "  </tbody>\n",
       "</table>\n",
       "</div>"
      ],
      "text/plain": [
       "            sales\n",
       "date             \n",
       "2022-01-31   1609\n",
       "2022-02-28   1339\n",
       "2022-03-31     82"
      ]
     },
     "execution_count": 135,
     "metadata": {},
     "output_type": "execute_result"
    }
   ],
   "source": [
    "mesicni_data"
   ]
  },
  {
   "cell_type": "code",
   "execution_count": 136,
   "id": "d00db650-5ea0-4f5a-825f-54cde92457bf",
   "metadata": {},
   "outputs": [
    {
     "data": {
      "text/html": [
       "<div>\n",
       "<style scoped>\n",
       "    .dataframe tbody tr th:only-of-type {\n",
       "        vertical-align: middle;\n",
       "    }\n",
       "\n",
       "    .dataframe tbody tr th {\n",
       "        vertical-align: top;\n",
       "    }\n",
       "\n",
       "    .dataframe thead th {\n",
       "        text-align: right;\n",
       "    }\n",
       "</style>\n",
       "<table border=\"1\" class=\"dataframe\">\n",
       "  <thead>\n",
       "    <tr style=\"text-align: right;\">\n",
       "      <th></th>\n",
       "      <th>sales</th>\n",
       "    </tr>\n",
       "    <tr>\n",
       "      <th>date</th>\n",
       "      <th></th>\n",
       "    </tr>\n",
       "  </thead>\n",
       "  <tbody>\n",
       "    <tr>\n",
       "      <th>2022-02-25</th>\n",
       "      <td>32</td>\n",
       "    </tr>\n",
       "    <tr>\n",
       "      <th>2022-02-26</th>\n",
       "      <td>57</td>\n",
       "    </tr>\n",
       "    <tr>\n",
       "      <th>2022-02-27</th>\n",
       "      <td>94</td>\n",
       "    </tr>\n",
       "    <tr>\n",
       "      <th>2022-02-28</th>\n",
       "      <td>19</td>\n",
       "    </tr>\n",
       "    <tr>\n",
       "      <th>2022-03-01</th>\n",
       "      <td>82</td>\n",
       "    </tr>\n",
       "  </tbody>\n",
       "</table>\n",
       "</div>"
      ],
      "text/plain": [
       "            sales\n",
       "date             \n",
       "2022-02-25     32\n",
       "2022-02-26     57\n",
       "2022-02-27     94\n",
       "2022-02-28     19\n",
       "2022-03-01     82"
      ]
     },
     "execution_count": 136,
     "metadata": {},
     "output_type": "execute_result"
    }
   ],
   "source": [
    "data_df.tail()"
   ]
  },
  {
   "cell_type": "markdown",
   "id": "41d14b79-3633-4ef2-a31c-077d5f78aeb4",
   "metadata": {},
   "source": [
    "<br>\n",
    "\n",
    "Upravit původní vzorek dat na zamýšlenou frekvenci, tedy `W`:"
   ]
  },
  {
   "cell_type": "code",
   "execution_count": 137,
   "id": "fe2baa01-9ea4-4a18-b30c-d35d5e481aef",
   "metadata": {},
   "outputs": [],
   "source": [
    "tydenni_data = data_df.resample('W').sum()"
   ]
  },
  {
   "cell_type": "code",
   "execution_count": 138,
   "id": "e4862fca-26e2-4c9a-8c86-18b0761aa50f",
   "metadata": {},
   "outputs": [
    {
     "data": {
      "text/html": [
       "<div>\n",
       "<style scoped>\n",
       "    .dataframe tbody tr th:only-of-type {\n",
       "        vertical-align: middle;\n",
       "    }\n",
       "\n",
       "    .dataframe tbody tr th {\n",
       "        vertical-align: top;\n",
       "    }\n",
       "\n",
       "    .dataframe thead th {\n",
       "        text-align: right;\n",
       "    }\n",
       "</style>\n",
       "<table border=\"1\" class=\"dataframe\">\n",
       "  <thead>\n",
       "    <tr style=\"text-align: right;\">\n",
       "      <th></th>\n",
       "      <th>sales</th>\n",
       "    </tr>\n",
       "    <tr>\n",
       "      <th>date</th>\n",
       "      <th></th>\n",
       "    </tr>\n",
       "  </thead>\n",
       "  <tbody>\n",
       "    <tr>\n",
       "      <th>2022-01-02</th>\n",
       "      <td>141</td>\n",
       "    </tr>\n",
       "    <tr>\n",
       "      <th>2022-01-09</th>\n",
       "      <td>243</td>\n",
       "    </tr>\n",
       "    <tr>\n",
       "      <th>2022-01-16</th>\n",
       "      <td>285</td>\n",
       "    </tr>\n",
       "    <tr>\n",
       "      <th>2022-01-23</th>\n",
       "      <td>512</td>\n",
       "    </tr>\n",
       "    <tr>\n",
       "      <th>2022-01-30</th>\n",
       "      <td>367</td>\n",
       "    </tr>\n",
       "    <tr>\n",
       "      <th>2022-02-06</th>\n",
       "      <td>409</td>\n",
       "    </tr>\n",
       "    <tr>\n",
       "      <th>2022-02-13</th>\n",
       "      <td>276</td>\n",
       "    </tr>\n",
       "    <tr>\n",
       "      <th>2022-02-20</th>\n",
       "      <td>274</td>\n",
       "    </tr>\n",
       "    <tr>\n",
       "      <th>2022-02-27</th>\n",
       "      <td>422</td>\n",
       "    </tr>\n",
       "    <tr>\n",
       "      <th>2022-03-06</th>\n",
       "      <td>101</td>\n",
       "    </tr>\n",
       "  </tbody>\n",
       "</table>\n",
       "</div>"
      ],
      "text/plain": [
       "            sales\n",
       "date             \n",
       "2022-01-02    141\n",
       "2022-01-09    243\n",
       "2022-01-16    285\n",
       "2022-01-23    512\n",
       "2022-01-30    367\n",
       "2022-02-06    409\n",
       "2022-02-13    276\n",
       "2022-02-20    274\n",
       "2022-02-27    422\n",
       "2022-03-06    101"
      ]
     },
     "execution_count": 138,
     "metadata": {},
     "output_type": "execute_result"
    }
   ],
   "source": [
    "tydenni_data"
   ]
  },
  {
   "cell_type": "code",
   "execution_count": 139,
   "id": "7870ae32-fe35-4055-9bfb-5ce8f30dd83f",
   "metadata": {},
   "outputs": [],
   "source": [
    "nahodny_den = pd.to_datetime('2022-02-01')"
   ]
  },
  {
   "cell_type": "code",
   "execution_count": 140,
   "id": "f4b08abd-9b8c-4a9a-a366-3bed2e72723e",
   "metadata": {},
   "outputs": [
    {
     "data": {
      "text/plain": [
       "5"
      ]
     },
     "execution_count": 140,
     "metadata": {},
     "output_type": "execute_result"
    }
   ],
   "source": [
    "nahodny_den.weekofyear"
   ]
  },
  {
   "cell_type": "markdown",
   "id": "cdc05c60-1932-4222-9ab1-d21474d8b302",
   "metadata": {},
   "source": [
    "<br>\n",
    "\n",
    "### Zpřesňování\n",
    "\n",
    "---\n",
    "\n",
    "Zahrnuje **zvýšení frekvence časových řad**.\n",
    "\n",
    "Přičemž se nově vytvořené hodnoty obvykle interpolují nebo doplňují nějakou konstantou.\n",
    "\n",
    "V pandas se k zpřesňování používá metoda `asfreq`, která má jako parametr **novou frekvenci**, na kterou chcete data převést."
   ]
  },
  {
   "cell_type": "code",
   "execution_count": 141,
   "id": "643c9e87-07ee-444a-9704-b0976558b9e1",
   "metadata": {
    "tags": []
   },
   "outputs": [],
   "source": [
    "data = {\n",
    "    'date': pd.date_range(start='2022-01-01', end='2022-03-01', freq='D'),\n",
    "    'sales': np.random.randint(10, 150, size=60)  # Opatrně na délky sekvencí\n",
    "}"
   ]
  },
  {
   "cell_type": "code",
   "execution_count": 142,
   "id": "f47866ee-5b57-489d-81bc-639d41344f82",
   "metadata": {
    "tags": []
   },
   "outputs": [],
   "source": [
    "dalsi_data_df = pd.DataFrame(data)"
   ]
  },
  {
   "cell_type": "code",
   "execution_count": 143,
   "id": "b78fd132-e801-44f4-bfc6-9a4ce57edbb5",
   "metadata": {
    "tags": []
   },
   "outputs": [
    {
     "data": {
      "text/html": [
       "<div>\n",
       "<style scoped>\n",
       "    .dataframe tbody tr th:only-of-type {\n",
       "        vertical-align: middle;\n",
       "    }\n",
       "\n",
       "    .dataframe tbody tr th {\n",
       "        vertical-align: top;\n",
       "    }\n",
       "\n",
       "    .dataframe thead th {\n",
       "        text-align: right;\n",
       "    }\n",
       "</style>\n",
       "<table border=\"1\" class=\"dataframe\">\n",
       "  <thead>\n",
       "    <tr style=\"text-align: right;\">\n",
       "      <th></th>\n",
       "      <th>date</th>\n",
       "      <th>sales</th>\n",
       "    </tr>\n",
       "  </thead>\n",
       "  <tbody>\n",
       "    <tr>\n",
       "      <th>0</th>\n",
       "      <td>2022-01-01</td>\n",
       "      <td>147</td>\n",
       "    </tr>\n",
       "    <tr>\n",
       "      <th>1</th>\n",
       "      <td>2022-01-02</td>\n",
       "      <td>52</td>\n",
       "    </tr>\n",
       "    <tr>\n",
       "      <th>2</th>\n",
       "      <td>2022-01-03</td>\n",
       "      <td>132</td>\n",
       "    </tr>\n",
       "    <tr>\n",
       "      <th>3</th>\n",
       "      <td>2022-01-04</td>\n",
       "      <td>83</td>\n",
       "    </tr>\n",
       "    <tr>\n",
       "      <th>4</th>\n",
       "      <td>2022-01-05</td>\n",
       "      <td>15</td>\n",
       "    </tr>\n",
       "  </tbody>\n",
       "</table>\n",
       "</div>"
      ],
      "text/plain": [
       "        date  sales\n",
       "0 2022-01-01    147\n",
       "1 2022-01-02     52\n",
       "2 2022-01-03    132\n",
       "3 2022-01-04     83\n",
       "4 2022-01-05     15"
      ]
     },
     "execution_count": 143,
     "metadata": {},
     "output_type": "execute_result"
    }
   ],
   "source": [
    "dalsi_data_df.head()"
   ]
  },
  {
   "cell_type": "code",
   "execution_count": 144,
   "id": "5a54e8b2-aee2-4d42-a924-6186fc33d5c0",
   "metadata": {
    "tags": []
   },
   "outputs": [],
   "source": [
    "dalsi_data_df.set_index('date', inplace=True)"
   ]
  },
  {
   "cell_type": "code",
   "execution_count": 146,
   "id": "f5c17702-bc48-4b31-bd92-0889824d28e0",
   "metadata": {
    "tags": []
   },
   "outputs": [],
   "source": [
    "denni_data = dalsi_data_df.asfreq('h')"
   ]
  },
  {
   "cell_type": "markdown",
   "id": "88e5626d-017b-4db7-bae9-331c37fca0be",
   "metadata": {},
   "source": [
    "<br>\n",
    "\n",
    "Pokud nezadáš hodnotu pro výplňovací parametr, uvidíš prázdné hodnoty `NaN`:"
   ]
  },
  {
   "cell_type": "code",
   "execution_count": 147,
   "id": "413b2aa8-b77c-4599-87d1-7cf0bda07ef7",
   "metadata": {
    "tags": []
   },
   "outputs": [
    {
     "data": {
      "text/html": [
       "<div>\n",
       "<style scoped>\n",
       "    .dataframe tbody tr th:only-of-type {\n",
       "        vertical-align: middle;\n",
       "    }\n",
       "\n",
       "    .dataframe tbody tr th {\n",
       "        vertical-align: top;\n",
       "    }\n",
       "\n",
       "    .dataframe thead th {\n",
       "        text-align: right;\n",
       "    }\n",
       "</style>\n",
       "<table border=\"1\" class=\"dataframe\">\n",
       "  <thead>\n",
       "    <tr style=\"text-align: right;\">\n",
       "      <th></th>\n",
       "      <th>sales</th>\n",
       "    </tr>\n",
       "    <tr>\n",
       "      <th>date</th>\n",
       "      <th></th>\n",
       "    </tr>\n",
       "  </thead>\n",
       "  <tbody>\n",
       "    <tr>\n",
       "      <th>2022-01-01 00:00:00</th>\n",
       "      <td>147.0</td>\n",
       "    </tr>\n",
       "    <tr>\n",
       "      <th>2022-01-01 01:00:00</th>\n",
       "      <td>NaN</td>\n",
       "    </tr>\n",
       "    <tr>\n",
       "      <th>2022-01-01 02:00:00</th>\n",
       "      <td>NaN</td>\n",
       "    </tr>\n",
       "    <tr>\n",
       "      <th>2022-01-01 03:00:00</th>\n",
       "      <td>NaN</td>\n",
       "    </tr>\n",
       "    <tr>\n",
       "      <th>2022-01-01 04:00:00</th>\n",
       "      <td>NaN</td>\n",
       "    </tr>\n",
       "    <tr>\n",
       "      <th>2022-01-01 05:00:00</th>\n",
       "      <td>NaN</td>\n",
       "    </tr>\n",
       "    <tr>\n",
       "      <th>2022-01-01 06:00:00</th>\n",
       "      <td>NaN</td>\n",
       "    </tr>\n",
       "    <tr>\n",
       "      <th>2022-01-01 07:00:00</th>\n",
       "      <td>NaN</td>\n",
       "    </tr>\n",
       "    <tr>\n",
       "      <th>2022-01-01 08:00:00</th>\n",
       "      <td>NaN</td>\n",
       "    </tr>\n",
       "    <tr>\n",
       "      <th>2022-01-01 09:00:00</th>\n",
       "      <td>NaN</td>\n",
       "    </tr>\n",
       "  </tbody>\n",
       "</table>\n",
       "</div>"
      ],
      "text/plain": [
       "                     sales\n",
       "date                      \n",
       "2022-01-01 00:00:00  147.0\n",
       "2022-01-01 01:00:00    NaN\n",
       "2022-01-01 02:00:00    NaN\n",
       "2022-01-01 03:00:00    NaN\n",
       "2022-01-01 04:00:00    NaN\n",
       "2022-01-01 05:00:00    NaN\n",
       "2022-01-01 06:00:00    NaN\n",
       "2022-01-01 07:00:00    NaN\n",
       "2022-01-01 08:00:00    NaN\n",
       "2022-01-01 09:00:00    NaN"
      ]
     },
     "execution_count": 147,
     "metadata": {},
     "output_type": "execute_result"
    }
   ],
   "source": [
    "denni_data.head(10)"
   ]
  },
  {
   "cell_type": "markdown",
   "id": "d32a28bc-2a29-4b69-8585-6f2e6be29022",
   "metadata": {},
   "source": [
    "Metoda `asfreq` bere jako parametr novou frekvenci, na kterou chceme data převést.\n",
    "\n",
    "V případě výše jde o frekvenci `H`, což znamená **hodinová data**.\n",
    "\n",
    "Protože při zpřesňování se **vytvoří chybějící hodnoty** (v důsledku zvýšení frekvence), je potřeba zvolit metodu pro jejich doplnění."
   ]
  },
  {
   "cell_type": "code",
   "execution_count": 150,
   "id": "1f4abcdf-0750-42e8-984a-e726b5e00b33",
   "metadata": {},
   "outputs": [],
   "source": [
    "denni_data = dalsi_data_df.asfreq('h', method='ffill')"
   ]
  },
  {
   "cell_type": "code",
   "execution_count": 151,
   "id": "438d5863-c34f-46f4-bbd1-0c146b3211d0",
   "metadata": {},
   "outputs": [
    {
     "data": {
      "text/html": [
       "<div>\n",
       "<style scoped>\n",
       "    .dataframe tbody tr th:only-of-type {\n",
       "        vertical-align: middle;\n",
       "    }\n",
       "\n",
       "    .dataframe tbody tr th {\n",
       "        vertical-align: top;\n",
       "    }\n",
       "\n",
       "    .dataframe thead th {\n",
       "        text-align: right;\n",
       "    }\n",
       "</style>\n",
       "<table border=\"1\" class=\"dataframe\">\n",
       "  <thead>\n",
       "    <tr style=\"text-align: right;\">\n",
       "      <th></th>\n",
       "      <th>sales</th>\n",
       "    </tr>\n",
       "    <tr>\n",
       "      <th>date</th>\n",
       "      <th></th>\n",
       "    </tr>\n",
       "  </thead>\n",
       "  <tbody>\n",
       "    <tr>\n",
       "      <th>2022-01-01 00:00:00</th>\n",
       "      <td>147</td>\n",
       "    </tr>\n",
       "    <tr>\n",
       "      <th>2022-01-01 01:00:00</th>\n",
       "      <td>147</td>\n",
       "    </tr>\n",
       "    <tr>\n",
       "      <th>2022-01-01 02:00:00</th>\n",
       "      <td>147</td>\n",
       "    </tr>\n",
       "    <tr>\n",
       "      <th>2022-01-01 03:00:00</th>\n",
       "      <td>147</td>\n",
       "    </tr>\n",
       "    <tr>\n",
       "      <th>2022-01-01 04:00:00</th>\n",
       "      <td>147</td>\n",
       "    </tr>\n",
       "  </tbody>\n",
       "</table>\n",
       "</div>"
      ],
      "text/plain": [
       "                     sales\n",
       "date                      \n",
       "2022-01-01 00:00:00    147\n",
       "2022-01-01 01:00:00    147\n",
       "2022-01-01 02:00:00    147\n",
       "2022-01-01 03:00:00    147\n",
       "2022-01-01 04:00:00    147"
      ]
     },
     "execution_count": 151,
     "metadata": {},
     "output_type": "execute_result"
    }
   ],
   "source": [
    "denni_data.head()"
   ]
  },
  {
   "cell_type": "markdown",
   "id": "1d07eadb-f7d7-4722-994b-6e8af5ce2d4e",
   "metadata": {},
   "source": [
    "Výš jde o metodu `forward fill` (parametr `method='ffill'`), která kopíruje předchozí hodnotu pro výplň chybějících hodnot.\n",
    "\n",
    "Další možností je použít metodu `'back fill'` (parametr `method='bfill'`), která kopíruje následující hodnotu pro výplň chybějících hodnot."
   ]
  },
  {
   "cell_type": "code",
   "execution_count": 154,
   "id": "38970767-11e2-40b7-9032-03e855dae614",
   "metadata": {},
   "outputs": [],
   "source": [
    "denni_data = dalsi_data_df.asfreq('h', method='bfill')"
   ]
  },
  {
   "cell_type": "code",
   "execution_count": 155,
   "id": "76555a7d-6336-433f-b6ab-8a5948980d59",
   "metadata": {},
   "outputs": [
    {
     "data": {
      "text/html": [
       "<div>\n",
       "<style scoped>\n",
       "    .dataframe tbody tr th:only-of-type {\n",
       "        vertical-align: middle;\n",
       "    }\n",
       "\n",
       "    .dataframe tbody tr th {\n",
       "        vertical-align: top;\n",
       "    }\n",
       "\n",
       "    .dataframe thead th {\n",
       "        text-align: right;\n",
       "    }\n",
       "</style>\n",
       "<table border=\"1\" class=\"dataframe\">\n",
       "  <thead>\n",
       "    <tr style=\"text-align: right;\">\n",
       "      <th></th>\n",
       "      <th>sales</th>\n",
       "    </tr>\n",
       "    <tr>\n",
       "      <th>date</th>\n",
       "      <th></th>\n",
       "    </tr>\n",
       "  </thead>\n",
       "  <tbody>\n",
       "    <tr>\n",
       "      <th>2022-01-01 00:00:00</th>\n",
       "      <td>147</td>\n",
       "    </tr>\n",
       "    <tr>\n",
       "      <th>2022-01-01 01:00:00</th>\n",
       "      <td>52</td>\n",
       "    </tr>\n",
       "    <tr>\n",
       "      <th>2022-01-01 02:00:00</th>\n",
       "      <td>52</td>\n",
       "    </tr>\n",
       "    <tr>\n",
       "      <th>2022-01-01 03:00:00</th>\n",
       "      <td>52</td>\n",
       "    </tr>\n",
       "    <tr>\n",
       "      <th>2022-01-01 04:00:00</th>\n",
       "      <td>52</td>\n",
       "    </tr>\n",
       "  </tbody>\n",
       "</table>\n",
       "</div>"
      ],
      "text/plain": [
       "                     sales\n",
       "date                      \n",
       "2022-01-01 00:00:00    147\n",
       "2022-01-01 01:00:00     52\n",
       "2022-01-01 02:00:00     52\n",
       "2022-01-01 03:00:00     52\n",
       "2022-01-01 04:00:00     52"
      ]
     },
     "execution_count": 155,
     "metadata": {},
     "output_type": "execute_result"
    }
   ],
   "source": [
    "denni_data.head()"
   ]
  },
  {
   "cell_type": "code",
   "execution_count": 157,
   "id": "68e87c50-1064-4ea4-aac8-c68602f9d122",
   "metadata": {},
   "outputs": [],
   "source": [
    "mesicni_data_asfreq = dalsi_data_df.asfreq('ME')"
   ]
  },
  {
   "cell_type": "code",
   "execution_count": 158,
   "id": "68a79b54-5632-4ba1-ad67-e6ada074695a",
   "metadata": {},
   "outputs": [
    {
     "data": {
      "text/html": [
       "<div>\n",
       "<style scoped>\n",
       "    .dataframe tbody tr th:only-of-type {\n",
       "        vertical-align: middle;\n",
       "    }\n",
       "\n",
       "    .dataframe tbody tr th {\n",
       "        vertical-align: top;\n",
       "    }\n",
       "\n",
       "    .dataframe thead th {\n",
       "        text-align: right;\n",
       "    }\n",
       "</style>\n",
       "<table border=\"1\" class=\"dataframe\">\n",
       "  <thead>\n",
       "    <tr style=\"text-align: right;\">\n",
       "      <th></th>\n",
       "      <th>sales</th>\n",
       "    </tr>\n",
       "    <tr>\n",
       "      <th>date</th>\n",
       "      <th></th>\n",
       "    </tr>\n",
       "  </thead>\n",
       "  <tbody>\n",
       "    <tr>\n",
       "      <th>2022-01-31</th>\n",
       "      <td>1609</td>\n",
       "    </tr>\n",
       "    <tr>\n",
       "      <th>2022-02-28</th>\n",
       "      <td>1339</td>\n",
       "    </tr>\n",
       "    <tr>\n",
       "      <th>2022-03-31</th>\n",
       "      <td>82</td>\n",
       "    </tr>\n",
       "  </tbody>\n",
       "</table>\n",
       "</div>"
      ],
      "text/plain": [
       "            sales\n",
       "date             \n",
       "2022-01-31   1609\n",
       "2022-02-28   1339\n",
       "2022-03-31     82"
      ]
     },
     "execution_count": 158,
     "metadata": {},
     "output_type": "execute_result"
    }
   ],
   "source": [
    "mesicni_data"
   ]
  },
  {
   "cell_type": "code",
   "execution_count": 167,
   "id": "3f825bf0-7fb8-4230-9745-068d220aefc3",
   "metadata": {},
   "outputs": [],
   "source": [
    "mesicni_data_resample = dalsi_data_df.resample('ME').sum()"
   ]
  },
  {
   "cell_type": "code",
   "execution_count": 168,
   "id": "c5c76dd0-d6ac-41bd-b1f2-06dc59b6a36c",
   "metadata": {},
   "outputs": [
    {
     "data": {
      "text/html": [
       "<div>\n",
       "<style scoped>\n",
       "    .dataframe tbody tr th:only-of-type {\n",
       "        vertical-align: middle;\n",
       "    }\n",
       "\n",
       "    .dataframe tbody tr th {\n",
       "        vertical-align: top;\n",
       "    }\n",
       "\n",
       "    .dataframe thead th {\n",
       "        text-align: right;\n",
       "    }\n",
       "</style>\n",
       "<table border=\"1\" class=\"dataframe\">\n",
       "  <thead>\n",
       "    <tr style=\"text-align: right;\">\n",
       "      <th></th>\n",
       "      <th>sales</th>\n",
       "    </tr>\n",
       "    <tr>\n",
       "      <th>date</th>\n",
       "      <th></th>\n",
       "    </tr>\n",
       "  </thead>\n",
       "  <tbody>\n",
       "    <tr>\n",
       "      <th>2022-01-31</th>\n",
       "      <td>2189</td>\n",
       "    </tr>\n",
       "    <tr>\n",
       "      <th>2022-02-28</th>\n",
       "      <td>2569</td>\n",
       "    </tr>\n",
       "    <tr>\n",
       "      <th>2022-03-31</th>\n",
       "      <td>28</td>\n",
       "    </tr>\n",
       "  </tbody>\n",
       "</table>\n",
       "</div>"
      ],
      "text/plain": [
       "            sales\n",
       "date             \n",
       "2022-01-31   2189\n",
       "2022-02-28   2569\n",
       "2022-03-31     28"
      ]
     },
     "execution_count": 168,
     "metadata": {},
     "output_type": "execute_result"
    }
   ],
   "source": [
    "mesicni_data_resample"
   ]
  },
  {
   "cell_type": "code",
   "execution_count": null,
   "id": "65905cc2-dfbe-4f87-b6df-cc48286b1670",
   "metadata": {},
   "outputs": [],
   "source": [
    "# dalsi_data_df.asfreq?"
   ]
  },
  {
   "cell_type": "markdown",
   "id": "cdfb19f8-eff6-47a3-a164-724bd8163254",
   "metadata": {},
   "source": [
    "<br>\n",
    "\n",
    "**🧠 CVIČENÍ 🧠, procvič si časové řady**"
   ]
  },
  {
   "cell_type": "markdown",
   "id": "6eb3f2b1-55f4-459b-8897-ee58661d28b0",
   "metadata": {},
   "source": [
    "Analyzuj prodeje produktu ve fiktivní společnosti během jednoho roku a zjisti následující:\n",
    "1. Celkový prodej za každý měsíc.\n",
    "2. Průměrný prodej za každý den v týdnu.\n",
    "3. Denní prodej za poslední týden."
   ]
  },
  {
   "cell_type": "code",
   "execution_count": 169,
   "id": "c9f1f428-2e07-4341-a3ce-2195e1277183",
   "metadata": {
    "tags": []
   },
   "outputs": [],
   "source": [
    "import pandas as pd\n",
    "import numpy as np\n",
    "\n",
    "denni_datumy = pd.date_range(start='2022-01-01',\n",
    "                             end='2022-12-31',\n",
    "                             freq='D')\n",
    "prodeje = np.random.randint(10, 100, size=(len(denni_datumy),))\n",
    "\n",
    "data = {'datumy': denni_datumy, 'prodeje': prodeje}\n",
    "\n",
    "df_prodeje = pd.DataFrame(data)\n",
    "df_prodeje.set_index('datumy', inplace=True)"
   ]
  },
  {
   "cell_type": "code",
   "execution_count": 170,
   "id": "6ebd8c61",
   "metadata": {},
   "outputs": [
    {
     "data": {
      "text/html": [
       "<div>\n",
       "<style scoped>\n",
       "    .dataframe tbody tr th:only-of-type {\n",
       "        vertical-align: middle;\n",
       "    }\n",
       "\n",
       "    .dataframe tbody tr th {\n",
       "        vertical-align: top;\n",
       "    }\n",
       "\n",
       "    .dataframe thead th {\n",
       "        text-align: right;\n",
       "    }\n",
       "</style>\n",
       "<table border=\"1\" class=\"dataframe\">\n",
       "  <thead>\n",
       "    <tr style=\"text-align: right;\">\n",
       "      <th></th>\n",
       "      <th>prodeje</th>\n",
       "    </tr>\n",
       "    <tr>\n",
       "      <th>datumy</th>\n",
       "      <th></th>\n",
       "    </tr>\n",
       "  </thead>\n",
       "  <tbody>\n",
       "    <tr>\n",
       "      <th>2022-01-01</th>\n",
       "      <td>18</td>\n",
       "    </tr>\n",
       "    <tr>\n",
       "      <th>2022-01-02</th>\n",
       "      <td>47</td>\n",
       "    </tr>\n",
       "    <tr>\n",
       "      <th>2022-01-03</th>\n",
       "      <td>62</td>\n",
       "    </tr>\n",
       "    <tr>\n",
       "      <th>2022-01-04</th>\n",
       "      <td>34</td>\n",
       "    </tr>\n",
       "    <tr>\n",
       "      <th>2022-01-05</th>\n",
       "      <td>10</td>\n",
       "    </tr>\n",
       "  </tbody>\n",
       "</table>\n",
       "</div>"
      ],
      "text/plain": [
       "            prodeje\n",
       "datumy             \n",
       "2022-01-01       18\n",
       "2022-01-02       47\n",
       "2022-01-03       62\n",
       "2022-01-04       34\n",
       "2022-01-05       10"
      ]
     },
     "execution_count": 170,
     "metadata": {},
     "output_type": "execute_result"
    }
   ],
   "source": [
    "df_prodeje.head()"
   ]
  },
  {
   "cell_type": "markdown",
   "id": "f4e2bd40-a90d-4bcd-8b8d-fb49cd9b6017",
   "metadata": {},
   "source": [
    "<details>\n",
    "    <summary>▶️ Řešení</summary>\n",
    "    \n",
    "    ```python\n",
    "    monthly_sales = df.resample('M').sum()\n",
    "    print(\"Celkový prodej za každý měsíc:\")\n",
    "    print(monthly_sales)\n",
    "\n",
    "    df_prodeje['weekday'] = df_prodeje.index.weekday\n",
    "    average_weekday_sales = df_prodeje.groupby('weekday')['prodeje'].mean()\n",
    "    print(\"\\nPrůměrný prodej za každý den v týdnu:\")\n",
    "    print(average_weekday_sales)\n",
    "\n",
    "    last_week_sales = df.loc['2022-12-25':, 'sales']\n",
    "    print(\"\\nDenní prodej za poslední týden:\")\n",
    "    print(last_week_sales)\n",
    "    ```\n",
    "</details>"
   ]
  },
  {
   "cell_type": "markdown",
   "id": "ae2deda3-fe6e-432a-9013-93758cb99740",
   "metadata": {},
   "source": [
    "\n",
    "<img src=\"https://external-content.duckduckgo.com/iu/?u=https%3A%2F%2Ftse1.mm.bing.net%2Fth%3Fid%3DOIP.JJu86kKRph1LHt5M7agODQHaHa%26pid%3DApi&f=1&ipt=5cfb9e9f7b451b3a4f7a3ebdc4eb99177d477f20f8145cd818cc4966143f8b2b&ipo=images\" width=\"160\" style=\"margin-left:auto; margin-right:auto\"/>"
   ]
  },
  {
   "cell_type": "markdown",
   "id": "a802a9e5-d3ea-483b-acc3-124d3777758d",
   "metadata": {},
   "source": [
    "## Skutečné datové sety\n",
    "\n",
    "---"
   ]
  },
  {
   "cell_type": "markdown",
   "id": "7c1f9457-e0f1-449e-8039-cddf1d375009",
   "metadata": {},
   "source": [
    "Čištění dat je proces, který patří k samotné práci s daty.\n",
    "\n",
    "Spolu s některými souvisejícími úkony, patří mezi ty více frustrující.\n",
    "\n",
    "Nesmyslné datové typy, zkomolené časové údaje, nefungující transformace."
   ]
  },
  {
   "cell_type": "code",
   "execution_count": 173,
   "id": "a5f8d0b9-4b1f-44ed-9d41-6fe48d6143ab",
   "metadata": {
    "tags": []
   },
   "outputs": [],
   "source": [
    "uzivatele_df = pd.DataFrame({\n",
    "    'Name': ['Alice', 'Bob', 'Charlie', 'David', 'Eve'],\n",
    "    'Age': [None, 20, None, 22, 23],\n",
    "    'Height_cm': [160, 170, 175, None, 165],\n",
    "    'Weight_kg': [50, 65, 70, 80, 55]\n",
    "})"
   ]
  },
  {
   "cell_type": "code",
   "execution_count": 174,
   "id": "0565bb2e-d698-469a-95ad-47dbdf14e11b",
   "metadata": {
    "tags": []
   },
   "outputs": [
    {
     "data": {
      "text/html": [
       "<div>\n",
       "<style scoped>\n",
       "    .dataframe tbody tr th:only-of-type {\n",
       "        vertical-align: middle;\n",
       "    }\n",
       "\n",
       "    .dataframe tbody tr th {\n",
       "        vertical-align: top;\n",
       "    }\n",
       "\n",
       "    .dataframe thead th {\n",
       "        text-align: right;\n",
       "    }\n",
       "</style>\n",
       "<table border=\"1\" class=\"dataframe\">\n",
       "  <thead>\n",
       "    <tr style=\"text-align: right;\">\n",
       "      <th></th>\n",
       "      <th>Name</th>\n",
       "      <th>Age</th>\n",
       "      <th>Height_cm</th>\n",
       "      <th>Weight_kg</th>\n",
       "    </tr>\n",
       "  </thead>\n",
       "  <tbody>\n",
       "    <tr>\n",
       "      <th>0</th>\n",
       "      <td>Alice</td>\n",
       "      <td>NaN</td>\n",
       "      <td>160.0</td>\n",
       "      <td>50</td>\n",
       "    </tr>\n",
       "    <tr>\n",
       "      <th>1</th>\n",
       "      <td>Bob</td>\n",
       "      <td>20.0</td>\n",
       "      <td>170.0</td>\n",
       "      <td>65</td>\n",
       "    </tr>\n",
       "    <tr>\n",
       "      <th>2</th>\n",
       "      <td>Charlie</td>\n",
       "      <td>NaN</td>\n",
       "      <td>175.0</td>\n",
       "      <td>70</td>\n",
       "    </tr>\n",
       "    <tr>\n",
       "      <th>3</th>\n",
       "      <td>David</td>\n",
       "      <td>22.0</td>\n",
       "      <td>NaN</td>\n",
       "      <td>80</td>\n",
       "    </tr>\n",
       "    <tr>\n",
       "      <th>4</th>\n",
       "      <td>Eve</td>\n",
       "      <td>23.0</td>\n",
       "      <td>165.0</td>\n",
       "      <td>55</td>\n",
       "    </tr>\n",
       "  </tbody>\n",
       "</table>\n",
       "</div>"
      ],
      "text/plain": [
       "      Name   Age  Height_cm  Weight_kg\n",
       "0    Alice   NaN      160.0         50\n",
       "1      Bob  20.0      170.0         65\n",
       "2  Charlie   NaN      175.0         70\n",
       "3    David  22.0        NaN         80\n",
       "4      Eve  23.0      165.0         55"
      ]
     },
     "execution_count": 174,
     "metadata": {},
     "output_type": "execute_result"
    }
   ],
   "source": [
    "uzivatele_df"
   ]
  },
  {
   "cell_type": "markdown",
   "id": "e3bfc98e-ed69-48e9-8ae1-b6b77bf7cc60",
   "metadata": {},
   "source": [
    "Ihned po načtení je nejlepší data prozkoumat.\n",
    "\n",
    "Nejenom datové typy ale také mít povědomí **o chybějících hodnotách**:"
   ]
  },
  {
   "cell_type": "code",
   "execution_count": 175,
   "id": "0c3475a3-e337-47af-9342-d85422404618",
   "metadata": {
    "tags": []
   },
   "outputs": [
    {
     "name": "stdout",
     "output_type": "stream",
     "text": [
      "<class 'pandas.core.frame.DataFrame'>\n",
      "RangeIndex: 5 entries, 0 to 4\n",
      "Data columns (total 4 columns):\n",
      " #   Column     Non-Null Count  Dtype  \n",
      "---  ------     --------------  -----  \n",
      " 0   Name       5 non-null      object \n",
      " 1   Age        3 non-null      float64\n",
      " 2   Height_cm  4 non-null      float64\n",
      " 3   Weight_kg  5 non-null      int64  \n",
      "dtypes: float64(2), int64(1), object(1)\n",
      "memory usage: 292.0+ bytes\n"
     ]
    }
   ],
   "source": [
    "uzivatele_df.info()"
   ]
  },
  {
   "cell_type": "markdown",
   "id": "53a318fa-9536-4ba7-80fd-18e208587ab0",
   "metadata": {},
   "source": [
    "<br>\n",
    "\n",
    "Pomocí metody `info` si uděláš aspoň povrchní přehled o hodnotách, datových typech a chybějících hodnotách.\n",
    "\n",
    "<br>\n",
    "\n",
    "### Kolik mi chybí údajů\n",
    "\n",
    "---"
   ]
  },
  {
   "cell_type": "markdown",
   "id": "90d32e53-380d-4614-b71e-abdcd6bcaaa9",
   "metadata": {},
   "source": [
    "Vždycky přistupuj k datům s mírnou skepsí.\n",
    "\n",
    "Otázkou potom není, *JESTLI* mi chybí data, ale *KOLIK* dat mi chybí **a kde**."
   ]
  },
  {
   "cell_type": "code",
   "execution_count": 176,
   "id": "c4d5d338-a870-4448-be2c-bd9e5a5a2286",
   "metadata": {
    "tags": []
   },
   "outputs": [],
   "source": [
    "chybejici_hodnoty = uzivatele_df.isnull()  # isna()"
   ]
  },
  {
   "cell_type": "code",
   "execution_count": 177,
   "id": "ce82abad-5126-454d-a338-7219dbedf228",
   "metadata": {
    "tags": []
   },
   "outputs": [
    {
     "data": {
      "text/html": [
       "<div>\n",
       "<style scoped>\n",
       "    .dataframe tbody tr th:only-of-type {\n",
       "        vertical-align: middle;\n",
       "    }\n",
       "\n",
       "    .dataframe tbody tr th {\n",
       "        vertical-align: top;\n",
       "    }\n",
       "\n",
       "    .dataframe thead th {\n",
       "        text-align: right;\n",
       "    }\n",
       "</style>\n",
       "<table border=\"1\" class=\"dataframe\">\n",
       "  <thead>\n",
       "    <tr style=\"text-align: right;\">\n",
       "      <th></th>\n",
       "      <th>Name</th>\n",
       "      <th>Age</th>\n",
       "      <th>Height_cm</th>\n",
       "      <th>Weight_kg</th>\n",
       "    </tr>\n",
       "  </thead>\n",
       "  <tbody>\n",
       "    <tr>\n",
       "      <th>0</th>\n",
       "      <td>False</td>\n",
       "      <td>True</td>\n",
       "      <td>False</td>\n",
       "      <td>False</td>\n",
       "    </tr>\n",
       "    <tr>\n",
       "      <th>1</th>\n",
       "      <td>False</td>\n",
       "      <td>False</td>\n",
       "      <td>False</td>\n",
       "      <td>False</td>\n",
       "    </tr>\n",
       "    <tr>\n",
       "      <th>2</th>\n",
       "      <td>False</td>\n",
       "      <td>True</td>\n",
       "      <td>False</td>\n",
       "      <td>False</td>\n",
       "    </tr>\n",
       "    <tr>\n",
       "      <th>3</th>\n",
       "      <td>False</td>\n",
       "      <td>False</td>\n",
       "      <td>True</td>\n",
       "      <td>False</td>\n",
       "    </tr>\n",
       "    <tr>\n",
       "      <th>4</th>\n",
       "      <td>False</td>\n",
       "      <td>False</td>\n",
       "      <td>False</td>\n",
       "      <td>False</td>\n",
       "    </tr>\n",
       "  </tbody>\n",
       "</table>\n",
       "</div>"
      ],
      "text/plain": [
       "    Name    Age  Height_cm  Weight_kg\n",
       "0  False   True      False      False\n",
       "1  False  False      False      False\n",
       "2  False   True      False      False\n",
       "3  False  False       True      False\n",
       "4  False  False      False      False"
      ]
     },
     "execution_count": 177,
     "metadata": {},
     "output_type": "execute_result"
    }
   ],
   "source": [
    "chybejici_hodnoty"
   ]
  },
  {
   "cell_type": "markdown",
   "id": "190da638-5798-48e9-89ed-e15439c30b7a",
   "metadata": {
    "tags": []
   },
   "source": [
    "<br>\n",
    "\n",
    "Pomocí metody `isnull` nahradíš všechny chybějící hodnoty v tabulce/sloupcích pomocí `True`.\n",
    "\n",
    "Pokud nechybí, nahradí s `False`."
   ]
  },
  {
   "cell_type": "code",
   "execution_count": 178,
   "id": "1a6d3816-2841-4dbf-879d-5594375b2b5f",
   "metadata": {
    "tags": []
   },
   "outputs": [
    {
     "data": {
      "text/plain": [
       "pandas.core.frame.DataFrame"
      ]
     },
     "execution_count": 178,
     "metadata": {},
     "output_type": "execute_result"
    }
   ],
   "source": [
    "type(chybejici_hodnoty)"
   ]
  },
  {
   "cell_type": "markdown",
   "id": "bd33aab4-de7f-42ff-81cd-17e0324a6f46",
   "metadata": {},
   "source": [
    "Takový výstup ale není zcela reprezentativní.\n",
    "\n",
    "<br>\n",
    "\n",
    "Proto je potřeba, sečíst všechny `True` hodnoty po sloupcích:"
   ]
  },
  {
   "cell_type": "code",
   "execution_count": 179,
   "id": "601d3405-3f01-4b0e-aa90-ffd579cc3745",
   "metadata": {
    "tags": []
   },
   "outputs": [],
   "source": [
    "soucet_chybejich_hodnot = uzivatele_df.isnull().sum()"
   ]
  },
  {
   "cell_type": "code",
   "execution_count": 180,
   "id": "ada2364d-c759-4f92-a726-769ed75cb32b",
   "metadata": {
    "tags": []
   },
   "outputs": [
    {
     "data": {
      "text/plain": [
       "Name         0\n",
       "Age          2\n",
       "Height_cm    1\n",
       "Weight_kg    0\n",
       "dtype: int64"
      ]
     },
     "execution_count": 180,
     "metadata": {},
     "output_type": "execute_result"
    }
   ],
   "source": [
    "soucet_chybejich_hodnot"
   ]
  },
  {
   "cell_type": "markdown",
   "id": "27fd0e3f-3d9d-4c84-ad13-555a3007d95d",
   "metadata": {},
   "source": [
    "<br>\n",
    "\n",
    "Opět v jednotkách to nemusí zcela **prozrazovat chybovost**.\n",
    "\n",
    "Nejlepším indikátorem ale bývají **procenta z celkového množství hodnot ve sloupci**:"
   ]
  },
  {
   "cell_type": "code",
   "execution_count": 181,
   "id": "cfdf26eb-b394-41b0-8b9d-a2df4f423c59",
   "metadata": {},
   "outputs": [
    {
     "data": {
      "text/plain": [
       "5"
      ]
     },
     "execution_count": 181,
     "metadata": {},
     "output_type": "execute_result"
    }
   ],
   "source": [
    "uzivatele_df.shape[0]"
   ]
  },
  {
   "cell_type": "code",
   "execution_count": 182,
   "id": "bcf80d2c-a855-47b0-a0e7-2c33c2f04132",
   "metadata": {
    "tags": []
   },
   "outputs": [],
   "source": [
    "celkem_zaznamu = uzivatele_df.shape[0]  # 0 ... Indexy, 1 ... sloupce"
   ]
  },
  {
   "cell_type": "code",
   "execution_count": 183,
   "id": "32895f74-6da5-4ff5-98f4-ee5d3d0b6302",
   "metadata": {
    "tags": []
   },
   "outputs": [],
   "source": [
    "celkem_chybi = soucet_chybejich_hodnot"
   ]
  },
  {
   "cell_type": "code",
   "execution_count": 184,
   "id": "c3bebb42-02fe-46d7-8548-fe2ccac030d3",
   "metadata": {
    "tags": []
   },
   "outputs": [],
   "source": [
    "v_procentech = round(celkem_chybi / celkem_zaznamu * 100, 1)"
   ]
  },
  {
   "cell_type": "code",
   "execution_count": 17,
   "id": "67f9c86d-317c-49d9-95bd-e14f69c9541e",
   "metadata": {
    "tags": []
   },
   "outputs": [
    {
     "data": {
      "text/plain": [
       "Name          0.0\n",
       "Age          40.0\n",
       "Height_cm    20.0\n",
       "Weight_kg     0.0\n",
       "dtype: float64"
      ]
     },
     "execution_count": 17,
     "metadata": {},
     "output_type": "execute_result"
    }
   ],
   "source": [
    "v_procentech"
   ]
  },
  {
   "cell_type": "markdown",
   "id": "fd4f20a8-15cd-419c-93f8-d36c682c99a5",
   "metadata": {},
   "source": [
    "<br>\n",
    "\n",
    "Případně celkové množství záznamů ve všech sloupcích:"
   ]
  },
  {
   "cell_type": "code",
   "execution_count": 185,
   "id": "18d55c4a-96dd-47ee-be53-2adf575c0a94",
   "metadata": {
    "tags": []
   },
   "outputs": [],
   "source": [
    "vsechny_bunky = uzivatele_df.shape[0] * uzivatele_df.shape[1]  # 5 * 4"
   ]
  },
  {
   "cell_type": "code",
   "execution_count": 186,
   "id": "6b25fed0-6cce-450c-9720-fe922982653d",
   "metadata": {},
   "outputs": [
    {
     "data": {
      "text/plain": [
       "20"
      ]
     },
     "execution_count": 186,
     "metadata": {},
     "output_type": "execute_result"
    }
   ],
   "source": [
    "vsechny_bunky"
   ]
  },
  {
   "cell_type": "code",
   "execution_count": 187,
   "id": "af159bf5-4cd4-46df-a217-33df9b747722",
   "metadata": {
    "tags": []
   },
   "outputs": [],
   "source": [
    "vsechny_chybejici_hodnoty = chybejici_hodnoty.sum()            # 3"
   ]
  },
  {
   "cell_type": "code",
   "execution_count": 188,
   "id": "85ca38a5-84b1-471c-ba9e-da05b2d5ce1c",
   "metadata": {},
   "outputs": [
    {
     "data": {
      "text/plain": [
       "Name         0\n",
       "Age          2\n",
       "Height_cm    1\n",
       "Weight_kg    0\n",
       "dtype: int64"
      ]
     },
     "execution_count": 188,
     "metadata": {},
     "output_type": "execute_result"
    }
   ],
   "source": [
    "vsechny_chybejici_hodnoty"
   ]
  },
  {
   "cell_type": "code",
   "execution_count": 189,
   "id": "d7d7e602-8c0f-47f1-86b4-76e5b8d46e1c",
   "metadata": {},
   "outputs": [
    {
     "data": {
      "text/plain": [
       "np.int64(3)"
      ]
     },
     "execution_count": 189,
     "metadata": {},
     "output_type": "execute_result"
    }
   ],
   "source": [
    "soucet_chybejich_hodnot.sum()"
   ]
  },
  {
   "cell_type": "code",
   "execution_count": 190,
   "id": "0f685a6e-356b-4920-b777-cb1c58a09685",
   "metadata": {
    "tags": []
   },
   "outputs": [],
   "source": [
    "celkem_v_procentech = round(soucet_chybejich_hodnot.sum() / vsechny_bunky * 100, 1)"
   ]
  },
  {
   "cell_type": "code",
   "execution_count": 191,
   "id": "15dc8401-e04c-4957-8cdf-1bcbaed265ed",
   "metadata": {
    "tags": []
   },
   "outputs": [
    {
     "data": {
      "text/plain": [
       "np.float64(15.0)"
      ]
     },
     "execution_count": 191,
     "metadata": {},
     "output_type": "execute_result"
    }
   ],
   "source": [
    "celkem_v_procentech"
   ]
  },
  {
   "cell_type": "markdown",
   "id": "bfbdfaa1-e163-44d3-9912-a76f48011291",
   "metadata": {},
   "source": [
    "<br>\n",
    "\n",
    "V této ukázce tedy chybí 15 % dat a to není málo!"
   ]
  },
  {
   "cell_type": "markdown",
   "id": "094ded0c-63bf-4198-8869-0341be3a9faa",
   "metadata": {},
   "source": [
    "<br>\n",
    "\n",
    "### Co s chybějícími hodnotami\n",
    "\n",
    "---"
   ]
  },
  {
   "cell_type": "markdown",
   "id": "25830900-8a89-4a7a-a1ff-31c0f4d46941",
   "metadata": {},
   "source": [
    "Je důležité vědět, proč máš takové množství chybějících hodnot.\n",
    "\n",
    "Chybí ti data, protože neexistují, nebo protože nejsou součástí záznamů v datasetu.\n",
    "\n",
    "V takových krocích je obvykle nutné, pochopit podstatu údajů (dokumentace, specifikace,..).\n",
    "\n",
    "Nejjednodušší způsoby, jak s chybějícími daty naložit (ale ne efektivní!!):\n",
    "1. Zahodit chybějící hodnoty,\n",
    "2. doplnit chybějící hodnoty."
   ]
  },
  {
   "cell_type": "markdown",
   "id": "0b2499c6-787c-4554-a294-5ebf9e765be1",
   "metadata": {},
   "source": [
    "#### Zahodit chybějící hodnoty\n",
    "---"
   ]
  },
  {
   "cell_type": "code",
   "execution_count": null,
   "id": "7301b9e2-443f-40e1-bea0-c11d2a8eed3c",
   "metadata": {
    "tags": []
   },
   "outputs": [],
   "source": [
    "# df_uzivatele.dropna?"
   ]
  },
  {
   "cell_type": "code",
   "execution_count": 192,
   "id": "792e8538-06ff-4670-a5e1-d490715f333b",
   "metadata": {
    "tags": []
   },
   "outputs": [
    {
     "data": {
      "text/html": [
       "<div>\n",
       "<style scoped>\n",
       "    .dataframe tbody tr th:only-of-type {\n",
       "        vertical-align: middle;\n",
       "    }\n",
       "\n",
       "    .dataframe tbody tr th {\n",
       "        vertical-align: top;\n",
       "    }\n",
       "\n",
       "    .dataframe thead th {\n",
       "        text-align: right;\n",
       "    }\n",
       "</style>\n",
       "<table border=\"1\" class=\"dataframe\">\n",
       "  <thead>\n",
       "    <tr style=\"text-align: right;\">\n",
       "      <th></th>\n",
       "      <th>Name</th>\n",
       "      <th>Age</th>\n",
       "      <th>Height_cm</th>\n",
       "      <th>Weight_kg</th>\n",
       "    </tr>\n",
       "  </thead>\n",
       "  <tbody>\n",
       "    <tr>\n",
       "      <th>0</th>\n",
       "      <td>Alice</td>\n",
       "      <td>NaN</td>\n",
       "      <td>160.0</td>\n",
       "      <td>50</td>\n",
       "    </tr>\n",
       "    <tr>\n",
       "      <th>1</th>\n",
       "      <td>Bob</td>\n",
       "      <td>20.0</td>\n",
       "      <td>170.0</td>\n",
       "      <td>65</td>\n",
       "    </tr>\n",
       "    <tr>\n",
       "      <th>2</th>\n",
       "      <td>Charlie</td>\n",
       "      <td>NaN</td>\n",
       "      <td>175.0</td>\n",
       "      <td>70</td>\n",
       "    </tr>\n",
       "    <tr>\n",
       "      <th>3</th>\n",
       "      <td>David</td>\n",
       "      <td>22.0</td>\n",
       "      <td>NaN</td>\n",
       "      <td>80</td>\n",
       "    </tr>\n",
       "    <tr>\n",
       "      <th>4</th>\n",
       "      <td>Eve</td>\n",
       "      <td>23.0</td>\n",
       "      <td>165.0</td>\n",
       "      <td>55</td>\n",
       "    </tr>\n",
       "  </tbody>\n",
       "</table>\n",
       "</div>"
      ],
      "text/plain": [
       "      Name   Age  Height_cm  Weight_kg\n",
       "0    Alice   NaN      160.0         50\n",
       "1      Bob  20.0      170.0         65\n",
       "2  Charlie   NaN      175.0         70\n",
       "3    David  22.0        NaN         80\n",
       "4      Eve  23.0      165.0         55"
      ]
     },
     "execution_count": 192,
     "metadata": {},
     "output_type": "execute_result"
    }
   ],
   "source": [
    "uzivatele_df"
   ]
  },
  {
   "cell_type": "code",
   "execution_count": 193,
   "id": "6e154fe4-fe48-4249-a776-425d21248b46",
   "metadata": {
    "tags": []
   },
   "outputs": [
    {
     "data": {
      "text/html": [
       "<div>\n",
       "<style scoped>\n",
       "    .dataframe tbody tr th:only-of-type {\n",
       "        vertical-align: middle;\n",
       "    }\n",
       "\n",
       "    .dataframe tbody tr th {\n",
       "        vertical-align: top;\n",
       "    }\n",
       "\n",
       "    .dataframe thead th {\n",
       "        text-align: right;\n",
       "    }\n",
       "</style>\n",
       "<table border=\"1\" class=\"dataframe\">\n",
       "  <thead>\n",
       "    <tr style=\"text-align: right;\">\n",
       "      <th></th>\n",
       "      <th>Name</th>\n",
       "      <th>Age</th>\n",
       "      <th>Height_cm</th>\n",
       "      <th>Weight_kg</th>\n",
       "    </tr>\n",
       "  </thead>\n",
       "  <tbody>\n",
       "    <tr>\n",
       "      <th>1</th>\n",
       "      <td>Bob</td>\n",
       "      <td>20.0</td>\n",
       "      <td>170.0</td>\n",
       "      <td>65</td>\n",
       "    </tr>\n",
       "    <tr>\n",
       "      <th>4</th>\n",
       "      <td>Eve</td>\n",
       "      <td>23.0</td>\n",
       "      <td>165.0</td>\n",
       "      <td>55</td>\n",
       "    </tr>\n",
       "  </tbody>\n",
       "</table>\n",
       "</div>"
      ],
      "text/plain": [
       "  Name   Age  Height_cm  Weight_kg\n",
       "1  Bob  20.0      170.0         65\n",
       "4  Eve  23.0      165.0         55"
      ]
     },
     "execution_count": 193,
     "metadata": {},
     "output_type": "execute_result"
    }
   ],
   "source": [
    "uzivatele_df.dropna()  # axis=0"
   ]
  },
  {
   "cell_type": "markdown",
   "id": "ea526c53-5802-4143-ab32-d42fba3b0727",
   "metadata": {},
   "source": [
    "<br>\n",
    "\n",
    "V tento okamžik si zahodíš všechny záznamy, které **postrádaly nějakou hodnotu**.\n",
    "\n",
    "Někdy je jednodušší zahodit sloupeček, který má chybějící hodnotu:"
   ]
  },
  {
   "cell_type": "code",
   "execution_count": 194,
   "id": "5cae373b-2803-4607-9de5-3ee8ceecb4db",
   "metadata": {
    "tags": []
   },
   "outputs": [
    {
     "data": {
      "text/html": [
       "<div>\n",
       "<style scoped>\n",
       "    .dataframe tbody tr th:only-of-type {\n",
       "        vertical-align: middle;\n",
       "    }\n",
       "\n",
       "    .dataframe tbody tr th {\n",
       "        vertical-align: top;\n",
       "    }\n",
       "\n",
       "    .dataframe thead th {\n",
       "        text-align: right;\n",
       "    }\n",
       "</style>\n",
       "<table border=\"1\" class=\"dataframe\">\n",
       "  <thead>\n",
       "    <tr style=\"text-align: right;\">\n",
       "      <th></th>\n",
       "      <th>Name</th>\n",
       "      <th>Weight_kg</th>\n",
       "    </tr>\n",
       "  </thead>\n",
       "  <tbody>\n",
       "    <tr>\n",
       "      <th>0</th>\n",
       "      <td>Alice</td>\n",
       "      <td>50</td>\n",
       "    </tr>\n",
       "    <tr>\n",
       "      <th>1</th>\n",
       "      <td>Bob</td>\n",
       "      <td>65</td>\n",
       "    </tr>\n",
       "    <tr>\n",
       "      <th>2</th>\n",
       "      <td>Charlie</td>\n",
       "      <td>70</td>\n",
       "    </tr>\n",
       "    <tr>\n",
       "      <th>3</th>\n",
       "      <td>David</td>\n",
       "      <td>80</td>\n",
       "    </tr>\n",
       "    <tr>\n",
       "      <th>4</th>\n",
       "      <td>Eve</td>\n",
       "      <td>55</td>\n",
       "    </tr>\n",
       "  </tbody>\n",
       "</table>\n",
       "</div>"
      ],
      "text/plain": [
       "      Name  Weight_kg\n",
       "0    Alice         50\n",
       "1      Bob         65\n",
       "2  Charlie         70\n",
       "3    David         80\n",
       "4      Eve         55"
      ]
     },
     "execution_count": 194,
     "metadata": {},
     "output_type": "execute_result"
    }
   ],
   "source": [
    "uzivatele_df.dropna(axis=1)"
   ]
  },
  {
   "cell_type": "markdown",
   "id": "b1fac794-0d34-48ec-b6c6-9386f28b1f43",
   "metadata": {},
   "source": [
    "#### Doplnit automaticky hodnoty\n",
    "\n",
    "---"
   ]
  },
  {
   "cell_type": "code",
   "execution_count": 195,
   "id": "8cc16fb8-1ae9-4b7b-b58d-3ee26a54f62a",
   "metadata": {},
   "outputs": [],
   "source": [
    "# df_uzivatele.fillna?"
   ]
  },
  {
   "cell_type": "code",
   "execution_count": 196,
   "id": "fb28d0b9-7eca-4ec3-a9fa-79812beb312d",
   "metadata": {
    "tags": []
   },
   "outputs": [
    {
     "data": {
      "text/html": [
       "<div>\n",
       "<style scoped>\n",
       "    .dataframe tbody tr th:only-of-type {\n",
       "        vertical-align: middle;\n",
       "    }\n",
       "\n",
       "    .dataframe tbody tr th {\n",
       "        vertical-align: top;\n",
       "    }\n",
       "\n",
       "    .dataframe thead th {\n",
       "        text-align: right;\n",
       "    }\n",
       "</style>\n",
       "<table border=\"1\" class=\"dataframe\">\n",
       "  <thead>\n",
       "    <tr style=\"text-align: right;\">\n",
       "      <th></th>\n",
       "      <th>Name</th>\n",
       "      <th>Age</th>\n",
       "      <th>Height_cm</th>\n",
       "      <th>Weight_kg</th>\n",
       "    </tr>\n",
       "  </thead>\n",
       "  <tbody>\n",
       "    <tr>\n",
       "      <th>0</th>\n",
       "      <td>Alice</td>\n",
       "      <td>NaN</td>\n",
       "      <td>160.0</td>\n",
       "      <td>50</td>\n",
       "    </tr>\n",
       "    <tr>\n",
       "      <th>1</th>\n",
       "      <td>Bob</td>\n",
       "      <td>20.0</td>\n",
       "      <td>170.0</td>\n",
       "      <td>65</td>\n",
       "    </tr>\n",
       "    <tr>\n",
       "      <th>2</th>\n",
       "      <td>Charlie</td>\n",
       "      <td>NaN</td>\n",
       "      <td>175.0</td>\n",
       "      <td>70</td>\n",
       "    </tr>\n",
       "    <tr>\n",
       "      <th>3</th>\n",
       "      <td>David</td>\n",
       "      <td>22.0</td>\n",
       "      <td>NaN</td>\n",
       "      <td>80</td>\n",
       "    </tr>\n",
       "    <tr>\n",
       "      <th>4</th>\n",
       "      <td>Eve</td>\n",
       "      <td>23.0</td>\n",
       "      <td>165.0</td>\n",
       "      <td>55</td>\n",
       "    </tr>\n",
       "  </tbody>\n",
       "</table>\n",
       "</div>"
      ],
      "text/plain": [
       "      Name   Age  Height_cm  Weight_kg\n",
       "0    Alice   NaN      160.0         50\n",
       "1      Bob  20.0      170.0         65\n",
       "2  Charlie   NaN      175.0         70\n",
       "3    David  22.0        NaN         80\n",
       "4      Eve  23.0      165.0         55"
      ]
     },
     "execution_count": 196,
     "metadata": {},
     "output_type": "execute_result"
    }
   ],
   "source": [
    "uzivatele_df"
   ]
  },
  {
   "cell_type": "code",
   "execution_count": 197,
   "id": "c3d473fa-6caf-47a3-be7d-8fe04e3d7198",
   "metadata": {},
   "outputs": [
    {
     "data": {
      "text/html": [
       "<div>\n",
       "<style scoped>\n",
       "    .dataframe tbody tr th:only-of-type {\n",
       "        vertical-align: middle;\n",
       "    }\n",
       "\n",
       "    .dataframe tbody tr th {\n",
       "        vertical-align: top;\n",
       "    }\n",
       "\n",
       "    .dataframe thead th {\n",
       "        text-align: right;\n",
       "    }\n",
       "</style>\n",
       "<table border=\"1\" class=\"dataframe\">\n",
       "  <thead>\n",
       "    <tr style=\"text-align: right;\">\n",
       "      <th></th>\n",
       "      <th>Name</th>\n",
       "      <th>Age</th>\n",
       "      <th>Height_cm</th>\n",
       "      <th>Weight_kg</th>\n",
       "    </tr>\n",
       "  </thead>\n",
       "  <tbody>\n",
       "    <tr>\n",
       "      <th>0</th>\n",
       "      <td>Alice</td>\n",
       "      <td>0.0</td>\n",
       "      <td>160.0</td>\n",
       "      <td>50</td>\n",
       "    </tr>\n",
       "    <tr>\n",
       "      <th>1</th>\n",
       "      <td>Bob</td>\n",
       "      <td>20.0</td>\n",
       "      <td>170.0</td>\n",
       "      <td>65</td>\n",
       "    </tr>\n",
       "    <tr>\n",
       "      <th>2</th>\n",
       "      <td>Charlie</td>\n",
       "      <td>0.0</td>\n",
       "      <td>175.0</td>\n",
       "      <td>70</td>\n",
       "    </tr>\n",
       "    <tr>\n",
       "      <th>3</th>\n",
       "      <td>David</td>\n",
       "      <td>22.0</td>\n",
       "      <td>0.0</td>\n",
       "      <td>80</td>\n",
       "    </tr>\n",
       "    <tr>\n",
       "      <th>4</th>\n",
       "      <td>Eve</td>\n",
       "      <td>23.0</td>\n",
       "      <td>165.0</td>\n",
       "      <td>55</td>\n",
       "    </tr>\n",
       "  </tbody>\n",
       "</table>\n",
       "</div>"
      ],
      "text/plain": [
       "      Name   Age  Height_cm  Weight_kg\n",
       "0    Alice   0.0      160.0         50\n",
       "1      Bob  20.0      170.0         65\n",
       "2  Charlie   0.0      175.0         70\n",
       "3    David  22.0        0.0         80\n",
       "4      Eve  23.0      165.0         55"
      ]
     },
     "execution_count": 197,
     "metadata": {},
     "output_type": "execute_result"
    }
   ],
   "source": [
    "uzivatele_df.fillna(0)  # replace: \"Nan\" --> 0"
   ]
  },
  {
   "cell_type": "markdown",
   "id": "1d01774e-1e53-4d03-8601-010eb30e6ff5",
   "metadata": {},
   "source": [
    "<br>\n",
    "\n",
    "Pomocí funkce `fillna` můžeš vyplnit místo chybějících hodnot předdefinovanou vlastní hodnotu.\n",
    "\n",
    "Nebo pomocí argumentu pro `method` pracovat s elegantnějším zadáním.\n",
    "\n",
    "Nahradit chybějící hodnoty hodnotou, která následuje bezprostředně za ní ve stejném sloupci (To má velký smysl u souborů dat, kde mají pozorování nějaké logické pořadí.)"
   ]
  },
  {
   "cell_type": "code",
   "execution_count": 204,
   "id": "b4a9f2d8-83a3-4bda-9ea7-5d0afc12c3a1",
   "metadata": {
    "tags": []
   },
   "outputs": [
    {
     "data": {
      "text/html": [
       "<div>\n",
       "<style scoped>\n",
       "    .dataframe tbody tr th:only-of-type {\n",
       "        vertical-align: middle;\n",
       "    }\n",
       "\n",
       "    .dataframe tbody tr th {\n",
       "        vertical-align: top;\n",
       "    }\n",
       "\n",
       "    .dataframe thead th {\n",
       "        text-align: right;\n",
       "    }\n",
       "</style>\n",
       "<table border=\"1\" class=\"dataframe\">\n",
       "  <thead>\n",
       "    <tr style=\"text-align: right;\">\n",
       "      <th></th>\n",
       "      <th>Name</th>\n",
       "      <th>Age</th>\n",
       "      <th>Height_cm</th>\n",
       "      <th>Weight_kg</th>\n",
       "    </tr>\n",
       "  </thead>\n",
       "  <tbody>\n",
       "    <tr>\n",
       "      <th>0</th>\n",
       "      <td>Alice</td>\n",
       "      <td>20.0</td>\n",
       "      <td>160.0</td>\n",
       "      <td>50</td>\n",
       "    </tr>\n",
       "    <tr>\n",
       "      <th>1</th>\n",
       "      <td>Bob</td>\n",
       "      <td>20.0</td>\n",
       "      <td>170.0</td>\n",
       "      <td>65</td>\n",
       "    </tr>\n",
       "    <tr>\n",
       "      <th>2</th>\n",
       "      <td>Charlie</td>\n",
       "      <td>22.0</td>\n",
       "      <td>175.0</td>\n",
       "      <td>70</td>\n",
       "    </tr>\n",
       "    <tr>\n",
       "      <th>3</th>\n",
       "      <td>David</td>\n",
       "      <td>22.0</td>\n",
       "      <td>165.0</td>\n",
       "      <td>80</td>\n",
       "    </tr>\n",
       "    <tr>\n",
       "      <th>4</th>\n",
       "      <td>Eve</td>\n",
       "      <td>23.0</td>\n",
       "      <td>165.0</td>\n",
       "      <td>55</td>\n",
       "    </tr>\n",
       "  </tbody>\n",
       "</table>\n",
       "</div>"
      ],
      "text/plain": [
       "      Name   Age  Height_cm  Weight_kg\n",
       "0    Alice  20.0      160.0         50\n",
       "1      Bob  20.0      170.0         65\n",
       "2  Charlie  22.0      175.0         70\n",
       "3    David  22.0      165.0         80\n",
       "4      Eve  23.0      165.0         55"
      ]
     },
     "execution_count": 204,
     "metadata": {},
     "output_type": "execute_result"
    }
   ],
   "source": [
    "uzivatele_df.bfill(axis=0)"
   ]
  },
  {
   "cell_type": "code",
   "execution_count": 205,
   "id": "20251f42-090b-4be1-a74c-77404f7e0526",
   "metadata": {},
   "outputs": [
    {
     "data": {
      "text/html": [
       "<div>\n",
       "<style scoped>\n",
       "    .dataframe tbody tr th:only-of-type {\n",
       "        vertical-align: middle;\n",
       "    }\n",
       "\n",
       "    .dataframe tbody tr th {\n",
       "        vertical-align: top;\n",
       "    }\n",
       "\n",
       "    .dataframe thead th {\n",
       "        text-align: right;\n",
       "    }\n",
       "</style>\n",
       "<table border=\"1\" class=\"dataframe\">\n",
       "  <thead>\n",
       "    <tr style=\"text-align: right;\">\n",
       "      <th></th>\n",
       "      <th>Name</th>\n",
       "      <th>Age</th>\n",
       "      <th>Height_cm</th>\n",
       "      <th>Weight_kg</th>\n",
       "    </tr>\n",
       "  </thead>\n",
       "  <tbody>\n",
       "    <tr>\n",
       "      <th>0</th>\n",
       "      <td>Alice</td>\n",
       "      <td>NaN</td>\n",
       "      <td>160.0</td>\n",
       "      <td>50</td>\n",
       "    </tr>\n",
       "    <tr>\n",
       "      <th>1</th>\n",
       "      <td>Bob</td>\n",
       "      <td>20.0</td>\n",
       "      <td>170.0</td>\n",
       "      <td>65</td>\n",
       "    </tr>\n",
       "    <tr>\n",
       "      <th>2</th>\n",
       "      <td>Charlie</td>\n",
       "      <td>NaN</td>\n",
       "      <td>175.0</td>\n",
       "      <td>70</td>\n",
       "    </tr>\n",
       "    <tr>\n",
       "      <th>3</th>\n",
       "      <td>David</td>\n",
       "      <td>22.0</td>\n",
       "      <td>NaN</td>\n",
       "      <td>80</td>\n",
       "    </tr>\n",
       "    <tr>\n",
       "      <th>4</th>\n",
       "      <td>Eve</td>\n",
       "      <td>23.0</td>\n",
       "      <td>165.0</td>\n",
       "      <td>55</td>\n",
       "    </tr>\n",
       "  </tbody>\n",
       "</table>\n",
       "</div>"
      ],
      "text/plain": [
       "      Name   Age  Height_cm  Weight_kg\n",
       "0    Alice   NaN      160.0         50\n",
       "1      Bob  20.0      170.0         65\n",
       "2  Charlie   NaN      175.0         70\n",
       "3    David  22.0        NaN         80\n",
       "4      Eve  23.0      165.0         55"
      ]
     },
     "execution_count": 205,
     "metadata": {},
     "output_type": "execute_result"
    }
   ],
   "source": [
    "uzivatele_df"
   ]
  },
  {
   "cell_type": "code",
   "execution_count": 206,
   "id": "b29d25db-b0a6-411c-887c-5cc5fbf4431a",
   "metadata": {
    "tags": []
   },
   "outputs": [
    {
     "data": {
      "text/html": [
       "<div>\n",
       "<style scoped>\n",
       "    .dataframe tbody tr th:only-of-type {\n",
       "        vertical-align: middle;\n",
       "    }\n",
       "\n",
       "    .dataframe tbody tr th {\n",
       "        vertical-align: top;\n",
       "    }\n",
       "\n",
       "    .dataframe thead th {\n",
       "        text-align: right;\n",
       "    }\n",
       "</style>\n",
       "<table border=\"1\" class=\"dataframe\">\n",
       "  <thead>\n",
       "    <tr style=\"text-align: right;\">\n",
       "      <th></th>\n",
       "      <th>Name</th>\n",
       "      <th>Age</th>\n",
       "      <th>Height_cm</th>\n",
       "      <th>Weight_kg</th>\n",
       "    </tr>\n",
       "  </thead>\n",
       "  <tbody>\n",
       "    <tr>\n",
       "      <th>0</th>\n",
       "      <td>Alice</td>\n",
       "      <td>NaN</td>\n",
       "      <td>160.0</td>\n",
       "      <td>50</td>\n",
       "    </tr>\n",
       "    <tr>\n",
       "      <th>1</th>\n",
       "      <td>Bob</td>\n",
       "      <td>20.0</td>\n",
       "      <td>170.0</td>\n",
       "      <td>65</td>\n",
       "    </tr>\n",
       "    <tr>\n",
       "      <th>2</th>\n",
       "      <td>Charlie</td>\n",
       "      <td>20.0</td>\n",
       "      <td>175.0</td>\n",
       "      <td>70</td>\n",
       "    </tr>\n",
       "    <tr>\n",
       "      <th>3</th>\n",
       "      <td>David</td>\n",
       "      <td>22.0</td>\n",
       "      <td>175.0</td>\n",
       "      <td>80</td>\n",
       "    </tr>\n",
       "    <tr>\n",
       "      <th>4</th>\n",
       "      <td>Eve</td>\n",
       "      <td>23.0</td>\n",
       "      <td>165.0</td>\n",
       "      <td>55</td>\n",
       "    </tr>\n",
       "  </tbody>\n",
       "</table>\n",
       "</div>"
      ],
      "text/plain": [
       "      Name   Age  Height_cm  Weight_kg\n",
       "0    Alice   NaN      160.0         50\n",
       "1      Bob  20.0      170.0         65\n",
       "2  Charlie  20.0      175.0         70\n",
       "3    David  22.0      175.0         80\n",
       "4      Eve  23.0      165.0         55"
      ]
     },
     "execution_count": 206,
     "metadata": {},
     "output_type": "execute_result"
    }
   ],
   "source": [
    "uzivatele_df.ffill(axis=0)"
   ]
  },
  {
   "cell_type": "markdown",
   "id": "8ad59706-3948-475b-aa80-3f0ee8da622c",
   "metadata": {},
   "source": [
    "<br>\n",
    "\n",
    "Při volbě metody `ffill` může dělat problémy chybějící hodnota v prvním Indexu."
   ]
  },
  {
   "cell_type": "code",
   "execution_count": 207,
   "id": "c80015bf-ca5a-457b-8309-7bf647d1fc42",
   "metadata": {
    "tags": []
   },
   "outputs": [
    {
     "data": {
      "text/html": [
       "<div>\n",
       "<style scoped>\n",
       "    .dataframe tbody tr th:only-of-type {\n",
       "        vertical-align: middle;\n",
       "    }\n",
       "\n",
       "    .dataframe tbody tr th {\n",
       "        vertical-align: top;\n",
       "    }\n",
       "\n",
       "    .dataframe thead th {\n",
       "        text-align: right;\n",
       "    }\n",
       "</style>\n",
       "<table border=\"1\" class=\"dataframe\">\n",
       "  <thead>\n",
       "    <tr style=\"text-align: right;\">\n",
       "      <th></th>\n",
       "      <th>Name</th>\n",
       "      <th>Age</th>\n",
       "      <th>Height_cm</th>\n",
       "      <th>Weight_kg</th>\n",
       "    </tr>\n",
       "  </thead>\n",
       "  <tbody>\n",
       "    <tr>\n",
       "      <th>0</th>\n",
       "      <td>Alice</td>\n",
       "      <td>19.0</td>\n",
       "      <td>160.0</td>\n",
       "      <td>50</td>\n",
       "    </tr>\n",
       "    <tr>\n",
       "      <th>1</th>\n",
       "      <td>Bob</td>\n",
       "      <td>20.0</td>\n",
       "      <td>170.0</td>\n",
       "      <td>65</td>\n",
       "    </tr>\n",
       "    <tr>\n",
       "      <th>2</th>\n",
       "      <td>Charlie</td>\n",
       "      <td>20.0</td>\n",
       "      <td>175.0</td>\n",
       "      <td>70</td>\n",
       "    </tr>\n",
       "    <tr>\n",
       "      <th>3</th>\n",
       "      <td>David</td>\n",
       "      <td>22.0</td>\n",
       "      <td>175.0</td>\n",
       "      <td>80</td>\n",
       "    </tr>\n",
       "    <tr>\n",
       "      <th>4</th>\n",
       "      <td>Eve</td>\n",
       "      <td>23.0</td>\n",
       "      <td>165.0</td>\n",
       "      <td>55</td>\n",
       "    </tr>\n",
       "  </tbody>\n",
       "</table>\n",
       "</div>"
      ],
      "text/plain": [
       "      Name   Age  Height_cm  Weight_kg\n",
       "0    Alice  19.0      160.0         50\n",
       "1      Bob  20.0      170.0         65\n",
       "2  Charlie  20.0      175.0         70\n",
       "3    David  22.0      175.0         80\n",
       "4      Eve  23.0      165.0         55"
      ]
     },
     "execution_count": 207,
     "metadata": {},
     "output_type": "execute_result"
    }
   ],
   "source": [
    "uzivatele_df.ffill(axis=0).fillna(19)"
   ]
  },
  {
   "cell_type": "markdown",
   "id": "a8f920af-c122-4404-98a6-b7a73bcc9a19",
   "metadata": {},
   "source": [
    "Pro doplnění **nedoplněných hodnot** ve spolupráci s metodou `fillna` můžeš tuto metoda spustit opakovaně."
   ]
  },
  {
   "cell_type": "markdown",
   "id": "9761fd9b-87ea-4909-8511-0148eef3b60b",
   "metadata": {},
   "source": [
    "<img src=\"https://imgs.search.brave.com/lUUqjUIBtDUFPXtoZsXuQckIeZDaKPxCsaKdK1kJuFw/rs:fit:500:0:0:0/g:ce/aHR0cHM6Ly90NC5m/dGNkbi5uZXQvanBn/LzA5LzM4LzAxLzE1/LzM2MF9GXzkzODAx/MTU4MF9leVZ5Um9z/Z20wakNsVzhMRm1l/R0dpeDNJQ0tXdmhV/WS5qcGc\" width=\"160\" style=\"margin-left:auto; margin-right:auto\"/>\n",
    "\n"
   ]
  },
  {
   "cell_type": "markdown",
   "id": "de9c6b90-a9b6-44a5-b419-bf1f680610b9",
   "metadata": {},
   "source": [
    "### Encoding, znakové sady\n",
    "\n",
    "---"
   ]
  },
  {
   "cell_type": "markdown",
   "id": "f05783ce-8e19-4ed6-84b4-feb1d0845bdb",
   "metadata": {},
   "source": [
    "Problémy s *kódováním* jsou běžné.\n",
    "\n",
    "Jde o proces, který mapuje **bajtové stringy** (`0110101011`) na **uživatelsky čitelný text** (`\"ahoj!\"`).\n",
    "\n",
    "Tento problém nastane, pokud se snažíš načíst zdroj v jiné kódovací sadě, než byl soubor zapsaný.\n",
    "\n",
    "Protože je těchto sad hodně, občas skončíš s *escapovanými znaky*, nebo s neznámými kliky-háky:"
   ]
  },
  {
   "cell_type": "code",
   "execution_count": 209,
   "id": "d6949490-b430-4b66-813e-9f73a7629706",
   "metadata": {},
   "outputs": [
    {
     "data": {
      "text/plain": [
       "'æ–‡å'"
      ]
     },
     "execution_count": 209,
     "metadata": {},
     "output_type": "execute_result"
    }
   ],
   "source": [
    "\"æ–‡å\""
   ]
  },
  {
   "cell_type": "markdown",
   "id": "462ebf10-52c1-480b-ac2b-6bcaef2c605e",
   "metadata": {},
   "source": [
    "<br>\n",
    "\n",
    "Případně pokud nelze domapovat znaky:"
   ]
  },
  {
   "cell_type": "markdown",
   "id": "c7d5cca3-edd4-443e-a32d-663beda305c1",
   "metadata": {},
   "source": [
    "��"
   ]
  },
  {
   "cell_type": "markdown",
   "id": "08718372-9db9-4abf-be9f-e3973232a86f",
   "metadata": {},
   "source": [
    "<br>\n",
    "\n",
    "V **Pythonu 2** nebylo lehké *encoding* zajistit.\n",
    "\n",
    "V **Pythonu 3** je celý proces o dost jednodušší.\n",
    "\n",
    "Standardem pro práci bývá obyčejně UTF-8. Na to ale zrovna v našich končinách nemůžeš spoléhat."
   ]
  },
  {
   "cell_type": "code",
   "execution_count": 213,
   "id": "452d462d-a7d7-4fc8-9200-a81ad15acd13",
   "metadata": {
    "tags": []
   },
   "outputs": [],
   "source": [
    "veta = \"Matouš zaplatil 100 $\""
   ]
  },
  {
   "cell_type": "code",
   "execution_count": 214,
   "id": "a20ac2ec-a3b9-48fe-803d-a134abcc1b7d",
   "metadata": {
    "tags": []
   },
   "outputs": [],
   "source": [
    "# veta?"
   ]
  },
  {
   "cell_type": "markdown",
   "id": "009230ce-43c7-4d31-8bd8-20886451ffea",
   "metadata": {},
   "source": [
    "<br>\n",
    "\n",
    "Údaj, který vidíš výš je datový typ `str`."
   ]
  },
  {
   "cell_type": "code",
   "execution_count": 215,
   "id": "3a68564c-caf9-4f8b-a267-371bac571a26",
   "metadata": {
    "tags": []
   },
   "outputs": [],
   "source": [
    "prevedena_veta = veta.encode(\"utf-8\", errors=\"replace\")"
   ]
  },
  {
   "cell_type": "code",
   "execution_count": 216,
   "id": "fb4baed1-2ae3-485d-9c1f-bd5425f64da3",
   "metadata": {
    "tags": []
   },
   "outputs": [
    {
     "data": {
      "text/plain": [
       "b'Matou\\xc5\\xa1 zaplatil 100 $'"
      ]
     },
     "execution_count": 216,
     "metadata": {},
     "output_type": "execute_result"
    }
   ],
   "source": [
    "prevedena_veta"
   ]
  },
  {
   "cell_type": "code",
   "execution_count": 217,
   "id": "b4bacb1f-f081-4206-9a26-f826a2d9760c",
   "metadata": {
    "tags": []
   },
   "outputs": [],
   "source": [
    "# prevedena_veta?"
   ]
  },
  {
   "cell_type": "markdown",
   "id": "534a717a-6a29-4db6-ace1-fcd910775d2f",
   "metadata": {
    "tags": []
   },
   "source": [
    "<br>\n",
    "\n",
    "Dál je možné, převést `str` na `bytes`. Tedy sekvenci čísel.\n",
    "\n",
    "Jak ale teď tato sekvence vypadá:"
   ]
  },
  {
   "cell_type": "code",
   "execution_count": 218,
   "id": "36ed5cc1-da63-44f5-8def-569c877cf3fc",
   "metadata": {
    "tags": []
   },
   "outputs": [
    {
     "data": {
      "text/plain": [
       "b'Matou\\xc5\\xa1 zaplatil 100 $'"
      ]
     },
     "execution_count": 218,
     "metadata": {},
     "output_type": "execute_result"
    }
   ],
   "source": [
    "prevedena_veta"
   ]
  },
  {
   "cell_type": "markdown",
   "id": "c595b014-47b1-426c-aef6-7c40166e98cf",
   "metadata": {},
   "source": [
    "<br>\n",
    "\n",
    "Celou větu můžeš zpátky kódovat pomocí funkce `decode` z `bytes` na `str`:"
   ]
  },
  {
   "cell_type": "code",
   "execution_count": 219,
   "id": "2ce69930-4e6e-4eca-8462-992bb4c8a430",
   "metadata": {
    "tags": []
   },
   "outputs": [
    {
     "name": "stdout",
     "output_type": "stream",
     "text": [
      "Matouš zaplatil 100 $\n"
     ]
    }
   ],
   "source": [
    "print(prevedena_veta.decode(\"utf-8\"))"
   ]
  },
  {
   "cell_type": "markdown",
   "id": "a23ff730-8b9e-4372-9281-1474436e5eb7",
   "metadata": {},
   "source": [
    "<br>\n",
    "\n",
    "Pokud ale zvolíš jinou sadu, nemusíš dostat stejné hodnoty:"
   ]
  },
  {
   "cell_type": "code",
   "execution_count": 220,
   "id": "32c62bcd-e7bd-4c0d-9263-9b700bfc16f0",
   "metadata": {
    "tags": []
   },
   "outputs": [
    {
     "name": "stdout",
     "output_type": "stream",
     "text": [
      "MatouĹˇ zaplatil 100 $\n"
     ]
    }
   ],
   "source": [
    "print(prevedena_veta.decode(\"windows-1250\"))"
   ]
  },
  {
   "cell_type": "code",
   "execution_count": 221,
   "id": "660928bf-e7bd-41de-86d5-bf595b02833c",
   "metadata": {
    "tags": []
   },
   "outputs": [
    {
     "ename": "UnicodeDecodeError",
     "evalue": "'ascii' codec can't decode byte 0xc5 in position 5: ordinal not in range(128)",
     "output_type": "error",
     "traceback": [
      "\u001b[31m---------------------------------------------------------------------------\u001b[39m",
      "\u001b[31mUnicodeDecodeError\u001b[39m                        Traceback (most recent call last)",
      "\u001b[36mCell\u001b[39m\u001b[36m \u001b[39m\u001b[32mIn[221]\u001b[39m\u001b[32m, line 1\u001b[39m\n\u001b[32m----> \u001b[39m\u001b[32m1\u001b[39m \u001b[38;5;28mprint\u001b[39m(\u001b[43mprevedena_veta\u001b[49m\u001b[43m.\u001b[49m\u001b[43mdecode\u001b[49m\u001b[43m(\u001b[49m\u001b[33;43m\"\u001b[39;49m\u001b[33;43mascii\u001b[39;49m\u001b[33;43m\"\u001b[39;49m\u001b[43m)\u001b[49m)\n",
      "\u001b[31mUnicodeDecodeError\u001b[39m: 'ascii' codec can't decode byte 0xc5 in position 5: ordinal not in range(128)"
     ]
    }
   ],
   "source": [
    "print(prevedena_veta.decode(\"ascii\"))"
   ]
  },
  {
   "cell_type": "markdown",
   "id": "3fe543f7-bd8e-476a-b1c2-86435345ff05",
   "metadata": {},
   "source": [
    "<br>\n",
    "\n",
    "Toto a další neúspěšné postupy je samozřejmě špatně a ty se tomu chceš určitě vyhnout."
   ]
  },
  {
   "cell_type": "code",
   "execution_count": 224,
   "id": "6f347574-6342-4427-900c-923b50b5c6d8",
   "metadata": {
    "tags": []
   },
   "outputs": [
    {
     "ename": "UnicodeDecodeError",
     "evalue": "'utf-8' codec can't decode byte 0xe1 in position 65: invalid continuation byte",
     "output_type": "error",
     "traceback": [
      "\u001b[31m---------------------------------------------------------------------------\u001b[39m",
      "\u001b[31mUnicodeDecodeError\u001b[39m                        Traceback (most recent call last)",
      "\u001b[36mCell\u001b[39m\u001b[36m \u001b[39m\u001b[32mIn[224]\u001b[39m\u001b[32m, line 1\u001b[39m\n\u001b[32m----> \u001b[39m\u001b[32m1\u001b[39m chybna_sada = \u001b[43mpd\u001b[49m\u001b[43m.\u001b[49m\u001b[43mread_csv\u001b[49m\u001b[43m(\u001b[49m\u001b[33;43m\"\u001b[39;49m\u001b[33;43m../onsite/cviceni_3.csv\u001b[39;49m\u001b[33;43m\"\u001b[39;49m\u001b[43m)\u001b[49m\n",
      "\u001b[36mFile \u001b[39m\u001b[32m~/.pyenv/versions/3.12.5/lib/python3.12/site-packages/pandas/io/parsers/readers.py:1026\u001b[39m, in \u001b[36mread_csv\u001b[39m\u001b[34m(filepath_or_buffer, sep, delimiter, header, names, index_col, usecols, dtype, engine, converters, true_values, false_values, skipinitialspace, skiprows, skipfooter, nrows, na_values, keep_default_na, na_filter, verbose, skip_blank_lines, parse_dates, infer_datetime_format, keep_date_col, date_parser, date_format, dayfirst, cache_dates, iterator, chunksize, compression, thousands, decimal, lineterminator, quotechar, quoting, doublequote, escapechar, comment, encoding, encoding_errors, dialect, on_bad_lines, delim_whitespace, low_memory, memory_map, float_precision, storage_options, dtype_backend)\u001b[39m\n\u001b[32m   1013\u001b[39m kwds_defaults = _refine_defaults_read(\n\u001b[32m   1014\u001b[39m     dialect,\n\u001b[32m   1015\u001b[39m     delimiter,\n\u001b[32m   (...)\u001b[39m\u001b[32m   1022\u001b[39m     dtype_backend=dtype_backend,\n\u001b[32m   1023\u001b[39m )\n\u001b[32m   1024\u001b[39m kwds.update(kwds_defaults)\n\u001b[32m-> \u001b[39m\u001b[32m1026\u001b[39m \u001b[38;5;28;01mreturn\u001b[39;00m \u001b[43m_read\u001b[49m\u001b[43m(\u001b[49m\u001b[43mfilepath_or_buffer\u001b[49m\u001b[43m,\u001b[49m\u001b[43m \u001b[49m\u001b[43mkwds\u001b[49m\u001b[43m)\u001b[49m\n",
      "\u001b[36mFile \u001b[39m\u001b[32m~/.pyenv/versions/3.12.5/lib/python3.12/site-packages/pandas/io/parsers/readers.py:620\u001b[39m, in \u001b[36m_read\u001b[39m\u001b[34m(filepath_or_buffer, kwds)\u001b[39m\n\u001b[32m    617\u001b[39m _validate_names(kwds.get(\u001b[33m\"\u001b[39m\u001b[33mnames\u001b[39m\u001b[33m\"\u001b[39m, \u001b[38;5;28;01mNone\u001b[39;00m))\n\u001b[32m    619\u001b[39m \u001b[38;5;66;03m# Create the parser.\u001b[39;00m\n\u001b[32m--> \u001b[39m\u001b[32m620\u001b[39m parser = \u001b[43mTextFileReader\u001b[49m\u001b[43m(\u001b[49m\u001b[43mfilepath_or_buffer\u001b[49m\u001b[43m,\u001b[49m\u001b[43m \u001b[49m\u001b[43m*\u001b[49m\u001b[43m*\u001b[49m\u001b[43mkwds\u001b[49m\u001b[43m)\u001b[49m\n\u001b[32m    622\u001b[39m \u001b[38;5;28;01mif\u001b[39;00m chunksize \u001b[38;5;129;01mor\u001b[39;00m iterator:\n\u001b[32m    623\u001b[39m     \u001b[38;5;28;01mreturn\u001b[39;00m parser\n",
      "\u001b[36mFile \u001b[39m\u001b[32m~/.pyenv/versions/3.12.5/lib/python3.12/site-packages/pandas/io/parsers/readers.py:1620\u001b[39m, in \u001b[36mTextFileReader.__init__\u001b[39m\u001b[34m(self, f, engine, **kwds)\u001b[39m\n\u001b[32m   1617\u001b[39m     \u001b[38;5;28mself\u001b[39m.options[\u001b[33m\"\u001b[39m\u001b[33mhas_index_names\u001b[39m\u001b[33m\"\u001b[39m] = kwds[\u001b[33m\"\u001b[39m\u001b[33mhas_index_names\u001b[39m\u001b[33m\"\u001b[39m]\n\u001b[32m   1619\u001b[39m \u001b[38;5;28mself\u001b[39m.handles: IOHandles | \u001b[38;5;28;01mNone\u001b[39;00m = \u001b[38;5;28;01mNone\u001b[39;00m\n\u001b[32m-> \u001b[39m\u001b[32m1620\u001b[39m \u001b[38;5;28mself\u001b[39m._engine = \u001b[38;5;28;43mself\u001b[39;49m\u001b[43m.\u001b[49m\u001b[43m_make_engine\u001b[49m\u001b[43m(\u001b[49m\u001b[43mf\u001b[49m\u001b[43m,\u001b[49m\u001b[43m \u001b[49m\u001b[38;5;28;43mself\u001b[39;49m\u001b[43m.\u001b[49m\u001b[43mengine\u001b[49m\u001b[43m)\u001b[49m\n",
      "\u001b[36mFile \u001b[39m\u001b[32m~/.pyenv/versions/3.12.5/lib/python3.12/site-packages/pandas/io/parsers/readers.py:1898\u001b[39m, in \u001b[36mTextFileReader._make_engine\u001b[39m\u001b[34m(self, f, engine)\u001b[39m\n\u001b[32m   1895\u001b[39m     \u001b[38;5;28;01mraise\u001b[39;00m \u001b[38;5;167;01mValueError\u001b[39;00m(msg)\n\u001b[32m   1897\u001b[39m \u001b[38;5;28;01mtry\u001b[39;00m:\n\u001b[32m-> \u001b[39m\u001b[32m1898\u001b[39m     \u001b[38;5;28;01mreturn\u001b[39;00m \u001b[43mmapping\u001b[49m\u001b[43m[\u001b[49m\u001b[43mengine\u001b[49m\u001b[43m]\u001b[49m\u001b[43m(\u001b[49m\u001b[43mf\u001b[49m\u001b[43m,\u001b[49m\u001b[43m \u001b[49m\u001b[43m*\u001b[49m\u001b[43m*\u001b[49m\u001b[38;5;28;43mself\u001b[39;49m\u001b[43m.\u001b[49m\u001b[43moptions\u001b[49m\u001b[43m)\u001b[49m\n\u001b[32m   1899\u001b[39m \u001b[38;5;28;01mexcept\u001b[39;00m \u001b[38;5;167;01mException\u001b[39;00m:\n\u001b[32m   1900\u001b[39m     \u001b[38;5;28;01mif\u001b[39;00m \u001b[38;5;28mself\u001b[39m.handles \u001b[38;5;129;01mis\u001b[39;00m \u001b[38;5;129;01mnot\u001b[39;00m \u001b[38;5;28;01mNone\u001b[39;00m:\n",
      "\u001b[36mFile \u001b[39m\u001b[32m~/.pyenv/versions/3.12.5/lib/python3.12/site-packages/pandas/io/parsers/c_parser_wrapper.py:93\u001b[39m, in \u001b[36mCParserWrapper.__init__\u001b[39m\u001b[34m(self, src, **kwds)\u001b[39m\n\u001b[32m     90\u001b[39m \u001b[38;5;28;01mif\u001b[39;00m kwds[\u001b[33m\"\u001b[39m\u001b[33mdtype_backend\u001b[39m\u001b[33m\"\u001b[39m] == \u001b[33m\"\u001b[39m\u001b[33mpyarrow\u001b[39m\u001b[33m\"\u001b[39m:\n\u001b[32m     91\u001b[39m     \u001b[38;5;66;03m# Fail here loudly instead of in cython after reading\u001b[39;00m\n\u001b[32m     92\u001b[39m     import_optional_dependency(\u001b[33m\"\u001b[39m\u001b[33mpyarrow\u001b[39m\u001b[33m\"\u001b[39m)\n\u001b[32m---> \u001b[39m\u001b[32m93\u001b[39m \u001b[38;5;28mself\u001b[39m._reader = \u001b[43mparsers\u001b[49m\u001b[43m.\u001b[49m\u001b[43mTextReader\u001b[49m\u001b[43m(\u001b[49m\u001b[43msrc\u001b[49m\u001b[43m,\u001b[49m\u001b[43m \u001b[49m\u001b[43m*\u001b[49m\u001b[43m*\u001b[49m\u001b[43mkwds\u001b[49m\u001b[43m)\u001b[49m\n\u001b[32m     95\u001b[39m \u001b[38;5;28mself\u001b[39m.unnamed_cols = \u001b[38;5;28mself\u001b[39m._reader.unnamed_cols\n\u001b[32m     97\u001b[39m \u001b[38;5;66;03m# error: Cannot determine type of 'names'\u001b[39;00m\n",
      "\u001b[36mFile \u001b[39m\u001b[32mparsers.pyx:574\u001b[39m, in \u001b[36mpandas._libs.parsers.TextReader.__cinit__\u001b[39m\u001b[34m()\u001b[39m\n",
      "\u001b[36mFile \u001b[39m\u001b[32mparsers.pyx:663\u001b[39m, in \u001b[36mpandas._libs.parsers.TextReader._get_header\u001b[39m\u001b[34m()\u001b[39m\n",
      "\u001b[36mFile \u001b[39m\u001b[32mparsers.pyx:874\u001b[39m, in \u001b[36mpandas._libs.parsers.TextReader._tokenize_rows\u001b[39m\u001b[34m()\u001b[39m\n",
      "\u001b[36mFile \u001b[39m\u001b[32mparsers.pyx:891\u001b[39m, in \u001b[36mpandas._libs.parsers.TextReader._check_tokenize_status\u001b[39m\u001b[34m()\u001b[39m\n",
      "\u001b[36mFile \u001b[39m\u001b[32mparsers.pyx:2053\u001b[39m, in \u001b[36mpandas._libs.parsers.raise_parser_error\u001b[39m\u001b[34m()\u001b[39m\n",
      "\u001b[36mFile \u001b[39m\u001b[32m<frozen codecs>:322\u001b[39m, in \u001b[36mdecode\u001b[39m\u001b[34m(self, input, final)\u001b[39m\n",
      "\u001b[31mUnicodeDecodeError\u001b[39m: 'utf-8' codec can't decode byte 0xe1 in position 65: invalid continuation byte"
     ]
    }
   ],
   "source": [
    "chybna_sada = pd.read_csv(\"../onsite/cviceni_3.csv\")"
   ]
  },
  {
   "cell_type": "markdown",
   "id": "c839c4f4-e84d-4596-ae74-2ee680cc0ee2",
   "metadata": {},
   "source": [
    "<br>\n",
    "\n",
    "Ne vždy je možné, defaultně pracovat se znakovou sadou **UTF-8**.\n",
    "\n",
    "Ve výstupu je vidět, že jde o směs několika sad a ty musíš vyzkoušet, jaká bude fungovat."
   ]
  },
  {
   "cell_type": "markdown",
   "id": "caf7b16e-79bf-40f7-aa01-4383a34440bd",
   "metadata": {},
   "source": [
    "<br>\n",
    "\n",
    "Pomocí knihovny `sys` zkontroluješ, jakou znakovou sadu interně používáš:"
   ]
  },
  {
   "cell_type": "code",
   "execution_count": 225,
   "id": "d8a6b2d2-7d62-4dd1-98eb-6905b8070b79",
   "metadata": {
    "tags": []
   },
   "outputs": [],
   "source": [
    "import sys"
   ]
  },
  {
   "cell_type": "code",
   "execution_count": 226,
   "id": "2a843d23-12c3-4ca3-b7fd-d2f0de7bb064",
   "metadata": {
    "tags": []
   },
   "outputs": [
    {
     "data": {
      "text/plain": [
       "'utf-8'"
      ]
     },
     "execution_count": 226,
     "metadata": {},
     "output_type": "execute_result"
    }
   ],
   "source": [
    "sys.getdefaultencoding()"
   ]
  },
  {
   "cell_type": "markdown",
   "id": "4a49e465-9237-4f18-98ad-aa7d26b3588b",
   "metadata": {},
   "source": [
    "<br>\n",
    "\n",
    "Ještě potřebuješ nástroj, který umí ověřit znakovou lokálního souboru:"
   ]
  },
  {
   "cell_type": "code",
   "execution_count": 228,
   "id": "dd4fc6c7-1e1f-48b2-87cd-861d07f47b56",
   "metadata": {
    "tags": []
   },
   "outputs": [],
   "source": [
    "# !pip install chardet"
   ]
  },
  {
   "cell_type": "code",
   "execution_count": 229,
   "id": "4cabca50-b529-4a91-8383-7659e0920b02",
   "metadata": {
    "tags": []
   },
   "outputs": [],
   "source": [
    "from chardet.universaldetector import UniversalDetector"
   ]
  },
  {
   "cell_type": "code",
   "execution_count": 230,
   "id": "2aefe731-3ad4-46fb-a3a2-d957a3394752",
   "metadata": {
    "tags": []
   },
   "outputs": [],
   "source": [
    "detector = UniversalDetector()"
   ]
  },
  {
   "cell_type": "markdown",
   "id": "f528d5b4-b010-4628-90e1-cc92df731b13",
   "metadata": {},
   "source": [
    "<br>\n",
    "\n",
    "Pomocí stringu knihovně předám lokální soubor, který je řádek po řádku kontrolován:"
   ]
  },
  {
   "cell_type": "code",
   "execution_count": 231,
   "id": "aed18a4e-516f-4e46-930d-e1d195732fe3",
   "metadata": {
    "tags": []
   },
   "outputs": [
    {
     "name": "stdout",
     "output_type": "stream",
     "text": [
      "{'encoding': 'Windows-1252', 'confidence': 0.6943073341094295, 'language': ''}\n"
     ]
    }
   ],
   "source": [
    "for line in open(\"../onsite/cviceni_3.csv\", 'rb'):\n",
    "    detector.feed(line)\n",
    "    if detector.done:\n",
    "        break\n",
    "\n",
    "detector.close()\n",
    "print(detector.result)"
   ]
  },
  {
   "cell_type": "markdown",
   "id": "8cac610b-39f2-4fde-8669-9d4ac4d8d3d1",
   "metadata": {},
   "source": [
    "<br>\n",
    "\n",
    "Pomocí knihovny `chardet` / `charset_normalizer` identifikuješ, o jaké znakové sady jde:"
   ]
  },
  {
   "cell_type": "markdown",
   "id": "fbe15a45-df94-4360-8d73-0cc602bb7961",
   "metadata": {},
   "source": [
    "Nyní máš lepší představu o tom, jakou znakovou sadu soubor používá.\n",
    "\n",
    "Opatrně na délku `str`, který detekuješ.\n",
    "\n",
    "Pokud je příliš krátký, může to ovlivnit výsledek.\n",
    "\n",
    "Naopak pokud je příliš dlouhý, může trvat jeho načtení."
   ]
  },
  {
   "cell_type": "code",
   "execution_count": 232,
   "id": "1f5b2f04-7b11-4db9-9337-dc6fab94056c",
   "metadata": {
    "tags": []
   },
   "outputs": [],
   "source": [
    "spravna_sada = pd.read_csv(\"../onsite/cviceni_3.csv\", encoding=\"Windows-1252\")"
   ]
  },
  {
   "cell_type": "code",
   "execution_count": 233,
   "id": "4fcf7642-fff0-42be-8ffe-110a59471798",
   "metadata": {
    "tags": []
   },
   "outputs": [
    {
     "data": {
      "text/html": [
       "<div>\n",
       "<style scoped>\n",
       "    .dataframe tbody tr th:only-of-type {\n",
       "        vertical-align: middle;\n",
       "    }\n",
       "\n",
       "    .dataframe tbody tr th {\n",
       "        vertical-align: top;\n",
       "    }\n",
       "\n",
       "    .dataframe thead th {\n",
       "        text-align: right;\n",
       "    }\n",
       "</style>\n",
       "<table border=\"1\" class=\"dataframe\">\n",
       "  <thead>\n",
       "    <tr style=\"text-align: right;\">\n",
       "      <th></th>\n",
       "      <th>id;jmeno;prijmeni;vek;mesto;uzivatel;narozeni</th>\n",
       "    </tr>\n",
       "  </thead>\n",
       "  <tbody>\n",
       "    <tr>\n",
       "      <th>0</th>\n",
       "      <td>1345;Jitka;Prokopová;46;praha;N;4/8/2021</td>\n",
       "    </tr>\n",
       "    <tr>\n",
       "      <th>1</th>\n",
       "      <td>1346;Jan;Hornych;18;Praha;N;21/4/1995</td>\n",
       "    </tr>\n",
       "    <tr>\n",
       "      <th>2</th>\n",
       "      <td>1347;Lumír;Navrátil;46;Olomouc;N;4/5/1987</td>\n",
       "    </tr>\n",
       "    <tr>\n",
       "      <th>3</th>\n",
       "      <td>1348;Pavel;Koutný;35;praha;Y;16/2/1995</td>\n",
       "    </tr>\n",
       "    <tr>\n",
       "      <th>4</th>\n",
       "      <td>1349;Ivan;Èížek;35;Liberec;N;5/5/2008</td>\n",
       "    </tr>\n",
       "  </tbody>\n",
       "</table>\n",
       "</div>"
      ],
      "text/plain": [
       "  id;jmeno;prijmeni;vek;mesto;uzivatel;narozeni\n",
       "0      1345;Jitka;Prokopová;46;praha;N;4/8/2021\n",
       "1         1346;Jan;Hornych;18;Praha;N;21/4/1995\n",
       "2     1347;Lumír;Navrátil;46;Olomouc;N;4/5/1987\n",
       "3        1348;Pavel;Koutný;35;praha;Y;16/2/1995\n",
       "4         1349;Ivan;Èížek;35;Liberec;N;5/5/2008"
      ]
     },
     "execution_count": 233,
     "metadata": {},
     "output_type": "execute_result"
    }
   ],
   "source": [
    "spravna_sada.head()"
   ]
  },
  {
   "cell_type": "code",
   "execution_count": 234,
   "id": "e4acfd19-d9da-442c-8f44-a8977067747b",
   "metadata": {},
   "outputs": [],
   "source": [
    "spravna_sada = pd.read_csv(\"../onsite/cviceni_3.csv\", encoding=\"Windows-1252\", sep=';')"
   ]
  },
  {
   "cell_type": "code",
   "execution_count": 235,
   "id": "97d1bafb-9767-4fda-81bf-7e6b9d3f1e18",
   "metadata": {},
   "outputs": [
    {
     "data": {
      "text/html": [
       "<div>\n",
       "<style scoped>\n",
       "    .dataframe tbody tr th:only-of-type {\n",
       "        vertical-align: middle;\n",
       "    }\n",
       "\n",
       "    .dataframe tbody tr th {\n",
       "        vertical-align: top;\n",
       "    }\n",
       "\n",
       "    .dataframe thead th {\n",
       "        text-align: right;\n",
       "    }\n",
       "</style>\n",
       "<table border=\"1\" class=\"dataframe\">\n",
       "  <thead>\n",
       "    <tr style=\"text-align: right;\">\n",
       "      <th></th>\n",
       "      <th>id</th>\n",
       "      <th>jmeno</th>\n",
       "      <th>prijmeni</th>\n",
       "      <th>vek</th>\n",
       "      <th>mesto</th>\n",
       "      <th>uzivatel</th>\n",
       "      <th>narozeni</th>\n",
       "    </tr>\n",
       "  </thead>\n",
       "  <tbody>\n",
       "    <tr>\n",
       "      <th>0</th>\n",
       "      <td>1345</td>\n",
       "      <td>Jitka</td>\n",
       "      <td>Prokopová</td>\n",
       "      <td>46</td>\n",
       "      <td>praha</td>\n",
       "      <td>N</td>\n",
       "      <td>4/8/2021</td>\n",
       "    </tr>\n",
       "    <tr>\n",
       "      <th>1</th>\n",
       "      <td>1346</td>\n",
       "      <td>Jan</td>\n",
       "      <td>Hornych</td>\n",
       "      <td>18</td>\n",
       "      <td>Praha</td>\n",
       "      <td>N</td>\n",
       "      <td>21/4/1995</td>\n",
       "    </tr>\n",
       "    <tr>\n",
       "      <th>2</th>\n",
       "      <td>1347</td>\n",
       "      <td>Lumír</td>\n",
       "      <td>Navrátil</td>\n",
       "      <td>46</td>\n",
       "      <td>Olomouc</td>\n",
       "      <td>N</td>\n",
       "      <td>4/5/1987</td>\n",
       "    </tr>\n",
       "    <tr>\n",
       "      <th>3</th>\n",
       "      <td>1348</td>\n",
       "      <td>Pavel</td>\n",
       "      <td>Koutný</td>\n",
       "      <td>35</td>\n",
       "      <td>praha</td>\n",
       "      <td>Y</td>\n",
       "      <td>16/2/1995</td>\n",
       "    </tr>\n",
       "    <tr>\n",
       "      <th>4</th>\n",
       "      <td>1349</td>\n",
       "      <td>Ivan</td>\n",
       "      <td>Èížek</td>\n",
       "      <td>35</td>\n",
       "      <td>Liberec</td>\n",
       "      <td>N</td>\n",
       "      <td>5/5/2008</td>\n",
       "    </tr>\n",
       "  </tbody>\n",
       "</table>\n",
       "</div>"
      ],
      "text/plain": [
       "     id  jmeno   prijmeni  vek    mesto uzivatel   narozeni\n",
       "0  1345  Jitka  Prokopová   46    praha        N   4/8/2021\n",
       "1  1346    Jan    Hornych   18    Praha        N  21/4/1995\n",
       "2  1347  Lumír   Navrátil   46  Olomouc        N   4/5/1987\n",
       "3  1348  Pavel     Koutný   35    praha        Y  16/2/1995\n",
       "4  1349   Ivan      Èížek   35  Liberec        N   5/5/2008"
      ]
     },
     "execution_count": 235,
     "metadata": {},
     "output_type": "execute_result"
    }
   ],
   "source": [
    "spravna_sada.head()"
   ]
  },
  {
   "cell_type": "code",
   "execution_count": 62,
   "id": "55cc2bbb-6128-474b-acc4-3b33b4674419",
   "metadata": {
    "tags": []
   },
   "outputs": [
    {
     "name": "stdout",
     "output_type": "stream",
     "text": [
      "<class 'pandas.core.frame.DataFrame'>\n",
      "RangeIndex: 100 entries, 0 to 99\n",
      "Data columns (total 7 columns):\n",
      " #   Column    Non-Null Count  Dtype \n",
      "---  ------    --------------  ----- \n",
      " 0   id        100 non-null    int64 \n",
      " 1   jmeno     100 non-null    object\n",
      " 2   prijmeni  100 non-null    object\n",
      " 3   vek       100 non-null    int64 \n",
      " 4   mesto     100 non-null    object\n",
      " 5   uzivatel  100 non-null    object\n",
      " 6   narozeni  100 non-null    object\n",
      "dtypes: int64(2), object(5)\n",
      "memory usage: 5.6+ KB\n"
     ]
    }
   ],
   "source": [
    "spravna_sada.info()"
   ]
  },
  {
   "cell_type": "markdown",
   "id": "12ac864a-0514-4468-91bb-5ede17f1942f",
   "metadata": {},
   "source": [
    "<br>\n",
    "\n",
    "Tentokrát soubor otevřeš pouze s varováním.\n",
    "\n",
    "Pro příště je určitě výhodou vytvořit kopii takového souboru, kterou uložíš v ideálním kódování:"
   ]
  },
  {
   "cell_type": "code",
   "execution_count": 236,
   "id": "323b1129-d4e1-4dca-9e57-46ed8c964465",
   "metadata": {
    "tags": []
   },
   "outputs": [],
   "source": [
    "spravna_sada.to_csv(\"../onsite/cviceni_3_sada_utf8.csv\", encoding=\"utf-8\")"
   ]
  },
  {
   "cell_type": "markdown",
   "id": "5e72c771-4f24-4eb1-843c-257c582f73c7",
   "metadata": {},
   "source": [
    "<img src=\"https://imgs.search.brave.com/EXc5_PuzQ1oh9QtKkq86VbHLTjcQKbX7sH3-di9Lrxc/rs:fit:500:0:0:0/g:ce/aHR0cHM6Ly9jZG4y/Lmljb25maW5kZXIu/Y29tL2RhdGEvaWNv/bnMvdGhpbmdzLTEz/LzgwL21hdGNoaW5n/LWNvbXBhcmUtbWF0/Y2hpbmctY29sbGF0/ZS02NC5wbmc\" width=\"160\" style=\"margin-left:auto; margin-right:auto\"/>\n",
    "\n"
   ]
  },
  {
   "cell_type": "markdown",
   "id": "fa4c9f93-7d08-45e8-b1c4-22e478998342",
   "metadata": {
    "tags": []
   },
   "source": [
    "<br>\n",
    "\n",
    "### Nekonzistentní data\n",
    "\n",
    "---"
   ]
  },
  {
   "cell_type": "markdown",
   "id": "6542fd12-2b4f-4d4a-86ff-33fb4596bb38",
   "metadata": {},
   "source": [
    "Pokud ti data nechybí, ještě neznamená, že musí být nutně v pořádku:"
   ]
  },
  {
   "cell_type": "code",
   "execution_count": 237,
   "id": "86caa08e-086e-4317-9307-a0baa37ad45d",
   "metadata": {
    "tags": []
   },
   "outputs": [],
   "source": [
    "chybny_dataset = {\n",
    "    \"id\": [111, 112, 113, 114, 115, 116, 117],\n",
    "    \"jmeno\": [\"Matous\", \"Marek\", \"Petr\", \"Filip\", \"Jan\", \"Lukas\", \"David\"],\n",
    "    \"vek\": [22, 29, 31, 55, 43, 61, 55],\n",
    "    \"zeme\": [\"Ceska republika\", \"Slovensko\", \"Nemecko\", \"Ceskarepublika\", \"Ceska Republika\", \"Rakousko\", \"Ceska Reapublika\"]\n",
    "}"
   ]
  },
  {
   "cell_type": "code",
   "execution_count": 238,
   "id": "2f82d0b1-88bf-49e8-a7c2-b28259f5b3f3",
   "metadata": {
    "tags": []
   },
   "outputs": [],
   "source": [
    "zamestnanci_df = pd.DataFrame(chybny_dataset)"
   ]
  },
  {
   "cell_type": "code",
   "execution_count": 239,
   "id": "3e2d3e1e-1226-4d77-a8e5-9970ca5b372d",
   "metadata": {
    "tags": []
   },
   "outputs": [
    {
     "data": {
      "text/html": [
       "<div>\n",
       "<style scoped>\n",
       "    .dataframe tbody tr th:only-of-type {\n",
       "        vertical-align: middle;\n",
       "    }\n",
       "\n",
       "    .dataframe tbody tr th {\n",
       "        vertical-align: top;\n",
       "    }\n",
       "\n",
       "    .dataframe thead th {\n",
       "        text-align: right;\n",
       "    }\n",
       "</style>\n",
       "<table border=\"1\" class=\"dataframe\">\n",
       "  <thead>\n",
       "    <tr style=\"text-align: right;\">\n",
       "      <th></th>\n",
       "      <th>id</th>\n",
       "      <th>jmeno</th>\n",
       "      <th>vek</th>\n",
       "      <th>zeme</th>\n",
       "    </tr>\n",
       "  </thead>\n",
       "  <tbody>\n",
       "    <tr>\n",
       "      <th>0</th>\n",
       "      <td>111</td>\n",
       "      <td>Matous</td>\n",
       "      <td>22</td>\n",
       "      <td>Ceska republika</td>\n",
       "    </tr>\n",
       "    <tr>\n",
       "      <th>1</th>\n",
       "      <td>112</td>\n",
       "      <td>Marek</td>\n",
       "      <td>29</td>\n",
       "      <td>Slovensko</td>\n",
       "    </tr>\n",
       "    <tr>\n",
       "      <th>2</th>\n",
       "      <td>113</td>\n",
       "      <td>Petr</td>\n",
       "      <td>31</td>\n",
       "      <td>Nemecko</td>\n",
       "    </tr>\n",
       "    <tr>\n",
       "      <th>3</th>\n",
       "      <td>114</td>\n",
       "      <td>Filip</td>\n",
       "      <td>55</td>\n",
       "      <td>Ceskarepublika</td>\n",
       "    </tr>\n",
       "    <tr>\n",
       "      <th>4</th>\n",
       "      <td>115</td>\n",
       "      <td>Jan</td>\n",
       "      <td>43</td>\n",
       "      <td>Ceska Republika</td>\n",
       "    </tr>\n",
       "    <tr>\n",
       "      <th>5</th>\n",
       "      <td>116</td>\n",
       "      <td>Lukas</td>\n",
       "      <td>61</td>\n",
       "      <td>Rakousko</td>\n",
       "    </tr>\n",
       "    <tr>\n",
       "      <th>6</th>\n",
       "      <td>117</td>\n",
       "      <td>David</td>\n",
       "      <td>55</td>\n",
       "      <td>Ceska Reapublika</td>\n",
       "    </tr>\n",
       "  </tbody>\n",
       "</table>\n",
       "</div>"
      ],
      "text/plain": [
       "    id   jmeno  vek              zeme\n",
       "0  111  Matous   22   Ceska republika\n",
       "1  112   Marek   29         Slovensko\n",
       "2  113    Petr   31           Nemecko\n",
       "3  114   Filip   55    Ceskarepublika\n",
       "4  115     Jan   43   Ceska Republika\n",
       "5  116   Lukas   61          Rakousko\n",
       "6  117   David   55  Ceska Reapublika"
      ]
     },
     "execution_count": 239,
     "metadata": {},
     "output_type": "execute_result"
    }
   ],
   "source": [
    "zamestnanci_df"
   ]
  },
  {
   "cell_type": "markdown",
   "id": "b5ee1ae7-7332-43e8-a1a2-06958dc68dfc",
   "metadata": {},
   "source": [
    "Různé zdroje, správci můžou způsobit nejednotný zápis a dopustit se *nekonzistence*."
   ]
  },
  {
   "cell_type": "code",
   "execution_count": 240,
   "id": "3b3f2046-93a0-4ee5-b324-6739d8556431",
   "metadata": {},
   "outputs": [
    {
     "data": {
      "text/plain": [
       "array(['Matous', 'Marek', 'Petr', 'Filip', 'Jan', 'Lukas', 'David'],\n",
       "      dtype=object)"
      ]
     },
     "execution_count": 240,
     "metadata": {},
     "output_type": "execute_result"
    }
   ],
   "source": [
    "zamestnanci_df[\"jmeno\"].unique()"
   ]
  },
  {
   "cell_type": "code",
   "execution_count": 241,
   "id": "f6868cbe-cc6d-4e1b-93f4-ffa4b0453b2d",
   "metadata": {
    "tags": []
   },
   "outputs": [
    {
     "data": {
      "text/plain": [
       "array(['Ceska republika', 'Slovensko', 'Nemecko', 'Ceskarepublika',\n",
       "       'Ceska Republika', 'Rakousko', 'Ceska Reapublika'], dtype=object)"
      ]
     },
     "execution_count": 241,
     "metadata": {},
     "output_type": "execute_result"
    }
   ],
   "source": [
    "zamestnanci_df[\"zeme\"].unique()"
   ]
  },
  {
   "cell_type": "markdown",
   "id": "9166d33d-7f61-4fd2-95d4-b52d6955342a",
   "metadata": {},
   "source": [
    "<br>\n",
    "\n",
    "To můžou být jak malá velká písmena, tak různé znaky, chybějící mezery apod.\n",
    "\n",
    "Odstranit je není náročné.\n",
    "\n",
    "Náročné může být opět rozpoznání, takové komplikace."
   ]
  },
  {
   "cell_type": "code",
   "execution_count": 242,
   "id": "69f93841-b899-4a7f-a939-2c2e18548058",
   "metadata": {
    "tags": []
   },
   "outputs": [
    {
     "data": {
      "text/plain": [
       "array(['ceska republika', 'slovensko', 'nemecko', 'ceskarepublika',\n",
       "       'rakousko', 'ceska reapublika'], dtype=object)"
      ]
     },
     "execution_count": 242,
     "metadata": {},
     "output_type": "execute_result"
    }
   ],
   "source": [
    "zamestnanci_df[\"zeme\"].str.lower().unique()"
   ]
  },
  {
   "cell_type": "markdown",
   "id": "583fd726-2e31-44dc-8c65-1ccd52aeb218",
   "metadata": {},
   "source": [
    "<br>\n",
    "\n",
    "Některé chyby, ale můžou způsobit paseku. Třeba chybějící mezery.\n",
    "\n",
    "Tady je nejlepší, pomoci si vhodným nástrojem `fuzzywuzzy`."
   ]
  },
  {
   "cell_type": "code",
   "execution_count": 244,
   "id": "dcdef953-fb71-44c9-aa66-cf42da2e84d9",
   "metadata": {
    "tags": []
   },
   "outputs": [
    {
     "name": "stdout",
     "output_type": "stream",
     "text": [
      "Collecting fuzzywuzzy\n",
      "  Downloading fuzzywuzzy-0.18.0-py2.py3-none-any.whl.metadata (4.9 kB)\n",
      "Downloading fuzzywuzzy-0.18.0-py2.py3-none-any.whl (18 kB)\n",
      "Installing collected packages: fuzzywuzzy\n",
      "Successfully installed fuzzywuzzy-0.18.0\n",
      "\n",
      "\u001b[1m[\u001b[0m\u001b[34;49mnotice\u001b[0m\u001b[1;39;49m]\u001b[0m\u001b[39;49m A new release of pip is available: \u001b[0m\u001b[31;49m24.2\u001b[0m\u001b[39;49m -> \u001b[0m\u001b[32;49m25.0.1\u001b[0m\n",
      "\u001b[1m[\u001b[0m\u001b[34;49mnotice\u001b[0m\u001b[1;39;49m]\u001b[0m\u001b[39;49m To update, run: \u001b[0m\u001b[32;49mpip install --upgrade pip\u001b[0m\n"
     ]
    }
   ],
   "source": [
    "!pip install fuzzywuzzy"
   ]
  },
  {
   "cell_type": "code",
   "execution_count": 245,
   "id": "fe38c2f0-c672-4b31-9fda-c1144559e007",
   "metadata": {
    "tags": []
   },
   "outputs": [
    {
     "name": "stderr",
     "output_type": "stream",
     "text": [
      "/home/viegorova/.pyenv/versions/3.12.5/lib/python3.12/site-packages/fuzzywuzzy/fuzz.py:11: UserWarning: Using slow pure-python SequenceMatcher. Install python-Levenshtein to remove this warning\n",
      "  warnings.warn('Using slow pure-python SequenceMatcher. Install python-Levenshtein to remove this warning')\n"
     ]
    }
   ],
   "source": [
    "import fuzzywuzzy\n",
    "from fuzzywuzzy import process"
   ]
  },
  {
   "cell_type": "markdown",
   "id": "7df96790-5617-4161-b620-17dad29468b8",
   "metadata": {},
   "source": [
    "<br>\n",
    "\n",
    "Pro menší datasety s chybějícími mezerami aj., může tato knihovna pracovat prakticky sama.\n",
    "\n",
    "Účel této knihovny je rozpoznat podobné řetězce, jaké"
   ]
  },
  {
   "cell_type": "code",
   "execution_count": 246,
   "id": "616c0fb0-ebd3-451e-a838-eef1e83d5ea3",
   "metadata": {
    "tags": []
   },
   "outputs": [],
   "source": [
    "shodne = fuzzywuzzy.process.extract(\n",
    "    \"Ceska republika\",  # 'ceska repoblika'\n",
    "    zamestnanci_df[\"zeme\"],\n",
    "    limit=6,\n",
    "    scorer=fuzzywuzzy.fuzz.token_sort_ratio\n",
    ")"
   ]
  },
  {
   "cell_type": "markdown",
   "id": "6ec4d4b8-d0f5-4ec0-8eed-e2cbb882a24f",
   "metadata": {},
   "source": [
    "<br>\n",
    "\n",
    "Dostávám dvourozměrné pole, které obsahuje jednotlivé výstupy.\n",
    "\n",
    "Mezi výstupy řadíme:\n",
    "1. Porovnávaný string,\n",
    "2. pravděpodobnost, se kterou odpovídá zadanému stringu."
   ]
  },
  {
   "cell_type": "code",
   "execution_count": 247,
   "id": "793c0c29-de67-4ce5-8016-0d04f94c5ba5",
   "metadata": {},
   "outputs": [
    {
     "data": {
      "text/plain": [
       "[('Ceska republika', 100, 0),\n",
       " ('Ceska Republika', 100, 4),\n",
       " ('Ceskarepublika', 97, 3),\n",
       " ('Ceska Reapublika', 97, 6),\n",
       " ('Slovensko', 25, 1),\n",
       " ('Nemecko', 18, 2)]"
      ]
     },
     "execution_count": 247,
     "metadata": {},
     "output_type": "execute_result"
    }
   ],
   "source": [
    "shodne"
   ]
  },
  {
   "cell_type": "code",
   "execution_count": 248,
   "id": "88c5377d-4001-4da9-abc0-bc8276b181b1",
   "metadata": {
    "tags": []
   },
   "outputs": [
    {
     "data": {
      "text/plain": [
       "array(['Ceska republika', 'Slovensko', 'Nemecko', 'Ceskarepublika',\n",
       "       'Ceska Republika', 'Rakousko', 'Ceska Reapublika'], dtype=object)"
      ]
     },
     "execution_count": 248,
     "metadata": {},
     "output_type": "execute_result"
    }
   ],
   "source": [
    "zamestnanci_df[\"zeme\"].unique()"
   ]
  },
  {
   "cell_type": "markdown",
   "id": "787338f0-fc8d-4983-b008-87777e469c62",
   "metadata": {},
   "source": [
    "Nyní můžeš vidět shodné `str` se zvoleným zadáním, jak to vidí `fuzzywuzzy`.\n",
    "\n",
    "Pro nahrazení je optimální nachystat vhodnou uživatelskou funkci:"
   ]
  },
  {
   "cell_type": "code",
   "execution_count": 249,
   "id": "1908968d-e15a-44d1-a43b-8996121e6848",
   "metadata": {
    "tags": []
   },
   "outputs": [],
   "source": [
    "nejblizsi_shoda = [shoda[0] for shoda in shodne if shoda[1] >= 90]"
   ]
  },
  {
   "cell_type": "markdown",
   "id": "fb2b9c0f-3cf0-46c2-8847-92e66165eaed",
   "metadata": {},
   "source": [
    "<br>\n",
    "\n",
    "Izoluji jen ty shody, které se z zádáním shodují více než na 90%:"
   ]
  },
  {
   "cell_type": "code",
   "execution_count": 250,
   "id": "28879277-b426-4c75-86fc-9a29a54652ca",
   "metadata": {
    "tags": []
   },
   "outputs": [
    {
     "data": {
      "text/plain": [
       "['Ceska republika', 'Ceska Republika', 'Ceskarepublika', 'Ceska Reapublika']"
      ]
     },
     "execution_count": 250,
     "metadata": {},
     "output_type": "execute_result"
    }
   ],
   "source": [
    "nejblizsi_shoda"
   ]
  },
  {
   "cell_type": "code",
   "execution_count": 251,
   "id": "b1c8fbff-74c7-42e0-86e2-61f076129b11",
   "metadata": {
    "tags": []
   },
   "outputs": [],
   "source": [
    "shodujici_udaje = zamestnanci_df[\"zeme\"].isin(nejblizsi_shoda)  # ~membership testing"
   ]
  },
  {
   "cell_type": "code",
   "execution_count": 252,
   "id": "ce0f02da-f59f-49d0-9abb-02f7f75aaaeb",
   "metadata": {
    "tags": []
   },
   "outputs": [
    {
     "data": {
      "text/plain": [
       "0     True\n",
       "1    False\n",
       "2    False\n",
       "3     True\n",
       "4     True\n",
       "5    False\n",
       "6     True\n",
       "Name: zeme, dtype: bool"
      ]
     },
     "execution_count": 252,
     "metadata": {},
     "output_type": "execute_result"
    }
   ],
   "source": [
    "shodujici_udaje"
   ]
  },
  {
   "cell_type": "code",
   "execution_count": 253,
   "id": "b66af175-69b4-40c4-a628-4b7ed14556d1",
   "metadata": {
    "tags": []
   },
   "outputs": [
    {
     "data": {
      "text/html": [
       "<div>\n",
       "<style scoped>\n",
       "    .dataframe tbody tr th:only-of-type {\n",
       "        vertical-align: middle;\n",
       "    }\n",
       "\n",
       "    .dataframe tbody tr th {\n",
       "        vertical-align: top;\n",
       "    }\n",
       "\n",
       "    .dataframe thead th {\n",
       "        text-align: right;\n",
       "    }\n",
       "</style>\n",
       "<table border=\"1\" class=\"dataframe\">\n",
       "  <thead>\n",
       "    <tr style=\"text-align: right;\">\n",
       "      <th></th>\n",
       "      <th>id</th>\n",
       "      <th>jmeno</th>\n",
       "      <th>vek</th>\n",
       "      <th>zeme</th>\n",
       "    </tr>\n",
       "  </thead>\n",
       "  <tbody>\n",
       "    <tr>\n",
       "      <th>0</th>\n",
       "      <td>111</td>\n",
       "      <td>Matous</td>\n",
       "      <td>22</td>\n",
       "      <td>Ceska republika</td>\n",
       "    </tr>\n",
       "    <tr>\n",
       "      <th>1</th>\n",
       "      <td>112</td>\n",
       "      <td>Marek</td>\n",
       "      <td>29</td>\n",
       "      <td>Slovensko</td>\n",
       "    </tr>\n",
       "    <tr>\n",
       "      <th>2</th>\n",
       "      <td>113</td>\n",
       "      <td>Petr</td>\n",
       "      <td>31</td>\n",
       "      <td>Nemecko</td>\n",
       "    </tr>\n",
       "    <tr>\n",
       "      <th>3</th>\n",
       "      <td>114</td>\n",
       "      <td>Filip</td>\n",
       "      <td>55</td>\n",
       "      <td>Ceskarepublika</td>\n",
       "    </tr>\n",
       "    <tr>\n",
       "      <th>4</th>\n",
       "      <td>115</td>\n",
       "      <td>Jan</td>\n",
       "      <td>43</td>\n",
       "      <td>Ceska Republika</td>\n",
       "    </tr>\n",
       "    <tr>\n",
       "      <th>5</th>\n",
       "      <td>116</td>\n",
       "      <td>Lukas</td>\n",
       "      <td>61</td>\n",
       "      <td>Rakousko</td>\n",
       "    </tr>\n",
       "    <tr>\n",
       "      <th>6</th>\n",
       "      <td>117</td>\n",
       "      <td>David</td>\n",
       "      <td>55</td>\n",
       "      <td>Ceska Reapublika</td>\n",
       "    </tr>\n",
       "  </tbody>\n",
       "</table>\n",
       "</div>"
      ],
      "text/plain": [
       "    id   jmeno  vek              zeme\n",
       "0  111  Matous   22   Ceska republika\n",
       "1  112   Marek   29         Slovensko\n",
       "2  113    Petr   31           Nemecko\n",
       "3  114   Filip   55    Ceskarepublika\n",
       "4  115     Jan   43   Ceska Republika\n",
       "5  116   Lukas   61          Rakousko\n",
       "6  117   David   55  Ceska Reapublika"
      ]
     },
     "execution_count": 253,
     "metadata": {},
     "output_type": "execute_result"
    }
   ],
   "source": [
    "zamestnanci_df"
   ]
  },
  {
   "cell_type": "code",
   "execution_count": 254,
   "id": "aca600a2-dcab-409f-b262-a0c26acb96b6",
   "metadata": {},
   "outputs": [
    {
     "data": {
      "text/plain": [
       "id             112\n",
       "jmeno        Marek\n",
       "vek             29\n",
       "zeme     Slovensko\n",
       "Name: 1, dtype: object"
      ]
     },
     "execution_count": 254,
     "metadata": {},
     "output_type": "execute_result"
    }
   ],
   "source": [
    "zamestnanci_df.loc[1]  # Index"
   ]
  },
  {
   "cell_type": "code",
   "execution_count": 255,
   "id": "79636c77-e3ab-4788-b838-f461a815cc53",
   "metadata": {},
   "outputs": [
    {
     "data": {
      "text/plain": [
       "'Slovensko'"
      ]
     },
     "execution_count": 255,
     "metadata": {},
     "output_type": "execute_result"
    }
   ],
   "source": [
    "zamestnanci_df.loc[1, 'zeme']"
   ]
  },
  {
   "cell_type": "code",
   "execution_count": 256,
   "id": "657f87f9-7810-4166-ab9d-5947c3b180d3",
   "metadata": {},
   "outputs": [
    {
     "data": {
      "text/plain": [
       "0     Ceska republika\n",
       "3      Ceskarepublika\n",
       "4     Ceska Republika\n",
       "6    Ceska Reapublika\n",
       "Name: zeme, dtype: object"
      ]
     },
     "execution_count": 256,
     "metadata": {},
     "output_type": "execute_result"
    }
   ],
   "source": [
    "zamestnanci_df.loc[[0, 3, 4, 6], \"zeme\"]"
   ]
  },
  {
   "cell_type": "code",
   "execution_count": 257,
   "id": "ddecbf09-2284-491d-b7c5-e24830cca39d",
   "metadata": {},
   "outputs": [
    {
     "data": {
      "text/plain": [
       "0     Ceska republika\n",
       "3      Ceskarepublika\n",
       "4     Ceska Republika\n",
       "6    Ceska Reapublika\n",
       "Name: zeme, dtype: object"
      ]
     },
     "execution_count": 257,
     "metadata": {},
     "output_type": "execute_result"
    }
   ],
   "source": [
    "zamestnanci_df.loc[shodujici_udaje, \"zeme\"]"
   ]
  },
  {
   "cell_type": "code",
   "execution_count": 258,
   "id": "e74bcdb9-c7cf-48c9-ae15-996767744a78",
   "metadata": {
    "tags": []
   },
   "outputs": [],
   "source": [
    "zamestnanci_df.loc[shodujici_udaje, \"zeme\"] = \"Ceska republika\""
   ]
  },
  {
   "cell_type": "code",
   "execution_count": 259,
   "id": "ca9816c3-12bc-4163-88a8-ce4cc5d1e159",
   "metadata": {
    "tags": []
   },
   "outputs": [
    {
     "data": {
      "text/html": [
       "<div>\n",
       "<style scoped>\n",
       "    .dataframe tbody tr th:only-of-type {\n",
       "        vertical-align: middle;\n",
       "    }\n",
       "\n",
       "    .dataframe tbody tr th {\n",
       "        vertical-align: top;\n",
       "    }\n",
       "\n",
       "    .dataframe thead th {\n",
       "        text-align: right;\n",
       "    }\n",
       "</style>\n",
       "<table border=\"1\" class=\"dataframe\">\n",
       "  <thead>\n",
       "    <tr style=\"text-align: right;\">\n",
       "      <th></th>\n",
       "      <th>id</th>\n",
       "      <th>jmeno</th>\n",
       "      <th>vek</th>\n",
       "      <th>zeme</th>\n",
       "    </tr>\n",
       "  </thead>\n",
       "  <tbody>\n",
       "    <tr>\n",
       "      <th>0</th>\n",
       "      <td>111</td>\n",
       "      <td>Matous</td>\n",
       "      <td>22</td>\n",
       "      <td>Ceska republika</td>\n",
       "    </tr>\n",
       "    <tr>\n",
       "      <th>1</th>\n",
       "      <td>112</td>\n",
       "      <td>Marek</td>\n",
       "      <td>29</td>\n",
       "      <td>Slovensko</td>\n",
       "    </tr>\n",
       "    <tr>\n",
       "      <th>2</th>\n",
       "      <td>113</td>\n",
       "      <td>Petr</td>\n",
       "      <td>31</td>\n",
       "      <td>Nemecko</td>\n",
       "    </tr>\n",
       "    <tr>\n",
       "      <th>3</th>\n",
       "      <td>114</td>\n",
       "      <td>Filip</td>\n",
       "      <td>55</td>\n",
       "      <td>Ceska republika</td>\n",
       "    </tr>\n",
       "    <tr>\n",
       "      <th>4</th>\n",
       "      <td>115</td>\n",
       "      <td>Jan</td>\n",
       "      <td>43</td>\n",
       "      <td>Ceska republika</td>\n",
       "    </tr>\n",
       "    <tr>\n",
       "      <th>5</th>\n",
       "      <td>116</td>\n",
       "      <td>Lukas</td>\n",
       "      <td>61</td>\n",
       "      <td>Rakousko</td>\n",
       "    </tr>\n",
       "    <tr>\n",
       "      <th>6</th>\n",
       "      <td>117</td>\n",
       "      <td>David</td>\n",
       "      <td>55</td>\n",
       "      <td>Ceska republika</td>\n",
       "    </tr>\n",
       "  </tbody>\n",
       "</table>\n",
       "</div>"
      ],
      "text/plain": [
       "    id   jmeno  vek             zeme\n",
       "0  111  Matous   22  Ceska republika\n",
       "1  112   Marek   29        Slovensko\n",
       "2  113    Petr   31          Nemecko\n",
       "3  114   Filip   55  Ceska republika\n",
       "4  115     Jan   43  Ceska republika\n",
       "5  116   Lukas   61         Rakousko\n",
       "6  117   David   55  Ceska republika"
      ]
     },
     "execution_count": 259,
     "metadata": {},
     "output_type": "execute_result"
    }
   ],
   "source": [
    "zamestnanci_df"
   ]
  },
  {
   "cell_type": "code",
   "execution_count": 260,
   "id": "1134d0a2-6498-4b55-b8d0-48f2297345d1",
   "metadata": {
    "tags": []
   },
   "outputs": [],
   "source": [
    "def nahrad_shody_stringem(dframe, jmeno_sloupce, vzor, min_shoda=90):\n",
    "    vsechny_stringy = dframe[jmeno_sloupce].unique()\n",
    "    \n",
    "    shody = fuzzywuzzy.process.extract(vzor, vsechny_stringy, limit=5,\n",
    "                                       scorer=fuzzywuzzy.fuzz.token_sort_ratio)\n",
    "    \n",
    "    nejblizsi_shoda = [shoda [0] for shoda in shody if shoda[1] >= min_shoda]\n",
    "    \n",
    "    shodujici_zaznam = dframe[jmeno_sloupce].isin(nejblizsi_shoda)\n",
    "    dframe.loc[shodujici_zaznam, jmeno_sloupce] = vzor"
   ]
  },
  {
   "cell_type": "code",
   "execution_count": 261,
   "id": "a1996a49-d0f0-4150-a06f-88657b40f05b",
   "metadata": {
    "tags": []
   },
   "outputs": [],
   "source": [
    "nahrad_shody_stringem(dframe=zamestnanci_df, jmeno_sloupce=\"zeme\", vzor=\"Ceska republika\")"
   ]
  },
  {
   "cell_type": "code",
   "execution_count": 262,
   "id": "afbcb0fd",
   "metadata": {},
   "outputs": [
    {
     "data": {
      "text/html": [
       "<div>\n",
       "<style scoped>\n",
       "    .dataframe tbody tr th:only-of-type {\n",
       "        vertical-align: middle;\n",
       "    }\n",
       "\n",
       "    .dataframe tbody tr th {\n",
       "        vertical-align: top;\n",
       "    }\n",
       "\n",
       "    .dataframe thead th {\n",
       "        text-align: right;\n",
       "    }\n",
       "</style>\n",
       "<table border=\"1\" class=\"dataframe\">\n",
       "  <thead>\n",
       "    <tr style=\"text-align: right;\">\n",
       "      <th></th>\n",
       "      <th>id</th>\n",
       "      <th>jmeno</th>\n",
       "      <th>vek</th>\n",
       "      <th>zeme</th>\n",
       "    </tr>\n",
       "  </thead>\n",
       "  <tbody>\n",
       "    <tr>\n",
       "      <th>0</th>\n",
       "      <td>111</td>\n",
       "      <td>Matous</td>\n",
       "      <td>22</td>\n",
       "      <td>Ceska republika</td>\n",
       "    </tr>\n",
       "    <tr>\n",
       "      <th>1</th>\n",
       "      <td>112</td>\n",
       "      <td>Marek</td>\n",
       "      <td>29</td>\n",
       "      <td>Slovensko</td>\n",
       "    </tr>\n",
       "    <tr>\n",
       "      <th>2</th>\n",
       "      <td>113</td>\n",
       "      <td>Petr</td>\n",
       "      <td>31</td>\n",
       "      <td>Nemecko</td>\n",
       "    </tr>\n",
       "    <tr>\n",
       "      <th>3</th>\n",
       "      <td>114</td>\n",
       "      <td>Filip</td>\n",
       "      <td>55</td>\n",
       "      <td>Ceska republika</td>\n",
       "    </tr>\n",
       "    <tr>\n",
       "      <th>4</th>\n",
       "      <td>115</td>\n",
       "      <td>Jan</td>\n",
       "      <td>43</td>\n",
       "      <td>Ceska republika</td>\n",
       "    </tr>\n",
       "    <tr>\n",
       "      <th>5</th>\n",
       "      <td>116</td>\n",
       "      <td>Lukas</td>\n",
       "      <td>61</td>\n",
       "      <td>Rakousko</td>\n",
       "    </tr>\n",
       "    <tr>\n",
       "      <th>6</th>\n",
       "      <td>117</td>\n",
       "      <td>David</td>\n",
       "      <td>55</td>\n",
       "      <td>Ceska republika</td>\n",
       "    </tr>\n",
       "  </tbody>\n",
       "</table>\n",
       "</div>"
      ],
      "text/plain": [
       "    id   jmeno  vek             zeme\n",
       "0  111  Matous   22  Ceska republika\n",
       "1  112   Marek   29        Slovensko\n",
       "2  113    Petr   31          Nemecko\n",
       "3  114   Filip   55  Ceska republika\n",
       "4  115     Jan   43  Ceska republika\n",
       "5  116   Lukas   61         Rakousko\n",
       "6  117   David   55  Ceska republika"
      ]
     },
     "execution_count": 262,
     "metadata": {},
     "output_type": "execute_result"
    }
   ],
   "source": [
    "zamestnanci_df"
   ]
  },
  {
   "cell_type": "markdown",
   "id": "cad48bb3-900a-4ffe-a269-8cad8bb5184f",
   "metadata": {},
   "source": [
    "<br>\n",
    "\n",
    "#### **🧠 CVIČENÍ 🧠, procvič si práci s chybným datasetem, 1**"
   ]
  },
  {
   "cell_type": "code",
   "execution_count": 263,
   "id": "b67efe74-906c-47cd-b499-8ede9748eb5a",
   "metadata": {},
   "outputs": [],
   "source": [
    "import pandas as pd\n",
    "from fuzzywuzzy import process\n",
    "\n",
    "data_df = pd.DataFrame({\n",
    "    \"city\": [\"Praag\", \"Londn\", \"New York\", \"Tokio\", \"Sidney\", \"London\", \"Praha\", \"Nwe York\", \"Sydney\", \"Tky\"]\n",
    "})\n",
    "\n",
    "correct_cities = [\"Prague\", \"London\", \"New York\", \"Tokyo\", \"Sydney\"]"
   ]
  },
  {
   "cell_type": "code",
   "execution_count": 264,
   "id": "0a919bdf",
   "metadata": {},
   "outputs": [
    {
     "data": {
      "text/html": [
       "<div>\n",
       "<style scoped>\n",
       "    .dataframe tbody tr th:only-of-type {\n",
       "        vertical-align: middle;\n",
       "    }\n",
       "\n",
       "    .dataframe tbody tr th {\n",
       "        vertical-align: top;\n",
       "    }\n",
       "\n",
       "    .dataframe thead th {\n",
       "        text-align: right;\n",
       "    }\n",
       "</style>\n",
       "<table border=\"1\" class=\"dataframe\">\n",
       "  <thead>\n",
       "    <tr style=\"text-align: right;\">\n",
       "      <th></th>\n",
       "      <th>city</th>\n",
       "    </tr>\n",
       "  </thead>\n",
       "  <tbody>\n",
       "    <tr>\n",
       "      <th>0</th>\n",
       "      <td>Praag</td>\n",
       "    </tr>\n",
       "    <tr>\n",
       "      <th>1</th>\n",
       "      <td>Londn</td>\n",
       "    </tr>\n",
       "    <tr>\n",
       "      <th>2</th>\n",
       "      <td>New York</td>\n",
       "    </tr>\n",
       "    <tr>\n",
       "      <th>3</th>\n",
       "      <td>Tokio</td>\n",
       "    </tr>\n",
       "    <tr>\n",
       "      <th>4</th>\n",
       "      <td>Sidney</td>\n",
       "    </tr>\n",
       "    <tr>\n",
       "      <th>5</th>\n",
       "      <td>London</td>\n",
       "    </tr>\n",
       "    <tr>\n",
       "      <th>6</th>\n",
       "      <td>Praha</td>\n",
       "    </tr>\n",
       "    <tr>\n",
       "      <th>7</th>\n",
       "      <td>Nwe York</td>\n",
       "    </tr>\n",
       "    <tr>\n",
       "      <th>8</th>\n",
       "      <td>Sydney</td>\n",
       "    </tr>\n",
       "    <tr>\n",
       "      <th>9</th>\n",
       "      <td>Tky</td>\n",
       "    </tr>\n",
       "  </tbody>\n",
       "</table>\n",
       "</div>"
      ],
      "text/plain": [
       "       city\n",
       "0     Praag\n",
       "1     Londn\n",
       "2  New York\n",
       "3     Tokio\n",
       "4    Sidney\n",
       "5    London\n",
       "6     Praha\n",
       "7  Nwe York\n",
       "8    Sydney\n",
       "9       Tky"
      ]
     },
     "execution_count": 264,
     "metadata": {},
     "output_type": "execute_result"
    }
   ],
   "source": [
    "data_df"
   ]
  },
  {
   "cell_type": "markdown",
   "id": "a54ad8ae-ad64-49c6-888f-0356783d9069",
   "metadata": {},
   "source": [
    "<details>\n",
    "    <summary>▶️ Řešení</summary>\n",
    "    \n",
    "```python\n",
    "import pandas as pd\n",
    "\n",
    "data = pd.DataFrame({\n",
    "    \"city\": [\"Praag\", \"Londn\", \"New York\", \"Tokio\", \"Sidney\", \"London\", \"Praha\", \"Nwe York\", \"Sydney\", \"Tky\"]\n",
    "})\n",
    "\n",
    "correct_cities = [\"Prague\", \"London\", \"New York\", \"Tokyo\", \"Sydney\"]\n",
    "\n",
    "def fix_city_name_all(city, correct_cities, threshold=65):\n",
    "    matches = process.extract(city, correct_cities, limit=3)\n",
    "    best_match = matches[0]\n",
    "    return best_match[0] if best_match[1] > threshold else city\n",
    "\n",
    "data[\"corrected_city\"] = [\n",
    "    fix_city_name_all(city, correct_cities) for city in data[\"city\"]\n",
    "]\n",
    "\n",
    "print(data)\n",
    "```\n",
    "</details>"
   ]
  },
  {
   "cell_type": "markdown",
   "id": "8b23dd89-62ee-446a-8de8-d3be043aec81",
   "metadata": {},
   "source": [
    "<br>\n",
    "\n",
    "#### **🧠 CVIČENÍ 🧠, procvič si práci s chybným datasetem, 2**"
   ]
  },
  {
   "cell_type": "markdown",
   "id": "fca2282e-5370-4524-9f2e-c75f7a728162",
   "metadata": {
    "tags": []
   },
   "source": [
    "Analyzuj prodeje produktu ve fiktivní společnosti během jednoho roku a zjisti následující:\n",
    "1. Nahraj soubor do `DataFrame`, jméno souboru `cviceni_3.csv` (správný encoding, správné rozdělení),\n",
    "2. projdi sloupce, zkontroluj, kde je problém s daty,\n",
    "3. vypiš všechny záznamy, které mají ve sloupci `mesto` hodnotu `Praha`."
   ]
  },
  {
   "cell_type": "code",
   "execution_count": 266,
   "id": "9bc75809-4e38-4b9c-8507-6cf8d29d823c",
   "metadata": {
    "tags": []
   },
   "outputs": [],
   "source": [
    "cviceni_3_df = pd.read_csv(\"../onsite/cviceni_3.csv\", encoding=\"Windows-1252\", sep=';')"
   ]
  },
  {
   "cell_type": "code",
   "execution_count": 268,
   "id": "94213742",
   "metadata": {},
   "outputs": [
    {
     "data": {
      "text/html": [
       "<div>\n",
       "<style scoped>\n",
       "    .dataframe tbody tr th:only-of-type {\n",
       "        vertical-align: middle;\n",
       "    }\n",
       "\n",
       "    .dataframe tbody tr th {\n",
       "        vertical-align: top;\n",
       "    }\n",
       "\n",
       "    .dataframe thead th {\n",
       "        text-align: right;\n",
       "    }\n",
       "</style>\n",
       "<table border=\"1\" class=\"dataframe\">\n",
       "  <thead>\n",
       "    <tr style=\"text-align: right;\">\n",
       "      <th></th>\n",
       "      <th>id</th>\n",
       "      <th>jmeno</th>\n",
       "      <th>prijmeni</th>\n",
       "      <th>vek</th>\n",
       "      <th>mesto</th>\n",
       "      <th>uzivatel</th>\n",
       "      <th>narozeni</th>\n",
       "    </tr>\n",
       "  </thead>\n",
       "  <tbody>\n",
       "    <tr>\n",
       "      <th>0</th>\n",
       "      <td>1345</td>\n",
       "      <td>Jitka</td>\n",
       "      <td>Prokopová</td>\n",
       "      <td>46</td>\n",
       "      <td>praha</td>\n",
       "      <td>N</td>\n",
       "      <td>4/8/2021</td>\n",
       "    </tr>\n",
       "    <tr>\n",
       "      <th>1</th>\n",
       "      <td>1346</td>\n",
       "      <td>Jan</td>\n",
       "      <td>Hornych</td>\n",
       "      <td>18</td>\n",
       "      <td>Praha</td>\n",
       "      <td>N</td>\n",
       "      <td>21/4/1995</td>\n",
       "    </tr>\n",
       "    <tr>\n",
       "      <th>2</th>\n",
       "      <td>1347</td>\n",
       "      <td>Lumír</td>\n",
       "      <td>Navrátil</td>\n",
       "      <td>46</td>\n",
       "      <td>Olomouc</td>\n",
       "      <td>N</td>\n",
       "      <td>4/5/1987</td>\n",
       "    </tr>\n",
       "    <tr>\n",
       "      <th>3</th>\n",
       "      <td>1348</td>\n",
       "      <td>Pavel</td>\n",
       "      <td>Koutný</td>\n",
       "      <td>35</td>\n",
       "      <td>praha</td>\n",
       "      <td>Y</td>\n",
       "      <td>16/2/1995</td>\n",
       "    </tr>\n",
       "    <tr>\n",
       "      <th>4</th>\n",
       "      <td>1349</td>\n",
       "      <td>Ivan</td>\n",
       "      <td>Èížek</td>\n",
       "      <td>35</td>\n",
       "      <td>Liberec</td>\n",
       "      <td>N</td>\n",
       "      <td>5/5/2008</td>\n",
       "    </tr>\n",
       "  </tbody>\n",
       "</table>\n",
       "</div>"
      ],
      "text/plain": [
       "     id  jmeno   prijmeni  vek    mesto uzivatel   narozeni\n",
       "0  1345  Jitka  Prokopová   46    praha        N   4/8/2021\n",
       "1  1346    Jan    Hornych   18    Praha        N  21/4/1995\n",
       "2  1347  Lumír   Navrátil   46  Olomouc        N   4/5/1987\n",
       "3  1348  Pavel     Koutný   35    praha        Y  16/2/1995\n",
       "4  1349   Ivan      Èížek   35  Liberec        N   5/5/2008"
      ]
     },
     "execution_count": 268,
     "metadata": {},
     "output_type": "execute_result"
    }
   ],
   "source": [
    "cviceni_3_df.head()"
   ]
  },
  {
   "cell_type": "code",
   "execution_count": null,
   "id": "5b467be3-8ee5-4a3d-a3f5-be47a7b1b522",
   "metadata": {},
   "outputs": [],
   "source": [
    "import pandas as pd\n",
    "import fuzzywuzzy\n",
    "from fuzzywuzzy import process"
   ]
  },
  {
   "cell_type": "code",
   "execution_count": null,
   "id": "584b0369-7da9-4e27-a23b-ea83b7f82afa",
   "metadata": {},
   "outputs": [],
   "source": []
  },
  {
   "cell_type": "markdown",
   "id": "43487b1b-91ee-4308-9c39-672290741eab",
   "metadata": {},
   "source": [
    "<details>\n",
    "    <summary>▶️ Řešení</summary>\n",
    "    \n",
    "```python\n",
    "df_ukazka = read_csv(\"cviceni_3.csv\", encoding=\"Windows-1250\", delimiter=\";\")\n",
    "\n",
    "def nahrad_shody_stringem(df, vzor, vyber, min_shoda=85):\n",
    "    shody = fuzzywuzzy.process.extract(vzor, vyber, limit=20,\n",
    "                                       scorer=fuzzywuzzy.fuzz.token_sort_ratio)\n",
    "\n",
    "    nejblizsi_shoda = [shoda[0] for shoda in shody if shoda[1] >= min_shoda]\n",
    "\n",
    "    shodujici_zaznam = vyber.isin(nejblizsi_shoda)\n",
    "    df.loc[shodujici_zaznam, \"mesto\"] = vzor\n",
    "    \n",
    "nahrad_shody_stringem(df_ukazka, \"Praha\", df_ukazka[\"mesto\"])\n",
    "vystup = df_ukazka[df_ukazka[\"mesto\"] == \"Praha\"]\n",
    "\n",
    "\n",
    "# Alternativní řešení\n",
    "data = pd.read_csv(\n",
    "    encoding = 'cp1250',\n",
    "    sep = ';'\n",
    ")\n",
    "\n",
    "def nahrad_shody_stringem(dframe, sloupec, vzor, min_shoda=60):\n",
    "    vsechny_stringy = dframe[sloupec].unique()\n",
    "    shody = fuzzywuzzy.process.extract(vzor, vsechny_stringy, limit=5, scorer=fuzzywuzzy.fuzz.token_sort_ratio)\n",
    "    nejblizsi_shoda = [shoda [0] for shoda in shody if shoda[1] >= min_shoda]\n",
    "    shodujici_zaznam = dframe[sloupec].isin(nejblizsi_shoda)\n",
    "    dframe.loc[shodujici_zaznam, sloupec] = vzor\n",
    "\n",
    "print( 'Problémy s daty:' )\n",
    "display( data[~data['narozeni'].str.contains('\\\\d{1,2}/\\\\d{1,2}/\\\\d{4}', regex= True, na=False)] )\n",
    "display( data['mesto'].unique( ) )\n",
    "\n",
    "#oprava narození\n",
    "data['narozeni'] = data['narozeni'].astype( 'datetime64' )\n",
    "#oprava města\n",
    "nahrad_shody_stringem(dframe=data, sloupec=\"mesto\", vzor=\"Praha\")\n",
    "print( 'Výsledek:' )\n",
    "data.query( \"mesto == 'Praha'\" )\n",
    "```\n",
    "</details>"
   ]
  },
  {
   "cell_type": "markdown",
   "id": "09459713-4521-4110-b322-028aef4d5602",
   "metadata": {},
   "source": [
    "---"
   ]
  }
 ],
 "metadata": {
  "kernelspec": {
   "display_name": "Python 3",
   "language": "python",
   "name": "python3"
  },
  "language_info": {
   "codemirror_mode": {
    "name": "ipython",
    "version": 3
   },
   "file_extension": ".py",
   "mimetype": "text/x-python",
   "name": "python",
   "nbconvert_exporter": "python",
   "pygments_lexer": "ipython3",
   "version": "3.12.5"
  }
 },
 "nbformat": 4,
 "nbformat_minor": 5
}
