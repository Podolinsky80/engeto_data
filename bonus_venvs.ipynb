{
 "cells": [
  {
   "cell_type": "code",
   "execution_count": null,
   "metadata": {},
   "outputs": [],
   "source": [
    "# Q: how can you change your Python version?"
   ]
  },
  {
   "cell_type": "markdown",
   "metadata": {},
   "source": [
    "# PyEnv\n",
    "\n",
    "https://github.com/pyenv/pyenv\n",
    "\n",
    "https://github.com/pyenv-win/pyenv-win\n",
    "\n",
    "Důležité systémové proměnné:\n",
    "* `PATH`\n",
    "* `PYTHONPATH`\n",
    "\n",
    "Instalace:\n",
    "https://realpython.com/intro-to-pyenv/\n",
    "\n",
    "```\n",
    "export PATH=\"$HOME/.pyenv/bin:$PATH\"\n",
    "eval \"$(pyenv init -)\"\n",
    "eval \"$(pyenv virtualenv-init -)\"\n",
    "```"
   ]
  },
  {
   "cell_type": "code",
   "execution_count": 3,
   "metadata": {},
   "outputs": [],
   "source": [
    "# Ubuntu/Debian:\n",
    "# sudo apt-get install -y make build-essential libssl-dev zlib1g-dev libbz2-dev libreadline-dev libsqlite3-dev wget curl llvm libncurses5-dev libncursesw5-dev xz-utils tk-dev libffi-dev liblzma-dev python-openssl\n",
    "# curl https://pyenv.run | bash"
   ]
  },
  {
   "cell_type": "code",
   "execution_count": 4,
   "metadata": {},
   "outputs": [],
   "source": [
    "# which python\n",
    "# pyenv which python\n",
    "# pyenv global 3.7.6\n",
    "# pyenv local 3.8.2"
   ]
  },
  {
   "cell_type": "code",
   "execution_count": 5,
   "metadata": {},
   "outputs": [],
   "source": [
    "# pyenv install --list\n",
    "# pyenv install 3.7.5 \n",
    "# python -m test\n",
    "# ls ~/.pyenv/versions/\n",
    "# rm -rf ~/.pyenv/versions/3.7.5\n",
    "# pyenv uninstall 3.7.5"
   ]
  },
  {
   "cell_type": "markdown",
   "metadata": {},
   "source": [
    "![pythons](img/pythons.png)"
   ]
  },
  {
   "cell_type": "markdown",
   "metadata": {},
   "source": [
    "# Virtuální Prostředí\n",
    "\n",
    "![venv](img/venv.png)"
   ]
  },
  {
   "cell_type": "code",
   "execution_count": 6,
   "metadata": {},
   "outputs": [],
   "source": [
    "# Create a virtual environment:\n",
    "# python3 -m venv tutorial-env\n",
    "\n",
    "# # Activate it\n",
    "# Linux: source tutorial-env/bin/activate\n",
    "# Windows: tutorial-env\\Scripts\\activate.bat\n",
    "\n",
    "# Deactivate it\n",
    "# deactivate"
   ]
  },
  {
   "cell_type": "markdown",
   "metadata": {},
   "source": [
    "Co je v tvým virtualním prostředí?\n",
    "\n",
    "* `Include` -> C headery\n",
    "* `Lib` -> `site_packages` (balíčky)\n",
    "* `Scrips` -> spousitelné soubory (`python.exe`, `pip.exe`)"
   ]
  },
  {
   "cell_type": "markdown",
   "metadata": {},
   "source": [
    "## Pip\n",
    "\n",
    "https://pip.pypa.io/en/stable/installation/"
   ]
  },
  {
   "cell_type": "code",
   "execution_count": null,
   "metadata": {},
   "outputs": [],
   "source": [
    "# pip freeze\n",
    "# pip install matplolib\n",
    "# python -m pip install matplotlib\n",
    "# python -m pip install -r requirements.txt"
   ]
  },
  {
   "cell_type": "markdown",
   "metadata": {},
   "source": [
    "## Conda\n",
    "\n",
    "![conda](img/conda.png)"
   ]
  },
  {
   "cell_type": "code",
   "execution_count": null,
   "metadata": {},
   "outputs": [],
   "source": [
    "# mkdir new_project && cp environment.yml new_project && cp environment-dev.yml new_project && cd new_project\n",
    "# conda env create -f environment.yml\n",
    "# conda activate engeto_env\n",
    "# conda install matplotlib\n",
    "# conda env update -n environment-dev.yml \n",
    "# conda remove pandas \n",
    "# conda deactivate \n",
    "# conda remove --name engeto_env --all"
   ]
  },
  {
   "cell_type": "markdown",
   "metadata": {},
   "source": [
    "## Poetry \n",
    "\n",
    "https://python-poetry.org/\n",
    "\n"
   ]
  }
 ],
 "metadata": {
  "kernelspec": {
   "display_name": "Python 3.8.2 64-bit ('3.8.2')",
   "language": "python",
   "name": "python3"
  },
  "language_info": {
   "codemirror_mode": {
    "name": "ipython",
    "version": 3
   },
   "file_extension": ".py",
   "mimetype": "text/x-python",
   "name": "python",
   "nbconvert_exporter": "python",
   "pygments_lexer": "ipython3",
   "version": "3.8.2"
  },
  "orig_nbformat": 4,
  "vscode": {
   "interpreter": {
    "hash": "ecd8761dea100a2d9e1fdeaf69ac1f388bbf96fb845ba6f63a89cc6490b98639"
   }
  }
 },
 "nbformat": 4,
 "nbformat_minor": 2
}
