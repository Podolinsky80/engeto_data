{
 "cells": [
  {
   "cell_type": "markdown",
   "id": "7e419477-333c-41ce-9437-0030201b61b8",
   "metadata": {},
   "source": [
    "# Python Data, 2025\n",
    "\n",
    "---"
   ]
  },
  {
   "cell_type": "markdown",
   "id": "2fcfd6c9-cf0c-432f-8c79-659907719eb7",
   "metadata": {},
   "source": [
    "* Úvod do NUMPY,\n",
    "* základy NUMPY,\n",
    "    - atributy,\n",
    "    - metody,\n",
    "    - spojování,\n",
    "    - rozdělování,\n",
    "    * cvičení 1,\n",
    "    * cvičení 2,\n",
    "* univerzální funkce, ~ufuncs,\n",
    "    - úvod\n",
    "    - typy funkcí\n",
    "    * cvičení 3."
   ]
  },
  {
   "cell_type": "markdown",
   "id": "87f800a1-991a-44ad-b0b4-23def4e9e5a8",
   "metadata": {},
   "source": [
    "## Úvod do NUMPY\n",
    "\n",
    "---\n",
    "\n",
    "<img src=\"https://external-content.duckduckgo.com/iu/?u=https%3A%2F%2Ftse1.mm.bing.net%2Fth%3Fid%3DOIP.QQOtOJPya2YEO6IkVBnYjQHaDV%26pid%3DApi&f=1&ipt=245c27df971ff24527ca317988f6feda8b14851ef0a889fda7d5a10d114dc5e6&ipo=images\" width=\"300\" style=\"margin-left:auto; margin-right:auto\"/>"
   ]
  },
  {
   "cell_type": "markdown",
   "id": "a03c4e2b-21d8-4aff-a79b-bb1d02a08650",
   "metadata": {},
   "source": [
    "### Proč umět NUMPY\n",
    "\n",
    "---"
   ]
  },
  {
   "cell_type": "markdown",
   "id": "10a79337-1343-404a-bf8e-e6f6d6ac86d7",
   "metadata": {},
   "source": [
    "Je to univerzální knihovna pro práci **s numerickými daty** v jazyce Python.\n",
    "\n",
    "Funkcionalita této knihovny je využívána (skrze API) v jiných knihovnách jako *Pandas*, *SciPy*, *Matplotlib*, *scikit-learn*, *scikit-image*.\n",
    "\n",
    "<br>\n",
    "\n",
    "Nabízí efektivní nástroje pro práci **s většími datovými strukturami**.\n",
    "\n",
    "Usnadňuje práci se **vícerozměrnými poli** a **maticovými datovými strukturami**."
   ]
  },
  {
   "cell_type": "markdown",
   "id": "9180b17d-7eca-4eec-b35c-5152f039c531",
   "metadata": {},
   "source": [
    "### Kde zjistit více informací\n",
    "\n",
    "---\n",
    "\n",
    "Dokumentaci najdeš [zde](https://numpy.org/doc/stable/index.html#).\n",
    "\n",
    "Zdrojový kód najdeš [zde](https://github.com/numpy/numpy)."
   ]
  },
  {
   "cell_type": "markdown",
   "id": "797453fd-9e6b-46ba-bacc-d9b4e8a7504d",
   "metadata": {},
   "source": [
    "### Jak jej nainstaluji\n",
    "\n",
    "---\n",
    "\n",
    "Instalace knihovny obecně (doporučeno v rámci virtuálního prostředí):"
   ]
  },
  {
   "cell_type": "code",
   "execution_count": 101,
   "id": "5cc669ad-4f89-4402-9493-736d93afa24e",
   "metadata": {},
   "outputs": [
    {
     "name": "stdout",
     "output_type": "stream",
     "text": [
      "Requirement already satisfied: numpy in /home/viegorova/.pyenv/versions/3.11.1/lib/python3.11/site-packages (2.2.0)\n",
      "\u001b[31mERROR: Operation cancelled by user\u001b[0m\u001b[31m\n",
      "\u001b[0m^C\n",
      "Traceback (most recent call last):\n",
      "  File \"/home/viegorova/.pyenv/versions/3.11.1/bin/pip\", line 8, in <module>\n",
      "    sys.exit(main())\n",
      "             ^^^^^^\n",
      "  File \"/home/viegorova/.pyenv/versions/3.11.1/lib/python3.11/site-packages/pip/_internal/cli/main.py\", line 70, in main\n",
      "    return command.main(cmd_args)\n",
      "           ^^^^^^^^^^^^^^^^^^^^^^\n",
      "  File \"/home/viegorova/.pyenv/versions/3.11.1/lib/python3.11/site-packages/pip/_internal/cli/base_command.py\", line 101, in main\n",
      "    return self._main(args)\n",
      "           ^^^^^^^^^^^^^^^^\n",
      "  File \"/home/viegorova/.pyenv/versions/3.11.1/lib/python3.11/site-packages/pip/_internal/cli/base_command.py\", line 216, in _main\n",
      "    self.handle_pip_version_check(options)\n",
      "  File \"/home/viegorova/.pyenv/versions/3.11.1/lib/python3.11/site-packages/pip/_internal/cli/req_command.py\", line 190, in handle_pip_version_check\n",
      "    pip_self_version_check(session, options)\n",
      "  File \"/home/viegorova/.pyenv/versions/3.11.1/lib/python3.11/site-packages/pip/_internal/self_outdated_check.py\", line 222, in pip_self_version_check\n",
      "    installed_dist = get_default_environment().get_distribution(\"pip\")\n",
      "                     ^^^^^^^^^^^^^^^^^^^^^^^^^^^^^^^^^^^^^^^^^^^^^^^^^\n",
      "  File \"/home/viegorova/.pyenv/versions/3.11.1/lib/python3.11/site-packages/pip/_internal/metadata/importlib/_envs.py\", line 188, in get_distribution\n",
      "    return next(matches, None)\n",
      "           ^^^^^^^^^^^^^^^^^^^\n",
      "  File \"/home/viegorova/.pyenv/versions/3.11.1/lib/python3.11/site-packages/pip/_internal/metadata/importlib/_envs.py\", line 183, in <genexpr>\n",
      "    matches = (\n",
      "              ^\n",
      "  File \"/home/viegorova/.pyenv/versions/3.11.1/lib/python3.11/site-packages/pip/_internal/metadata/base.py\", line 612, in iter_all_distributions\n",
      "    for dist in self._iter_distributions():\n",
      "  File \"/home/viegorova/.pyenv/versions/3.11.1/lib/python3.11/site-packages/pip/_internal/metadata/importlib/_envs.py\", line 175, in _iter_distributions\n",
      "    yield from finder.find(location)\n",
      "  File \"/home/viegorova/.pyenv/versions/3.11.1/lib/python3.11/site-packages/pip/_internal/metadata/importlib/_envs.py\", line 79, in find\n",
      "    for dist, info_location in self._find_impl(location):\n",
      "  File \"/home/viegorova/.pyenv/versions/3.11.1/lib/python3.11/site-packages/pip/_internal/metadata/importlib/_envs.py\", line 64, in _find_impl\n",
      "    raw_name = get_dist_name(dist)\n",
      "               ^^^^^^^^^^^^^^^^^^^\n",
      "  File \"/home/viegorova/.pyenv/versions/3.11.1/lib/python3.11/site-packages/pip/_internal/metadata/importlib/_compat.py\", line 52, in get_dist_name\n",
      "    name = cast(Any, dist).name\n",
      "           ^^^^^^^^^^^^^^^^^^^^\n",
      "  File \"/home/viegorova/.pyenv/versions/3.11.1/lib/python3.11/importlib/metadata/__init__.py\", line 622, in name\n",
      "    return self.metadata['Name']\n",
      "           ^^^^^^^^^^^^^\n",
      "  File \"/home/viegorova/.pyenv/versions/3.11.1/lib/python3.11/importlib/metadata/__init__.py\", line 610, in metadata\n",
      "    self.read_text('METADATA')\n",
      "  File \"/home/viegorova/.pyenv/versions/3.11.1/lib/python3.11/importlib/metadata/__init__.py\", line 938, in read_text\n",
      "    return self._path.joinpath(filename).read_text(encoding='utf-8')\n",
      "           ^^^^^^^^^^^^^^^^^^^^^^^^^^^^^^^^^^^^^^^^^^^^^^^^^^^^^^^^^\n",
      "  File \"/home/viegorova/.pyenv/versions/3.11.1/lib/python3.11/pathlib.py\", line 1058, in read_text\n",
      "    with self.open(mode='r', encoding=encoding, errors=errors) as f:\n",
      "         ^^^^^^^^^^^^^^^^^^^^^^^^^^^^^^^^^^^^^^^^^^^^^^^^^^^^^\n",
      "  File \"/home/viegorova/.pyenv/versions/3.11.1/lib/python3.11/pathlib.py\", line 1044, in open\n",
      "    return io.open(self, mode, buffering, encoding, errors, newline)\n",
      "           ^^^^^^^^^^^^^^^^^^^^^^^^^^^^^^^^^^^^^^^^^^^^^^^^^^^^^^^^^\n",
      "  File \"<frozen codecs>\", line 309, in __init__\n",
      "KeyboardInterrupt\n"
     ]
    }
   ],
   "source": [
    "!pip install numpy"
   ]
  },
  {
   "cell_type": "markdown",
   "id": "21f710be-0934-467d-bf8c-1948bf718229",
   "metadata": {},
   "source": [
    "...nebo:"
   ]
  },
  {
   "cell_type": "code",
   "execution_count": null,
   "id": "0f1359ba-1457-433e-92a3-6d7732178a0c",
   "metadata": {},
   "outputs": [
    {
     "name": "stdout",
     "output_type": "stream",
     "text": [
      "/bin/bash: conda: command not found\n"
     ]
    }
   ],
   "source": [
    "!conda install numpy"
   ]
  },
  {
   "cell_type": "markdown",
   "id": "3da6af60-4096-4548-a68c-3f4d8aab4841",
   "metadata": {},
   "source": [
    "<br>\n",
    "\n",
    "Nahrávání knihovny:"
   ]
  },
  {
   "cell_type": "code",
   "execution_count": null,
   "id": "60f81350-021d-4201-81d8-1ec70f325be3",
   "metadata": {
    "tags": []
   },
   "outputs": [],
   "source": [
    "import numpy"
   ]
  },
  {
   "cell_type": "code",
   "execution_count": null,
   "id": "b0a2a324-5024-402d-b011-0de99804fed6",
   "metadata": {},
   "outputs": [],
   "source": [
    "import numpy as np"
   ]
  },
  {
   "cell_type": "code",
   "execution_count": null,
   "id": "d4316ec0-64db-4a00-8939-74e54c12d590",
   "metadata": {},
   "outputs": [],
   "source": [
    "from numpy import array"
   ]
  },
  {
   "cell_type": "markdown",
   "id": "6c06c732-1862-474e-a411-52940c4f0129",
   "metadata": {},
   "source": [
    "<br>\n",
    "\n",
    "Používaná verze knihovny:"
   ]
  },
  {
   "cell_type": "code",
   "execution_count": null,
   "id": "1259cdc6-196a-4f04-8eb3-7afe185cef68",
   "metadata": {
    "tags": []
   },
   "outputs": [
    {
     "data": {
      "text/plain": [
       "'2.2.3'"
      ]
     },
     "execution_count": 93,
     "metadata": {},
     "output_type": "execute_result"
    }
   ],
   "source": [
    "numpy.__version__"
   ]
  },
  {
   "cell_type": "markdown",
   "id": "228d1d39-8293-4478-b836-17d64ec6ebcc",
   "metadata": {},
   "source": [
    "### Srovnání datových typů\n",
    "\n",
    "---"
   ]
  },
  {
   "cell_type": "markdown",
   "id": "c027e5a2-173a-40b7-b3a5-e45194b4e804",
   "metadata": {},
   "source": [
    "Efektivní práce s daty si zakládá na tom, jak jsou data uložená.\n",
    "\n",
    "Proto je zásadní tušit jak objekty zpracovává **klasický Python** a `numpy`."
   ]
  },
  {
   "cell_type": "code",
   "execution_count": null,
   "id": "889de9e2-1e74-46f8-ad91-573b9d4f7c8b",
   "metadata": {
    "tags": []
   },
   "outputs": [],
   "source": [
    "x: int = 10\n",
    "x: float = 10.0\n",
    "x: str = \"deset\""
   ]
  },
  {
   "cell_type": "markdown",
   "id": "6b3d4d5a-7007-40f6-9490-8e544ef2b8e9",
   "metadata": {},
   "source": [
    "*Dynamické typování* v Pythonu vypadá jako dobrý nápad.\n",
    "\n",
    "Přináší jistou flexibilitu a jednodušší používání.\n",
    "\n",
    "Také s sebou ovšem nese jisté povinnosti, které by obyčejná proměnná **neměla normálně zpracovávat**.\n",
    "\n",
    "V ukázce neukládáš pouze hodnoty, ale další doprovodné informace:\n",
    "* **počet referencí**, kvůli alokaci/dealokaci paměti,\n",
    "* **typ kódovací sady**,\n",
    "* **velikost** následujících dat."
   ]
  },
  {
   "cell_type": "markdown",
   "id": "8402bdfd-3b5b-4d72-bb24-f8805f630af4",
   "metadata": {},
   "source": [
    "#### LIST v Pythonu\n",
    "\n",
    "---"
   ]
  },
  {
   "cell_type": "code",
   "execution_count": null,
   "id": "7fcf303c-44cb-4a09-b67c-4a1a0ba98025",
   "metadata": {
    "tags": []
   },
   "outputs": [],
   "source": [
    "muj_list: list = [10, 10.0, \"deset\"]"
   ]
  },
  {
   "cell_type": "code",
   "execution_count": null,
   "id": "e1b28dcc-6b2e-48c7-bca0-567b597e08ee",
   "metadata": {
    "tags": []
   },
   "outputs": [],
   "source": [
    "datove_typy_listu = [type(hodnota) for hodnota in muj_list]"
   ]
  },
  {
   "cell_type": "code",
   "execution_count": null,
   "id": "349d44cd-5515-4e32-9511-bb10215dace1",
   "metadata": {
    "tags": []
   },
   "outputs": [
    {
     "data": {
      "text/plain": [
       "[int, float, str]"
      ]
     },
     "execution_count": 97,
     "metadata": {},
     "output_type": "execute_result"
    }
   ],
   "source": [
    "datove_typy_listu"
   ]
  },
  {
   "cell_type": "markdown",
   "id": "373b248f-7258-4811-b5a0-7e98d43f8132",
   "metadata": {},
   "source": [
    "<br>\n",
    "\n",
    "Je jasné, že tento *komfort* sebou nese i svoji cenu.\n",
    "\n",
    "Protože toho každá hodnota s sebou nese další doplňující informace (datový typ, kódování, ...).\n",
    "\n",
    "I kdyby byly hodnoty stejného datové typu, přesto s sebou přenášejí řadu balastu.\n",
    "\n",
    "Tomu se snaží knihovna `numpy` pomáhat."
   ]
  },
  {
   "cell_type": "code",
   "execution_count": null,
   "id": "808490b3",
   "metadata": {},
   "outputs": [
    {
     "name": "stdout",
     "output_type": "stream",
     "text": [
      "Requirement already satisfied: numpy in /home/viegorova/.pyenv/versions/3.12.5/lib/python3.12/site-packages (2.2.3)\n",
      "\n",
      "\u001b[1m[\u001b[0m\u001b[34;49mnotice\u001b[0m\u001b[1;39;49m]\u001b[0m\u001b[39;49m A new release of pip is available: \u001b[0m\u001b[31;49m24.2\u001b[0m\u001b[39;49m -> \u001b[0m\u001b[32;49m25.0.1\u001b[0m\n",
      "\u001b[1m[\u001b[0m\u001b[34;49mnotice\u001b[0m\u001b[1;39;49m]\u001b[0m\u001b[39;49m To update, run: \u001b[0m\u001b[32;49mpip install --upgrade pip\u001b[0m\n"
     ]
    }
   ],
   "source": [
    "!pip install numpy"
   ]
  },
  {
   "cell_type": "code",
   "execution_count": null,
   "id": "59cf5c2d-4c04-49c0-8a2e-f6cc36eb5fd1",
   "metadata": {
    "tags": []
   },
   "outputs": [],
   "source": [
    "import numpy as np"
   ]
  },
  {
   "cell_type": "code",
   "execution_count": null,
   "id": "73d20bb3",
   "metadata": {},
   "outputs": [],
   "source": [
    "# Helper function for finding out the real size of an object\n",
    "\n",
    "import sys\n",
    "import numpy as np\n",
    "\n",
    "def get_size(obj, seen=None):\n",
    "    size = sys.getsizeof(obj)\n",
    "    if seen is None:\n",
    "        seen = set()\n",
    "    obj_id = id(obj)\n",
    "    if obj_id in seen:\n",
    "        return 0\n",
    "    # Important mark as seen *before* entering recursion to gracefully handle\n",
    "    # self-referential objects\n",
    "    seen.add(obj_id)\n",
    "    if isinstance(obj, dict):\n",
    "        size += sum([get_size(v, seen) for v in obj.values()])\n",
    "        size += sum([get_size(k, seen) for k in obj.keys()])\n",
    "    elif hasattr(obj, '__dict__'):\n",
    "        size += get_size(obj.__dict__, seen)\n",
    "    elif hasattr(obj, '__iter__') and not isinstance(obj, (str, bytes, bytearray)):\n",
    "        size += sum([get_size(i, seen) for i in obj])\n",
    "    return size"
   ]
  },
  {
   "cell_type": "code",
   "execution_count": null,
   "id": "b67dd398",
   "metadata": {},
   "outputs": [
    {
     "data": {
      "text/plain": [
       "array([0.1, 0.2, 0.3, 0.4, 0.5, 0.6, 0.7, 0.8, 0.9])"
      ]
     },
     "execution_count": 101,
     "metadata": {},
     "output_type": "execute_result"
    }
   ],
   "source": [
    "# Numpy gives us a class for working with matrices: numpy.ndarray\n",
    "\n",
    "np.ndarray((9))"
   ]
  },
  {
   "cell_type": "code",
   "execution_count": null,
   "id": "baf75f9d",
   "metadata": {},
   "outputs": [
    {
     "name": "stdout",
     "output_type": "stream",
     "text": [
      "int32 4 40000\n"
     ]
    }
   ],
   "source": [
    "# Numpy uses C data types for the numbers it contains, i.e. we have finite \n",
    "# integers with predefined size (np.int32, np.in64) and with possibility\n",
    "# of overflow (a very popular source of errors)\n",
    "\n",
    "pole_cela_cisla = np.ndarray((10000), dtype=np.int32)  \n",
    "print(pole_cela_cisla.dtype, pole_cela_cisla.itemsize, pole_cela_cisla.itemsize * pole_cela_cisla.size)"
   ]
  },
  {
   "cell_type": "code",
   "execution_count": null,
   "id": "808dd332",
   "metadata": {},
   "outputs": [
    {
     "data": {
      "text/plain": [
       "(40000, 40112)"
      ]
     },
     "execution_count": 103,
     "metadata": {},
     "output_type": "execute_result"
    }
   ],
   "source": [
    "# .nbytes gives us the size of the data in the numpy array, but real size\n",
    "# is bigger due to the small overhead introduced by the ndarray\n",
    "import sys \n",
    "pole_cela_cisla.nbytes, sys.getsizeof(pole_cela_cisla)"
   ]
  },
  {
   "cell_type": "code",
   "execution_count": null,
   "id": "5c49594c",
   "metadata": {},
   "outputs": [
    {
     "data": {
      "text/plain": [
       "171900"
      ]
     },
     "execution_count": 104,
     "metadata": {},
     "output_type": "execute_result"
    }
   ],
   "source": [
    "seznam_cela_cisla = pole_cela_cisla.tolist()\n",
    "get_size(seznam_cela_cisla, set())"
   ]
  },
  {
   "cell_type": "markdown",
   "id": "7dc2051a",
   "metadata": {},
   "source": [
    "![memory](img/memory.png)\n",
    "\n",
    "*https://medium.com/analytics-vidhya/master-numpy-in-45-minutes-74b2460ecb00*"
   ]
  },
  {
   "cell_type": "code",
   "execution_count": null,
   "id": "dc002dd8",
   "metadata": {},
   "outputs": [
    {
     "data": {
      "text/plain": [
       "(np.int32(1739227984), numpy.int32)"
      ]
     },
     "execution_count": 105,
     "metadata": {},
     "output_type": "execute_result"
    }
   ],
   "source": [
    "a = pole_cela_cisla[0]\n",
    "a, type(a)"
   ]
  },
  {
   "cell_type": "code",
   "execution_count": null,
   "id": "e4af10d8",
   "metadata": {},
   "outputs": [
    {
     "ename": "OverflowError",
     "evalue": "Python integer 1000000000000000 out of bounds for int32",
     "output_type": "error",
     "traceback": [
      "\u001b[31m---------------------------------------------------------------------------\u001b[39m",
      "\u001b[31mOverflowError\u001b[39m                             Traceback (most recent call last)",
      "\u001b[36mCell\u001b[39m\u001b[36m \u001b[39m\u001b[32mIn[106]\u001b[39m\u001b[32m, line 4\u001b[39m\n\u001b[32m      1\u001b[39m \u001b[38;5;66;03m# ...but with caution\u001b[39;00m\n\u001b[32m      3\u001b[39m int32arr = np.ndarray((\u001b[32m1\u001b[39m, \u001b[32m1\u001b[39m), dtype=np.int32)\n\u001b[32m----> \u001b[39m\u001b[32m4\u001b[39m \u001b[43mint32arr\u001b[49m\u001b[43m[\u001b[49m\u001b[32;43m0\u001b[39;49m\u001b[43m,\u001b[49m\u001b[43m \u001b[49m\u001b[32;43m0\u001b[39;49m\u001b[43m]\u001b[49m = \u001b[32m1e15\u001b[39m\n\u001b[32m      5\u001b[39m int32arr\n",
      "\u001b[31mOverflowError\u001b[39m: Python integer 1000000000000000 out of bounds for int32"
     ]
    }
   ],
   "source": [
    "# ...but with caution\n",
    "\n",
    "int32arr = np.ndarray((1, 1), dtype=np.int32)\n",
    "int32arr[0, 0] = 1e15\n",
    "int32arr"
   ]
  },
  {
   "cell_type": "code",
   "execution_count": null,
   "id": "7f8a55d1",
   "metadata": {},
   "outputs": [
    {
     "name": "stderr",
     "output_type": "stream",
     "text": [
      "/tmp/ipykernel_11882/643218094.py:3: RuntimeWarning: overflow encountered in scalar add\n",
      "  np.iinfo(np.int32).max, a + np.iinfo(np.int32).max, type(a + np.iinfo(np.int32).max)\n"
     ]
    },
    {
     "data": {
      "text/plain": [
       "(2147483647, np.int32(-2147475457), numpy.int32)"
      ]
     },
     "execution_count": 22,
     "metadata": {},
     "output_type": "execute_result"
    }
   ],
   "source": [
    "# The maximum allowed values for the data types can be extracted with np.iinfo\n",
    "\n",
    "np.iinfo(np.int32).max, a + np.iinfo(np.int32).max, type(a + np.iinfo(np.int32).max)"
   ]
  },
  {
   "cell_type": "code",
   "execution_count": null,
   "id": "f338a85b",
   "metadata": {},
   "outputs": [
    {
     "ename": "OverflowError",
     "evalue": "Python integer 9223372036854775807 out of bounds for int32",
     "output_type": "error",
     "traceback": [
      "\u001b[31m---------------------------------------------------------------------------\u001b[39m",
      "\u001b[31mOverflowError\u001b[39m                             Traceback (most recent call last)",
      "\u001b[36mCell\u001b[39m\u001b[36m \u001b[39m\u001b[32mIn[23]\u001b[39m\u001b[32m, line 4\u001b[39m\n\u001b[32m      1\u001b[39m \u001b[38;5;66;03m# And once again here: an overflow can happen!\u001b[39;00m\n\u001b[32m      2\u001b[39m \u001b[38;5;66;03m# It happens A LOT :)\u001b[39;00m\n\u001b[32m----> \u001b[39m\u001b[32m4\u001b[39m np.iinfo(np.int64).max, \u001b[43ma\u001b[49m\u001b[43m \u001b[49m\u001b[43m+\u001b[49m\u001b[43m \u001b[49m\u001b[43mnp\u001b[49m\u001b[43m.\u001b[49m\u001b[43miinfo\u001b[49m\u001b[43m(\u001b[49m\u001b[43mnp\u001b[49m\u001b[43m.\u001b[49m\u001b[43mint64\u001b[49m\u001b[43m)\u001b[49m\u001b[43m.\u001b[49m\u001b[43mmax\u001b[49m, \u001b[38;5;28mtype\u001b[39m(a + np.iinfo(np.int64).max)\n",
      "\u001b[31mOverflowError\u001b[39m: Python integer 9223372036854775807 out of bounds for int32"
     ]
    }
   ],
   "source": [
    "# And once again here: an overflow can happen!\n",
    "# It happens A LOT :)\n",
    "\n",
    "np.iinfo(np.int64).max, a + np.iinfo(np.int64).max, type(a + np.iinfo(np.int64).max)"
   ]
  },
  {
   "cell_type": "code",
   "execution_count": null,
   "id": "a203f37c",
   "metadata": {},
   "outputs": [
    {
     "data": {
      "text/plain": [
       "(8192, int)"
      ]
     },
     "execution_count": 20,
     "metadata": {},
     "output_type": "execute_result"
    }
   ],
   "source": [
    "# We can easily convert between Python data types and the Numpy data types\n",
    "\n",
    "b = int(a)\n",
    "b, type(b)"
   ]
  },
  {
   "cell_type": "markdown",
   "id": "83b39975",
   "metadata": {},
   "source": [
    "![ndarray](img/ndarray.png)\n"
   ]
  },
  {
   "cell_type": "markdown",
   "id": "136f6429",
   "metadata": {},
   "source": [
    "![block](img/block.png)\n",
    "https://stackoverflow.com/questions/53097952/how-to-understand-numpy-strides-for-layman"
   ]
  },
  {
   "cell_type": "markdown",
   "id": "21eb3afb",
   "metadata": {},
   "source": [
    "![array](img/array.png)"
   ]
  },
  {
   "cell_type": "code",
   "execution_count": null,
   "id": "b99aec33-731a-4261-86ad-18908957e51c",
   "metadata": {
    "tags": []
   },
   "outputs": [
    {
     "data": {
      "text/plain": [
       "array([1, 2, 3])"
      ]
     },
     "execution_count": 25,
     "metadata": {},
     "output_type": "execute_result"
    }
   ],
   "source": [
    "ciselne_pole = np.array([1, 2, 3])\n",
    "ciselne_pole"
   ]
  },
  {
   "cell_type": "code",
   "execution_count": null,
   "id": "50d6f25e",
   "metadata": {},
   "outputs": [
    {
     "data": {
      "text/plain": [
       "array([0, 1, 2, 3, 4, 5])"
      ]
     },
     "execution_count": 27,
     "metadata": {},
     "output_type": "execute_result"
    }
   ],
   "source": [
    "ciselne_pole = np.array(range(6))\n",
    "ciselne_pole"
   ]
  },
  {
   "cell_type": "code",
   "execution_count": null,
   "id": "cca478fa-5220-4e01-94f4-308babd1df49",
   "metadata": {
    "tags": []
   },
   "outputs": [
    {
     "data": {
      "text/plain": [
       "dtype('int64')"
      ]
     },
     "execution_count": 12,
     "metadata": {},
     "output_type": "execute_result"
    }
   ],
   "source": [
    "ciselne_pole.dtype"
   ]
  },
  {
   "cell_type": "code",
   "execution_count": null,
   "id": "1334e11e-39f3-4b03-816d-7ebcc218bced",
   "metadata": {
    "tags": []
   },
   "outputs": [
    {
     "data": {
      "text/plain": [
       "numpy.ndarray"
      ]
     },
     "execution_count": 13,
     "metadata": {},
     "output_type": "execute_result"
    }
   ],
   "source": [
    "type(ciselne_pole)"
   ]
  },
  {
   "cell_type": "markdown",
   "id": "024c53a4-1283-4ca0-b9ba-372e7e5dd107",
   "metadata": {
    "tags": []
   },
   "source": [
    "<br>\n",
    "\n",
    "Na rozdíl od datového typu`list` v jazyce Python, pole v `numpy` obsahují stejný datový typ.\n",
    "\n",
    "Pokud tomu tak není, `numpy` provede *upcast* (představ si datovou konverzi):"
   ]
  },
  {
   "cell_type": "code",
   "execution_count": null,
   "id": "8e57d42a-7036-4093-a684-ed8be4d83dd9",
   "metadata": {
    "tags": []
   },
   "outputs": [],
   "source": [
    "mix_desetinne_cele_hodnoty = np.array((1, 2, 3, 3.1416))"
   ]
  },
  {
   "cell_type": "code",
   "execution_count": null,
   "id": "30f4ede6-adaf-4e1f-a475-63b4735c7174",
   "metadata": {
    "tags": []
   },
   "outputs": [
    {
     "data": {
      "text/plain": [
       "array([1.    , 2.    , 3.    , 3.1416])"
      ]
     },
     "execution_count": 31,
     "metadata": {},
     "output_type": "execute_result"
    }
   ],
   "source": [
    "mix_desetinne_cele_hodnoty"
   ]
  },
  {
   "cell_type": "code",
   "execution_count": null,
   "id": "2048a43f-3165-48ae-b9b9-567aa343353b",
   "metadata": {
    "tags": []
   },
   "outputs": [
    {
     "data": {
      "text/plain": [
       "dtype('float64')"
      ]
     },
     "execution_count": 32,
     "metadata": {},
     "output_type": "execute_result"
    }
   ],
   "source": [
    "mix_desetinne_cele_hodnoty.dtype"
   ]
  },
  {
   "cell_type": "markdown",
   "id": "0787c40a-cc78-4ce4-bb61-5b1e3c0219f8",
   "metadata": {
    "tags": []
   },
   "source": [
    "<br>\n",
    "\n",
    "Pokud potřebuješ dodržet konkrétní datový typ, použij explicitně *parametr* `dtype`:"
   ]
  },
  {
   "cell_type": "code",
   "execution_count": null,
   "id": "6d3cdd43-186a-499b-abe8-b08d838a31e7",
   "metadata": {
    "tags": []
   },
   "outputs": [],
   "source": [
    "jen_cele = np.array((1, 2, 3, 3.1416), dtype=\"int64\")"
   ]
  },
  {
   "cell_type": "code",
   "execution_count": null,
   "id": "704ff73a-52fa-4e1d-9493-1de3aab79b94",
   "metadata": {
    "tags": []
   },
   "outputs": [
    {
     "data": {
      "text/plain": [
       "array([1, 2, 3, 3])"
      ]
     },
     "execution_count": 34,
     "metadata": {},
     "output_type": "execute_result"
    }
   ],
   "source": [
    "jen_cele"
   ]
  },
  {
   "cell_type": "markdown",
   "id": "e20fa8b3-ce40-4a83-b739-35b1b5e40ba5",
   "metadata": {},
   "source": [
    "<br>\n",
    "\n",
    "Datové typy se snaží implicitně konvertovat. Pokud je to možné."
   ]
  },
  {
   "cell_type": "code",
   "execution_count": null,
   "id": "e7e4b0a9-7780-413f-8db7-903f4a631d9d",
   "metadata": {
    "tags": []
   },
   "outputs": [
    {
     "ename": "ValueError",
     "evalue": "invalid literal for int() with base 10: 'tři'",
     "output_type": "error",
     "traceback": [
      "\u001b[31m---------------------------------------------------------------------------\u001b[39m",
      "\u001b[31mValueError\u001b[39m                                Traceback (most recent call last)",
      "\u001b[36mCell\u001b[39m\u001b[36m \u001b[39m\u001b[32mIn[36]\u001b[39m\u001b[32m, line 1\u001b[39m\n\u001b[32m----> \u001b[39m\u001b[32m1\u001b[39m jen_cele = \u001b[43mnp\u001b[49m\u001b[43m.\u001b[49m\u001b[43marray\u001b[49m\u001b[43m(\u001b[49m\u001b[43m(\u001b[49m\u001b[32;43m1\u001b[39;49m\u001b[43m,\u001b[49m\u001b[43m \u001b[49m\u001b[32;43m2\u001b[39;49m\u001b[43m,\u001b[49m\u001b[43m \u001b[49m\u001b[33;43m\"\u001b[39;49m\u001b[33;43mtři\u001b[39;49m\u001b[33;43m\"\u001b[39;49m\u001b[43m,\u001b[49m\u001b[43m \u001b[49m\u001b[32;43m3.1416\u001b[39;49m\u001b[43m)\u001b[49m\u001b[43m,\u001b[49m\u001b[43m \u001b[49m\u001b[43mdtype\u001b[49m\u001b[43m=\u001b[49m\u001b[33;43m\"\u001b[39;49m\u001b[33;43mint64\u001b[39;49m\u001b[33;43m\"\u001b[39;49m\u001b[43m)\u001b[49m  \u001b[38;5;66;03m# \"tři\" --> 3\u001b[39;00m\n",
      "\u001b[31mValueError\u001b[39m: invalid literal for int() with base 10: 'tři'"
     ]
    }
   ],
   "source": [
    "jen_cele = np.array((1, 2, \"tři\", 3.1416), dtype=\"int64\")  # \"tři\" --> 3"
   ]
  },
  {
   "cell_type": "code",
   "execution_count": null,
   "id": "e4e6eaf9-e5c3-4e21-904f-e777b58c4b5e",
   "metadata": {
    "tags": []
   },
   "outputs": [
    {
     "ename": "ValueError",
     "evalue": "invalid literal for int() with base 10: 'tři'",
     "output_type": "error",
     "traceback": [
      "\u001b[31m---------------------------------------------------------------------------\u001b[39m",
      "\u001b[31mValueError\u001b[39m                                Traceback (most recent call last)",
      "\u001b[36mCell\u001b[39m\u001b[36m \u001b[39m\u001b[32mIn[37]\u001b[39m\u001b[32m, line 1\u001b[39m\n\u001b[32m----> \u001b[39m\u001b[32m1\u001b[39m \u001b[38;5;28;43mint\u001b[39;49m\u001b[43m(\u001b[49m\u001b[33;43m\"\u001b[39;49m\u001b[33;43mtři\u001b[39;49m\u001b[33;43m\"\u001b[39;49m\u001b[43m)\u001b[49m\n",
      "\u001b[31mValueError\u001b[39m: invalid literal for int() with base 10: 'tři'"
     ]
    }
   ],
   "source": [
    "int(\"tři\")"
   ]
  },
  {
   "cell_type": "code",
   "execution_count": null,
   "id": "eed15388-90e0-43c8-8c1f-e3b8a17048da",
   "metadata": {
    "tags": []
   },
   "outputs": [
    {
     "data": {
      "text/plain": [
       "array([1, 2, 3, 3])"
      ]
     },
     "execution_count": 38,
     "metadata": {},
     "output_type": "execute_result"
    }
   ],
   "source": [
    "jen_cele"
   ]
  },
  {
   "cell_type": "markdown",
   "id": "4b36c87f-c737-4150-a921-ab0ba64d5cf0",
   "metadata": {},
   "source": [
    "<br>\n",
    "\n",
    "`numpy` nabízí obrovskou škálu rychlých a efektivních způsobů vytváření polí a manipulace s číselnými daty v nich.\n",
    "\n",
    "Pracuje s homogenními sekvenčnímy objekty."
   ]
  },
  {
   "cell_type": "markdown",
   "id": "3b0e3525-e7cd-4d0d-aa13-4d5ed79450b9",
   "metadata": {},
   "source": [
    "<br>\n",
    "\n",
    "## Základy NUMPY\n",
    "\n",
    "---"
   ]
  },
  {
   "cell_type": "markdown",
   "id": "c43c485f-b747-4855-86cc-c3ab9c3b5c69",
   "metadata": {},
   "source": [
    "Protože je `numpy` postaven na jazyku C, přebírá také podobné datové typy."
   ]
  },
  {
   "cell_type": "markdown",
   "id": "4ed5400e-9f41-4833-9b7e-943193792d30",
   "metadata": {},
   "source": [
    "Některé datové typy:\n",
    "    \n",
    "| Datový typ v `numpy` | Popis |\n",
    "| :- | :- |\n",
    "| `bool_` | boolean `True`, `False` |\n",
    "| `int16` | celá čísla (bajty od -32768 do 32767) |\n",
    "| `int32` | celá čísla (bajty od -2147483648 do 2147483647)) |\n",
    "| `int64` | celá čísla (bajty od -9223372036854775808 to 9223372036854775807) |\n",
    "| `float64` | desetinné čísla |\n",
    "| `complex64` | komplexní čísla, reprezentovaná dvěma 64-bitovými dese. čísly |"
   ]
  },
  {
   "cell_type": "markdown",
   "id": "b1b677fc-1d2f-49c8-a014-7cd6b209de8e",
   "metadata": {},
   "source": [
    "<br>\n",
    "\n",
    "Dále `numpy` poskytuje `array` objekty."
   ]
  },
  {
   "cell_type": "code",
   "execution_count": null,
   "id": "0ecdfcac-fa23-4bc7-8f5e-55b462acb4eb",
   "metadata": {},
   "outputs": [],
   "source": [
    "muj_list = [1, 2, 3]                      # 1D\n",
    "muj_2D_list = [[1, 2], [3, 4]]            # 2D pole == matice\n",
    "muj_3D_list = [[[1, 2], [2, 3]], [[..]]]  # 3D"
   ]
  },
  {
   "cell_type": "markdown",
   "id": "34395fe8-e1e6-400e-b415-01e4390c8e5c",
   "metadata": {},
   "source": [
    "Ty slouží jako prostředky pro elegantní manipulaci s daty (znáš z `pandas`).\n",
    "\n",
    "Základní operace pro `array`:\n",
    "* **atributy**,\n",
    "* **indexování**,\n",
    "* **řezání**,\n",
    "* **RESHAPE**,\n",
    "* **JOIN** a **MERGE** --> *konkatenace*, *split*"
   ]
  },
  {
   "cell_type": "markdown",
   "id": "e1fc6f7c-a6c1-46ae-971b-17a3be80db8c",
   "metadata": {},
   "source": [
    "### Vytvoření ARRAY\n",
    "\n",
    "---"
   ]
  },
  {
   "cell_type": "code",
   "execution_count": null,
   "id": "ac47c679-35fc-4f99-9175-e51270d40ad0",
   "metadata": {
    "tags": []
   },
   "outputs": [],
   "source": [
    "import numpy as np"
   ]
  },
  {
   "cell_type": "markdown",
   "id": "a74d0883-f39a-40c9-ac97-93dc70b68be3",
   "metadata": {},
   "source": [
    "<br>\n",
    "\n",
    "#### Pomocí built-in sekvencí\n",
    "\n",
    "---"
   ]
  },
  {
   "cell_type": "markdown",
   "id": "266fd3ca-5123-4c33-be9e-d50f6f6a387f",
   "metadata": {},
   "source": [
    "Můžeš jednoduše konvertovat built-in datové typy v Pythonu na `numpy` pole:"
   ]
  },
  {
   "cell_type": "code",
   "execution_count": null,
   "id": "4966f05e-27aa-498c-876c-33cf8effb066",
   "metadata": {
    "tags": []
   },
   "outputs": [],
   "source": [
    "muj_range: range = range(3)\n",
    "muj_list: list = [3, 4, 5]\n",
    "muj_tuple: tuple = (6, 7, 8)"
   ]
  },
  {
   "cell_type": "code",
   "execution_count": null,
   "id": "b7d9ebc6-7fd0-46a5-8183-29e1180a7a84",
   "metadata": {
    "tags": []
   },
   "outputs": [],
   "source": [
    "muj_list_arr = np.array(muj_list)\n",
    "muj_tuple_arr = np.array(muj_tuple)\n",
    "muj_range_arr = np.array(muj_range)"
   ]
  },
  {
   "cell_type": "code",
   "execution_count": null,
   "id": "835530d7-51b3-4eef-b299-f9b61b348e5c",
   "metadata": {
    "tags": []
   },
   "outputs": [
    {
     "data": {
      "text/plain": [
       "array([3, 4, 5])"
      ]
     },
     "execution_count": 48,
     "metadata": {},
     "output_type": "execute_result"
    }
   ],
   "source": [
    "muj_list_arr"
   ]
  },
  {
   "cell_type": "code",
   "execution_count": null,
   "id": "fc00b732-bf9a-4604-8fb1-95ee84962c2b",
   "metadata": {
    "tags": []
   },
   "outputs": [
    {
     "data": {
      "text/plain": [
       "numpy.ndarray"
      ]
     },
     "execution_count": 42,
     "metadata": {},
     "output_type": "execute_result"
    }
   ],
   "source": [
    "type(muj_list_arr)"
   ]
  },
  {
   "cell_type": "markdown",
   "id": "4c0470fd-cec4-421f-9980-dcdf061ce927",
   "metadata": {},
   "source": [
    "<br>\n",
    "\n",
    "Atribut `dtype` neví nic o datovém typu objektu, jen jakým objekty je naplněný:"
   ]
  },
  {
   "cell_type": "code",
   "execution_count": null,
   "id": "6d45c8f2-eb54-4930-acec-3da24653176f",
   "metadata": {
    "tags": []
   },
   "outputs": [
    {
     "data": {
      "text/plain": [
       "dtype('int64')"
      ]
     },
     "execution_count": 43,
     "metadata": {},
     "output_type": "execute_result"
    }
   ],
   "source": [
    "muj_list_arr.dtype"
   ]
  },
  {
   "cell_type": "code",
   "execution_count": null,
   "id": "6a220bd5-350c-4fc2-9c2f-063f155fdc42",
   "metadata": {},
   "outputs": [
    {
     "data": {
      "text/plain": [
       "True"
      ]
     },
     "execution_count": 44,
     "metadata": {},
     "output_type": "execute_result"
    }
   ],
   "source": [
    "isinstance(muj_list_arr, np.ndarray)"
   ]
  },
  {
   "cell_type": "code",
   "execution_count": null,
   "id": "7e9be087-1a94-4321-b8db-2626d9f4702e",
   "metadata": {
    "tags": []
   },
   "outputs": [
    {
     "data": {
      "text/plain": [
       "numpy.ndarray"
      ]
     },
     "execution_count": 45,
     "metadata": {},
     "output_type": "execute_result"
    }
   ],
   "source": [
    "type(muj_tuple_arr)"
   ]
  },
  {
   "cell_type": "code",
   "execution_count": null,
   "id": "972ca739",
   "metadata": {},
   "outputs": [
    {
     "data": {
      "text/plain": [
       "(3,)"
      ]
     },
     "execution_count": 49,
     "metadata": {},
     "output_type": "execute_result"
    }
   ],
   "source": [
    "muj_list_arr.shape"
   ]
  },
  {
   "cell_type": "code",
   "execution_count": null,
   "id": "8ed2a4d0",
   "metadata": {},
   "outputs": [
    {
     "data": {
      "text/plain": [
       "array([[1, 2, 3],\n",
       "       [2, 3, 4],\n",
       "       [3, 4, 5]])"
      ]
     },
     "execution_count": 50,
     "metadata": {},
     "output_type": "execute_result"
    }
   ],
   "source": [
    "muj_list_arr = np.array([\n",
    "    [1, 2, 3],\n",
    "    [2, 3, 4],\n",
    "    [3, 4, 5]\n",
    "])\n",
    "muj_list_arr"
   ]
  },
  {
   "cell_type": "code",
   "execution_count": null,
   "id": "8542e6ca",
   "metadata": {},
   "outputs": [
    {
     "data": {
      "text/plain": [
       "(3, 3)"
      ]
     },
     "execution_count": 51,
     "metadata": {},
     "output_type": "execute_result"
    }
   ],
   "source": [
    "muj_list_arr.shape"
   ]
  },
  {
   "cell_type": "markdown",
   "id": "c3b1d50e",
   "metadata": {},
   "source": [
    "![empty](img/empty.png)\n",
    "![zeros](img/zeros.png)\n",
    "\n",
    "![size](img/size.png)"
   ]
  },
  {
   "cell_type": "markdown",
   "id": "98b5530f-8948-4ab5-ad8d-3b8fd4606186",
   "metadata": {},
   "source": [
    "<br>\n",
    "\n",
    "#### Pomocí nul, funkce `zeros`\n",
    "\n",
    "---"
   ]
  },
  {
   "cell_type": "code",
   "execution_count": null,
   "id": "ece16619-6b78-4b0c-96b9-b58f71f9be52",
   "metadata": {
    "tags": []
   },
   "outputs": [],
   "source": [
    "jen_nuly = np.zeros([2, 5])  # Royal (rows) Crown (columns) cola "
   ]
  },
  {
   "cell_type": "code",
   "execution_count": null,
   "id": "c89b1ca1-9bb7-4517-8554-5f6c72c6fe62",
   "metadata": {
    "tags": []
   },
   "outputs": [
    {
     "data": {
      "text/plain": [
       "array([[0., 0., 0., 0., 0.],\n",
       "       [0., 0., 0., 0., 0.]])"
      ]
     },
     "execution_count": 53,
     "metadata": {},
     "output_type": "execute_result"
    }
   ],
   "source": [
    "jen_nuly"
   ]
  },
  {
   "cell_type": "code",
   "execution_count": null,
   "id": "555b9977-d6c9-4e01-bb9a-8e6bb20a0dbb",
   "metadata": {},
   "outputs": [
    {
     "data": {
      "text/plain": [
       "dtype('float64')"
      ]
     },
     "execution_count": 54,
     "metadata": {},
     "output_type": "execute_result"
    }
   ],
   "source": [
    "jen_nuly.dtype"
   ]
  },
  {
   "cell_type": "markdown",
   "id": "ca2f7301-4875-4dc5-903e-921a515f6337",
   "metadata": {},
   "source": [
    "<br>\n",
    "\n",
    "Pro jiný datový typ je potřeba explicitně zadat hodnotu:"
   ]
  },
  {
   "cell_type": "code",
   "execution_count": null,
   "id": "257a1347-2d41-4924-924d-9b136f7aa97a",
   "metadata": {
    "tags": []
   },
   "outputs": [],
   "source": [
    "jen_nuly = np.zeros([2, 5], dtype='int64')  # Royal (rows) Crown (columns) cola "
   ]
  },
  {
   "cell_type": "code",
   "execution_count": null,
   "id": "9f244d2b-e384-47d9-a3cc-f98c6cdbcab1",
   "metadata": {
    "tags": []
   },
   "outputs": [
    {
     "data": {
      "text/plain": [
       "array([[0, 0, 0, 0, 0],\n",
       "       [0, 0, 0, 0, 0]])"
      ]
     },
     "execution_count": 56,
     "metadata": {},
     "output_type": "execute_result"
    }
   ],
   "source": [
    "jen_nuly"
   ]
  },
  {
   "cell_type": "code",
   "execution_count": null,
   "id": "bf5b6985",
   "metadata": {},
   "outputs": [
    {
     "data": {
      "text/plain": [
       "dtype('int64')"
      ]
     },
     "execution_count": 57,
     "metadata": {},
     "output_type": "execute_result"
    }
   ],
   "source": [
    "jen_nuly.dtype"
   ]
  },
  {
   "cell_type": "markdown",
   "id": "6bbb5c10-f4fd-4ee0-b6f9-cf13acf4068c",
   "metadata": {},
   "source": [
    "<br>\n",
    "\n",
    "#### Pomocí jedniček, funkce `ones`\n",
    "\n",
    "---"
   ]
  },
  {
   "cell_type": "code",
   "execution_count": null,
   "id": "56879585-d91d-40bf-9c52-fbe471991acb",
   "metadata": {
    "tags": []
   },
   "outputs": [],
   "source": [
    "jen_jednicky = np.ones(shape=(2, 3), dtype=int)"
   ]
  },
  {
   "cell_type": "markdown",
   "id": "dd955f9c-ff22-489b-a2c5-395e9a3e6c36",
   "metadata": {},
   "source": [
    "Definice nového pole je možná i s klíčovými argumenty (parametr `shape`)."
   ]
  },
  {
   "cell_type": "code",
   "execution_count": null,
   "id": "5b0b2a9b-37bf-4e8a-90f3-18f15bc6e95c",
   "metadata": {
    "tags": []
   },
   "outputs": [],
   "source": [
    "# np.ones?"
   ]
  },
  {
   "cell_type": "code",
   "execution_count": null,
   "id": "ffd9b284-0cc1-43e7-bc0c-7c7bc0c39700",
   "metadata": {
    "tags": []
   },
   "outputs": [
    {
     "data": {
      "text/plain": [
       "dtype('int64')"
      ]
     },
     "execution_count": 60,
     "metadata": {},
     "output_type": "execute_result"
    }
   ],
   "source": [
    "jen_jednicky.dtype"
   ]
  },
  {
   "cell_type": "code",
   "execution_count": null,
   "id": "70d2eaba-8577-4803-89e3-4d8d4d95176e",
   "metadata": {
    "tags": []
   },
   "outputs": [
    {
     "data": {
      "text/plain": [
       "array([[1, 1, 1],\n",
       "       [1, 1, 1]])"
      ]
     },
     "execution_count": 61,
     "metadata": {},
     "output_type": "execute_result"
    }
   ],
   "source": [
    "jen_jednicky"
   ]
  },
  {
   "cell_type": "markdown",
   "id": "8d0b9884-1465-4a80-9c8f-50d2308ff57f",
   "metadata": {},
   "source": [
    "<br>\n",
    "\n",
    "#### Pomocí defaultní výplňové hodnoty, funkce `full`\n",
    "\n",
    "---"
   ]
  },
  {
   "cell_type": "code",
   "execution_count": null,
   "id": "dd91576c-a24c-4927-9ec1-f745436bdf1a",
   "metadata": {
    "tags": []
   },
   "outputs": [],
   "source": [
    "jen_pi = np.full(shape=(3, 5), fill_value=np.pi)  # math, math.pi"
   ]
  },
  {
   "cell_type": "code",
   "execution_count": null,
   "id": "76338ae5-7a7a-43ce-b3a2-c608d104bf61",
   "metadata": {
    "tags": []
   },
   "outputs": [
    {
     "data": {
      "text/plain": [
       "array([[3.14159265, 3.14159265, 3.14159265, 3.14159265, 3.14159265],\n",
       "       [3.14159265, 3.14159265, 3.14159265, 3.14159265, 3.14159265],\n",
       "       [3.14159265, 3.14159265, 3.14159265, 3.14159265, 3.14159265]])"
      ]
     },
     "execution_count": 63,
     "metadata": {},
     "output_type": "execute_result"
    }
   ],
   "source": [
    "jen_pi"
   ]
  },
  {
   "cell_type": "markdown",
   "id": "2bc1efb8-43bf-425c-a478-73e2e3926378",
   "metadata": {},
   "source": [
    "<br>\n",
    "\n",
    "#### Pomocí rozsahů, funkce `arange`\n",
    "\n",
    "---"
   ]
  },
  {
   "cell_type": "markdown",
   "id": "92a7d7e6-b9ac-407e-b9e6-dd0b0985bcce",
   "metadata": {},
   "source": [
    "Velmi intuitivně zadavaná datová struktura, podobně jako u Python `range`:"
   ]
  },
  {
   "cell_type": "code",
   "execution_count": null,
   "id": "12799a04-1bb1-48e3-b5a4-0a7d85c1e714",
   "metadata": {
    "tags": []
   },
   "outputs": [],
   "source": [
    "interval_arr = np.arange(start=0, stop=10, step=1)"
   ]
  },
  {
   "cell_type": "code",
   "execution_count": null,
   "id": "15554662-36af-4efe-972f-27c546ce37e2",
   "metadata": {
    "tags": []
   },
   "outputs": [
    {
     "data": {
      "text/plain": [
       "array([0, 1, 2, 3, 4, 5, 6, 7, 8, 9])"
      ]
     },
     "execution_count": 65,
     "metadata": {},
     "output_type": "execute_result"
    }
   ],
   "source": [
    "interval_arr"
   ]
  },
  {
   "cell_type": "code",
   "execution_count": null,
   "id": "3feef3d3-b400-4d71-8d2a-cf5bdec6f032",
   "metadata": {
    "tags": []
   },
   "outputs": [
    {
     "data": {
      "text/plain": [
       "numpy.ndarray"
      ]
     },
     "execution_count": 66,
     "metadata": {},
     "output_type": "execute_result"
    }
   ],
   "source": [
    "type(interval_arr)"
   ]
  },
  {
   "cell_type": "code",
   "execution_count": null,
   "id": "d208b8fe-bd39-4d98-b52d-79577f5a1576",
   "metadata": {
    "tags": []
   },
   "outputs": [
    {
     "data": {
      "text/plain": [
       "dtype('int64')"
      ]
     },
     "execution_count": 67,
     "metadata": {},
     "output_type": "execute_result"
    }
   ],
   "source": [
    "interval_arr.dtype"
   ]
  },
  {
   "cell_type": "markdown",
   "id": "ca943443-e58a-4496-a69f-7d04c1cb4451",
   "metadata": {},
   "source": [
    "<br>\n",
    "\n",
    "Narozdíl od standardní knihovny umí `numpy` arrange objekt tvořit intervaly i s pomocí desetinných čísel."
   ]
  },
  {
   "cell_type": "code",
   "execution_count": null,
   "id": "f262a995-34a8-4448-a3e1-6b2500853966",
   "metadata": {
    "tags": []
   },
   "outputs": [],
   "source": [
    "interval_arr = np.arange(start=0, stop=1, step=0.1, dtype='float64')"
   ]
  },
  {
   "cell_type": "code",
   "execution_count": null,
   "id": "211a5ce2-931e-4e95-8a21-df4b54f010fa",
   "metadata": {},
   "outputs": [
    {
     "data": {
      "text/plain": [
       "array([0. , 0.1, 0.2, 0.3, 0.4, 0.5, 0.6, 0.7, 0.8, 0.9])"
      ]
     },
     "execution_count": 69,
     "metadata": {},
     "output_type": "execute_result"
    }
   ],
   "source": [
    "interval_arr"
   ]
  },
  {
   "cell_type": "markdown",
   "id": "cacccbcc-151f-4b11-8243-70ba48ffdce3",
   "metadata": {},
   "source": [
    "<br>\n",
    "\n",
    "#### Pomocí náhodných celých čísel, funkce `random`\n",
    "\n",
    "---"
   ]
  },
  {
   "cell_type": "code",
   "execution_count": null,
   "id": "05c2968d-b011-4843-bb4f-45d363ccab31",
   "metadata": {},
   "outputs": [],
   "source": [
    "# from random import randint"
   ]
  },
  {
   "cell_type": "code",
   "execution_count": null,
   "id": "6df4115e-3236-4896-958c-57e643edb4c0",
   "metadata": {
    "tags": []
   },
   "outputs": [],
   "source": [
    "random_hodnoty = np.random.randint(low=0, high=6, size=(2, 4))"
   ]
  },
  {
   "cell_type": "code",
   "execution_count": null,
   "id": "e2689bf5-fa54-4a4e-b4be-713b4a2f83bf",
   "metadata": {
    "tags": []
   },
   "outputs": [
    {
     "data": {
      "text/plain": [
       "array([[1, 4, 2, 0],\n",
       "       [1, 0, 2, 3]])"
      ]
     },
     "execution_count": 71,
     "metadata": {},
     "output_type": "execute_result"
    }
   ],
   "source": [
    "random_hodnoty"
   ]
  },
  {
   "cell_type": "code",
   "execution_count": null,
   "id": "d76a11bc-69e2-4c2d-903e-c7ae18514df3",
   "metadata": {
    "tags": []
   },
   "outputs": [
    {
     "data": {
      "text/plain": [
       "numpy.ndarray"
      ]
     },
     "execution_count": 72,
     "metadata": {},
     "output_type": "execute_result"
    }
   ],
   "source": [
    "type(random_hodnoty)"
   ]
  },
  {
   "cell_type": "code",
   "execution_count": null,
   "id": "b8856ea4-6fb7-4a48-b691-f55e59b17515",
   "metadata": {},
   "outputs": [],
   "source": [
    "poradi = len(range(10))  # 10"
   ]
  },
  {
   "cell_type": "markdown",
   "id": "5a5edb0c-8a65-4dfd-be64-319be6a60d40",
   "metadata": {},
   "source": [
    "<br>\n",
    "\n",
    "Občas je vhodnější tvořit rozsahy dynamicky, než statickou (hárdkódovanou) hodnotou:"
   ]
  },
  {
   "cell_type": "code",
   "execution_count": null,
   "id": "954c9558-ab46-4257-aedc-33ff18399750",
   "metadata": {
    "tags": []
   },
   "outputs": [],
   "source": [
    "random_hodnoty = np.random.randint(low=0, high=66, size=poradi)"
   ]
  },
  {
   "cell_type": "code",
   "execution_count": null,
   "id": "d476b461-3452-4e65-8a97-fc09a5227572",
   "metadata": {},
   "outputs": [
    {
     "data": {
      "text/plain": [
       "(np.int64(19),\n",
       " np.int64(45),\n",
       " np.int64(3),\n",
       " np.int64(28),\n",
       " np.int64(54),\n",
       " np.int64(2),\n",
       " np.int64(11),\n",
       " np.int64(37),\n",
       " np.int64(63),\n",
       " np.int64(7))"
      ]
     },
     "execution_count": 75,
     "metadata": {},
     "output_type": "execute_result"
    }
   ],
   "source": [
    "tuple(random_hodnoty)"
   ]
  },
  {
   "cell_type": "code",
   "execution_count": null,
   "id": "f5ec794c",
   "metadata": {},
   "outputs": [
    {
     "name": "stdout",
     "output_type": "stream",
     "text": [
      "2.97 μs ± 272 ns per loop (mean ± std. dev. of 7 runs, 100,000 loops each)\n"
     ]
    }
   ],
   "source": [
    "%%timeit \n",
    "# The special functions are often optimized for this task \n",
    "# (optimization is in C, we do not need those details; but if you can use special function - do it!)\n",
    "pole_s_0 = np.zeros((100, 100))"
   ]
  },
  {
   "cell_type": "code",
   "execution_count": null,
   "id": "b98a1c61",
   "metadata": {},
   "outputs": [
    {
     "name": "stdout",
     "output_type": "stream",
     "text": [
      "6.06 μs ± 312 ns per loop (mean ± std. dev. of 7 runs, 100,000 loops each)\n"
     ]
    }
   ],
   "source": [
    "%%timeit \n",
    "pole_s_0 = np.full((100, 100), 0)"
   ]
  },
  {
   "cell_type": "code",
   "execution_count": null,
   "id": "05aa2120",
   "metadata": {},
   "outputs": [
    {
     "name": "stdout",
     "output_type": "stream",
     "text": [
      "46.9 μs ± 2.26 μs per loop (mean ± std. dev. of 7 runs, 10,000 loops each)\n"
     ]
    }
   ],
   "source": [
    "%%timeit \n",
    "seznam_s_0 = [[0] * 100 for _ in range(100)]"
   ]
  },
  {
   "cell_type": "code",
   "execution_count": null,
   "id": "26ccff46",
   "metadata": {},
   "outputs": [
    {
     "name": "stdout",
     "output_type": "stream",
     "text": [
      "860 ns ± 44.3 ns per loop (mean ± std. dev. of 7 runs, 1,000,000 loops each)\n"
     ]
    }
   ],
   "source": [
    "%%timeit \n",
    "pole_z_range = np.arange(100)"
   ]
  },
  {
   "cell_type": "code",
   "execution_count": null,
   "id": "c95b7333",
   "metadata": {},
   "outputs": [
    {
     "name": "stdout",
     "output_type": "stream",
     "text": [
      "1.04 μs ± 48.4 ns per loop (mean ± std. dev. of 7 runs, 1,000,000 loops each)\n"
     ]
    }
   ],
   "source": [
    "%%timeit \n",
    "seznam_z_range = list(range(100))"
   ]
  },
  {
   "cell_type": "markdown",
   "id": "fbe8f7f4-e536-4b5e-948d-6d3ba6853291",
   "metadata": {},
   "source": [
    "<br>\n",
    "\n",
    "#### Jednodimenzionální pole\n",
    "\n",
    "---"
   ]
  },
  {
   "cell_type": "code",
   "execution_count": null,
   "id": "028d3727-49b5-4158-923f-fa11cf656949",
   "metadata": {
    "tags": []
   },
   "outputs": [],
   "source": [
    "m1 = np.random.randint(low=1, high=10, size=6)"
   ]
  },
  {
   "cell_type": "code",
   "execution_count": null,
   "id": "65c6a5a0-ebda-4c14-a7a7-e0b6a36893a6",
   "metadata": {
    "tags": []
   },
   "outputs": [
    {
     "data": {
      "text/plain": [
       "array([5, 8, 9, 1, 1, 7])"
      ]
     },
     "execution_count": 9,
     "metadata": {},
     "output_type": "execute_result"
    }
   ],
   "source": [
    "m1"
   ]
  },
  {
   "cell_type": "markdown",
   "id": "4abea888-71a7-4967-9086-6c343fa53f2d",
   "metadata": {},
   "source": [
    "<br>\n",
    "\n",
    "Tedy prakticky jednoduché pole, které se na první pohled neliší tolik od `list`."
   ]
  },
  {
   "cell_type": "markdown",
   "id": "b41162fd-213a-437f-afba-8e9f376f3372",
   "metadata": {
    "tags": []
   },
   "source": [
    "#### Dvoudimenzionální pole\n",
    "\n",
    "---"
   ]
  },
  {
   "cell_type": "code",
   "execution_count": null,
   "id": "ae337020-3866-4356-89bb-e063283a3f19",
   "metadata": {
    "tags": []
   },
   "outputs": [],
   "source": [
    "m2 = np.random.randint(10, size=(2, 3))"
   ]
  },
  {
   "cell_type": "code",
   "execution_count": null,
   "id": "fe181acd-5503-405f-9ce3-49f0c1e78aec",
   "metadata": {
    "tags": []
   },
   "outputs": [
    {
     "data": {
      "text/plain": [
       "array([[6, 0, 9],\n",
       "       [1, 9, 8]])"
      ]
     },
     "execution_count": 11,
     "metadata": {},
     "output_type": "execute_result"
    }
   ],
   "source": [
    "m2"
   ]
  },
  {
   "cell_type": "markdown",
   "id": "ba3bce62-303c-44ac-b083-544dcb6f8a57",
   "metadata": {},
   "source": [
    "<br>\n",
    "\n",
    "Definicí oznamuješ:\n",
    "1. `10`, vyber náhodné celé čísla z intervalu `0-9`,\n",
    "2. vytvoř **2 řádky**,\n",
    "3. .. o **3 sloupcích**."
   ]
  },
  {
   "cell_type": "markdown",
   "id": "50617b42-f6d7-4f46-93b6-f29669a14476",
   "metadata": {
    "tags": []
   },
   "source": [
    "#### Třídimenzionální pole\n",
    "\n",
    "---"
   ]
  },
  {
   "cell_type": "code",
   "execution_count": null,
   "id": "fee8115a-c379-48dd-86e5-591441801904",
   "metadata": {
    "tags": []
   },
   "outputs": [],
   "source": [
    "m3 = np.random.randint(10, size=(2, 3, 4))  # implicitní zadání \"high\""
   ]
  },
  {
   "cell_type": "code",
   "execution_count": null,
   "id": "64ec9beb-c137-4bf1-9267-5f46fbfadcd6",
   "metadata": {
    "tags": []
   },
   "outputs": [
    {
     "data": {
      "text/plain": [
       "array([[[5, 1, 1, 7],\n",
       "        [2, 5, 6, 9],\n",
       "        [1, 2, 7, 1]],\n",
       "\n",
       "       [[3, 1, 6, 7],\n",
       "        [0, 5, 5, 3],\n",
       "        [0, 3, 1, 3]]])"
      ]
     },
     "execution_count": 13,
     "metadata": {},
     "output_type": "execute_result"
    }
   ],
   "source": [
    "m3"
   ]
  },
  {
   "cell_type": "markdown",
   "id": "9aa46537-c457-43c5-990d-f7367adc737a",
   "metadata": {},
   "source": [
    "<br>\n",
    "\n",
    "Definicí oznamuješ:\n",
    "1. `10`, vyber náhodné celé čísla z intervalu `0-9`,\n",
    "2. vytvoř **2 matice**,\n",
    "3. .. o **3 řádcích**,\n",
    "4. .. a **4 sloupcích**."
   ]
  },
  {
   "cell_type": "markdown",
   "id": "98baf75b-7133-49b3-a6de-a6b49f54674d",
   "metadata": {},
   "source": [
    "<br>\n",
    "\n",
    "### Atributy pro ARRAY\n",
    "\n",
    "---\n",
    "\n"
   ]
  },
  {
   "cell_type": "markdown",
   "id": "fbe914ea-0473-48b9-81cc-09c57ad0286d",
   "metadata": {},
   "source": [
    "Pokud budeš potřebovat prozkoumat existující `array`, můžeš vyzkoušet tyto atributy a metody:\n",
    "1. **Dimenze**,\n",
    "2. **tvar**,\n",
    "3. **velikost**,\n",
    "4. **datové typy**,\n",
    "5. **bajtová velikost**."
   ]
  },
  {
   "cell_type": "markdown",
   "id": "88acdfef-0ce5-4a06-86ab-0dfe96245970",
   "metadata": {},
   "source": [
    "#### Dimenze matice\n",
    "\n",
    "---"
   ]
  },
  {
   "cell_type": "code",
   "execution_count": null,
   "id": "eace91e6-bd40-4ebf-a7d7-d872bcdf9b13",
   "metadata": {
    "tags": []
   },
   "outputs": [
    {
     "data": {
      "text/plain": [
       "3"
      ]
     },
     "execution_count": 14,
     "metadata": {},
     "output_type": "execute_result"
    }
   ],
   "source": [
    "m3.ndim"
   ]
  },
  {
   "cell_type": "code",
   "execution_count": null,
   "id": "0e8a7ef7-e084-4b7a-a7d6-6e5026abd58c",
   "metadata": {
    "tags": []
   },
   "outputs": [
    {
     "data": {
      "text/plain": [
       "2"
      ]
     },
     "execution_count": 15,
     "metadata": {},
     "output_type": "execute_result"
    }
   ],
   "source": [
    "m2.ndim"
   ]
  },
  {
   "cell_type": "markdown",
   "id": "ef2658d0-f36e-488c-89aa-6fea5ee53d21",
   "metadata": {},
   "source": [
    "<br>\n",
    "\n",
    "#### Tvar matice\n",
    "\n",
    "---"
   ]
  },
  {
   "cell_type": "code",
   "execution_count": null,
   "id": "4ff953d9-8275-4a7e-b9d4-525da790c058",
   "metadata": {
    "tags": []
   },
   "outputs": [
    {
     "data": {
      "text/plain": [
       "(2, 3, 4)"
      ]
     },
     "execution_count": 16,
     "metadata": {},
     "output_type": "execute_result"
    }
   ],
   "source": [
    "m3.shape"
   ]
  },
  {
   "cell_type": "code",
   "execution_count": null,
   "id": "0cd7341c-0194-44dd-99af-ec794945ea45",
   "metadata": {},
   "outputs": [
    {
     "data": {
      "text/plain": [
       "(2, 3)"
      ]
     },
     "execution_count": 17,
     "metadata": {},
     "output_type": "execute_result"
    }
   ],
   "source": [
    "m2.shape"
   ]
  },
  {
   "cell_type": "code",
   "execution_count": null,
   "id": "83b4b0da-c544-424c-b38c-aeb35a9008ee",
   "metadata": {},
   "outputs": [
    {
     "data": {
      "text/plain": [
       "array([[6, 0, 9],\n",
       "       [1, 9, 8]])"
      ]
     },
     "execution_count": 18,
     "metadata": {},
     "output_type": "execute_result"
    }
   ],
   "source": [
    "m2"
   ]
  },
  {
   "cell_type": "markdown",
   "id": "7baa93da-6f15-4f89-89b7-aec3b329e604",
   "metadata": {},
   "source": [
    "<br>\n",
    "\n",
    "#### Velikost matice\n",
    "\n",
    "---"
   ]
  },
  {
   "cell_type": "code",
   "execution_count": null,
   "id": "819b137e-696a-4f33-a30b-7a58fb8df450",
   "metadata": {
    "tags": []
   },
   "outputs": [
    {
     "data": {
      "text/plain": [
       "24"
      ]
     },
     "execution_count": 19,
     "metadata": {},
     "output_type": "execute_result"
    }
   ],
   "source": [
    "m3.size"
   ]
  },
  {
   "cell_type": "markdown",
   "id": "36e828a7-775d-495a-b399-b2ec7a915795",
   "metadata": {},
   "source": [
    "<br>\n",
    "\n",
    "#### Datový typ\n",
    "\n",
    "---"
   ]
  },
  {
   "cell_type": "code",
   "execution_count": null,
   "id": "61453d44-7475-4615-a9ca-23e3f7d218fe",
   "metadata": {
    "tags": []
   },
   "outputs": [
    {
     "data": {
      "text/plain": [
       "dtype('int64')"
      ]
     },
     "execution_count": 20,
     "metadata": {},
     "output_type": "execute_result"
    }
   ],
   "source": [
    "m3.dtype"
   ]
  },
  {
   "cell_type": "markdown",
   "id": "bd255979-9bbb-41c1-a0b9-715ef2d00d14",
   "metadata": {},
   "source": [
    "<br>\n",
    "\n",
    "#### Velikost v bajtech\n",
    "\n",
    "---"
   ]
  },
  {
   "cell_type": "code",
   "execution_count": null,
   "id": "f8861b88-64b9-461d-b052-eb1767a7d944",
   "metadata": {
    "tags": []
   },
   "outputs": [
    {
     "data": {
      "text/plain": [
       "192"
      ]
     },
     "execution_count": 21,
     "metadata": {},
     "output_type": "execute_result"
    }
   ],
   "source": [
    "m3.nbytes"
   ]
  },
  {
   "cell_type": "markdown",
   "id": "df070749-9502-487c-a895-873b8fbbcdb4",
   "metadata": {},
   "source": [
    "<br>\n",
    "\n",
    "Jde o součin atributů **size** * **itemsize**."
   ]
  },
  {
   "cell_type": "markdown",
   "id": "1cf3cd73-0852-41fd-af4e-7ad2b63ab2f2",
   "metadata": {},
   "source": [
    "<br>\n",
    "\n",
    "### Indexování ARRAY\n",
    "\n",
    "---\n",
    "\n"
   ]
  },
  {
   "cell_type": "markdown",
   "id": "aa376451-ccf4-4bef-85ff-aa4b85ac6588",
   "metadata": {},
   "source": [
    "Postup vypadá podobně jako pro sekvenční datové typy v Pythonu.\n",
    "\n",
    "Pomocí hranaté závorky a celého čísla, můžeš zpřístupnit konkrétní hodnotu/ hodnoty."
   ]
  },
  {
   "cell_type": "markdown",
   "id": "6b4c7594-1c9f-4dde-bcfa-9f1d2e5b0854",
   "metadata": {},
   "source": [
    "<br>\n",
    "\n",
    "##### Jednodimenzionální"
   ]
  },
  {
   "cell_type": "code",
   "execution_count": null,
   "id": "c13585e4-4204-4fef-a41d-f42ddb6e9be8",
   "metadata": {
    "tags": []
   },
   "outputs": [
    {
     "data": {
      "text/plain": [
       "array([5, 8, 9, 1, 1, 7])"
      ]
     },
     "execution_count": 22,
     "metadata": {},
     "output_type": "execute_result"
    }
   ],
   "source": [
    "m1"
   ]
  },
  {
   "cell_type": "code",
   "execution_count": null,
   "id": "31516677-d6db-4075-99e2-c20fe102eb18",
   "metadata": {
    "tags": []
   },
   "outputs": [
    {
     "data": {
      "text/plain": [
       "np.int64(5)"
      ]
     },
     "execution_count": 23,
     "metadata": {},
     "output_type": "execute_result"
    }
   ],
   "source": [
    "m1[0]"
   ]
  },
  {
   "cell_type": "code",
   "execution_count": null,
   "id": "dc89440c-a552-49df-b8ec-07629b2a5d4e",
   "metadata": {
    "tags": []
   },
   "outputs": [
    {
     "data": {
      "text/plain": [
       "np.int64(8)"
      ]
     },
     "execution_count": 24,
     "metadata": {},
     "output_type": "execute_result"
    }
   ],
   "source": [
    "m1[1]"
   ]
  },
  {
   "cell_type": "code",
   "execution_count": null,
   "id": "53fb2abe-1dd3-4ad6-a0ae-a37dcfa681c1",
   "metadata": {
    "tags": []
   },
   "outputs": [
    {
     "data": {
      "text/plain": [
       "np.int64(7)"
      ]
     },
     "execution_count": 25,
     "metadata": {},
     "output_type": "execute_result"
    }
   ],
   "source": [
    "m1[-1]"
   ]
  },
  {
   "cell_type": "markdown",
   "id": "cfb303f3-3df2-48c3-9088-05d371f28964",
   "metadata": {},
   "source": [
    "<br>\n",
    "\n",
    "##### Dvoudimenzionální"
   ]
  },
  {
   "cell_type": "code",
   "execution_count": null,
   "id": "2a0bbdfd-7738-4165-9d84-1e96e59d71c5",
   "metadata": {
    "tags": []
   },
   "outputs": [
    {
     "data": {
      "text/plain": [
       "array([[6, 0, 9],\n",
       "       [1, 9, 8]])"
      ]
     },
     "execution_count": 26,
     "metadata": {},
     "output_type": "execute_result"
    }
   ],
   "source": [
    "m2"
   ]
  },
  {
   "cell_type": "code",
   "execution_count": null,
   "id": "255eb512-bcd6-4885-b261-3807afaf3c9d",
   "metadata": {
    "tags": []
   },
   "outputs": [
    {
     "data": {
      "text/plain": [
       "array([6, 0, 9])"
      ]
     },
     "execution_count": 27,
     "metadata": {},
     "output_type": "execute_result"
    }
   ],
   "source": [
    "m2[0]"
   ]
  },
  {
   "cell_type": "code",
   "execution_count": null,
   "id": "f6c8e12c-40c8-4ad5-8d82-453aa5522273",
   "metadata": {
    "tags": []
   },
   "outputs": [
    {
     "data": {
      "text/plain": [
       "np.int64(6)"
      ]
     },
     "execution_count": 28,
     "metadata": {},
     "output_type": "execute_result"
    }
   ],
   "source": [
    "m2[0][0]"
   ]
  },
  {
   "cell_type": "code",
   "execution_count": null,
   "id": "50a14692-f7d2-437f-8a68-32a7efc6d8c8",
   "metadata": {
    "tags": []
   },
   "outputs": [
    {
     "data": {
      "text/plain": [
       "np.int64(6)"
      ]
     },
     "execution_count": 29,
     "metadata": {},
     "output_type": "execute_result"
    }
   ],
   "source": [
    "m2[0, 0]"
   ]
  },
  {
   "cell_type": "markdown",
   "id": "8b93d058-5266-4329-9fc7-e749dce45c56",
   "metadata": {},
   "source": [
    "<br>\n",
    "\n",
    "Pomocí indexů zpřístupníš hodnotu na konkrétní pozici a můžeš ji modifikovat:"
   ]
  },
  {
   "cell_type": "code",
   "execution_count": null,
   "id": "9a594ff9-e9d1-4d59-b3bb-da48fad7b20a",
   "metadata": {
    "tags": []
   },
   "outputs": [
    {
     "data": {
      "text/plain": [
       "array([[6, 0, 9],\n",
       "       [1, 9, 8]])"
      ]
     },
     "execution_count": 30,
     "metadata": {},
     "output_type": "execute_result"
    }
   ],
   "source": [
    "m2"
   ]
  },
  {
   "cell_type": "code",
   "execution_count": null,
   "id": "441633bf-9a75-4f72-8db2-dfd02eb2fc33",
   "metadata": {
    "tags": []
   },
   "outputs": [],
   "source": [
    "el_m2 = m2[0, 0]"
   ]
  },
  {
   "cell_type": "code",
   "execution_count": null,
   "id": "0b669f7a-9fc2-4b44-a0c7-fe711084b75a",
   "metadata": {
    "tags": []
   },
   "outputs": [
    {
     "data": {
      "text/plain": [
       "np.int64(6)"
      ]
     },
     "execution_count": 32,
     "metadata": {},
     "output_type": "execute_result"
    }
   ],
   "source": [
    "el_m2"
   ]
  },
  {
   "cell_type": "code",
   "execution_count": null,
   "id": "6f68be9c-1d4e-4d4d-8454-508bcfedf761",
   "metadata": {
    "tags": []
   },
   "outputs": [],
   "source": [
    "m2[0, 0] = 11"
   ]
  },
  {
   "cell_type": "code",
   "execution_count": null,
   "id": "38633021-274a-45c9-bc65-156ed1db62d4",
   "metadata": {
    "tags": []
   },
   "outputs": [
    {
     "data": {
      "text/plain": [
       "array([[11,  0,  9],\n",
       "       [ 1,  9,  8]])"
      ]
     },
     "execution_count": 34,
     "metadata": {},
     "output_type": "execute_result"
    }
   ],
   "source": [
    "m2"
   ]
  },
  {
   "cell_type": "markdown",
   "id": "dfdc5455-d57f-44a6-ab1c-0ba176161849",
   "metadata": {},
   "source": [
    "<br>\n",
    "\n",
    "Dávej pozor na datové typy. Pokud budeš chtít přidat jiný datový typ:"
   ]
  },
  {
   "cell_type": "code",
   "execution_count": null,
   "id": "3f21ab0a-35c1-452b-8e30-9ec59f93b318",
   "metadata": {
    "tags": []
   },
   "outputs": [],
   "source": [
    "m2[0, 0] = 11.111"
   ]
  },
  {
   "cell_type": "code",
   "execution_count": null,
   "id": "37196afb-99ce-452b-8874-85ffc467518f",
   "metadata": {
    "tags": []
   },
   "outputs": [
    {
     "data": {
      "text/plain": [
       "array([[11,  0,  9],\n",
       "       [ 1,  9,  8]])"
      ]
     },
     "execution_count": 36,
     "metadata": {},
     "output_type": "execute_result"
    }
   ],
   "source": [
    "m2"
   ]
  },
  {
   "cell_type": "markdown",
   "id": "a96124d0-f9f0-441a-a7a8-77c4bb3e5164",
   "metadata": {},
   "source": [
    "Výsledek bude na pozadí *truncatovaný*."
   ]
  },
  {
   "cell_type": "code",
   "execution_count": null,
   "id": "b6a80f30-c80e-46ef-a59d-f670109e9181",
   "metadata": {
    "tags": []
   },
   "outputs": [
    {
     "ename": "ValueError",
     "evalue": "invalid literal for int() with base 10: 'jedenáct'",
     "output_type": "error",
     "traceback": [
      "\u001b[0;31m---------------------------------------------------------------------------\u001b[0m",
      "\u001b[0;31mValueError\u001b[0m                                Traceback (most recent call last)",
      "Cell \u001b[0;32mIn[37], line 1\u001b[0m\n\u001b[0;32m----> 1\u001b[0m \u001b[43mm2\u001b[49m\u001b[43m[\u001b[49m\u001b[38;5;241;43m0\u001b[39;49m\u001b[43m,\u001b[49m\u001b[43m \u001b[49m\u001b[38;5;241;43m0\u001b[39;49m\u001b[43m]\u001b[49m \u001b[38;5;241m=\u001b[39m \u001b[38;5;124m\"\u001b[39m\u001b[38;5;124mjedenáct\u001b[39m\u001b[38;5;124m\"\u001b[39m\n",
      "\u001b[0;31mValueError\u001b[0m: invalid literal for int() with base 10: 'jedenáct'"
     ]
    }
   ],
   "source": [
    "m2[0, 0] = \"jedenáct\""
   ]
  },
  {
   "cell_type": "markdown",
   "id": "416e803a-329b-4da1-84ff-224b550515b4",
   "metadata": {},
   "source": [
    "<br>\n",
    "\n",
    "### Slicing ARRAY\n",
    "\n",
    "---\n",
    "\n"
   ]
  },
  {
   "cell_type": "markdown",
   "id": "0879559b-e45e-4226-ab3c-4c395e7f2619",
   "metadata": {},
   "source": [
    "Podobně jako u zpřístupňování jednotlivých hodnot, můžeš tvořit *subarrays*.\n",
    "\n",
    "Postup je opět velmi podobný pro *slicing* u sekvenčních hodnot."
   ]
  },
  {
   "cell_type": "markdown",
   "id": "1770ef55-a20a-484a-94b0-fd9045040bd1",
   "metadata": {},
   "source": [
    "Je doporučené udávat všechny argumenty, protože implicitní dosazování defaultních hodnot může mást uživatele."
   ]
  },
  {
   "cell_type": "code",
   "execution_count": null,
   "id": "0329c7bd-2e8d-49ee-9665-8c7c30ee1bd6",
   "metadata": {
    "tags": []
   },
   "outputs": [
    {
     "data": {
      "text/plain": [
       "array([[11,  0,  9],\n",
       "       [ 1,  9,  8]])"
      ]
     },
     "execution_count": 38,
     "metadata": {},
     "output_type": "execute_result"
    }
   ],
   "source": [
    "m2"
   ]
  },
  {
   "cell_type": "code",
   "execution_count": null,
   "id": "a938e821-4a87-4031-a37b-10b0ae786a2d",
   "metadata": {
    "tags": []
   },
   "outputs": [
    {
     "data": {
      "text/plain": [
       "array([[11,  0,  9]])"
      ]
     },
     "execution_count": 39,
     "metadata": {},
     "output_type": "execute_result"
    }
   ],
   "source": [
    "m2[0:1]"
   ]
  },
  {
   "cell_type": "code",
   "execution_count": null,
   "id": "dcf5436d-7789-402d-95e5-09457597434f",
   "metadata": {
    "tags": []
   },
   "outputs": [
    {
     "data": {
      "text/plain": [
       "array([[11,  0],\n",
       "       [ 1,  9]])"
      ]
     },
     "execution_count": 40,
     "metadata": {},
     "output_type": "execute_result"
    }
   ],
   "source": [
    "m2[:, :2]"
   ]
  },
  {
   "cell_type": "code",
   "execution_count": null,
   "id": "fb7d2de5",
   "metadata": {},
   "outputs": [
    {
     "data": {
      "text/plain": [
       "array([1, 9])"
      ]
     },
     "execution_count": 41,
     "metadata": {},
     "output_type": "execute_result"
    }
   ],
   "source": [
    "m2[1, :2]"
   ]
  },
  {
   "cell_type": "markdown",
   "id": "d35b1d77-d54b-47f0-bcac-a26c684a563e",
   "metadata": {},
   "source": [
    "<br>\n",
    "\n",
    "Pro více dimenzí, dva řádky a jeden sloupec:"
   ]
  },
  {
   "cell_type": "code",
   "execution_count": null,
   "id": "1df07173-3038-4628-a7e1-0c90196a73d1",
   "metadata": {
    "tags": []
   },
   "outputs": [],
   "source": [
    "dva_radky_jeden_sloupec = m2[:2, :1]"
   ]
  },
  {
   "cell_type": "code",
   "execution_count": null,
   "id": "fb1f20c4-9c41-45e9-9d64-a20ad0ea5a4b",
   "metadata": {
    "tags": []
   },
   "outputs": [
    {
     "data": {
      "text/plain": [
       "array([[11],\n",
       "       [ 1]])"
      ]
     },
     "execution_count": 43,
     "metadata": {},
     "output_type": "execute_result"
    }
   ],
   "source": [
    "dva_radky_jeden_sloupec"
   ]
  },
  {
   "cell_type": "code",
   "execution_count": null,
   "id": "0ccc32e6-84fe-49f4-a4ba-f5ef523eddea",
   "metadata": {
    "tags": []
   },
   "outputs": [],
   "source": [
    "jeden_radek_jeden_sloupec = m2[::2, :1]"
   ]
  },
  {
   "cell_type": "code",
   "execution_count": null,
   "id": "cbed3652-802a-4629-83e2-7ed444633189",
   "metadata": {
    "tags": []
   },
   "outputs": [
    {
     "data": {
      "text/plain": [
       "array([[11]])"
      ]
     },
     "execution_count": 45,
     "metadata": {},
     "output_type": "execute_result"
    }
   ],
   "source": [
    "jeden_radek_jeden_sloupec"
   ]
  },
  {
   "cell_type": "markdown",
   "id": "0fae416a-5d58-4bab-b002-40e20fa4a222",
   "metadata": {},
   "source": [
    "<br>\n",
    "\n",
    "Pokud pracuješ se *subarrays*, používáš pohledy originální hodnoty."
   ]
  },
  {
   "cell_type": "code",
   "execution_count": null,
   "id": "cd2aaa5a-35f1-4346-a2ee-5875da2d8881",
   "metadata": {
    "tags": []
   },
   "outputs": [
    {
     "data": {
      "text/plain": [
       "array([[11],\n",
       "       [ 1]])"
      ]
     },
     "execution_count": 46,
     "metadata": {},
     "output_type": "execute_result"
    }
   ],
   "source": [
    "dva_radky_jeden_sloupec"
   ]
  },
  {
   "cell_type": "code",
   "execution_count": null,
   "id": "c7e9516b-91b9-4c5e-8fe1-c140f2c86cf2",
   "metadata": {
    "tags": []
   },
   "outputs": [],
   "source": [
    "dva_radky_jeden_sloupec[0, 0] = 13"
   ]
  },
  {
   "cell_type": "code",
   "execution_count": null,
   "id": "30e98451-8ac7-4c7d-8464-56404c6b1480",
   "metadata": {
    "tags": []
   },
   "outputs": [
    {
     "data": {
      "text/plain": [
       "array([[13],\n",
       "       [ 1]])"
      ]
     },
     "execution_count": 48,
     "metadata": {},
     "output_type": "execute_result"
    }
   ],
   "source": [
    "dva_radky_jeden_sloupec"
   ]
  },
  {
   "cell_type": "code",
   "execution_count": null,
   "id": "ef6fb1c7-4b30-46a7-976f-912912326896",
   "metadata": {
    "tags": []
   },
   "outputs": [
    {
     "data": {
      "text/plain": [
       "array([[13,  0,  9],\n",
       "       [ 1,  9,  8]])"
      ]
     },
     "execution_count": 49,
     "metadata": {},
     "output_type": "execute_result"
    }
   ],
   "source": [
    "m2"
   ]
  },
  {
   "cell_type": "markdown",
   "id": "682c2b21-860f-4356-8528-f01194844934",
   "metadata": {},
   "source": [
    "<br>\n",
    "\n",
    "Pokud potřebuješ přesto nachystat kopii a ponechat původní hodnoty nezměněné, vyzkoušej metodu `copy`:"
   ]
  },
  {
   "cell_type": "code",
   "execution_count": null,
   "id": "8115a375-88fd-443f-a671-3e0d3ebac7de",
   "metadata": {
    "tags": []
   },
   "outputs": [],
   "source": [
    "kopie_dva_radky_jeden_sloupec = m2[:2, :1].copy()"
   ]
  },
  {
   "cell_type": "code",
   "execution_count": null,
   "id": "e71c657c-90da-47d9-bbbc-a5f2be329bcf",
   "metadata": {
    "tags": []
   },
   "outputs": [
    {
     "data": {
      "text/plain": [
       "array([[13],\n",
       "       [ 1]])"
      ]
     },
     "execution_count": 51,
     "metadata": {},
     "output_type": "execute_result"
    }
   ],
   "source": [
    "kopie_dva_radky_jeden_sloupec"
   ]
  },
  {
   "cell_type": "code",
   "execution_count": null,
   "id": "582ea2b1-86e5-4aa9-8f0c-0e9ec25eb716",
   "metadata": {},
   "outputs": [],
   "source": [
    "kopie_dva_radky_jeden_sloupec[0, 0] = 22"
   ]
  },
  {
   "cell_type": "code",
   "execution_count": null,
   "id": "ca059456-96cd-47f6-83bc-26b6b6a828b0",
   "metadata": {},
   "outputs": [
    {
     "data": {
      "text/plain": [
       "array([[22],\n",
       "       [ 1]])"
      ]
     },
     "execution_count": 53,
     "metadata": {},
     "output_type": "execute_result"
    }
   ],
   "source": [
    "kopie_dva_radky_jeden_sloupec"
   ]
  },
  {
   "cell_type": "code",
   "execution_count": null,
   "id": "ef2dc885-e50d-4938-9867-471154975697",
   "metadata": {
    "tags": []
   },
   "outputs": [
    {
     "data": {
      "text/plain": [
       "array([[13,  0,  9],\n",
       "       [ 1,  9,  8]])"
      ]
     },
     "execution_count": 54,
     "metadata": {},
     "output_type": "execute_result"
    }
   ],
   "source": [
    "m2"
   ]
  },
  {
   "cell_type": "markdown",
   "id": "9542bcb7-56e2-433d-8eb3-cac474f57000",
   "metadata": {},
   "source": [
    "<br>\n",
    "\n",
    "### Přetváření ARRAY\n",
    "\n",
    "---\n",
    "\n"
   ]
  },
  {
   "cell_type": "markdown",
   "id": "530f9edf-63f0-4fd0-80eb-390cad3a9df9",
   "metadata": {},
   "source": [
    "Jestli budeš potřebovat změnit tvar pole nebo matice, vyzkoušej metodu `reshape`:"
   ]
  },
  {
   "cell_type": "code",
   "execution_count": null,
   "id": "980be446-2c73-4fb0-8d96-25748a1d6045",
   "metadata": {
    "tags": []
   },
   "outputs": [
    {
     "data": {
      "text/plain": [
       "array([[13,  0,  9],\n",
       "       [ 1,  9,  8]])"
      ]
     },
     "execution_count": 55,
     "metadata": {},
     "output_type": "execute_result"
    }
   ],
   "source": [
    "m2"
   ]
  },
  {
   "cell_type": "code",
   "execution_count": null,
   "id": "5d77fc94-0f93-42d0-b465-927f4930fb7a",
   "metadata": {
    "tags": []
   },
   "outputs": [],
   "source": [
    "m2[0, 0] = 11"
   ]
  },
  {
   "cell_type": "code",
   "execution_count": null,
   "id": "321db73c-91c3-4644-81d0-6326ba91e160",
   "metadata": {
    "tags": []
   },
   "outputs": [
    {
     "data": {
      "text/plain": [
       "array([[11,  0,  9],\n",
       "       [ 1,  9,  8]])"
      ]
     },
     "execution_count": 57,
     "metadata": {},
     "output_type": "execute_result"
    }
   ],
   "source": [
    "m2"
   ]
  },
  {
   "cell_type": "code",
   "execution_count": null,
   "id": "8b91a3a9",
   "metadata": {},
   "outputs": [
    {
     "data": {
      "text/plain": [
       "array([[11,  7],\n",
       "       [ 7,  9],\n",
       "       [ 3,  0]])"
      ]
     },
     "execution_count": 169,
     "metadata": {},
     "output_type": "execute_result"
    }
   ],
   "source": [
    "m2.reshape((3, 2))"
   ]
  },
  {
   "cell_type": "code",
   "execution_count": null,
   "id": "f70b8309",
   "metadata": {},
   "outputs": [
    {
     "data": {
      "text/plain": [
       "array([[11,  0,  9],\n",
       "       [ 1,  9,  8]])"
      ]
     },
     "execution_count": 59,
     "metadata": {},
     "output_type": "execute_result"
    }
   ],
   "source": [
    "m2"
   ]
  },
  {
   "cell_type": "code",
   "execution_count": null,
   "id": "8a4f3f41",
   "metadata": {},
   "outputs": [
    {
     "data": {
      "text/plain": [
       "array([[11,  0],\n",
       "       [ 9,  1],\n",
       "       [ 9,  8]])"
      ]
     },
     "execution_count": 60,
     "metadata": {},
     "output_type": "execute_result"
    }
   ],
   "source": [
    "m2_reshaped = m2.reshape((3, 2))\n",
    "m2_reshaped"
   ]
  },
  {
   "cell_type": "code",
   "execution_count": null,
   "id": "0bd261bc",
   "metadata": {},
   "outputs": [
    {
     "data": {
      "text/plain": [
       "array([[-1,  0],\n",
       "       [ 9,  1],\n",
       "       [ 9,  8]])"
      ]
     },
     "execution_count": 61,
     "metadata": {},
     "output_type": "execute_result"
    }
   ],
   "source": [
    "# Often numpy gives just a view, not a copy\n",
    "m2_reshaped[0, 0] = -1\n",
    "m2_reshaped"
   ]
  },
  {
   "cell_type": "code",
   "execution_count": null,
   "id": "7c73b834",
   "metadata": {},
   "outputs": [
    {
     "data": {
      "text/plain": [
       "array([[-1,  0,  9],\n",
       "       [ 1,  9,  8]])"
      ]
     },
     "execution_count": 62,
     "metadata": {},
     "output_type": "execute_result"
    }
   ],
   "source": [
    "m2"
   ]
  },
  {
   "cell_type": "markdown",
   "id": "4935d824-34a5-45c8-a915-56b20b7de1bb",
   "metadata": {},
   "source": [
    "<br>\n",
    "\n",
    "Vytvoříš si jednodimenzionální pole s pomocí funkce `arange`:"
   ]
  },
  {
   "cell_type": "code",
   "execution_count": 182,
   "id": "3b2769cf-f894-41c4-b664-ee2894633ebb",
   "metadata": {
    "tags": []
   },
   "outputs": [],
   "source": [
    "pole_1D = np.arange(1, 11)"
   ]
  },
  {
   "cell_type": "code",
   "execution_count": 183,
   "id": "04f5eb3c-49fd-439a-829e-a3783c994ca6",
   "metadata": {
    "tags": []
   },
   "outputs": [
    {
     "data": {
      "text/plain": [
       "array([ 1,  2,  3,  4,  5,  6,  7,  8,  9, 10])"
      ]
     },
     "execution_count": 183,
     "metadata": {},
     "output_type": "execute_result"
    }
   ],
   "source": [
    "pole_1D"
   ]
  },
  {
   "cell_type": "markdown",
   "id": "3bc3ed4e-3a57-45cf-9512-fc5aa50450ce",
   "metadata": {},
   "source": [
    "<br>\n",
    "\n",
    "Nachystám 2D pole, matici, pomocí metody `reshape`:"
   ]
  },
  {
   "cell_type": "code",
   "execution_count": 184,
   "id": "db345708-5a50-4069-a91f-5c7a3e492132",
   "metadata": {
    "tags": []
   },
   "outputs": [],
   "source": [
    "matice = pole_1D.reshape(2, 5)"
   ]
  },
  {
   "cell_type": "code",
   "execution_count": 185,
   "id": "04b5ec2d-fe55-4f19-8830-2d33a3298f79",
   "metadata": {
    "tags": []
   },
   "outputs": [
    {
     "data": {
      "text/plain": [
       "array([[ 1,  2,  3,  4,  5],\n",
       "       [ 6,  7,  8,  9, 10]])"
      ]
     },
     "execution_count": 185,
     "metadata": {},
     "output_type": "execute_result"
    }
   ],
   "source": [
    "matice"
   ]
  },
  {
   "cell_type": "code",
   "execution_count": 186,
   "id": "d917eb15",
   "metadata": {},
   "outputs": [
    {
     "data": {
      "text/plain": [
       "(10,)"
      ]
     },
     "execution_count": 186,
     "metadata": {},
     "output_type": "execute_result"
    }
   ],
   "source": [
    "# Pocet prvku u reshape musi zustat stejny!\n",
    "pole_1D.shape"
   ]
  },
  {
   "cell_type": "code",
   "execution_count": 187,
   "id": "860d0f33",
   "metadata": {},
   "outputs": [
    {
     "ename": "ValueError",
     "evalue": "cannot reshape array of size 10 into shape (3,3)",
     "output_type": "error",
     "traceback": [
      "\u001b[0;31m---------------------------------------------------------------------------\u001b[0m",
      "\u001b[0;31mValueError\u001b[0m                                Traceback (most recent call last)",
      "Cell \u001b[0;32mIn[187], line 1\u001b[0m\n\u001b[0;32m----> 1\u001b[0m \u001b[43mpole_1D\u001b[49m\u001b[38;5;241;43m.\u001b[39;49m\u001b[43mreshape\u001b[49m\u001b[43m(\u001b[49m\u001b[43m(\u001b[49m\u001b[38;5;241;43m3\u001b[39;49m\u001b[43m,\u001b[49m\u001b[43m \u001b[49m\u001b[38;5;241;43m3\u001b[39;49m\u001b[43m)\u001b[49m\u001b[43m)\u001b[49m\n",
      "\u001b[0;31mValueError\u001b[0m: cannot reshape array of size 10 into shape (3,3)"
     ]
    }
   ],
   "source": [
    "pole_1D.reshape((3, 3))"
   ]
  },
  {
   "cell_type": "code",
   "execution_count": null,
   "id": "98031033",
   "metadata": {},
   "outputs": [],
   "source": [
    "# naopak resize umi i padding!\n",
    "\n",
    "pole = np.array([1, 2, 3, 4, 5, 6])\n",
    "pole.resize((2, 4))  # in-place!"
   ]
  },
  {
   "cell_type": "code",
   "execution_count": 189,
   "id": "24b547f6",
   "metadata": {},
   "outputs": [
    {
     "data": {
      "text/plain": [
       "array([[1, 2, 3, 4],\n",
       "       [5, 6, 0, 0]])"
      ]
     },
     "execution_count": 189,
     "metadata": {},
     "output_type": "execute_result"
    }
   ],
   "source": [
    "pole"
   ]
  },
  {
   "cell_type": "code",
   "execution_count": 191,
   "id": "1de845f7",
   "metadata": {},
   "outputs": [
    {
     "data": {
      "text/plain": [
       "array([[1, 2],\n",
       "       [3, 4]])"
      ]
     },
     "execution_count": 191,
     "metadata": {},
     "output_type": "execute_result"
    }
   ],
   "source": [
    "pole = np.array([1, 2, 3, 4, 5, 6])\n",
    "pole.resize((2, 2))\n",
    "pole"
   ]
  },
  {
   "cell_type": "code",
   "execution_count": 192,
   "id": "78be0f73",
   "metadata": {},
   "outputs": [
    {
     "ename": "ValueError",
     "evalue": "cannot resize an array that references or is referenced\nby another array in this way.\nUse the np.resize function or refcheck=False",
     "output_type": "error",
     "traceback": [
      "\u001b[0;31m---------------------------------------------------------------------------\u001b[0m",
      "\u001b[0;31mValueError\u001b[0m                                Traceback (most recent call last)",
      "Cell \u001b[0;32mIn[192], line 1\u001b[0m\n\u001b[0;32m----> 1\u001b[0m \u001b[43mpole\u001b[49m\u001b[38;5;241;43m.\u001b[39;49m\u001b[43mresize\u001b[49m\u001b[43m(\u001b[49m\u001b[43m(\u001b[49m\u001b[38;5;241;43m3\u001b[39;49m\u001b[43m,\u001b[49m\u001b[43m \u001b[49m\u001b[38;5;241;43m2\u001b[39;49m\u001b[43m)\u001b[49m\u001b[43m)\u001b[49m\n",
      "\u001b[0;31mValueError\u001b[0m: cannot resize an array that references or is referenced\nby another array in this way.\nUse the np.resize function or refcheck=False"
     ]
    }
   ],
   "source": [
    "pole.resize((3, 2))"
   ]
  },
  {
   "cell_type": "code",
   "execution_count": null,
   "id": "97e32111",
   "metadata": {},
   "outputs": [
    {
     "data": {
      "text/plain": [
       "array([[1, 2]])"
      ]
     },
     "execution_count": 193,
     "metadata": {},
     "output_type": "execute_result"
    }
   ],
   "source": [
    "np.resize(pole, (1, 2))  # NOT in-place"
   ]
  },
  {
   "cell_type": "markdown",
   "id": "529208c9-7336-4f53-a73e-302d978deaac",
   "metadata": {},
   "source": [
    "<br>\n",
    "\n",
    "Pomocí metody `reshape` můžeš také měnit **řádkový vektor za sloupcový**:"
   ]
  },
  {
   "cell_type": "code",
   "execution_count": 102,
   "id": "5b928e44-10ad-4624-b8bd-efd1bf74c537",
   "metadata": {
    "tags": []
   },
   "outputs": [],
   "source": [
    "import numpy as np"
   ]
  },
  {
   "cell_type": "code",
   "execution_count": 103,
   "id": "b2f7fe5b-1b86-4a9c-839d-7cadac5b6238",
   "metadata": {
    "tags": []
   },
   "outputs": [],
   "source": [
    "radkovy_vektor = np.array((11, 22, 33, 44))"
   ]
  },
  {
   "cell_type": "code",
   "execution_count": 104,
   "id": "704ece22-59bb-4033-9a13-be58d43cfa98",
   "metadata": {
    "tags": []
   },
   "outputs": [
    {
     "data": {
      "text/plain": [
       "array([11, 22, 33, 44])"
      ]
     },
     "execution_count": 104,
     "metadata": {},
     "output_type": "execute_result"
    }
   ],
   "source": [
    "radkovy_vektor"
   ]
  },
  {
   "cell_type": "code",
   "execution_count": 105,
   "id": "60fca28a",
   "metadata": {},
   "outputs": [
    {
     "data": {
      "text/plain": [
       "(4,)"
      ]
     },
     "execution_count": 105,
     "metadata": {},
     "output_type": "execute_result"
    }
   ],
   "source": [
    "radkovy_vektor.shape"
   ]
  },
  {
   "cell_type": "code",
   "execution_count": 106,
   "id": "4c513ae7-bfed-4e1e-a72a-a925081b57a6",
   "metadata": {
    "tags": []
   },
   "outputs": [],
   "source": [
    "r =  radkovy_vektor[np.newaxis, :]"
   ]
  },
  {
   "cell_type": "code",
   "execution_count": 107,
   "id": "13925d0e-c45e-4f91-baea-e02f03aed750",
   "metadata": {
    "tags": []
   },
   "outputs": [
    {
     "data": {
      "text/plain": [
       "array([[11, 22, 33, 44]])"
      ]
     },
     "execution_count": 107,
     "metadata": {},
     "output_type": "execute_result"
    }
   ],
   "source": [
    "r"
   ]
  },
  {
   "cell_type": "code",
   "execution_count": 108,
   "id": "2941ebab",
   "metadata": {},
   "outputs": [
    {
     "data": {
      "text/plain": [
       "(1, 4)"
      ]
     },
     "execution_count": 108,
     "metadata": {},
     "output_type": "execute_result"
    }
   ],
   "source": [
    "r.shape"
   ]
  },
  {
   "cell_type": "code",
   "execution_count": 109,
   "id": "f3b7131e-7d51-44c2-ad5b-086e2a6f8aff",
   "metadata": {
    "tags": []
   },
   "outputs": [
    {
     "data": {
      "text/plain": [
       "array([[11],\n",
       "       [22],\n",
       "       [33],\n",
       "       [44]])"
      ]
     },
     "execution_count": 109,
     "metadata": {},
     "output_type": "execute_result"
    }
   ],
   "source": [
    "r.T"
   ]
  },
  {
   "cell_type": "code",
   "execution_count": 113,
   "id": "9275201f-7e48-4ea7-aceb-9258beec5d1e",
   "metadata": {
    "tags": []
   },
   "outputs": [
    {
     "data": {
      "text/plain": [
       "array([[11, 22, 33, 44]])"
      ]
     },
     "execution_count": 113,
     "metadata": {},
     "output_type": "execute_result"
    }
   ],
   "source": [
    "radkovy_vektor[np.newaxis, :]"
   ]
  },
  {
   "cell_type": "code",
   "execution_count": 114,
   "id": "e48f36c1",
   "metadata": {},
   "outputs": [
    {
     "data": {
      "text/plain": [
       "(1, 4)"
      ]
     },
     "execution_count": 114,
     "metadata": {},
     "output_type": "execute_result"
    }
   ],
   "source": [
    "radkovy_vektor[np.newaxis, :].shape"
   ]
  },
  {
   "cell_type": "code",
   "execution_count": 118,
   "id": "3e1617bf-3a63-4fe6-8159-fb44bcedd894",
   "metadata": {
    "tags": []
   },
   "outputs": [],
   "source": [
    "x = np.expand_dims(radkovy_vektor, axis=0)"
   ]
  },
  {
   "cell_type": "code",
   "execution_count": 119,
   "id": "5a0d758d",
   "metadata": {},
   "outputs": [
    {
     "data": {
      "text/plain": [
       "array([[11, 22, 33, 44]])"
      ]
     },
     "execution_count": 119,
     "metadata": {},
     "output_type": "execute_result"
    }
   ],
   "source": [
    "x"
   ]
  },
  {
   "cell_type": "code",
   "execution_count": 120,
   "id": "ea9f2776",
   "metadata": {},
   "outputs": [
    {
     "data": {
      "text/plain": [
       "(1, 4)"
      ]
     },
     "execution_count": 120,
     "metadata": {},
     "output_type": "execute_result"
    }
   ],
   "source": [
    "x.shape"
   ]
  },
  {
   "cell_type": "code",
   "execution_count": 121,
   "id": "7f75b9d1",
   "metadata": {},
   "outputs": [
    {
     "data": {
      "text/plain": [
       "array([[11],\n",
       "       [22],\n",
       "       [33],\n",
       "       [44]])"
      ]
     },
     "execution_count": 121,
     "metadata": {},
     "output_type": "execute_result"
    }
   ],
   "source": [
    "radkovy_vektor[:, np.newaxis]"
   ]
  },
  {
   "cell_type": "code",
   "execution_count": 122,
   "id": "cf2ed8c7",
   "metadata": {},
   "outputs": [
    {
     "data": {
      "text/plain": [
       "(4, 1)"
      ]
     },
     "execution_count": 122,
     "metadata": {},
     "output_type": "execute_result"
    }
   ],
   "source": [
    "radkovy_vektor[:, np.newaxis].shape"
   ]
  },
  {
   "cell_type": "code",
   "execution_count": 123,
   "id": "7d8f704a-02c9-410a-8235-80771754c251",
   "metadata": {
    "tags": []
   },
   "outputs": [],
   "source": [
    "x = np.expand_dims(radkovy_vektor, axis=1)"
   ]
  },
  {
   "cell_type": "code",
   "execution_count": null,
   "id": "c0192b11-20f0-4670-98aa-b476b05af73c",
   "metadata": {
    "tags": []
   },
   "outputs": [],
   "source": [
    "# np.expand_dims?"
   ]
  },
  {
   "cell_type": "code",
   "execution_count": 124,
   "id": "6056ba71-4fb2-4476-b346-d6dd676674eb",
   "metadata": {
    "tags": []
   },
   "outputs": [
    {
     "data": {
      "text/plain": [
       "array([[11],\n",
       "       [22],\n",
       "       [33],\n",
       "       [44]])"
      ]
     },
     "execution_count": 124,
     "metadata": {},
     "output_type": "execute_result"
    }
   ],
   "source": [
    "x"
   ]
  },
  {
   "cell_type": "code",
   "execution_count": 125,
   "id": "1970e291",
   "metadata": {},
   "outputs": [
    {
     "data": {
      "text/plain": [
       "(4, 1)"
      ]
     },
     "execution_count": 125,
     "metadata": {},
     "output_type": "execute_result"
    }
   ],
   "source": [
    "x.shape"
   ]
  },
  {
   "cell_type": "markdown",
   "id": "581539a5-2413-4b03-a323-c570ecb378f9",
   "metadata": {},
   "source": [
    "#### Ukázka\n",
    "\n",
    "---"
   ]
  },
  {
   "cell_type": "markdown",
   "id": "03dd7666-2629-4af1-ab37-c25739648da9",
   "metadata": {},
   "source": [
    "Potřebuješ převést 1D pole na 2D matici, kde budeš mít 7 hodnot na řádek."
   ]
  },
  {
   "cell_type": "code",
   "execution_count": 193,
   "id": "17bf9a6f-004f-452c-967b-4940fb53e28a",
   "metadata": {
    "tags": []
   },
   "outputs": [],
   "source": [
    "temp_data = np.random.uniform(15, 36, size=30*7)  # 1D"
   ]
  },
  {
   "cell_type": "code",
   "execution_count": 194,
   "id": "3c48c540-7b85-4b84-9606-06d332e08dc1",
   "metadata": {
    "tags": []
   },
   "outputs": [],
   "source": [
    "# temp_data"
   ]
  },
  {
   "cell_type": "code",
   "execution_count": 195,
   "id": "a8fbd158-7bc1-4d7c-848f-a618f30a662f",
   "metadata": {
    "tags": []
   },
   "outputs": [
    {
     "data": {
      "text/plain": [
       "(210,)"
      ]
     },
     "execution_count": 195,
     "metadata": {},
     "output_type": "execute_result"
    }
   ],
   "source": [
    "temp_data.shape"
   ]
  },
  {
   "cell_type": "code",
   "execution_count": 196,
   "id": "c3ae78d0-87b4-451f-b0b0-46c375637233",
   "metadata": {
    "tags": []
   },
   "outputs": [
    {
     "data": {
      "text/plain": [
       "1"
      ]
     },
     "execution_count": 196,
     "metadata": {},
     "output_type": "execute_result"
    }
   ],
   "source": [
    "temp_data.ndim"
   ]
  },
  {
   "cell_type": "code",
   "execution_count": 197,
   "id": "85f0b40d-7c37-4c2e-9ed7-542eb81de1ef",
   "metadata": {},
   "outputs": [],
   "source": [
    "############ Po Ut St Ct Pa So Ne\n",
    "#01. tyden\n",
    "#02. tyden\n",
    "#03.\n",
    "#..."
   ]
  },
  {
   "cell_type": "code",
   "execution_count": 198,
   "id": "136eb682-2205-40e9-ba6d-29e3de97c26f",
   "metadata": {
    "tags": []
   },
   "outputs": [
    {
     "ename": "ValueError",
     "evalue": "cannot reshape array of size 210 into shape (2,7)",
     "output_type": "error",
     "traceback": [
      "\u001b[31m---------------------------------------------------------------------------\u001b[39m",
      "\u001b[31mValueError\u001b[39m                                Traceback (most recent call last)",
      "\u001b[36mCell\u001b[39m\u001b[36m \u001b[39m\u001b[32mIn[198]\u001b[39m\u001b[32m, line 1\u001b[39m\n\u001b[32m----> \u001b[39m\u001b[32m1\u001b[39m \u001b[43mtemp_data\u001b[49m\u001b[43m.\u001b[49m\u001b[43mreshape\u001b[49m\u001b[43m(\u001b[49m\u001b[32;43m2\u001b[39;49m\u001b[43m,\u001b[49m\u001b[43m \u001b[49m\u001b[32;43m7\u001b[39;49m\u001b[43m)\u001b[49m\n",
      "\u001b[31mValueError\u001b[39m: cannot reshape array of size 210 into shape (2,7)"
     ]
    }
   ],
   "source": [
    "temp_data.reshape(2, 7)"
   ]
  },
  {
   "cell_type": "code",
   "execution_count": 199,
   "id": "6e33fa33-6919-4984-8ae7-ae56f3cc38f4",
   "metadata": {
    "tags": []
   },
   "outputs": [
    {
     "data": {
      "text/plain": [
       "array([[21.33484849, 19.20984673, 26.08675266, 15.37656628, 28.68494677,\n",
       "        32.06512728, 34.19756207],\n",
       "       [29.72488191, 31.2137493 , 18.34785994, 17.56086412, 17.80692252,\n",
       "        16.76075236, 35.68895612],\n",
       "       [31.57654918, 23.36284721, 25.70320566, 24.97246219, 29.39093738,\n",
       "        33.63187069, 23.30115123],\n",
       "       [17.5678882 , 27.16064281, 23.53647334, 29.30275677, 33.06329541,\n",
       "        26.59754632, 32.74553312],\n",
       "       [22.98412173, 23.96708029, 27.28683255, 24.16436482, 15.06597222,\n",
       "        24.45441452, 23.14672938],\n",
       "       [20.19309736, 23.69525923, 19.52277467, 32.18129852, 21.3860548 ,\n",
       "        32.93468029, 18.75976992],\n",
       "       [35.17166606, 29.97141042, 20.07192013, 22.97023996, 27.939749  ,\n",
       "        21.08875855, 26.94648746],\n",
       "       [27.64091631, 16.68356837, 23.07965512, 28.71238907, 21.28865645,\n",
       "        33.90954465, 24.91088813],\n",
       "       [19.22344683, 27.43372617, 19.93385803, 26.06557841, 25.87180657,\n",
       "        15.06405425, 32.08047807],\n",
       "       [21.1121754 , 28.13801296, 30.67838409, 30.80713496, 17.32763567,\n",
       "        28.41719221, 28.90255904],\n",
       "       [34.91988966, 17.09398872, 16.03161909, 23.19440525, 19.15150746,\n",
       "        18.7112885 , 23.87693783],\n",
       "       [28.937246  , 23.30093736, 25.55100222, 27.02600082, 34.29149014,\n",
       "        22.51466297, 20.84422889],\n",
       "       [27.9880069 , 20.92898888, 28.19776208, 28.50480161, 27.84176267,\n",
       "        18.4439672 , 25.04041686],\n",
       "       [35.18713435, 19.02694641, 17.06146188, 35.10451421, 34.15865055,\n",
       "        24.49864449, 30.19879741],\n",
       "       [25.79858933, 19.33369264, 21.40855369, 33.60747092, 24.94683699,\n",
       "        18.96645128, 23.34179745],\n",
       "       [35.55010202, 17.2733309 , 16.05930817, 27.38586929, 18.1676054 ,\n",
       "        23.33013096, 25.99414321],\n",
       "       [23.86095022, 22.06205169, 26.85246206, 21.85209946, 24.45400457,\n",
       "        17.05196089, 28.96874212],\n",
       "       [28.5290581 , 22.11119776, 18.40755601, 19.62365778, 28.82768056,\n",
       "        22.30471148, 29.90235686],\n",
       "       [31.11653949, 35.00375301, 30.89561222, 18.35613453, 20.98979506,\n",
       "        34.37794908, 19.0989833 ],\n",
       "       [32.78106194, 30.65235376, 15.30476708, 17.96355034, 33.02984733,\n",
       "        18.35903514, 24.59254673],\n",
       "       [27.91863911, 17.2668845 , 19.83650069, 16.20251087, 21.80961672,\n",
       "        17.19808142, 33.31378734],\n",
       "       [29.96714154, 32.92387139, 20.33337559, 31.60696637, 35.42948893,\n",
       "        27.18655349, 25.22896156],\n",
       "       [27.30057581, 16.77530507, 33.45311633, 28.44112261, 30.29892878,\n",
       "        21.70237289, 32.14957587],\n",
       "       [23.70447831, 27.14333851, 21.59700476, 18.57513358, 17.07564841,\n",
       "        35.89824345, 16.58876578],\n",
       "       [26.91324225, 29.76185997, 19.78427443, 28.16860435, 22.11577613,\n",
       "        16.43492451, 28.8053611 ],\n",
       "       [15.38701434, 24.75311902, 30.43698662, 19.62714457, 21.50102462,\n",
       "        33.85799492, 32.00694952],\n",
       "       [32.43697774, 23.22319631, 27.26568048, 18.30783062, 19.80600832,\n",
       "        28.61490404, 27.78345069],\n",
       "       [35.92151673, 21.65578783, 29.01441602, 28.66564475, 22.3781679 ,\n",
       "        25.18006534, 20.30023993],\n",
       "       [25.14420788, 16.150069  , 34.31350036, 34.70485214, 22.97224744,\n",
       "        15.49360477, 34.43154494],\n",
       "       [34.51708894, 29.15328966, 32.16473314, 19.5751065 , 19.6558304 ,\n",
       "        25.7185047 , 25.25169068]])"
      ]
     },
     "execution_count": 199,
     "metadata": {},
     "output_type": "execute_result"
    }
   ],
   "source": [
    "temp_data.reshape(-1, 7)"
   ]
  },
  {
   "cell_type": "code",
   "execution_count": 200,
   "id": "bd922ee2-a37c-43bb-b047-a8691d221564",
   "metadata": {
    "tags": []
   },
   "outputs": [],
   "source": [
    "tydenni_temp_data = temp_data.reshape(-1, 7)"
   ]
  },
  {
   "cell_type": "code",
   "execution_count": 201,
   "id": "ad93863d-ea5b-4ca5-b4b1-b903df40d1d1",
   "metadata": {
    "tags": []
   },
   "outputs": [],
   "source": [
    "# tydenni_temp_data"
   ]
  },
  {
   "cell_type": "code",
   "execution_count": 202,
   "id": "cd4911db-b46b-4945-b1e3-6461258bdadd",
   "metadata": {
    "tags": []
   },
   "outputs": [
    {
     "data": {
      "text/plain": [
       "(30, 7)"
      ]
     },
     "execution_count": 202,
     "metadata": {},
     "output_type": "execute_result"
    }
   ],
   "source": [
    "tydenni_temp_data.shape"
   ]
  },
  {
   "cell_type": "code",
   "execution_count": 203,
   "id": "dbb5c2ee-ad69-4873-ade4-0196ef14609e",
   "metadata": {
    "tags": []
   },
   "outputs": [
    {
     "data": {
      "text/plain": [
       "2"
      ]
     },
     "execution_count": 203,
     "metadata": {},
     "output_type": "execute_result"
    }
   ],
   "source": [
    "tydenni_temp_data.ndim"
   ]
  },
  {
   "cell_type": "markdown",
   "id": "7bb2be05",
   "metadata": {},
   "source": [
    "![agg](agg.jpg)"
   ]
  },
  {
   "cell_type": "markdown",
   "id": "37f08283-1304-4d6d-ad80-47ac5c064ea8",
   "metadata": {},
   "source": [
    "<br>\n",
    "\n",
    "### Spojování a rozdělování\n",
    "\n",
    "---\n",
    "\n"
   ]
  },
  {
   "cell_type": "markdown",
   "id": "f84e80a9-9206-4b9f-9cdf-74589d5e81b4",
   "metadata": {},
   "source": [
    "Předchozí ukázky se vztahovaly pouze k jednomu poli, k jedné matici.\n",
    "\n",
    "Teď uvidíš, jak můžeš kombinovat několik těchto typů objektu."
   ]
  },
  {
   "cell_type": "markdown",
   "id": "ae931faa-8a5c-4d74-ae52-45948c70b448",
   "metadata": {},
   "source": [
    "#### Spojování"
   ]
  },
  {
   "cell_type": "markdown",
   "id": "760e892c-17d5-4221-9ea2-4d495509ea24",
   "metadata": {},
   "source": [
    "Pomocí metody `concatenate` spojíš dvě pole nebo dvě matice nebo více objektů:"
   ]
  },
  {
   "cell_type": "code",
   "execution_count": 126,
   "id": "3642d8ec-678e-4ec4-a26d-541858d2d9c8",
   "metadata": {
    "tags": []
   },
   "outputs": [],
   "source": [
    "pole_1 = np.arange(1, 6)\n",
    "pole_2 = np.array((6, 7, 8))"
   ]
  },
  {
   "cell_type": "code",
   "execution_count": 127,
   "id": "2fd92a6f-d137-4a6e-b767-1febb96081a2",
   "metadata": {
    "tags": []
   },
   "outputs": [
    {
     "data": {
      "text/plain": [
       "array([1, 2, 3, 4, 5])"
      ]
     },
     "execution_count": 127,
     "metadata": {},
     "output_type": "execute_result"
    }
   ],
   "source": [
    "pole_1"
   ]
  },
  {
   "cell_type": "code",
   "execution_count": 128,
   "id": "16267817-52fa-4e27-a040-97e398ac8942",
   "metadata": {
    "tags": []
   },
   "outputs": [
    {
     "data": {
      "text/plain": [
       "array([6, 7, 8])"
      ]
     },
     "execution_count": 128,
     "metadata": {},
     "output_type": "execute_result"
    }
   ],
   "source": [
    "pole_2"
   ]
  },
  {
   "cell_type": "code",
   "execution_count": 129,
   "id": "176ab279-a19f-48ac-893b-e64d70ac9186",
   "metadata": {
    "tags": []
   },
   "outputs": [
    {
     "ename": "TypeError",
     "evalue": "only integer scalar arrays can be converted to a scalar index",
     "output_type": "error",
     "traceback": [
      "\u001b[0;31m---------------------------------------------------------------------------\u001b[0m",
      "\u001b[0;31mTypeError\u001b[0m                                 Traceback (most recent call last)",
      "Cell \u001b[0;32mIn[129], line 1\u001b[0m\n\u001b[0;32m----> 1\u001b[0m spojene_pole \u001b[38;5;241m=\u001b[39m \u001b[43mnp\u001b[49m\u001b[38;5;241;43m.\u001b[39;49m\u001b[43mconcatenate\u001b[49m\u001b[43m(\u001b[49m\u001b[43mpole_1\u001b[49m\u001b[43m,\u001b[49m\u001b[43m \u001b[49m\u001b[43mpole_2\u001b[49m\u001b[43m)\u001b[49m\n",
      "\u001b[0;31mTypeError\u001b[0m: only integer scalar arrays can be converted to a scalar index"
     ]
    }
   ],
   "source": [
    "spojene_pole = np.concatenate(pole_1, pole_2)"
   ]
  },
  {
   "cell_type": "code",
   "execution_count": 130,
   "id": "819e82a4-361d-40ca-a3cb-d29e135042e2",
   "metadata": {
    "tags": []
   },
   "outputs": [],
   "source": [
    "spojene_pole = np.concatenate([pole_1, pole_2])"
   ]
  },
  {
   "cell_type": "code",
   "execution_count": 131,
   "id": "b6b7c4c7-dadc-4cd7-a6b8-490139d6f391",
   "metadata": {
    "tags": []
   },
   "outputs": [
    {
     "data": {
      "text/plain": [
       "array([1, 2, 3, 4, 5, 6, 7, 8])"
      ]
     },
     "execution_count": 131,
     "metadata": {},
     "output_type": "execute_result"
    }
   ],
   "source": [
    "spojene_pole"
   ]
  },
  {
   "cell_type": "code",
   "execution_count": 132,
   "id": "e273907f-d542-45fb-8f9d-c3ef54d8ded5",
   "metadata": {
    "tags": []
   },
   "outputs": [],
   "source": [
    "pole_2D_1 = np.random.randint(low=-15, high=15, size=(3, 2))"
   ]
  },
  {
   "cell_type": "code",
   "execution_count": 133,
   "id": "942b032c-0425-4f19-87a5-d24b94f4a35f",
   "metadata": {
    "tags": []
   },
   "outputs": [
    {
     "data": {
      "text/plain": [
       "array([[-13, -14],\n",
       "       [-11, -12],\n",
       "       [ -6,   2]])"
      ]
     },
     "execution_count": 133,
     "metadata": {},
     "output_type": "execute_result"
    }
   ],
   "source": [
    "pole_2D_1"
   ]
  },
  {
   "cell_type": "code",
   "execution_count": 134,
   "id": "e2599f09-60d8-4542-8465-6b6845a52088",
   "metadata": {
    "tags": []
   },
   "outputs": [],
   "source": [
    "pole_2D_2 = np.random.randint(low=-15, high=15, size=(5, 2))"
   ]
  },
  {
   "cell_type": "code",
   "execution_count": 135,
   "id": "eefa59b9-053e-493b-86e6-558b35ce7c40",
   "metadata": {
    "tags": []
   },
   "outputs": [
    {
     "data": {
      "text/plain": [
       "array([[-11,   0],\n",
       "       [ 10, -15],\n",
       "       [-15,   4],\n",
       "       [  6,  -6],\n",
       "       [ -4, -13]])"
      ]
     },
     "execution_count": 135,
     "metadata": {},
     "output_type": "execute_result"
    }
   ],
   "source": [
    "pole_2D_2"
   ]
  },
  {
   "cell_type": "code",
   "execution_count": 136,
   "id": "93be2346-c454-45cc-99d1-194cb00603de",
   "metadata": {
    "tags": []
   },
   "outputs": [],
   "source": [
    "pole_2D_3 = np.random.randint(low=-15, high=15, size=(3, 2))"
   ]
  },
  {
   "cell_type": "code",
   "execution_count": 137,
   "id": "84681a70-ff4e-4004-b1d9-bbf4eee45bfa",
   "metadata": {
    "tags": []
   },
   "outputs": [
    {
     "data": {
      "text/plain": [
       "array([[ -7, -11],\n",
       "       [ -2,  12],\n",
       "       [ -3,   7]])"
      ]
     },
     "execution_count": 137,
     "metadata": {},
     "output_type": "execute_result"
    }
   ],
   "source": [
    "pole_2D_3"
   ]
  },
  {
   "cell_type": "code",
   "execution_count": 138,
   "id": "cc014742-2f8c-419f-b1e0-1bf917cf0785",
   "metadata": {
    "tags": []
   },
   "outputs": [],
   "source": [
    "spojene_matice = np.concatenate([pole_2D_1, pole_2D_3], axis=1)"
   ]
  },
  {
   "cell_type": "code",
   "execution_count": 139,
   "id": "468d109a-d97e-44bd-9396-2a537b8f7710",
   "metadata": {
    "tags": []
   },
   "outputs": [
    {
     "data": {
      "text/plain": [
       "array([[-13, -14,  -7, -11],\n",
       "       [-11, -12,  -2,  12],\n",
       "       [ -6,   2,  -3,   7]])"
      ]
     },
     "execution_count": 139,
     "metadata": {},
     "output_type": "execute_result"
    }
   ],
   "source": [
    "spojene_matice"
   ]
  },
  {
   "cell_type": "code",
   "execution_count": 140,
   "id": "40ed856f-76cf-473d-8976-b149cd2167d8",
   "metadata": {
    "tags": []
   },
   "outputs": [],
   "source": [
    "spojene_matice = np.concatenate([pole_2D_1, pole_2D_2], axis=0)"
   ]
  },
  {
   "cell_type": "code",
   "execution_count": 141,
   "id": "ebd2f85e-ad0c-4f1c-acb1-bee4aa646496",
   "metadata": {
    "tags": []
   },
   "outputs": [
    {
     "data": {
      "text/plain": [
       "array([[-13, -14],\n",
       "       [-11, -12],\n",
       "       [ -6,   2],\n",
       "       [-11,   0],\n",
       "       [ 10, -15],\n",
       "       [-15,   4],\n",
       "       [  6,  -6],\n",
       "       [ -4, -13]])"
      ]
     },
     "execution_count": 141,
     "metadata": {},
     "output_type": "execute_result"
    }
   ],
   "source": [
    "spojene_matice"
   ]
  },
  {
   "cell_type": "markdown",
   "id": "97eaeb5c-bd26-425a-9259-0657fd05bc59",
   "metadata": {},
   "source": [
    "<br>\n",
    "\n",
    "Pokud nemáš pole nebo matice stejného rozměru, je lepší pracovat s funkcemi:\n",
    "1. `vstack`, vertikální napojení,\n",
    "2. `hstack`, horizontální napojení,"
   ]
  },
  {
   "cell_type": "code",
   "execution_count": 142,
   "id": "2d43ccc5-f2b3-41bd-9fc5-23b293997aca",
   "metadata": {
    "tags": []
   },
   "outputs": [
    {
     "data": {
      "text/plain": [
       "array([1, 2, 3, 4, 5])"
      ]
     },
     "execution_count": 142,
     "metadata": {},
     "output_type": "execute_result"
    }
   ],
   "source": [
    "pole_1"
   ]
  },
  {
   "cell_type": "code",
   "execution_count": 143,
   "id": "9a666fc6-25a5-4c3f-ad8e-99ef0501726a",
   "metadata": {
    "tags": []
   },
   "outputs": [
    {
     "data": {
      "text/plain": [
       "array([[-13, -14],\n",
       "       [-11, -12],\n",
       "       [ -6,   2]])"
      ]
     },
     "execution_count": 143,
     "metadata": {},
     "output_type": "execute_result"
    }
   ],
   "source": [
    "pole_2D_1"
   ]
  },
  {
   "cell_type": "code",
   "execution_count": 149,
   "id": "cda1537d",
   "metadata": {},
   "outputs": [
    {
     "data": {
      "text/plain": [
       "((5,), (3, 2))"
      ]
     },
     "execution_count": 149,
     "metadata": {},
     "output_type": "execute_result"
    }
   ],
   "source": [
    "pole_1.shape, pole_2D_1.shape"
   ]
  },
  {
   "cell_type": "code",
   "execution_count": 154,
   "id": "68d218c6",
   "metadata": {},
   "outputs": [
    {
     "ename": "ValueError",
     "evalue": "all the input array dimensions except for the concatenation axis must match exactly, but along dimension 1, the array at index 0 has size 5 and the array at index 1 has size 2",
     "output_type": "error",
     "traceback": [
      "\u001b[0;31m---------------------------------------------------------------------------\u001b[0m",
      "\u001b[0;31mValueError\u001b[0m                                Traceback (most recent call last)",
      "Cell \u001b[0;32mIn[154], line 1\u001b[0m\n\u001b[0;32m----> 1\u001b[0m rozsirene_2D \u001b[38;5;241m=\u001b[39m \u001b[43mnp\u001b[49m\u001b[38;5;241;43m.\u001b[39;49m\u001b[43mvstack\u001b[49m\u001b[43m(\u001b[49m\u001b[43m[\u001b[49m\u001b[43mpole_1\u001b[49m\u001b[43m,\u001b[49m\u001b[43m \u001b[49m\u001b[43mpole_2D_1\u001b[49m\u001b[43m]\u001b[49m\u001b[43m)\u001b[49m\n",
      "File \u001b[0;32m~/.pyenv/versions/3.11.1/lib/python3.11/site-packages/numpy/_core/shape_base.py:292\u001b[0m, in \u001b[0;36mvstack\u001b[0;34m(tup, dtype, casting)\u001b[0m\n\u001b[1;32m    290\u001b[0m \u001b[38;5;28;01mif\u001b[39;00m \u001b[38;5;129;01mnot\u001b[39;00m \u001b[38;5;28misinstance\u001b[39m(arrs, \u001b[38;5;28mtuple\u001b[39m):\n\u001b[1;32m    291\u001b[0m     arrs \u001b[38;5;241m=\u001b[39m (arrs,)\n\u001b[0;32m--> 292\u001b[0m \u001b[38;5;28;01mreturn\u001b[39;00m \u001b[43m_nx\u001b[49m\u001b[38;5;241;43m.\u001b[39;49m\u001b[43mconcatenate\u001b[49m\u001b[43m(\u001b[49m\u001b[43marrs\u001b[49m\u001b[43m,\u001b[49m\u001b[43m \u001b[49m\u001b[38;5;241;43m0\u001b[39;49m\u001b[43m,\u001b[49m\u001b[43m \u001b[49m\u001b[43mdtype\u001b[49m\u001b[38;5;241;43m=\u001b[39;49m\u001b[43mdtype\u001b[49m\u001b[43m,\u001b[49m\u001b[43m \u001b[49m\u001b[43mcasting\u001b[49m\u001b[38;5;241;43m=\u001b[39;49m\u001b[43mcasting\u001b[49m\u001b[43m)\u001b[49m\n",
      "\u001b[0;31mValueError\u001b[0m: all the input array dimensions except for the concatenation axis must match exactly, but along dimension 1, the array at index 0 has size 5 and the array at index 1 has size 2"
     ]
    }
   ],
   "source": [
    "rozsirene_2D = np.vstack([pole_1, pole_2D_1])"
   ]
  },
  {
   "cell_type": "code",
   "execution_count": 152,
   "id": "38fc1dc8",
   "metadata": {},
   "outputs": [
    {
     "data": {
      "text/plain": [
       "(1, 2)"
      ]
     },
     "execution_count": 152,
     "metadata": {},
     "output_type": "execute_result"
    }
   ],
   "source": [
    "pole_1_cut = pole_1[np.newaxis, :2]\n",
    "pole_1_cut.shape"
   ]
  },
  {
   "cell_type": "code",
   "execution_count": 155,
   "id": "1ecae11d-a185-4e68-a1a8-0d60b83e839e",
   "metadata": {
    "tags": []
   },
   "outputs": [],
   "source": [
    "rozsirene_2D = np.vstack([pole_1_cut, pole_2D_1])"
   ]
  },
  {
   "cell_type": "code",
   "execution_count": 156,
   "id": "d7f14513-3594-464f-8e5d-6551f1e42479",
   "metadata": {
    "tags": []
   },
   "outputs": [
    {
     "data": {
      "text/plain": [
       "(4, 2)"
      ]
     },
     "execution_count": 156,
     "metadata": {},
     "output_type": "execute_result"
    }
   ],
   "source": [
    "rozsirene_2D.shape"
   ]
  },
  {
   "cell_type": "code",
   "execution_count": 148,
   "id": "a8b93580-0dae-4b90-94fc-d359a5d8c8bf",
   "metadata": {
    "tags": []
   },
   "outputs": [
    {
     "data": {
      "text/plain": [
       "array([[  1,   2],\n",
       "       [-13, -14],\n",
       "       [-11, -12],\n",
       "       [ -6,   2]])"
      ]
     },
     "execution_count": 148,
     "metadata": {},
     "output_type": "execute_result"
    }
   ],
   "source": [
    "rozsirene_2D"
   ]
  },
  {
   "cell_type": "code",
   "execution_count": 158,
   "id": "08fba490",
   "metadata": {},
   "outputs": [],
   "source": [
    "# 2D -> 3D\n",
    "pole2d = np.array([[1, 2, 3], [4, 5, 6]])\n",
    "rozsirene = np.expand_dims(pole2d, axis=2)"
   ]
  },
  {
   "cell_type": "code",
   "execution_count": 159,
   "id": "227ed4a1",
   "metadata": {},
   "outputs": [
    {
     "data": {
      "text/plain": [
       "(2, 3, 1)"
      ]
     },
     "execution_count": 159,
     "metadata": {},
     "output_type": "execute_result"
    }
   ],
   "source": [
    "rozsirene.shape"
   ]
  },
  {
   "cell_type": "code",
   "execution_count": 161,
   "id": "65886143",
   "metadata": {},
   "outputs": [
    {
     "data": {
      "text/plain": [
       "(2, 3, 1)"
      ]
     },
     "execution_count": 161,
     "metadata": {},
     "output_type": "execute_result"
    }
   ],
   "source": [
    "pole2d[:, :, np.newaxis].shape"
   ]
  },
  {
   "cell_type": "code",
   "execution_count": 195,
   "id": "584253b1",
   "metadata": {},
   "outputs": [
    {
     "data": {
      "text/plain": [
       "(3, 4, 4)"
      ]
     },
     "execution_count": 195,
     "metadata": {},
     "output_type": "execute_result"
    }
   ],
   "source": [
    "# stack along new dimension\n",
    "obrazek_r = np.random.random((4, 4))\n",
    "obrazek_g = np.random.random((4, 4))\n",
    "obrazek_b = np.random.random((4, 4))\n",
    "np.stack([obrazek_r, obrazek_g, obrazek_b]).shape"
   ]
  },
  {
   "cell_type": "markdown",
   "id": "6c1fd144-85e9-4a6b-a53f-707940897701",
   "metadata": {},
   "source": [
    "#### Rozdělování\n",
    "\n",
    "Opakem spojování polí a matic je rozdělování, které je možné provést pomocí funkcí:\n",
    "1. `split`,\n",
    "2. `hsplit`,\n",
    "3. `vsplit`"
   ]
  },
  {
   "cell_type": "code",
   "execution_count": 162,
   "id": "e8e74c1b-1805-4926-87d4-2b3ae884974e",
   "metadata": {
    "tags": []
   },
   "outputs": [],
   "source": [
    "rada_arr = np.random.randint(low=100, high=200, size=(12))"
   ]
  },
  {
   "cell_type": "code",
   "execution_count": 163,
   "id": "0772f311-4184-4817-831f-59995c4d3980",
   "metadata": {
    "tags": []
   },
   "outputs": [
    {
     "data": {
      "text/plain": [
       "12"
      ]
     },
     "execution_count": 163,
     "metadata": {},
     "output_type": "execute_result"
    }
   ],
   "source": [
    "rada_arr.size"
   ]
  },
  {
   "cell_type": "code",
   "execution_count": 164,
   "id": "41a4acf2-68d6-4b34-96a2-a6d4fbcba83b",
   "metadata": {
    "tags": []
   },
   "outputs": [
    {
     "data": {
      "text/plain": [
       "array([177, 163, 193, 135, 118, 135, 185, 142, 198, 105, 129, 186])"
      ]
     },
     "execution_count": 164,
     "metadata": {},
     "output_type": "execute_result"
    }
   ],
   "source": [
    "rada_arr"
   ]
  },
  {
   "cell_type": "code",
   "execution_count": 165,
   "id": "3991a31c-fe01-4ca7-938d-ad205698bad5",
   "metadata": {
    "tags": []
   },
   "outputs": [],
   "source": [
    "r1, r2, r3 = np.split(rada_arr, [4, 8])"
   ]
  },
  {
   "cell_type": "code",
   "execution_count": 166,
   "id": "2161c891-e079-4532-ac3e-81dc99d1e65a",
   "metadata": {
    "tags": []
   },
   "outputs": [
    {
     "data": {
      "text/plain": [
       "(array([177, 163, 193, 135]),\n",
       " array([118, 135, 185, 142]),\n",
       " array([198, 105, 129, 186]))"
      ]
     },
     "execution_count": 166,
     "metadata": {},
     "output_type": "execute_result"
    }
   ],
   "source": [
    "r1, r2, r3"
   ]
  },
  {
   "cell_type": "markdown",
   "id": "a4a2d2b1-9f0f-4488-ad0a-d2ea84606d48",
   "metadata": {},
   "source": [
    "Takže dělení probíhá pomocí dělících indexů.\n",
    "\n",
    "Tedy máš vždy N indexů a N + 1 polí."
   ]
  },
  {
   "cell_type": "code",
   "execution_count": 167,
   "id": "f95b986d-5eb0-40f0-8289-e39f1a6c7a84",
   "metadata": {
    "tags": []
   },
   "outputs": [],
   "source": [
    "matice = rada_arr.reshape(3, 4)"
   ]
  },
  {
   "cell_type": "code",
   "execution_count": 168,
   "id": "515871fe-3824-4746-bcc9-a1a40ee81517",
   "metadata": {
    "tags": []
   },
   "outputs": [
    {
     "data": {
      "text/plain": [
       "array([[177, 163, 193, 135],\n",
       "       [118, 135, 185, 142],\n",
       "       [198, 105, 129, 186]])"
      ]
     },
     "execution_count": 168,
     "metadata": {},
     "output_type": "execute_result"
    }
   ],
   "source": [
    "matice"
   ]
  },
  {
   "cell_type": "code",
   "execution_count": 169,
   "id": "8572c4d5-b2de-42ff-bc52-ddf960ee3fdd",
   "metadata": {
    "tags": []
   },
   "outputs": [],
   "source": [
    "leve_sl, prave_sl = np.hsplit(matice, 2)"
   ]
  },
  {
   "cell_type": "code",
   "execution_count": 170,
   "id": "a16e5466-a54f-421a-8f02-498e6175f95f",
   "metadata": {
    "tags": []
   },
   "outputs": [],
   "source": [
    "# np.hsplit?"
   ]
  },
  {
   "cell_type": "code",
   "execution_count": 171,
   "id": "2ecdc919-be0d-45a1-b3ef-b880d93ef945",
   "metadata": {
    "tags": []
   },
   "outputs": [
    {
     "data": {
      "text/plain": [
       "array([[177, 163],\n",
       "       [118, 135],\n",
       "       [198, 105]])"
      ]
     },
     "execution_count": 171,
     "metadata": {},
     "output_type": "execute_result"
    }
   ],
   "source": [
    "leve_sl"
   ]
  },
  {
   "cell_type": "code",
   "execution_count": 172,
   "id": "22f73ce1-ff5f-4973-bd64-58daa26f794e",
   "metadata": {
    "tags": []
   },
   "outputs": [
    {
     "data": {
      "text/plain": [
       "array([[193, 135],\n",
       "       [185, 142],\n",
       "       [129, 186]])"
      ]
     },
     "execution_count": 172,
     "metadata": {},
     "output_type": "execute_result"
    }
   ],
   "source": [
    "prave_sl"
   ]
  },
  {
   "cell_type": "code",
   "execution_count": 173,
   "id": "cfce31ff",
   "metadata": {},
   "outputs": [
    {
     "data": {
      "text/plain": [
       "(3, 4)"
      ]
     },
     "execution_count": 173,
     "metadata": {},
     "output_type": "execute_result"
    }
   ],
   "source": [
    "matice.shape"
   ]
  },
  {
   "cell_type": "code",
   "execution_count": null,
   "id": "f204a0b2-c18d-4f08-8fe4-a3ff834e6d0c",
   "metadata": {
    "tags": []
   },
   "outputs": [
    {
     "ename": "ValueError",
     "evalue": "array split does not result in an equal division",
     "output_type": "error",
     "traceback": [
      "\u001b[31m---------------------------------------------------------------------------\u001b[39m",
      "\u001b[31mValueError\u001b[39m                                Traceback (most recent call last)",
      "\u001b[36mCell\u001b[39m\u001b[36m \u001b[39m\u001b[32mIn[237]\u001b[39m\u001b[32m, line 1\u001b[39m\n\u001b[32m----> \u001b[39m\u001b[32m1\u001b[39m leve_sl, prave_sl = \u001b[43mnp\u001b[49m\u001b[43m.\u001b[49m\u001b[43mhsplit\u001b[49m\u001b[43m(\u001b[49m\u001b[43mmatice\u001b[49m\u001b[43m,\u001b[49m\u001b[43m \u001b[49m\u001b[32;43m3\u001b[39;49m\u001b[43m)\u001b[49m\n",
      "\u001b[36mFile \u001b[39m\u001b[32m~/.pyenv/versions/3.12.5/lib/python3.12/site-packages/numpy/lib/_shape_base_impl.py:952\u001b[39m, in \u001b[36mhsplit\u001b[39m\u001b[34m(ary, indices_or_sections)\u001b[39m\n\u001b[32m    950\u001b[39m     \u001b[38;5;28;01mraise\u001b[39;00m \u001b[38;5;167;01mValueError\u001b[39;00m(\u001b[33m'\u001b[39m\u001b[33mhsplit only works on arrays of 1 or more dimensions\u001b[39m\u001b[33m'\u001b[39m)\n\u001b[32m    951\u001b[39m \u001b[38;5;28;01mif\u001b[39;00m ary.ndim > \u001b[32m1\u001b[39m:\n\u001b[32m--> \u001b[39m\u001b[32m952\u001b[39m     \u001b[38;5;28;01mreturn\u001b[39;00m \u001b[43msplit\u001b[49m\u001b[43m(\u001b[49m\u001b[43mary\u001b[49m\u001b[43m,\u001b[49m\u001b[43m \u001b[49m\u001b[43mindices_or_sections\u001b[49m\u001b[43m,\u001b[49m\u001b[43m \u001b[49m\u001b[32;43m1\u001b[39;49m\u001b[43m)\u001b[49m\n\u001b[32m    953\u001b[39m \u001b[38;5;28;01melse\u001b[39;00m:\n\u001b[32m    954\u001b[39m     \u001b[38;5;28;01mreturn\u001b[39;00m split(ary, indices_or_sections, \u001b[32m0\u001b[39m)\n",
      "\u001b[36mFile \u001b[39m\u001b[32m~/.pyenv/versions/3.12.5/lib/python3.12/site-packages/numpy/lib/_shape_base_impl.py:877\u001b[39m, in \u001b[36msplit\u001b[39m\u001b[34m(ary, indices_or_sections, axis)\u001b[39m\n\u001b[32m    875\u001b[39m     N = ary.shape[axis]\n\u001b[32m    876\u001b[39m     \u001b[38;5;28;01mif\u001b[39;00m N % sections:\n\u001b[32m--> \u001b[39m\u001b[32m877\u001b[39m         \u001b[38;5;28;01mraise\u001b[39;00m \u001b[38;5;167;01mValueError\u001b[39;00m(\n\u001b[32m    878\u001b[39m             \u001b[33m'\u001b[39m\u001b[33marray split does not result in an equal division\u001b[39m\u001b[33m'\u001b[39m) \u001b[38;5;28;01mfrom\u001b[39;00m\u001b[38;5;250m \u001b[39m\u001b[38;5;28;01mNone\u001b[39;00m\n\u001b[32m    879\u001b[39m \u001b[38;5;28;01mreturn\u001b[39;00m array_split(ary, indices_or_sections, axis)\n",
      "\u001b[31mValueError\u001b[39m: array split does not result in an equal division"
     ]
    }
   ],
   "source": [
    "# musi byt delitelne poctem splitu!\n",
    "leve_sl, prave_sl = np.hsplit(matice, 3)"
   ]
  },
  {
   "cell_type": "code",
   "execution_count": 174,
   "id": "ecad81da-8b64-45ef-bcb4-613a7a288be7",
   "metadata": {
    "tags": []
   },
   "outputs": [],
   "source": [
    "leve_sl, prave_sl = np.hsplit(matice, 2)"
   ]
  },
  {
   "cell_type": "code",
   "execution_count": 175,
   "id": "9e855257-7185-464b-99b5-a08ab4847470",
   "metadata": {
    "tags": []
   },
   "outputs": [],
   "source": [
    "prvni_sl, druhy_sl, treti_sl, ctvrty_sl = np.hsplit(matice, 4)"
   ]
  },
  {
   "cell_type": "code",
   "execution_count": 176,
   "id": "8173e404-e293-408d-b9b9-f85b0472a3d5",
   "metadata": {
    "tags": []
   },
   "outputs": [
    {
     "data": {
      "text/plain": [
       "(array([[177],\n",
       "        [118],\n",
       "        [198]]),\n",
       " array([[163],\n",
       "        [135],\n",
       "        [105]]),\n",
       " array([[193],\n",
       "        [185],\n",
       "        [129]]),\n",
       " array([[135],\n",
       "        [142],\n",
       "        [186]]))"
      ]
     },
     "execution_count": 176,
     "metadata": {},
     "output_type": "execute_result"
    }
   ],
   "source": [
    "prvni_sl, druhy_sl, treti_sl, ctvrty_sl"
   ]
  },
  {
   "cell_type": "code",
   "execution_count": 181,
   "id": "5216fd8a",
   "metadata": {},
   "outputs": [
    {
     "data": {
      "text/plain": [
       "((3, 2), (3, 1), (3, 1))"
      ]
     },
     "execution_count": 181,
     "metadata": {},
     "output_type": "execute_result"
    }
   ],
   "source": [
    "# non-equal splits again\n",
    "split1, split2, split3 = np.split(matice, [2, 3], axis=1)\n",
    "split1.shape, split2.shape, split3.shape"
   ]
  },
  {
   "cell_type": "markdown",
   "id": "d72b1aff-299c-4255-9ce4-255396b205c9",
   "metadata": {},
   "source": [
    "<br>\n",
    "\n",
    "##### **🧠 CVIČENÍ 🧠, procvič si základy v NUMPY**"
   ]
  },
  {
   "cell_type": "code",
   "execution_count": null,
   "id": "dde9f4ca-f533-41f2-8149-285f77ceeaa9",
   "metadata": {
    "tags": []
   },
   "outputs": [],
   "source": [
    "import numpy"
   ]
  },
  {
   "cell_type": "code",
   "execution_count": null,
   "id": "f9c9562d-1560-498b-8e66-f3125aa985e9",
   "metadata": {},
   "outputs": [],
   "source": [
    "# 01. Použij NUMPY funkci, která vytvoří 1D pole od 5, do 50 po 5ti"
   ]
  },
  {
   "cell_type": "markdown",
   "id": "75e5b7a2-3940-455a-b894-f8689c027862",
   "metadata": {},
   "source": [
    "<details>\n",
    "    <summary>▶️ Řešení</summary>\n",
    "    \n",
    "    ```python\n",
    "    np.arange(5, 51, 5)\n",
    "    ```\n",
    "</details>"
   ]
  },
  {
   "cell_type": "code",
   "execution_count": null,
   "id": "42dd7a2d-24f0-4488-8f40-fb13dc8b0b14",
   "metadata": {
    "tags": []
   },
   "outputs": [],
   "source": [
    "# 02. Jak vytvoříš stejné pole pomocí funkce RANGE a LIST?"
   ]
  },
  {
   "cell_type": "markdown",
   "id": "7a230610-63de-4b19-8108-89642996c09e",
   "metadata": {},
   "source": [
    "<details>\n",
    "    <summary>▶️ Řešení</summary>\n",
    "    \n",
    "    ```python\n",
    "    np.array([cislo for cislo in range(5, 51, 5)])\n",
    "    ```\n",
    "</details>"
   ]
  },
  {
   "cell_type": "code",
   "execution_count": null,
   "id": "1559d7ae-e3bc-4a75-9b21-c36441ad5d68",
   "metadata": {
    "tags": []
   },
   "outputs": [],
   "source": [
    "# 03. Jak můžeš vytvořit pole z kapitálek písmen od A do Z?"
   ]
  },
  {
   "cell_type": "markdown",
   "id": "6ee7812f-ec26-4924-99c0-6d696a92521b",
   "metadata": {},
   "source": [
    "<details>\n",
    "    <summary>▶️ Řešení</summary>\n",
    "    \n",
    "    ```python\n",
    "    np.array([chr(index) for index in range(ord(\"A\"), ord(\"Z\") + 1)])\n",
    "    ```\n",
    "</details>"
   ]
  },
  {
   "cell_type": "code",
   "execution_count": null,
   "id": "73957a8f-2343-4e15-9d49-5e5e8186a1c2",
   "metadata": {
    "tags": []
   },
   "outputs": [],
   "source": [
    "# 04. Jak můžeš vytvořit 1D pole z 6ti náhodných čísel od 1 do 10 (včetně 10)?"
   ]
  },
  {
   "cell_type": "markdown",
   "id": "ca7c8fa3-25a4-4b39-b75c-395dfc998adc",
   "metadata": {},
   "source": [
    "<details>\n",
    "    <summary>▶️ Řešení</summary>\n",
    "    \n",
    "    ```python\n",
    "    np.random.randint(1, 10, size=6)\n",
    "    ```\n",
    "</details>"
   ]
  },
  {
   "cell_type": "code",
   "execution_count": null,
   "id": "a8c0a001-0483-45f3-a6e1-c9235d245e0d",
   "metadata": {
    "tags": []
   },
   "outputs": [],
   "source": [
    "# 05. Jak vytvoříš 2D matici 4 x 5 pole s náhodnými čísly od 1 do 50 (včetně 50)?"
   ]
  },
  {
   "cell_type": "markdown",
   "id": "cc91c0c3-b744-475f-9a34-aa29dc31c221",
   "metadata": {},
   "source": [
    "<details>\n",
    "    <summary>▶️ Řešení</summary>\n",
    "    \n",
    "    ```python\n",
    "    numpy.random.randint(1, 51, size=(4, 5))\n",
    "    ```\n",
    "</details>"
   ]
  },
  {
   "cell_type": "markdown",
   "id": "1b825521-ee1e-4ae9-a97d-4cd6057b6590",
   "metadata": {},
   "source": [
    "<br>\n",
    "\n",
    "##### **🧠 CVIČENÍ 🧠, procvič si základy v NUMPY**"
   ]
  },
  {
   "cell_type": "markdown",
   "id": "ae048dad-c48b-42ff-b355-2941ab923709",
   "metadata": {
    "tags": []
   },
   "source": [
    "Máš teplotní záznamy získané ze dvou různých meteorologických stanic.\n",
    "\n",
    "Každá stanice poskytuje teplotní záznamy za posledních 10 dní, které jsou uloženy ve formátu seznamu. Tvým úkolem je:"
   ]
  },
  {
   "cell_type": "code",
   "execution_count": null,
   "id": "eaf84a2d-b3ef-41e4-983d-5549cf8cd28a",
   "metadata": {
    "tags": []
   },
   "outputs": [],
   "source": [
    "import numpy as np"
   ]
  },
  {
   "cell_type": "code",
   "execution_count": null,
   "id": "64f50dd0-cee1-4cbb-819a-70add9c9c15a",
   "metadata": {
    "tags": []
   },
   "outputs": [],
   "source": [
    "stanice_c1_teploty = [21.5, 22.3, 20.7, 19.8, 23.1, 22.6, 20.4, 21.8, 22.9, 21.2]\n",
    "stanice_c2_teploty = [18.5, 19.1, 18.7, 17.8, 21.3, 20.6, 18.5, 19.7, 20.5, 19.2]"
   ]
  },
  {
   "cell_type": "code",
   "execution_count": null,
   "id": "02aa9f0f-3221-49bf-b494-2bdd4c1ea0f1",
   "metadata": {
    "tags": []
   },
   "outputs": [],
   "source": [
    "# Převeď seznamy teplot na NumPy pole."
   ]
  },
  {
   "cell_type": "code",
   "execution_count": null,
   "id": "9afaea40-d2f1-4c88-89e6-54eb5daa1b49",
   "metadata": {
    "tags": []
   },
   "outputs": [],
   "source": [
    "# spoj oba záznamy do jednoho pole pomocí funkce 'concatenate'."
   ]
  },
  {
   "cell_type": "code",
   "execution_count": null,
   "id": "513ccc6e-d875-42cc-aa22-7efe8653ba94",
   "metadata": {
    "tags": []
   },
   "outputs": [],
   "source": [
    "# rozděl sloučené pole na dvě části: prvních 5 dní a druhých 5 dní."
   ]
  },
  {
   "cell_type": "code",
   "execution_count": null,
   "id": "88b7df28-8b37-4950-a4af-ac4fd84055c4",
   "metadata": {
    "tags": []
   },
   "outputs": [],
   "source": [
    "# vypočítej průměrnou teplotu pro prvních 5 dní a druhých 5 dní."
   ]
  },
  {
   "cell_type": "code",
   "execution_count": null,
   "id": "81f725a3-694b-4e78-80f6-c6b5d66ab112",
   "metadata": {},
   "outputs": [],
   "source": [
    "# Převeď seznamy teplot na NumPy pole.\n",
    "teploty1_np = np.array( stanice_c1_teploty )\n",
    "teploty2_np = np.array( stanice_c2_teploty )"
   ]
  },
  {
   "cell_type": "code",
   "execution_count": null,
   "id": "bac70e80-7245-4a27-94cb-98a8fb860b2a",
   "metadata": {},
   "outputs": [],
   "source": [
    "# spoj oba záznamy do jednoho pole pomocí funkce 'concatenate'.\n",
    "teploty = np.concatenate( [teploty1_np, teploty2_np] )"
   ]
  },
  {
   "cell_type": "code",
   "execution_count": null,
   "id": "9452218b-5f2d-4ef9-98f7-97390556bf03",
   "metadata": {},
   "outputs": [],
   "source": [
    "# rozděl sloučené pole na dvě části: prvních 5 dní a druhých 5 dní.\n",
    "daysN = 5\n",
    "teploty_fix = np.concatenate( [teploty, np.full( ( daysN - teploty.size % daysN ) % daysN, np.nan )] )\n",
    "teploty_po_N_dnech = np.reshape( teploty_fix, ( -1, daysN ) )"
   ]
  },
  {
   "cell_type": "code",
   "execution_count": null,
   "id": "9cab1de8-13ba-486b-aa67-b31af95e5f3e",
   "metadata": {},
   "outputs": [],
   "source": [
    "# vypočítej průměrnou teplotu pro každou část\n",
    "prumerne_teploty = teploty_po_N_dnech.mean( axis=1 ).round( 3 )\n",
    "prumerne_teploty_s_popiskem = np.array( list( zip( [\n",
    "    'Prvních 5 dní - první stanice',\n",
    "    'Druhých 5 dní - první stanice',\n",
    "    'Prvních 5 dní - druhá stanice',\n",
    "    'Druhých 5 dní - druhá stanice',\n",
    "], prumerne_teploty ) ) )\n",
    "display( prumerne_teploty_s_popiskem )"
   ]
  },
  {
   "cell_type": "code",
   "execution_count": null,
   "id": "3a60bf57-ab31-418f-a369-c90735d1bf14",
   "metadata": {},
   "outputs": [],
   "source": []
  },
  {
   "cell_type": "markdown",
   "id": "5756b2cb-b895-4851-b4e6-b7a0422eab5e",
   "metadata": {},
   "source": [
    "<details>\n",
    "    <summary>▶️ Řešení</summary>\n",
    "    \n",
    "    ```python\n",
    "    stanice_c1_teploty = [21.5, 22.3, 20.7, 19.8, 23.1, 22.6, 20.4, 21.8, 22.9, 21.2]\n",
    "    stanice_c2_teploty = [18.5, 19.1, 18.7, 17.8, 21.3, 20.6, 18.5, 19.7, 20.5, 19.2]\n",
    "    \n",
    "    stanice_c1_teploty_pole = np.array(stanice_c1_teploty)\n",
    "    stanice_c2_teploty_pole = np.array(stanice_c2_teploty)\n",
    "    \n",
    "    spojene_teploty = np.concatenate((stanice_c1_teploty_pole, stanice_c2_teploty_pole))\n",
    "    \n",
    "    upraveny_tvar = spojene_teploty.reshape(2, 10)\n",
    "    prvnich_pet_dni, dalsich_pet_dni = np.hsplit(upraveny_tvar, 5)\n",
    "    \n",
    "    prumer_prvnich_deset_dni = np.mean(prvnich_deset_dni)\n",
    "    prumer_druhych_deset_dni = np.mean(dalsich_deset_dni)\n",
    "    ```\n",
    "</details>"
   ]
  },
  {
   "cell_type": "markdown",
   "id": "0df7dbf5",
   "metadata": {},
   "source": [
    "## Matematické operace, ufuncs\n",
    "---"
   ]
  },
  {
   "cell_type": "code",
   "execution_count": 241,
   "id": "06e27ae5",
   "metadata": {},
   "outputs": [
    {
     "data": {
      "text/plain": [
       "(100,)"
      ]
     },
     "execution_count": 241,
     "metadata": {},
     "output_type": "execute_result"
    }
   ],
   "source": [
    "pole = np.arange(100)\n",
    "pole.shape"
   ]
  },
  {
   "cell_type": "code",
   "execution_count": 242,
   "id": "a7647e51",
   "metadata": {},
   "outputs": [
    {
     "data": {
      "text/plain": [
       "array([  1,   2,   3,   4,   5,   6,   7,   8,   9,  10,  11,  12,  13,\n",
       "        14,  15,  16,  17,  18,  19,  20,  21,  22,  23,  24,  25,  26,\n",
       "        27,  28,  29,  30,  31,  32,  33,  34,  35,  36,  37,  38,  39,\n",
       "        40,  41,  42,  43,  44,  45,  46,  47,  48,  49,  50,  51,  52,\n",
       "        53,  54,  55,  56,  57,  58,  59,  60,  61,  62,  63,  64,  65,\n",
       "        66,  67,  68,  69,  70,  71,  72,  73,  74,  75,  76,  77,  78,\n",
       "        79,  80,  81,  82,  83,  84,  85,  86,  87,  88,  89,  90,  91,\n",
       "        92,  93,  94,  95,  96,  97,  98,  99, 100])"
      ]
     },
     "execution_count": 242,
     "metadata": {},
     "output_type": "execute_result"
    }
   ],
   "source": [
    "pole + 1"
   ]
  },
  {
   "cell_type": "code",
   "execution_count": 243,
   "id": "ebfb00b1",
   "metadata": {},
   "outputs": [
    {
     "data": {
      "text/plain": [
       "array([  0,   2,   4,   6,   8,  10,  12,  14,  16,  18,  20,  22,  24,\n",
       "        26,  28,  30,  32,  34,  36,  38,  40,  42,  44,  46,  48,  50,\n",
       "        52,  54,  56,  58,  60,  62,  64,  66,  68,  70,  72,  74,  76,\n",
       "        78,  80,  82,  84,  86,  88,  90,  92,  94,  96,  98, 100, 102,\n",
       "       104, 106, 108, 110, 112, 114, 116, 118, 120, 122, 124, 126, 128,\n",
       "       130, 132, 134, 136, 138, 140, 142, 144, 146, 148, 150, 152, 154,\n",
       "       156, 158, 160, 162, 164, 166, 168, 170, 172, 174, 176, 178, 180,\n",
       "       182, 184, 186, 188, 190, 192, 194, 196, 198])"
      ]
     },
     "execution_count": 243,
     "metadata": {},
     "output_type": "execute_result"
    }
   ],
   "source": [
    "pole * 2"
   ]
  },
  {
   "cell_type": "code",
   "execution_count": 244,
   "id": "34be1a18",
   "metadata": {},
   "outputs": [
    {
     "name": "stdout",
     "output_type": "stream",
     "text": [
      "1.49 μs ± 117 ns per loop (mean ± std. dev. of 7 runs, 1,000,000 loops each)\n"
     ]
    }
   ],
   "source": [
    "%%timeit \n",
    "pole + 1"
   ]
  },
  {
   "cell_type": "code",
   "execution_count": 245,
   "id": "85ca611e",
   "metadata": {},
   "outputs": [],
   "source": [
    "seznam = pole.tolist()"
   ]
  },
  {
   "cell_type": "code",
   "execution_count": 246,
   "id": "2b73d269",
   "metadata": {},
   "outputs": [
    {
     "name": "stdout",
     "output_type": "stream",
     "text": [
      "4.03 μs ± 480 ns per loop (mean ± std. dev. of 7 runs, 100,000 loops each)\n"
     ]
    }
   ],
   "source": [
    "%%timeit\n",
    "[hodnota + 1 for hodnota in seznam]"
   ]
  },
  {
   "cell_type": "markdown",
   "id": "6ad60ece-2103-482b-923b-18dc9cb6965d",
   "metadata": {},
   "source": [
    "<br>\n",
    "\n",
    "### Univerzální funkce, UFUNCS"
   ]
  },
  {
   "cell_type": "markdown",
   "id": "781eb6db-bea5-467a-bee8-208e5753e9b2",
   "metadata": {},
   "source": [
    "Výpočty na polích a maticích `numpy` mohou být **velmi rychlé** nebo **velmi pomalé**.\n",
    "\n",
    "Klíčem k rychlé práci, je použití vektorizovaných operací, které jsou obvykle implementovány prostřednictvím *univerzálními funkcemi*.\n",
    "\n",
    "Jde tedy o funkce, které pracují na objektech polí a matic, prvek po prvku.\n",
    "Umožňují efektivní operace na polích, což vede k výrazně rychlejším výsledkům než pomocí běžných **Pythonových funkcí a cyklů**."
   ]
  },
  {
   "cell_type": "markdown",
   "id": "0d316d1f-600e-4d9f-9160-1c75e173208f",
   "metadata": {},
   "source": [
    "Ukázkou může být sčítání hodnot pro dvě dlouhé matice:"
   ]
  },
  {
   "cell_type": "code",
   "execution_count": 256,
   "id": "76bea6c6-00d4-4cd3-b96c-9e6390faf689",
   "metadata": {
    "tags": []
   },
   "outputs": [],
   "source": [
    "import numpy as np"
   ]
  },
  {
   "cell_type": "code",
   "execution_count": 257,
   "id": "a2fbaeca-e577-4173-9c00-791d5e6bab5f",
   "metadata": {
    "tags": []
   },
   "outputs": [],
   "source": [
    "pole_1 = np.random.randint(1, 100, size=10_000_000)"
   ]
  },
  {
   "cell_type": "code",
   "execution_count": 258,
   "id": "aea10870-8b0e-493b-9f6a-195a2af526d7",
   "metadata": {
    "tags": []
   },
   "outputs": [],
   "source": [
    "pole_2 = np.random.randint(100, 255, size=10_000_000)"
   ]
  },
  {
   "cell_type": "code",
   "execution_count": 259,
   "id": "bb811d46-808d-4b00-bedb-761ec4f91da4",
   "metadata": {
    "tags": []
   },
   "outputs": [],
   "source": [
    "pole_a = np.array([1, 2 ,3])\n",
    "pole_b = np.array([4, 4, 4])"
   ]
  },
  {
   "cell_type": "code",
   "execution_count": 260,
   "id": "c2d8c05f-b94a-4f15-ab01-de5765484e21",
   "metadata": {
    "tags": []
   },
   "outputs": [
    {
     "data": {
      "text/plain": [
       "array([5, 6, 7])"
      ]
     },
     "execution_count": 260,
     "metadata": {},
     "output_type": "execute_result"
    }
   ],
   "source": [
    "pole_a + pole_b"
   ]
  },
  {
   "cell_type": "markdown",
   "id": "5b9b14a4-7e6f-4b94-959a-f382e0cd32cd",
   "metadata": {},
   "source": [
    "<br>\n",
    "\n",
    "Pro sečtení hodnot z obou polí můžeš pracovat s funkce `add`:"
   ]
  },
  {
   "cell_type": "code",
   "execution_count": 261,
   "id": "07b0e1d8-3653-472a-a3a0-5ea044d259cb",
   "metadata": {
    "tags": []
   },
   "outputs": [
    {
     "name": "stdout",
     "output_type": "stream",
     "text": [
      "2.28 s ± 145 ms per loop (mean ± std. dev. of 7 runs, 1 loop each)\n"
     ]
    }
   ],
   "source": [
    "%timeit result_loop = [x + y for x, y in zip(pole_1, pole_2)]"
   ]
  },
  {
   "cell_type": "code",
   "execution_count": 262,
   "id": "bf230e0b-a81f-4ae7-9e7a-4a79362b8fbe",
   "metadata": {
    "tags": []
   },
   "outputs": [
    {
     "name": "stdout",
     "output_type": "stream",
     "text": [
      "28.3 ms ± 1.95 ms per loop (mean ± std. dev. of 7 runs, 10 loops each)\n"
     ]
    }
   ],
   "source": [
    "%timeit secteno_ufuncs = np.add(pole_1, pole_2)"
   ]
  },
  {
   "cell_type": "markdown",
   "id": "f4cb69df-e118-40a4-9413-0afb9f5d649e",
   "metadata": {},
   "source": [
    "<br>\n",
    "\n",
    "Můžeš si všimnout, že řešení s výstupem v `secteno_ufuncs` je skoro 5~10x rychlejší."
   ]
  },
  {
   "cell_type": "markdown",
   "id": "46dfeb2a-bb4a-4a34-8685-5328804fb3a1",
   "metadata": {},
   "source": [
    "<br>\n",
    "\n",
    "Z důvodů použití dynamického, interpretovaného jazyka v rámci CPythonu ti jeho flexibilita neumožní kompilovat jednotlivé operace až na efektivní strojový kód (`01101101110101`).\n",
    "\n",
    "Určitě existují derivace projektů jako *PyPy*, *Cython*, *Numba*."
   ]
  },
  {
   "cell_type": "markdown",
   "id": "480338a0-fe0d-4e77-a606-765a061cbd19",
   "metadata": {},
   "source": [
    "### Úvod do UFUNCS\n",
    "\n",
    "---\n",
    "\n",
    "Pro mnoho typů operací poskytuje `numpy` praktické rozhraní právě pro tento typ operací,\n",
    "staticky typované, zkompilované rutiny.\n",
    "\n",
    "Jedná se o tzv. **vektorizované operace**.\n",
    "\n",
    "Pro aplikace takových funkcí můžeš jednoduše vybrat konkrétní funkci a aplikovat ji na pole."
   ]
  },
  {
   "cell_type": "code",
   "execution_count": 263,
   "id": "5148c5f3-ca3b-4d82-956d-2051ddbe3d06",
   "metadata": {
    "tags": []
   },
   "outputs": [],
   "source": [
    "pole_3 = np.arange(10)"
   ]
  },
  {
   "cell_type": "code",
   "execution_count": 264,
   "id": "02ab552b-c480-4d17-a8b4-3a64883ad8c1",
   "metadata": {
    "tags": []
   },
   "outputs": [],
   "source": [
    "pole_4 = np.arange(11, 21)"
   ]
  },
  {
   "cell_type": "code",
   "execution_count": 265,
   "id": "4c996d56-2c46-4ecb-8b1f-d8e0d93da013",
   "metadata": {
    "tags": []
   },
   "outputs": [
    {
     "data": {
      "text/plain": [
       "(array([0, 1, 2, 3, 4, 5, 6, 7, 8, 9]),\n",
       " array([11, 12, 13, 14, 15, 16, 17, 18, 19, 20]))"
      ]
     },
     "execution_count": 265,
     "metadata": {},
     "output_type": "execute_result"
    }
   ],
   "source": [
    "pole_3, pole_4"
   ]
  },
  {
   "cell_type": "code",
   "execution_count": 266,
   "id": "1c7daf57-374c-4a38-86d2-40b51ab0acfe",
   "metadata": {
    "tags": []
   },
   "outputs": [
    {
     "data": {
      "text/plain": [
       "array([0.        , 0.08333333, 0.15384615, 0.21428571, 0.26666667,\n",
       "       0.3125    , 0.35294118, 0.38888889, 0.42105263, 0.45      ])"
      ]
     },
     "execution_count": 266,
     "metadata": {},
     "output_type": "execute_result"
    }
   ],
   "source": [
    "pole_3 / pole_4"
   ]
  },
  {
   "cell_type": "markdown",
   "id": "9ba7b02f-0aaf-4974-a0c4-8b24db4d608b",
   "metadata": {},
   "source": [
    "<br>\n",
    "\n",
    "Počítání přes **ufuncs** je téměř pokaždé efektivnější než aplikace např. obyčejných smyček v Pythonu.\n",
    "\n",
    "Kromě klasických operátorů, můžeš aplikovat samotné funkce:"
   ]
  },
  {
   "cell_type": "code",
   "execution_count": 267,
   "id": "d0f1a56b-ff1f-4c01-b75d-b6727ffb801d",
   "metadata": {
    "tags": []
   },
   "outputs": [
    {
     "data": {
      "text/plain": [
       "array([0.        , 0.08333333, 0.15384615, 0.21428571, 0.26666667,\n",
       "       0.3125    , 0.35294118, 0.38888889, 0.42105263, 0.45      ])"
      ]
     },
     "execution_count": 267,
     "metadata": {},
     "output_type": "execute_result"
    }
   ],
   "source": [
    "np.divide(pole_3, pole_4)"
   ]
  },
  {
   "cell_type": "markdown",
   "id": "a24ce109-b8af-494a-a62b-bb8a2a1f3acd",
   "metadata": {},
   "source": [
    "<br>\n",
    "\n",
    "Výpis některých UFUNCS:\n",
    "\n",
    "| Operátor | Jméno funkce | Popis |\n",
    "| :- | :- | :- |\n",
    "| `+` |  `np.add` |  Sčítání (př., `1 + 1 = 2` ) |\n",
    "| `-` |  `np.subtract` | odčítání (př., `3 - 2 = 1` ) | \n",
    "| `-` | `np.negative` |  unární negace (př., `-2` ) | \n",
    "| `*` | `np.multiply` |  násobení (př., `2 * 3 = 6` ) |\n",
    "| `/` | `np.divide` |  dělení (př., `3 / 2 = 1.5` ) |\n",
    "| `//` |  `np.floor_divide` | celočíselné dělení (př., `3 // 2 = 1` ) |\n",
    "| `**` | `np.power` | umocňování (př., `2 ** 3 = 8` ) | \n",
    "| `%` | `np.mod` | modulo (př., `9 % 4 = 1` ) |"
   ]
  },
  {
   "cell_type": "markdown",
   "id": "0a79be66-6147-4060-a188-afecfb70d5ef",
   "metadata": {},
   "source": [
    "<br>\n",
    "\n",
    "Další kombinací můžeš pracovat třeba **s absolutními hodnotami**:"
   ]
  },
  {
   "cell_type": "code",
   "execution_count": 268,
   "id": "d4b86875-a2aa-468f-8180-c7468c9fac70",
   "metadata": {
    "tags": []
   },
   "outputs": [],
   "source": [
    "negativni_cisla = np.array((-5, -4, -3, -2, -1))"
   ]
  },
  {
   "cell_type": "code",
   "execution_count": 269,
   "id": "1f2abc19-15f6-4ddf-86d7-559c79f28264",
   "metadata": {
    "tags": []
   },
   "outputs": [
    {
     "data": {
      "text/plain": [
       "array([5, 4, 3, 2, 1])"
      ]
     },
     "execution_count": 269,
     "metadata": {},
     "output_type": "execute_result"
    }
   ],
   "source": [
    "abs(negativni_cisla)"
   ]
  },
  {
   "cell_type": "code",
   "execution_count": 270,
   "id": "9a5e2c16-adfb-4291-bf52-d27faff317e3",
   "metadata": {
    "tags": []
   },
   "outputs": [
    {
     "data": {
      "text/plain": [
       "builtin_function_or_method"
      ]
     },
     "execution_count": 270,
     "metadata": {},
     "output_type": "execute_result"
    }
   ],
   "source": [
    "type(abs)"
   ]
  },
  {
   "cell_type": "markdown",
   "id": "f6a2c663-8ac9-4842-b6f7-7318001fb3b6",
   "metadata": {},
   "source": [
    "<br>\n",
    "\n",
    "Pomocí ufuncs použiješ funkci `absolute`, která je ekvivalentem v rámci `numpy`:"
   ]
  },
  {
   "cell_type": "code",
   "execution_count": 271,
   "id": "228c7a0d-7332-4e31-9279-eb653d423a02",
   "metadata": {
    "tags": []
   },
   "outputs": [
    {
     "data": {
      "text/plain": [
       "array([5, 4, 3, 2, 1])"
      ]
     },
     "execution_count": 271,
     "metadata": {},
     "output_type": "execute_result"
    }
   ],
   "source": [
    "np.absolute(negativni_cisla)"
   ]
  },
  {
   "cell_type": "code",
   "execution_count": 272,
   "id": "ee482aee",
   "metadata": {},
   "outputs": [
    {
     "data": {
      "text/plain": [
       "array([5, 4, 3, 2, 1])"
      ]
     },
     "execution_count": 272,
     "metadata": {},
     "output_type": "execute_result"
    }
   ],
   "source": [
    "np.abs(negativni_cisla)"
   ]
  },
  {
   "cell_type": "markdown",
   "id": "71077491-352f-462e-9dbe-9056b4ba000a",
   "metadata": {},
   "source": [
    "<br>\n",
    "\n",
    "Práce s **exponenty** a **umocňování**:"
   ]
  },
  {
   "cell_type": "code",
   "execution_count": 277,
   "id": "79262f0a-f898-4d06-9578-dd9b2a9639a8",
   "metadata": {
    "tags": []
   },
   "outputs": [],
   "source": [
    "ciselne_hodnoty = np.arange(6)"
   ]
  },
  {
   "cell_type": "code",
   "execution_count": 278,
   "id": "24342bba-6bbe-4105-b260-609849e6df94",
   "metadata": {
    "tags": []
   },
   "outputs": [
    {
     "data": {
      "text/plain": [
       "array([0, 1, 2, 3, 4, 5])"
      ]
     },
     "execution_count": 278,
     "metadata": {},
     "output_type": "execute_result"
    }
   ],
   "source": [
    "ciselne_hodnoty"
   ]
  },
  {
   "cell_type": "code",
   "execution_count": 279,
   "id": "d222ec4c-251c-412c-b094-64f5bdaa5995",
   "metadata": {
    "tags": []
   },
   "outputs": [
    {
     "data": {
      "text/plain": [
       "array([ 1.,  2.,  4.,  8., 16., 32.])"
      ]
     },
     "execution_count": 279,
     "metadata": {},
     "output_type": "execute_result"
    }
   ],
   "source": [
    "np.exp2(ciselne_hodnoty)      # 2^0, 2^1, 2^2, 2^3, ..."
   ]
  },
  {
   "cell_type": "code",
   "execution_count": 280,
   "id": "a0e26806-7967-4440-a301-53584daa4d14",
   "metadata": {
    "tags": []
   },
   "outputs": [
    {
     "data": {
      "text/plain": [
       "array([  1,   3,   9,  27,  81, 243])"
      ]
     },
     "execution_count": 280,
     "metadata": {},
     "output_type": "execute_result"
    }
   ],
   "source": [
    "np.power(3, ciselne_hodnoty)  # 3^0, 3^1, ..."
   ]
  },
  {
   "cell_type": "markdown",
   "id": "74de4f14-dfeb-4edf-89e3-6bce82cb710e",
   "metadata": {},
   "source": [
    "<br>\n",
    "\n",
    "Knihovna `numpy` potom nabízí další specializované funkce (logaritmické, trigonometrické, aj.)"
   ]
  },
  {
   "cell_type": "code",
   "execution_count": 281,
   "id": "1311c0ea",
   "metadata": {},
   "outputs": [
    {
     "data": {
      "text/plain": [
       "((10, 3), (3, 5))"
      ]
     },
     "execution_count": 281,
     "metadata": {},
     "output_type": "execute_result"
    }
   ],
   "source": [
    "A = np.random.random((10, 3))\n",
    "B = np.random.random((3, 5))\n",
    "A.shape, B.shape"
   ]
  },
  {
   "cell_type": "code",
   "execution_count": null,
   "id": "d7e611df",
   "metadata": {},
   "outputs": [],
   "source": [
    "%%timeit \n",
    "A @ B"
   ]
  },
  {
   "cell_type": "code",
   "execution_count": null,
   "id": "b9591570",
   "metadata": {},
   "outputs": [],
   "source": [
    "A_seznam = A.tolist() \n",
    "B_seznam = B.tolist()"
   ]
  },
  {
   "cell_type": "code",
   "execution_count": null,
   "id": "02871dd6",
   "metadata": {},
   "outputs": [],
   "source": [
    "def matmul(A, B):\n",
    "    return [[sum(A[i][k] * B[k][j] for k in range(len(B))) for j in range(len(B[0]))] for i in range(len(A))]\n"
   ]
  },
  {
   "cell_type": "code",
   "execution_count": null,
   "id": "d2d435e0",
   "metadata": {},
   "outputs": [],
   "source": [
    "%%timeit \n",
    "matmul(A_seznam, B_seznam)"
   ]
  },
  {
   "cell_type": "code",
   "execution_count": null,
   "id": "4195ebba",
   "metadata": {},
   "outputs": [],
   "source": [
    "A = np.random.random((3, 3))\n",
    "np.linalg.inv(A)"
   ]
  },
  {
   "cell_type": "markdown",
   "id": "3ca224ce",
   "metadata": {},
   "source": [
    "### Statistické funkce"
   ]
  },
  {
   "cell_type": "code",
   "execution_count": 63,
   "id": "b272873d",
   "metadata": {},
   "outputs": [
    {
     "data": {
      "text/plain": [
       "np.float64(4.0)"
      ]
     },
     "execution_count": 63,
     "metadata": {},
     "output_type": "execute_result"
    }
   ],
   "source": [
    "hodnoty = [1, 2, 3, 4, 5, 6, 7]\n",
    "np.mean(hodnoty)"
   ]
  },
  {
   "cell_type": "code",
   "execution_count": 65,
   "id": "8f35a141",
   "metadata": {},
   "outputs": [
    {
     "data": {
      "text/plain": [
       "np.float64(2.0)"
      ]
     },
     "execution_count": 65,
     "metadata": {},
     "output_type": "execute_result"
    }
   ],
   "source": [
    "np.std(hodnoty)"
   ]
  },
  {
   "cell_type": "code",
   "execution_count": 66,
   "id": "00dd4c6a",
   "metadata": {},
   "outputs": [
    {
     "data": {
      "text/plain": [
       "np.float64(4.0)"
      ]
     },
     "execution_count": 66,
     "metadata": {},
     "output_type": "execute_result"
    }
   ],
   "source": [
    "np.median(hodnoty)"
   ]
  },
  {
   "cell_type": "markdown",
   "id": "8f9a1c2f",
   "metadata": {},
   "source": [
    "### Funkce pro porovnání"
   ]
  },
  {
   "cell_type": "code",
   "execution_count": 67,
   "id": "1afc0ff0",
   "metadata": {},
   "outputs": [
    {
     "data": {
      "text/plain": [
       "array([False, False,  True])"
      ]
     },
     "execution_count": 67,
     "metadata": {},
     "output_type": "execute_result"
    }
   ],
   "source": [
    "x = np.array([1, 2, 3])\n",
    "y = np.array([3, 2, 1])\n",
    "np.greater(x, y)"
   ]
  },
  {
   "cell_type": "code",
   "execution_count": 68,
   "id": "6001d03b",
   "metadata": {},
   "outputs": [
    {
     "data": {
      "text/plain": [
       "array([False, False,  True])"
      ]
     },
     "execution_count": 68,
     "metadata": {},
     "output_type": "execute_result"
    }
   ],
   "source": [
    "x > y"
   ]
  },
  {
   "cell_type": "code",
   "execution_count": 69,
   "id": "481500ad",
   "metadata": {},
   "outputs": [
    {
     "data": {
      "text/plain": [
       "array([ True, False, False])"
      ]
     },
     "execution_count": 69,
     "metadata": {},
     "output_type": "execute_result"
    }
   ],
   "source": [
    "np.less(x, y)"
   ]
  },
  {
   "cell_type": "code",
   "execution_count": 70,
   "id": "f4b36953",
   "metadata": {},
   "outputs": [
    {
     "data": {
      "text/plain": [
       "array([ True, False, False])"
      ]
     },
     "execution_count": 70,
     "metadata": {},
     "output_type": "execute_result"
    }
   ],
   "source": [
    "x < y"
   ]
  },
  {
   "cell_type": "code",
   "execution_count": 71,
   "id": "242a2c9e",
   "metadata": {},
   "outputs": [
    {
     "data": {
      "text/plain": [
       "array([False,  True, False])"
      ]
     },
     "execution_count": 71,
     "metadata": {},
     "output_type": "execute_result"
    }
   ],
   "source": [
    "np.equal(x, y)"
   ]
  },
  {
   "cell_type": "code",
   "execution_count": 72,
   "id": "56804936",
   "metadata": {},
   "outputs": [
    {
     "data": {
      "text/plain": [
       "array([False,  True, False])"
      ]
     },
     "execution_count": 72,
     "metadata": {},
     "output_type": "execute_result"
    }
   ],
   "source": [
    "x == y"
   ]
  },
  {
   "cell_type": "code",
   "execution_count": 73,
   "id": "f893e408",
   "metadata": {},
   "outputs": [],
   "source": [
    "bool_pole = np.array([True, False, True])"
   ]
  },
  {
   "cell_type": "code",
   "execution_count": 74,
   "id": "4ea7bef2",
   "metadata": {},
   "outputs": [
    {
     "data": {
      "text/plain": [
       "array([False,  True, False])"
      ]
     },
     "execution_count": 74,
     "metadata": {},
     "output_type": "execute_result"
    }
   ],
   "source": [
    "np.logical_not(bool_pole)"
   ]
  },
  {
   "cell_type": "code",
   "execution_count": 75,
   "id": "2d443661",
   "metadata": {},
   "outputs": [
    {
     "data": {
      "text/plain": [
       "array([False, False, False])"
      ]
     },
     "execution_count": 75,
     "metadata": {},
     "output_type": "execute_result"
    }
   ],
   "source": [
    "np.logical_and(bool_pole, np.logical_not(bool_pole))"
   ]
  },
  {
   "cell_type": "code",
   "execution_count": 76,
   "id": "eac44d97",
   "metadata": {},
   "outputs": [
    {
     "data": {
      "text/plain": [
       "array([ True,  True,  True])"
      ]
     },
     "execution_count": 76,
     "metadata": {},
     "output_type": "execute_result"
    }
   ],
   "source": [
    "np.logical_or(bool_pole, np.logical_not(bool_pole))"
   ]
  },
  {
   "cell_type": "code",
   "execution_count": 77,
   "id": "467a1424",
   "metadata": {},
   "outputs": [
    {
     "data": {
      "text/plain": [
       "array([1])"
      ]
     },
     "execution_count": 77,
     "metadata": {},
     "output_type": "execute_result"
    }
   ],
   "source": [
    "x[x < y]"
   ]
  },
  {
   "cell_type": "code",
   "execution_count": 78,
   "id": "59d8441c",
   "metadata": {},
   "outputs": [
    {
     "data": {
      "text/plain": [
       "array([2])"
      ]
     },
     "execution_count": 78,
     "metadata": {},
     "output_type": "execute_result"
    }
   ],
   "source": [
    "x[x == y]"
   ]
  },
  {
   "cell_type": "code",
   "execution_count": 79,
   "id": "205f808a",
   "metadata": {},
   "outputs": [
    {
     "data": {
      "text/plain": [
       "array([1, 2])"
      ]
     },
     "execution_count": 79,
     "metadata": {},
     "output_type": "execute_result"
    }
   ],
   "source": [
    "x[x <= y]"
   ]
  },
  {
   "cell_type": "code",
   "execution_count": 81,
   "id": "4e7b3b80",
   "metadata": {},
   "outputs": [
    {
     "data": {
      "text/plain": [
       "array([], dtype=int64)"
      ]
     },
     "execution_count": 81,
     "metadata": {},
     "output_type": "execute_result"
    }
   ],
   "source": [
    "x[(x < y) & (x == y)]"
   ]
  },
  {
   "cell_type": "code",
   "execution_count": 82,
   "id": "0e155056",
   "metadata": {},
   "outputs": [
    {
     "data": {
      "text/plain": [
       "array([1, 2])"
      ]
     },
     "execution_count": 82,
     "metadata": {},
     "output_type": "execute_result"
    }
   ],
   "source": [
    "x[(x < y) | (x == y)]"
   ]
  },
  {
   "cell_type": "code",
   "execution_count": 84,
   "id": "0b6065b8",
   "metadata": {},
   "outputs": [
    {
     "data": {
      "text/plain": [
       "array([1, 2, 3])"
      ]
     },
     "execution_count": 84,
     "metadata": {},
     "output_type": "execute_result"
    }
   ],
   "source": [
    "x[(x < y) | ~(x < y)]"
   ]
  },
  {
   "cell_type": "markdown",
   "id": "8e7d43c3",
   "metadata": {},
   "source": [
    "### Vektorizované uživatelské funkce"
   ]
  },
  {
   "cell_type": "code",
   "execution_count": null,
   "id": "94c8163e",
   "metadata": {},
   "outputs": [],
   "source": [
    "def danova_sazba(prijem):\n",
    "    if prijem < 30000:\n",
    "        return prijem * 0.1   # 10% daň\n",
    "    elif prijem < 70000:\n",
    "        return prijem * 0.2   # 20% daň\n",
    "    else:\n",
    "        return prijem * 0.3   # 30% daň"
   ]
  },
  {
   "cell_type": "code",
   "execution_count": 294,
   "id": "4b5d6940",
   "metadata": {},
   "outputs": [],
   "source": [
    "prijmy = np.random.randint(20000, 120000, size=1000)"
   ]
  },
  {
   "cell_type": "code",
   "execution_count": 295,
   "id": "4afac96d",
   "metadata": {},
   "outputs": [],
   "source": [
    "vektorova_dan = np.vectorize(danova_sazba)"
   ]
  },
  {
   "cell_type": "code",
   "execution_count": 297,
   "id": "aee0f86d",
   "metadata": {},
   "outputs": [
    {
     "data": {
      "text/plain": [
       "array([ 8505.2, 34369.5, 26481.9, 12203.4, 13546.4])"
      ]
     },
     "execution_count": 88,
     "metadata": {},
     "output_type": "execute_result"
    }
   ],
   "source": [
    "dane = vektorova_dan(prijmy)\n",
    "dane[:5]"
   ]
  },
  {
   "cell_type": "code",
   "execution_count": 95,
   "id": "35d0ef94",
   "metadata": {},
   "outputs": [
    {
     "name": "stdout",
     "output_type": "stream",
     "text": [
      "271 μs ± 13.1 μs per loop (mean ± std. dev. of 7 runs, 1,000 loops each)\n"
     ]
    }
   ],
   "source": [
    "%%timeit \n",
    "# Bohuzel np.vectorize je spis pro pohodlny zapis, ne pro rychlost...\n",
    "vektorova_dan(prijmy)"
   ]
  },
  {
   "cell_type": "code",
   "execution_count": 96,
   "id": "b0045a9a",
   "metadata": {},
   "outputs": [],
   "source": [
    "prijmy_seznam = prijmy.tolist()"
   ]
  },
  {
   "cell_type": "code",
   "execution_count": 97,
   "id": "efa30a8e",
   "metadata": {},
   "outputs": [
    {
     "name": "stdout",
     "output_type": "stream",
     "text": [
      "16.9 ms ± 986 μs per loop (mean ± std. dev. of 7 runs, 100 loops each)\n"
     ]
    }
   ],
   "source": [
    "%%timeit \n",
    "for prijem in prijmy_seznam:\n",
    "    vektorova_dan(prijem)"
   ]
  },
  {
   "cell_type": "code",
   "execution_count": 98,
   "id": "341e1a26",
   "metadata": {},
   "outputs": [
    {
     "name": "stdout",
     "output_type": "stream",
     "text": [
      "18.5 ms ± 1.79 ms per loop (mean ± std. dev. of 7 runs, 10 loops each)\n"
     ]
    }
   ],
   "source": [
    "%%timeit\n",
    "[vektorova_dan(prijem) for prijem in prijmy_seznam]"
   ]
  },
  {
   "cell_type": "code",
   "execution_count": 99,
   "id": "205b1287",
   "metadata": {},
   "outputs": [],
   "source": [
    "def dan_numpy_where(prijmy_np):\n",
    "    return np.where(prijmy_np < 30000, prijmy_np * 0.1,\n",
    "                    np.where(prijmy_np < 70000, prijmy_np * 0.2, prijmy_np * 0.3))"
   ]
  },
  {
   "cell_type": "code",
   "execution_count": 100,
   "id": "8fd24a62",
   "metadata": {},
   "outputs": [
    {
     "name": "stdout",
     "output_type": "stream",
     "text": [
      "22.6 μs ± 665 ns per loop (mean ± std. dev. of 7 runs, 10,000 loops each)\n"
     ]
    }
   ],
   "source": [
    "%%timeit \n",
    "dan_numpy_where(prijmy)"
   ]
  },
  {
   "cell_type": "markdown",
   "id": "cd0beee8-5559-436f-84fa-eb9dd264dea8",
   "metadata": {},
   "source": [
    "<br>\n",
    "\n",
    "##### **🧠 CVIČENÍ 🧠, procvič si základy UFUNCS v NUMPY**"
   ]
  },
  {
   "cell_type": "markdown",
   "id": "668c1ac2-2c23-4503-89be-04db95d799a6",
   "metadata": {},
   "source": [
    "Máte prodejní data dvou obchodů za poslední 3 měsíce. Každý obchod poskytuje seznam svých prodejů za každý měsíc. Vaším úkolem je:"
   ]
  },
  {
   "cell_type": "code",
   "execution_count": null,
   "id": "96e425ee-d222-4d47-93bb-645d03e643f9",
   "metadata": {
    "tags": []
   },
   "outputs": [],
   "source": [
    "obchod_1_prodej = [1000, 1200, 1300]\n",
    "obchod_2_prodej = [900, 1100, 1500]"
   ]
  },
  {
   "cell_type": "code",
   "execution_count": null,
   "id": "158ccd03-0d5b-439b-ac31-6a9aa208dbf9",
   "metadata": {
    "tags": []
   },
   "outputs": [],
   "source": [
    "# Převést seznamy prodejů na NumPy pole.\n",
    "import numpy as np"
   ]
  },
  {
   "cell_type": "code",
   "execution_count": null,
   "id": "8c1896ac-4014-4491-a580-5d5c3b46d14d",
   "metadata": {
    "tags": []
   },
   "outputs": [],
   "source": [
    "# 1. Sloučit prodejní data obou obchodů do jednoho pole pomocí funkce concatenate"
   ]
  },
  {
   "cell_type": "code",
   "execution_count": null,
   "id": "988be0f7-0ddb-4c97-9b7c-244f7226268c",
   "metadata": {
    "tags": []
   },
   "outputs": [],
   "source": [
    "# 2. Rozdělit sloučené pole na dvě části, které odpovídají měsícům ..\n",
    "# .. pod sebou u obou obchodů"
   ]
  },
  {
   "cell_type": "code",
   "execution_count": null,
   "id": "823fc5ce-0cd8-435a-85bd-8c99c7270601",
   "metadata": {
    "tags": []
   },
   "outputs": [],
   "source": [
    "# 3. Vypočítat celkový prodej pro každý měsíc"
   ]
  },
  {
   "cell_type": "code",
   "execution_count": null,
   "id": "5d950036-011e-45ea-9f62-1e11c215dc99",
   "metadata": {
    "tags": []
   },
   "outputs": [],
   "source": [
    "# 4. Vypočítat procentuální změnu mezi prvním a druhým měsícem ..\n",
    "# .. a mezi druhým a třetím měsícem mezi celkovými měs. součty"
   ]
  },
  {
   "cell_type": "markdown",
   "id": "d4a02a6a-90c9-4001-bd85-9ade552edbcb",
   "metadata": {},
   "source": [
    "<details>\n",
    "    <summary>▶️ Řešení</summary>\n",
    "    \n",
    "    ```python\n",
    "    obchod_1_prodej = [1000, 1200, 1300]\n",
    "    obchod_2_prodej = [900, 1100, 1500]\n",
    "    \n",
    "    import numpy as np\n",
    "\n",
    "    # 1. Sloučit prodejní data obou obchodů do jednoho pole pomocí funkce concatenate\n",
    "    sloucene_prodeje = np.concatenate((obchod_1_prodej_pole, obchod_2_prodej_pole))\n",
    "    \n",
    "    # 2. Rozdělit sloučené pole na dvě části, které odpovídají měsícům ..\n",
    "    # .. pod sebou u obou obchodů\n",
    "    rozdelene_po_mesicich = sloucene_prodeje.reshape(2, -1)\n",
    "    \n",
    "    # 3. Vypočítat celkový prodej pro každý měsíc\n",
    "    mesic_1, mesic_2, mesic_3 = np.hsplit(rozdelene_po_mesicich, 3)\n",
    "    celkem_mesice = np.array((mesic_1.sum(), mesic_2.sum(), mesic_3.sum()))\n",
    "    \n",
    "    # 4. Vypočítat procentuální změnu mezi prvním a druhým měsícem ..\n",
    "    # .. a mezi druhým a třetím měsícem mezi celkovými měs. součty\n",
    "    rozdily = np.diff(celkem_mesice)\n",
    "    np.divide(rozdily, celkem_mesice[:2]) * 100\n",
    "    ```\n",
    "</details>"
   ]
  },
  {
   "cell_type": "markdown",
   "id": "7032758d-2c69-4fa7-b16e-9a2201b086dc",
   "metadata": {},
   "source": [
    "---"
   ]
  }
 ],
 "metadata": {
  "kernelspec": {
   "display_name": "Python 3",
   "language": "python",
   "name": "python3"
  },
  "language_info": {
   "codemirror_mode": {
    "name": "ipython",
    "version": 3
   },
   "file_extension": ".py",
   "mimetype": "text/x-python",
   "name": "python",
   "nbconvert_exporter": "python",
   "pygments_lexer": "ipython3",
   "version": "3.11.1"
  }
 },
 "nbformat": 4,
 "nbformat_minor": 5
}
